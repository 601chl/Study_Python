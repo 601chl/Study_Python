{
 "cells": [
  {
   "cell_type": "markdown",
   "id": "4ce271cb",
   "metadata": {},
   "source": [
    "## 정규표현식"
   ]
  },
  {
   "cell_type": "code",
   "execution_count": null,
   "id": "4dffd930",
   "metadata": {},
   "outputs": [],
   "source": [
    "### 정규표현식의 기초, 메타 문자\n",
    "\n",
    "- . ^ $ * + ? {} [] \\ | ()    \n",
    "<br> \n",
    "- [] 문자 클래스,    \n",
    "    - \\d 숫자와 매치, [0-9]와 동일한 표현식     \n",
    "    - \\D 숫자가 아닌 것과 매치, [^0-9]와 동일한 표현식\n",
    "    - \\s whitespace 문자와 매치, [ \\t\\n\\r\\f\\v]와 동일한 표현식\n",
    "    - \\S whitespace 문자가 아닌 것과 매치, [^ \\t\\n\\r\\f\\v]와 동일한 표현식\n",
    "    - \\w 문자 + 숫자와 매치, [a-zA-Z0-9]와 동일한 표현식\n",
    "    - \\W 문자 + 숫자가 아닌 문자와 매치, [^a-zA-Z0-9]와 동일한 표현식\n",
    "    - ＼A 여러줄 검색할때도 맨앞에 매치: \\A... 맨 앞의 아무문자3개 매치\n",
    "    - ＼Z 여러줄 검색할때도 맨 뒤에만 매치: ...\\Z 맨 뒤의 아무문자 3개 매치\n",
    "- whitespace\n",
    "    - 스페이스 바 (아스키코드 32)\n",
    "    - ＼b 뒤로 한 칸 이동 (Backspace) (아스키코드 8)\n",
    "    - ＼t 수평탭 간격 띄우기 (아스키코드 9)\n",
    "    - ＼n 줄바꿈 (Linefeed) (아스키코드 10)\n",
    "    - ＼v 수직탭 간격 띄우기 (아스키코드 11)\n",
    "    - ＼f 프린트 출력 용지를 한 페이지 넘김 (Form feed) (아스키코드 12)\n",
    "    - ＼r 동일한 줄의 맨 앞으로 커서 이동 (Carriage Return) (아스키코드 13)\n",
    "\n",
    "- Dot(.) 메타 문자는 줄바꿈 문자인 \\n를 제외한 모든 문자와 매치됨을 의미\n",
    "- 반복(*) ca*t 0부터 무한대로 반복\n",
    "- 반복(+) ca+t 최소 1번 이상 반복\n",
    "- 반복({m,n}, ?) 반복 횟수를 제한, 반복 횟수가 m부터 n까지인 것을 매치\n",
    "- ca{2}t는 c+a(2번 반복)+t의 의미\n",
    "- 반복횟수가 {1,}은 1 이상, {0,}은 0 이상인 경우로 각각 +, *와 동일하며 {,1}은 반복횟수가 1 이하를 의미.\n",
    "- ab?c b가 0~1번 사용되면 매치되는 것으로 ?은 앞의 b가 있어도 되고 없어도 된다\n",
    "    - *? 0, 없는거 의미 ex) r.*? 은 .이 0이 되서 r만 매치\n",
    "    - +? 1, 1개 있는거 의미 ex) r.+? 은 r.(dot 문자하나) 만 매치\n",
    "    - ?? 0, 없는거 의미ex) r.?? 은 .이 0이 되서 r만 매치\n",
    "        언제사용되는가 : 태그 분류때\n",
    "        - 예시: <div>test</div><div>test2</div>\n",
    "        - <div>.+</div> -> 맨앞, 맨뒤(탐욕적, 될수있는한 많이 매치) / 매치결과 <div>test</div><div>test2</div>\n",
    "        - <div>.+?</div> -> 맨앞과 뒤가 나오면 즉시 매치. (게으른, 소극적 매치)/ 매치결과:<div>test</div> , 즉 ?앞의 (<div>.+)? 하나인것.\n",
    "re 모듈 : 파이썬은 정규표현식을 지원하기 위해 기본으로 제공\n",
    "- re.compile의 결과로 리턴되는 객체를 이용하여 그 이후 작업 수행\n",
    "\n",
    "정규식을 이용한 문자열 검색\n",
    "\n",
    "> match(): 문자열의 처음부터 정규식과 매치되는지 조사     \n",
    "> search(): 문자열의 전체를 검색하여 정규식과 매치되는지 조사    \n",
    "> findall(): 정규식과 매치되는 모든 문자열을 리스트로 리턴     \n",
    "> finditer(): 정규식과 매치되는 모든 문자열을 반복 가능한 객체로 리턴    \n",
    "> re.sub() : 정규 표현식을 기준으로 문자열을 분리하여 리스트로 리턴\n",
    "> re.split() : 정규 표현식과 일치하는 부분에 대해서 다른 문자열로 대체 -> re.sub('[^a-zA-Z]',' ',text) : text의 알파벳 외의 문자 공백으로 처리하는 의미."
   ]
  },
  {
   "cell_type": "code",
   "execution_count": null,
   "id": "ba07dc24",
   "metadata": {},
   "outputs": [],
   "source": [
    "import re\n",
    "p = re.compile('[a-z]+\\s')\n",
    "m = p.match('python python')\n",
    "m"
   ]
  },
  {
   "cell_type": "code",
   "execution_count": null,
   "id": "42692ea3",
   "metadata": {},
   "outputs": [],
   "source": [
    "import re\n",
    "text = 'python python'\n",
    "p = re.compile('[a-z]+\\s')\n",
    "m = p.match(text)\n",
    "m   #<re.Match object; span=(0, 7), match='puthon '>\n",
    "\n",
    "m.group()   #'python '출력됨."
   ]
  },
  {
   "cell_type": "code",
   "execution_count": null,
   "id": "dc900050",
   "metadata": {},
   "outputs": [],
   "source": [
    "import re\n",
    "text = 'python python'\n",
    "p = re.compile('[a-z]+')  #단어들만 출력\n",
    "m = p.findall(text)\n",
    "m   #['python', 'python']"
   ]
  },
  {
   "cell_type": "code",
   "execution_count": null,
   "id": "9eb8e244",
   "metadata": {},
   "outputs": [],
   "source": [
    "m=p.match('33python')\n",
    "print(m)   \n",
    "#맨앞에 숫자라서 메치는 맨처음부터 매치 시작 <- group이나 search"
   ]
  },
  {
   "cell_type": "code",
   "execution_count": null,
   "id": "5af708eb",
   "metadata": {},
   "outputs": [],
   "source": [
    "#Q. '12345abc'  에서 'a'만출력\n",
    "\n",
    "text = '12345abc' \n",
    "p = re.compile('[a]')\n",
    "m = p.search(text)\n",
    "print(m) #<re.Match object; span=(5, 6), match='a'>\n",
    "m = p.findall(text)\n",
    "m #['a']"
   ]
  },
  {
   "cell_type": "code",
   "execution_count": null,
   "id": "3ef1a8f8",
   "metadata": {},
   "outputs": [],
   "source": [
    "text = 'abc12345Abc' \n",
    "p = re.compile('[A]')\n",
    "m = p.search(text)\n",
    "print(m) # <re.Match object; span=(8, 9), match='A'>\n",
    "m = p.findall(text)\n",
    "m  #['A']"
   ]
  },
  {
   "cell_type": "code",
   "execution_count": null,
   "id": "fa21bc08",
   "metadata": {},
   "outputs": [],
   "source": [
    "text = 'korea 대한민국힣' \n",
    "p = re.compile('[가-힣]+')\n",
    "m = p.search(text)\n",
    "print(m)\n",
    "m = p.findall(text)\n",
    "m"
   ]
  },
  {
   "cell_type": "code",
   "execution_count": null,
   "id": "2d9af3ac",
   "metadata": {},
   "outputs": [],
   "source": [
    "text = 'korea 대한민국' \n",
    "p = re.compile('[가-힣]+')\n",
    "m = p.search(text)\n",
    "print(m)\n",
    "m = p.findall(text)\n",
    "m"
   ]
  },
  {
   "cell_type": "code",
   "execution_count": null,
   "id": "7ac16ec3",
   "metadata": {},
   "outputs": [],
   "source": [
    "#Q.'1222333c'\n",
    "text = '1222333c' \n",
    "p = re.compile('\\w')\n",
    "m = p.search(text)\n",
    "print(m) #<re.Match object; span=(0, 1), match='1'>\n",
    "m = p.findall(text)\n",
    "m #['1', '2', '2', '2', '3', '3', '3', 'c']"
   ]
  },
  {
   "cell_type": "code",
   "execution_count": null,
   "id": "00673354",
   "metadata": {},
   "outputs": [],
   "source": [
    "#Q.'1222222222333c'를모두 출력하세요.\n",
    "import re\n",
    "tex1 = '1222222333c'\n",
    "p = re.compile('12{6}3{3}c')\n",
    "m = p.search(tex1)\n",
    "m.group()"
   ]
  },
  {
   "cell_type": "code",
   "execution_count": null,
   "id": "39fadbf5",
   "metadata": {},
   "outputs": [],
   "source": [
    "#.Q BC,CC, ABC 모두 C가 출력되는 정규 표현식을 ()에 작성하세요.\n",
    "import re\n",
    "pattern = re.compile(\".*C$\")  \n",
    "\n",
    "text1 = 'BC'\n",
    "text2 = \"CC\"\n",
    "text3 = 'ABC'\n",
    "\n",
    "p1 = pattern.search(text1)\n",
    "p2 = pattern.search(text2)\n",
    "p3 = pattern.search(text3)\n",
    "print(p1)\n",
    "print(p2)\n",
    "print(p3)"
   ]
  },
  {
   "cell_type": "code",
   "execution_count": null,
   "id": "8692ef98",
   "metadata": {},
   "outputs": [],
   "source": [
    "# A\n",
    "pattern = re.compile(\"A?C\")\n",
    "\n",
    "text1 = 'AC'\n",
    "text2 = \"CC\"\n",
    "text3 = 'ABC'\n",
    "\n",
    "p1 = pattern.search(text1)\n",
    "p2 = pattern.search(text2)\n",
    "p3 = pattern.search(text3)\n",
    "\n",
    "print(p1)\n",
    "print(p2)\n",
    "print(p3)"
   ]
  },
  {
   "cell_type": "code",
   "execution_count": null,
   "id": "48950521",
   "metadata": {},
   "outputs": [],
   "source": [
    "text = 'life is too short'\n",
    "p = re.compile('[a-z]+')\n",
    "p.findall(text) #['life', 'is', 'too', 'short']"
   ]
  },
  {
   "cell_type": "code",
   "execution_count": null,
   "id": "bb06a4ed",
   "metadata": {},
   "outputs": [],
   "source": [
    "results = p.finditer(text)\n",
    "for r in results : print(r.group()) \n",
    "#life\n",
    "#is\n",
    "#too\n",
    "#short"
   ]
  },
  {
   "cell_type": "code",
   "execution_count": null,
   "id": "479fa2a8",
   "metadata": {},
   "outputs": [],
   "source": [
    "# finditer는 findall과 동일하지만 그 결과로 반복 가능한 객체(iterator object)를 돌려준다.\n",
    "# 반복 가능한 객체가 포함하는 각각의 요소는 match 객체이다.\n",
    "result = p.finditer('life is too short')\n",
    "# print(list(result))\n",
    "for r in result:print(r.group())"
   ]
  },
  {
   "cell_type": "code",
   "execution_count": null,
   "id": "3ef3fa36",
   "metadata": {},
   "outputs": [],
   "source": [
    "#Q. '1234a 1234'에서 '1''2''3''4'를 모두 출력하세요\n",
    "num = '1234a 1234'\n",
    "p=re.compile('[0-9]')\n",
    "m=p.finditer(num)\n",
    "print(p.findall(num))    #findall 리스트로 반환값"
   ]
  },
  {
   "cell_type": "code",
   "execution_count": null,
   "id": "96171cb6",
   "metadata": {},
   "outputs": [],
   "source": [
    "# Q. ' Python3 is very good programming language!'에서  \n",
    "#['Python', 'is', 'very', 'good', 'programming', 'language']를 \n",
    "text1 = 'python3 is very good programming language!'\n",
    "p = re.compile('\\w+')             #\\w전체숫자,문자\n",
    "m = p.findall(text1)\n",
    "print(m)"
   ]
  },
  {
   "cell_type": "code",
   "execution_count": null,
   "id": "4aa40d92",
   "metadata": {},
   "outputs": [],
   "source": [
    "text1 = 'Python3 is very good programming language!'\n",
    "p = re.compile('[a-zA-Z]+')    #대소문자전체\n",
    "m = p.findall(text1)\n",
    "print(m)"
   ]
  },
  {
   "cell_type": "code",
   "execution_count": null,
   "id": "f6e08a1e",
   "metadata": {},
   "outputs": [],
   "source": [
    "text1 = 'Python3 is very good programming language!'\n",
    "p = re.compile('[A-z]+')     #대소문자전체\n",
    "m = p.findall(text1)\n",
    "print(m)"
   ]
  },
  {
   "cell_type": "code",
   "execution_count": null,
   "id": "5cadb17a",
   "metadata": {},
   "outputs": [],
   "source": [
    "# match 객체\n",
    "l = p.match('life ')\n",
    "i = p.match( 'is ' )\n",
    "t = p.match('too ')\n",
    "print(l.group())\n",
    "print(i.group())\n",
    "print(t.group())"
   ]
  },
  {
   "cell_type": "code",
   "execution_count": null,
   "id": "462025e3",
   "metadata": {},
   "outputs": [],
   "source": [
    "# match 객체의 메소드\n",
    "import re\n",
    "p = re.compile('[a-z]+')\n",
    "m = p.match('python')\n",
    "print(m.group())\n",
    "print(m.start())\n",
    "print(m.end())\n",
    "print(m.span())\n",
    "\n",
    "print()\n",
    "m = p.search('3 python')\n",
    "print(m.group())\n",
    "print(m.start())\n",
    "print(m.end())\n",
    "print(m.span())"
   ]
  },
  {
   "cell_type": "code",
   "execution_count": null,
   "id": "5912b06d",
   "metadata": {},
   "outputs": [],
   "source": [
    "# 모듈 단위로 수행하기\n",
    "m = re.match('[a-z]+', 'python')\n",
    "print(m.group())"
   ]
  },
  {
   "cell_type": "code",
   "execution_count": null,
   "id": "a6571d1a",
   "metadata": {},
   "outputs": [],
   "source": [
    "# Dot(.) 메타 문자는 줄바꿈 문자(\\n)을 제외한 모든 문자와 매치\n",
    "import re\n",
    "p = re.compile('a.+b')\n",
    "m1 = p.match('a\\nb')\n",
    "m2 = p.match('acb')\n",
    "m3 = p.match('a12?Ab')\n",
    "print(m1)\n",
    "print(m2)\n",
    "print(m3)"
   ]
  },
  {
   "cell_type": "code",
   "execution_count": null,
   "id": "95437099",
   "metadata": {},
   "outputs": [],
   "source": [
    "# re.DOTALL 옵션은 여러 줄로 이루어진 문자열에서 \\n에 상관없이 검색시 사용\n",
    "p = re.compile('a.b', re.DOTALL)\n",
    "m = p.match('a\\nb')\n",
    "print(m)"
   ]
  },
  {
   "cell_type": "code",
   "execution_count": null,
   "id": "2d850166",
   "metadata": {},
   "outputs": [],
   "source": [
    "# 줄바꿈 문자의 조작. 일반적으로 . 도트(모든 것) * 별(0개 이상)을 컴파일하면 \n",
    "# 줄바꿈 문자 \\n 전까지 매치한다. 줄바꿈 문자가 있는 파일의 모든 범위를 \n",
    "# 매치하려면 compile 메소드에 두번째 매개변수를 re.DOTALL 로 지정한다. \n",
    "\n",
    "# Q. text에서 what are you doing?만 출력하세요 \n",
    "text = 'what are you doing?\\nit is going to be late for school'\n",
    "'\\nwe need to hurry up'\n",
    "regex = re.compile('.*')\n",
    "mo = regex.search(text)\n",
    "print(mo.group())"
   ]
  },
  {
   "cell_type": "code",
   "execution_count": null,
   "id": "7535625b",
   "metadata": {},
   "outputs": [],
   "source": [
    "# Q. text에서 전체문장 모두 출력하세요 \n",
    "regex = re.compile('.*',re.DOTALL)\n",
    "mo = regex.search('what are you doing?\\nit is going to be late for school'\n",
    "             '\\nwe need to hurry up')\n",
    "print(mo.group())"
   ]
  },
  {
   "cell_type": "code",
   "execution_count": null,
   "id": "e033ea92",
   "metadata": {},
   "outputs": [],
   "source": [
    "# re.IGNORECASE 또는 re.I 옵션은 대소문자 구분 없이 매치를 수행시 사용\n",
    "p = re.compile('[a-z]+',re.I)\n",
    "print(p.match('python'))\n",
    "print(p.match('Python'))\n",
    "print(p.match('PYTHON'))"
   ]
  },
  {
   "cell_type": "code",
   "execution_count": null,
   "id": "3c098bd6",
   "metadata": {},
   "outputs": [],
   "source": [
    "# 대소문자를 구분하지 않고 매치시키려면 compile 메소드의 \n",
    "# 두번째 매개변수를 re.I로 넘겨준다. (re 모듈의 상수다)\n",
    "# Q. text에서 대소문자 구분없이 전체문장 모두 출력하세요 \n",
    "text = 'Friend fRiend friEnd FRIEND'\n",
    "regex = re.compile('[a-z]+',re.I)\n",
    "list = regex.findall(text)\n",
    "for i in list:\n",
    "    print(i)\n",
    "# print(list)"
   ]
  },
  {
   "cell_type": "code",
   "execution_count": null,
   "id": "33645d41",
   "metadata": {},
   "outputs": [],
   "source": [
    "# python이라는 문자열로 시작하고 그 뒤에 whitespace, \n",
    "#그뒤에 단어가 오는 경우\n",
    "import re\n",
    "p = re.compile('^python\\s\\w+')\n",
    "data = \"\"\"python one \n",
    "life is too short\n",
    "python  two\n",
    "you need python\n",
    "python three\"\"\"\n",
    "print(p.findall(data))"
   ]
  },
  {
   "cell_type": "code",
   "execution_count": null,
   "id": "4a123840",
   "metadata": {},
   "outputs": [],
   "source": [
    "# re.MULTILINE 또는 re.M옵션으로 ^메타 문자를 \n",
    "#각 라인의 처음으로 인식시킴\n",
    "import re\n",
    "p = re.compile(\"^python\\s\\w+\",re.M)\n",
    "data = \"\"\"python one \n",
    "life is too short\n",
    "python two\n",
    "you need python\n",
    "python three\"\"\"\n",
    "print(p.findall(data))"
   ]
  },
  {
   "cell_type": "code",
   "execution_count": null,
   "id": "f7a13f6d",
   "metadata": {},
   "outputs": [],
   "source": [
    "# re.VERBOSE 또는 re.X : 이해하기 어려운 정규식을 주석 또는 라인 단위로 구분\n",
    "# charref = re.compile(r'&[#](0[0-7]+|[0-9]+|x[0-9a-fA-F]+);')\n",
    "\n",
    "charref = re.compile(r\"\"\"\n",
    "&[#]               # Start of a numeric entity reference\n",
    "(\n",
    "    0[0-7]+        # Octal form\n",
    "  | [0-9]+         # Decimal form \n",
    "  | x[0-9a-fA-F]+  # Hexadecimal form\n",
    ")\n",
    ";                  # Trailing semicolon \n",
    "\"\"\",re.VERBOSE)"
   ]
  },
  {
   "cell_type": "code",
   "execution_count": null,
   "id": "b4b9ce08",
   "metadata": {},
   "outputs": [],
   "source": [
    "#Raw String - \\s아닌 단어 구분자임을 알려 주기 위해 \n",
    "#r'\\bclass\\b'처럼 Raw string임을 알려주는 기호 r을 반드시 붙여 주어야 한다.\n",
    "#그렇지 않으면 역슬레시\\\\2개씩 이용하면됨."
   ]
  },
  {
   "cell_type": "code",
   "execution_count": null,
   "id": "e5cf957c",
   "metadata": {},
   "outputs": [],
   "source": [
    "# 정규식 문자열 앞에 r문자를 삽입하면 Raw String 규칙에 의하여 \n",
    "#백슬래시 2개 대신 1개 사용\n",
    "# 파이썬 문자열 리터럴 규칙에 의하여 \\\\이 \\으로 변경되어 \\section이 전달\n",
    "p = re.compile(r'\\\\section')\n",
    "\n",
    "print(p.match('\\section'))\n",
    "p.findall('\\section\\section')"
   ]
  },
  {
   "cell_type": "code",
   "execution_count": null,
   "id": "bd6171c3",
   "metadata": {},
   "outputs": [],
   "source": [
    "# 메타 문자\n",
    "# |(or와 동일한 의미), ^(문자열의 맨처음), $(문자열의 끝과 매치)\n",
    "import re\n",
    "p = re.compile('Crow|Servo')\n",
    "m = p.match('CrowHello')\n",
    "print(m)\n",
    "print()\n",
    "print(re.search('^Life', 'Life is too short'))\n",
    "print(re.search('^Life', 'My Life'))\n",
    "print()\n",
    "print(re.search('Life$', 'Life is too short'))\n",
    "print(re.search('Life$', 'My Life'))"
   ]
  },
  {
   "cell_type": "code",
   "execution_count": null,
   "id": "763ca345",
   "metadata": {},
   "outputs": [],
   "source": [
    "# \\A(문자열의 처음과 매치. 단, re.MULTILINE 옵션 사용시 ^와은 달리 전체 문자열의 처음하고만 매치)\n",
    "# \\Z(문자열의 끝과 매치. 단, re.MULTILINE 옵션 사용시 ^와은 달리 전체 문자열의 끝하고만 매치)\n",
    "import re\n",
    "p = re.compile('\\ALife', re.MULTILINE)\n",
    "data = \"\"\"Life is too short\n",
    "Life is good\n",
    "Life is valuable\"\"\"\n",
    "print(p.findall(data))\n",
    "print()\n",
    "q = re.compile('^Life', re.MULTILINE)\n",
    "data = \"\"\"Life is too short\n",
    "Life is good\n",
    "Life is valuable\"\"\"\n",
    "print(q.findall(data))\n",
    "print()\n",
    "p1 = re.compile('good\\Z', re.MULTILINE)\n",
    "data1 = \"\"\"Life is too short\n",
    "Life is good\n",
    "Life is very good\"\"\"\n",
    "print(p1.findall(data1))\n",
    "print()\n",
    "q1 = re.compile('good$', re.MULTILINE)\n",
    "data1 = \"\"\"Life is too short\n",
    "Life is good\n",
    "Life is very good\"\"\"\n",
    "print(q1.findall(data1))"
   ]
  },
  {
   "cell_type": "code",
   "execution_count": null,
   "id": "d4f0b9c2",
   "metadata": {},
   "outputs": [],
   "source": [
    "# \\b whitespace에 의해 구분\n",
    "# \\B whitespace로 구분된 단어가 아닌 경우에만 매치\n",
    "p = re.compile(r'\\bclass\\b')\n",
    "print(p.search('no class at all'))\n",
    "print(p.search('the declassified algorithim'))\n",
    "print()\n",
    "q = re.compile(r'\\Bclass\\B')\n",
    "print(q.search('no class at all'))\n",
    "print(q.search('the declassified algorithim'))"
   ]
  },
  {
   "cell_type": "code",
   "execution_count": null,
   "id": "3a695686",
   "metadata": {},
   "outputs": [],
   "source": [
    "# Q. 정규표현식을 사용하여 test에서 전화번호만  출력하세요\n",
    "# text = \"문의사항이 있으면 032-232-3245 으로 연락주시기 바랍니다.\"\n",
    "import re\n",
    " \n",
    "text = \"문의사항이 있으면 032-232-3245 으로 연락주시기 바랍니다.\"\n",
    " \n",
    "# regex = re.compile(r'\\d+-\\d+-\\d+')\n",
    "# regex = re.compile(r'(\\d+)-(\\d+)-(\\d+)')\n",
    "# regex = re.compile('\\d{3}[-]\\d{3}[-]\\d{4}')\n",
    "regex = re.compile(r'\\b[0-9-]+\\b')\n",
    "print(regex.search(text))\n",
    "\n",
    "matchobj = regex.search(text)\n",
    "phonenumber = matchobj.group()\n",
    "print(phonenumber)"
   ]
  },
  {
   "cell_type": "code",
   "execution_count": null,
   "id": "7ca1df0d",
   "metadata": {},
   "outputs": [],
   "source": [
    "# Q. 정규표현식을 사용하여 text에서 에러가 들어간 부분만 포함하는 리스트를 출력하세요. \n",
    "# text = \"에러 1122, 레퍼런스 오류, 에러 1033, 아규먼트 오류, 에러 xxx\"\n",
    "\n",
    "import re\n",
    "text = \"에러 1122, 레퍼런스 오류, 에러 1033, 아규먼트 오류, 에러 xxx\"\n",
    "regex = re.compile(\"에러\\s\\w+\")\n",
    "mc = regex.findall(text)\n",
    "print(mc)"
   ]
  },
  {
   "cell_type": "code",
   "execution_count": null,
   "id": "367de0f2",
   "metadata": {},
   "outputs": [],
   "source": [
    "# Q. (     )에 정규표현식을 작성하여 아래와 같이 출력하세요.\n",
    "# ['1 apple', '5 oranges', '3 boys', '4 girls', '10 army', '11 mr']\n",
    "\n",
    "import re\n",
    "li = '1 apple, 5 oranges, 3 boys, 4 girls; 10 army| 11 mr'\n",
    "regex = re.compile(        )   #<<채우기 문제  ('\\d+\\s\\w+') 숫자+스페이스단어+\n",
    "list = regex.findall(li)\n",
    "print(list)"
   ]
  },
  {
   "cell_type": "code",
   "execution_count": null,
   "id": "94f02a7a",
   "metadata": {},
   "outputs": [],
   "source": [
    "# | (or) \n",
    "#text에서 'H,h'만 출력하세요.\n",
    "text = 'Hello my friend! Life is short you need Python!'\n",
    "p = re.compile('[h|H]')\n",
    "p.findall(text)"
   ]
  },
  {
   "cell_type": "code",
   "execution_count": null,
   "id": "d0d5439b",
   "metadata": {},
   "outputs": [],
   "source": [
    "# 그룹핑 : 매치된 문자열 중에서 특정 부분의 문자열만 뽑아내는 경우 ()으로 만들어 준다.\n",
    "# group(0) 매치된 전체 문자열, 1 첫번째 그룹, 2 두번째 그룹, n n번째 그룹\n",
    "p = re.compile('(ABC)+')\n",
    "m = p.search('ABCABCABC OK?')\n",
    "print(m) #<re.Match object; span=(0, 9), match='ABCABCABC'>\n",
    "print(m.group(0)) #ABCABCABC\n",
    "print(m.group(1)) #ABC"
   ]
  },
  {
   "cell_type": "code",
   "execution_count": null,
   "id": "0dac0803",
   "metadata": {},
   "outputs": [],
   "source": [
    "# 그룹핑된 문자열 재참조\n",
    "# \\1은 재참조 메타 문자로서 정규식의 첫번째 그룹을 지칭 \n",
    "# - 2개의 동일한 단어가 연속적으로 사용되어야 매치\n",
    "p = re.compile(r'(\\w+)\\s+\\1+\\s+\\1+\\s')\n",
    "p.search('Paris in the the the spring').group("
   ]
  },
  {
   "cell_type": "code",
   "execution_count": null,
   "id": "79512688",
   "metadata": {},
   "outputs": [],
   "source": [
    "# 그룹핑된 문자열에 이름 붙이기 : 확장 구문 (?P<name>\\w+)\n",
    "p = re.compile(r'(?P<name>\\w+)\\s+((\\d+)[-]\\d+[-]\\d+)')\n",
    "m = p.search('park 010-1234-1234')\n",
    "print(m.group('name'))"
   ]
  },
  {
   "cell_type": "code",
   "execution_count": null,
   "id": "32aa83bd",
   "metadata": {},
   "outputs": [],
   "source": [
    "# 그룹명을 이용하여 정규식 내에서 재참조\n",
    "p = re.compile(r'(?P<word>\\w+)\\s+(?P=word)')\n",
    "p.search('Paris in the the spring').group()"
   ]
  },
  {
   "cell_type": "code",
   "execution_count": null,
   "id": "c97c3120",
   "metadata": {},
   "outputs": [],
   "source": [
    "# Q. 이름으로 그룹을 참조하여 'Lots of punctuation 에서 Lots를 출력하세요.\n",
    "p = re.compile(r'(?P<word>\\b\\w+\\b)')\n",
    "m = p.search( '(((( Lots of punctuation )))' )\n",
    "print(m.group('word'))"
   ]
  },
  {
   "cell_type": "code",
   "execution_count": null,
   "id": "36d849d7",
   "metadata": {},
   "outputs": [],
   "source": [
    "# 전방 탐색\n",
    "# 긍정(?=...) ...에 해당되는 정규식과 매치되어야 하며 \n",
    "# 조건이 통과되어도 문자열이 소모되지 않음\n",
    "# 부정(?!...) ...에 해당되는 정규식과 매치되지 않아야 하며 \n",
    "# 조건이 통과되어도 문자열이 소모되지 않음\n",
    "\n",
    "p = re.compile(r'.+:')\n",
    "m = p.search('http://google.com')\n",
    "print(m.group())\n",
    "print()\n",
    "p = re.compile(r'.+(?=:)')  \n",
    "# :에 해당되는 문자열이 정규식 엔진에 의해 소모되지 않음(검색에는 포함되지만 결과에는 제외)\n",
    "m = p.search('http://google.com')\n",
    "print(m.group())\n",
    "print()"
   ]
  },
  {
   "cell_type": "code",
   "execution_count": null,
   "id": "d254c100",
   "metadata": {},
   "outputs": [],
   "source": [
    "# 파일명+.+확장자를 나타내는 정규식\n",
    "p =re.compile('.*[.].*$')\n",
    "list = ['foo.exe', 'autoexec.bat', 'sendmail.cf']\n",
    "for i in list:\n",
    "    if p.match(i):\n",
    "        print(i)"
   ]
  },
  {
   "cell_type": "code",
   "execution_count": null,
   "id": "a753c066",
   "metadata": {},
   "outputs": [],
   "source": [
    "# 부정적 전방탐색 이용\n",
    "# 확장자가 bat 혹은 exe가 아닌 경우만 통과된다 \n",
    "p =re.compile('.*[.](?!bat$|exe$).*$')\n",
    "list = ['foo.exe', 'autoexec.bat', 'sendmail.cf']\n",
    "for i in list:\n",
    "    if p.match(i):\n",
    "        print(i)"
   ]
  },
  {
   "cell_type": "code",
   "execution_count": null,
   "id": "f07e5dc4",
   "metadata": {},
   "outputs": [],
   "source": [
    "# 문자열 바꾸기\n",
    "# sub 메서드를 사용하면 정규식과 매치되는 부분을 \n",
    "# 다른 문자로 쉽게 바꿀 수 있음\n",
    "# 바꾸기 횟수를 제어하려면 세 번째 매개변수로 count 값을 넘기면 됨\n",
    "# subn 역시 sub와 동일한 기능을 하지만 반환 결과를 \n",
    "# 튜플로 돌려줌. 두 번째 요소는 바꾸기 발생 횟수\n",
    "p = re.compile('(blue|white|red)')\n",
    "print(p.sub('colour', 'blue socks and red shoes'))\n",
    "print(p.sub('colour', 'blue socks and red shoes', count=1)) # 바꾸기 횟수를 제어\n",
    "print(p.subn( 'colour', 'blue socks and red shoes'))"
   ]
  },
  {
   "cell_type": "code",
   "execution_count": null,
   "id": "2a1e7156",
   "metadata": {},
   "outputs": [],
   "source": [
    "# sub 메서드를 사용할 때 참조 구문을 사용\n",
    "# 이름 + 전화번호의 문자열을 전화번호 + 이름으로 바꾸는 예\n",
    "# sub의 바꿀 문자열 부분에 \\g<그룹이름>을 사용하면 \n",
    "# 정규식의 그룹 이름을 참조\n",
    "p = re.compile(r\"(?P<name>\\w+)\\s+(?P<phone>(\\d+)[-]\\d+[-]\\d+)\")\n",
    "print(p.sub(\"\\g<phone> \\g<name>\", \"park 010-1234-1234\"))"
   ]
  },
  {
   "cell_type": "code",
   "execution_count": null,
   "id": "5a4cbec1",
   "metadata": {},
   "outputs": [],
   "source": [
    "# 그룹 이름 대신 참조 번호를 사용할 수 있음\n",
    "p = re.compile(r\"(?P<name>\\w+)\\s+(?P<phone>(\\d+)[-]\\d+[-]\\d+)\")\n",
    "print(p.sub(\"\\g<2> \\g<1>\", \"park 010-1234-1234\"))"
   ]
  },
  {
   "cell_type": "code",
   "execution_count": null,
   "id": "ea399214",
   "metadata": {},
   "outputs": [],
   "source": [
    "# sub 메서드의 매개변수로 함수 넣기\n",
    "# hexrepl 함수는 match 객체(위에서 숫자에 매치되는)를 \n",
    "# 입력으로 받아 16진수로 변환하여 돌려주는 함수 \n",
    "# sub의 첫 번째 매개변수로 함수를 사용할 경우 \n",
    "# 해당 함수의 첫 번째 매개변수에는 정규식과 매치된 match 객체가 입력 \n",
    "# 매치되는 문자열은 함수의 반환 값으로 변환\n",
    "\n",
    "def hexrepl(match):\n",
    "    value = int(match.group())\n",
    "    return hex(value)\n",
    "\n",
    "p = re.compile(r'\\d+')\n",
    "p.sub(hexrepl, 'Call 65490 for printing, 49152 for user code.')"
   ]
  },
  {
   "cell_type": "code",
   "execution_count": null,
   "id": "c6938053",
   "metadata": {},
   "outputs": [],
   "source": [
    "# Greedy vs Non-Greedy\n",
    "# * 메타 문자는 매우 탐욕스러워서 매치할 수 있는 \n",
    "# 최대한의 문자열인 <html><head><title>Title</title> \n",
    "# 문자열을 모두 소비\n",
    "# non-greedy 문자인 ?는 *의 탐욕을 제한하여 \n",
    "# 최소한의 반복을 수행. *?, +?, ??, {m,n}?와 같이 사용\n",
    "s = '<html><head><title>Title</title>'\n",
    "print(s)\n",
    "print(len(s))\n",
    "print(re.match('<.*>', s).span())\n",
    "print(re.match('<.*>', s).group())\n",
    "print(re.match('<.*?>', s).group())\n",
    "print(re.match('<.*?>', s).span())"
   ]
  },
  {
   "cell_type": "markdown",
   "id": "4beb2bd4",
   "metadata": {},
   "source": [
    "-----------------------------------------------------------\n",
    "### 0705-0706 web_crawling_기초"
   ]
  },
  {
   "cell_type": "code",
   "execution_count": null,
   "id": "a0430773",
   "metadata": {},
   "outputs": [],
   "source": [
    "text = \"<k-digital training 3기>\"\n",
    "text1 = 'abc de'\n",
    "print(text[0])\n",
    "print(text[-1])\n",
    "print(text.title())\n",
    "print(text.capitalize())\n",
    "print(text1.title())\n",
    "print(text1.upper())\n",
    "print(text1.capitalize())"
   ]
  },
  {
   "cell_type": "code",
   "execution_count": null,
   "id": "15b7780c",
   "metadata": {},
   "outputs": [],
   "source": [
    "#과제\n",
    "# \"<K-digital training 3기>\"\n",
    "print(text[0],text[1].upper(),text[2:]) #< K -digital training 3기>\n",
    "# 다른방법 뭐가있을까요..."
   ]
  },
  {
   "cell_type": "code",
   "execution_count": null,
   "id": "191cb9fc",
   "metadata": {},
   "outputs": [],
   "source": [
    "#Q. <k-digital training 3기>     ; 출력\n",
    "#Q.     <k-digital training 3기>; 출력\n",
    "text1 = \"    <k-digital training 3기>   \"\n",
    "\n",
    "print(text1.lstrip()+text2)  #왼쪽공백제거\n",
    "print(text1.rstrip()+text2)  #오른쪽공백제거"
   ]
  },
  {
   "cell_type": "code",
   "execution_count": null,
   "id": "3697756b",
   "metadata": {},
   "outputs": [],
   "source": [
    "#Q. <k-digital training 3기>; 출력\n",
    "text1 = \"    <k-digital training 3기>   \"\n",
    "text2 = ';'\n",
    "\n",
    "a = text1.strip()    #strip 함수이용해서 공백 없애기\n",
    "print(a+text2)\n",
    "print(text1.strip()+text2)"
   ]
  },
  {
   "cell_type": "code",
   "execution_count": null,
   "id": "7ab21dd1",
   "metadata": {},
   "outputs": [],
   "source": [
    "#Q. 다음을 출력하세요\n",
    "#<div>k-digital training 3기</title>\n",
    "#<div>k-digital training 3기</div>\n",
    "\n",
    "text = \"<title>k-digital training 3기</title>\"\n",
    "print(text.replace(\"<title>\",\"<div>\"))\n",
    "print(text.replace(\"title\",\"div\"))\n",
    "print(text.replace('title', 'div', 1))  \n",
    "#뒤에 바꾸는 숫자 넣는거, 유용"
   ]
  },
  {
   "cell_type": "code",
   "execution_count": null,
   "id": "95eda9ff",
   "metadata": {},
   "outputs": [],
   "source": [
    "import re\n",
    "text = ('111<head>안녕하세요</head>') #<>열어주는거</>닫아주는거\n",
    "body = re.search('<head>.+</head>',text)\n",
    "print(body.group())"
   ]
  },
  {
   "cell_type": "markdown",
   "id": "3e69e890",
   "metadata": {},
   "source": [
    "### import requests"
   ]
  },
  {
   "cell_type": "code",
   "execution_count": null,
   "id": "92475619",
   "metadata": {},
   "outputs": [],
   "source": [
    "import requests\n",
    "URL = \"http://naver.com\"\n",
    "response = requests.get(URL)\n",
    "print(response.text)"
   ]
  },
  {
   "cell_type": "code",
   "execution_count": null,
   "id": "86ec2d00",
   "metadata": {},
   "outputs": [],
   "source": [
    "text = '''<meta property=\"og:description\" \n",
    "content=\"네이버 메인에서 다양한 정보와 유용한 컨텐츠를 만나 보세요\"/>'''\n",
    "q= re.compile(\"([가-힣]+\\s?)+\") #스페이스가 있거나 없거나\n",
    "m= re.search(q,text)\n",
    "print(m.group())"
   ]
  },
  {
   "cell_type": "code",
   "execution_count": null,
   "id": "81ba03d8",
   "metadata": {},
   "outputs": [],
   "source": [
    "text = '''<meta property=\"og:description\" \n",
    "content=\"네이버 메인에서 다양한 정보와 유용한 컨텐츠를 만나 보세요\"/>'''\n",
    "q= re.compile(\"[가-힣]+\")\n",
    "m= re.findall(q,text)  #리스트화\n",
    "print(' '.join(m))"
   ]
  },
  {
   "cell_type": "code",
   "execution_count": null,
   "id": "da52dd4e",
   "metadata": {},
   "outputs": [],
   "source": [
    "#sub 이용\n",
    "#Q. k-digital training 3기를 출력하세요.\n",
    "import re\n",
    "text = '<title>k-digital training 3기</title>'\n",
    "#q=re.compile('k.+기')\n",
    "t = re.sub('<.+?>','',text)\n",
    "print(t)"
   ]
  },
  {
   "cell_type": "markdown",
   "id": "b1cfdf0e",
   "metadata": {},
   "source": [
    "#### 웹 문서를 가져와서 쓰려면 설치도 필요하고 모듈을 import 해서 사용해야한다\n",
    "1. requests 모듈 : pip install requests 명령어로 설치, anaconda를 설치하면 기본적으로 설치되어있음.\n",
    "- import requests로 모듈 호출 후 사용\n"
   ]
  },
  {
   "cell_type": "code",
   "execution_count": null,
   "id": "4321796c",
   "metadata": {},
   "outputs": [],
   "source": [
    "!conda list  #설치된 모듈 확인"
   ]
  },
  {
   "cell_type": "code",
   "execution_count": null,
   "id": "7c22daa4",
   "metadata": {},
   "outputs": [],
   "source": [
    "mport requests\n",
    "URL = \"http://naver.com\" #네이버홈페이지\n",
    "response = requests.get(URL) #requests.get(URL)\n",
    "print(response.status_code) #정보를 받을 수 있는지_200 정상//404 : 에러문제 5로시작하면 서버문제.\n",
    "print(response.text) #html, css, javascript_동적작동"
   ]
  },
  {
   "cell_type": "code",
   "execution_count": null,
   "id": "d89b7e70",
   "metadata": {},
   "outputs": [],
   "source": [
    "html_data = response.text\n",
    "print(html_data.find('네이버')) #out : 365  #365번째\n",
    "print(html_data[365:368])"
   ]
  },
  {
   "cell_type": "code",
   "execution_count": null,
   "id": "8866323f",
   "metadata": {},
   "outputs": [],
   "source": [
    "#Q. 네이버 메인에서 다양한 정보와 유용한 컨텐츠를\n",
    "#만나 보세요 를 뽑아보세요.\n",
    "html_data = response.text\n",
    "print(html_data.find('네이버')) #365\n",
    "print(html_data.find('요')) #396\n",
    "print(html_data[365:397])"
   ]
  },
  {
   "cell_type": "code",
   "execution_count": null,
   "id": "06810914",
   "metadata": {},
   "outputs": [],
   "source": [
    "# 위 문제를 정규표현식을 이용해서 출력하세요\n",
    "import re\n",
    "p=re.compile('([가-힣]+\\s)*[가-힣]+')\n",
    "m=re.search(p,html_data)\n",
    "print(m.group())"
   ]
  },
  {
   "cell_type": "code",
   "execution_count": null,
   "id": "65cf6ba7",
   "metadata": {},
   "outputs": [],
   "source": [
    "#split을 이용해서\n",
    "content = html_data.split('<meta property=')[1] \n",
    "content = re.search('네이버', content)\n",
    "print(content.group())"
   ]
  },
  {
   "cell_type": "code",
   "execution_count": null,
   "id": "205b3548",
   "metadata": {},
   "outputs": [],
   "source": [
    "#get 메소드에 params 인자를 넣어 함께 get 요청(파라미터 : query)\n",
    "import requests\n",
    "URL = \"http://search.naver.com/search.naver\"\n",
    "params = {'query':'aa'}\n",
    "response = requests.get(URL,params=params)\n",
    "print(response.status_code)\n",
    "print(response.text)"
   ]
  },
  {
   "cell_type": "code",
   "execution_count": null,
   "id": "2a7d0811",
   "metadata": {},
   "outputs": [],
   "source": [
    "# import requests\n",
    "URL = \"http://www.naver.com\"               \n",
    "response = requests.get(URL)\n",
    "content = response.text\n",
    "body = re.search('<h3.*/h3>',content)\n",
    "body=body.group()\n",
    "m = re.search(\"[가-힣]+\",body)\n",
    "print(body)\n",
    "\n",
    "body1 = re.sub('<.+?>','',body)  # <>안의 어떤형태든 다 sub ,빼버림\n",
    "print(body1)"
   ]
  },
  {
   "cell_type": "markdown",
   "id": "bd1ab671",
   "metadata": {},
   "source": [
    "### 유용한 정규표현식 re.sub('<.+?>','',body)"
   ]
  },
  {
   "cell_type": "code",
   "execution_count": null,
   "id": "c9b08a93",
   "metadata": {},
   "outputs": [],
   "source": [
    "import requests\n",
    "URL = 'https://datalab.naver.com'          \n",
    "response = requests.get(URL)\n",
    "content = response.text\n",
    "response = requests.get(URL)\n",
    "html_text = response.text\n",
    "temp = html_text.split('<span class=\"title\">')[1]\n",
    "print(temp.split('</span>')[0])"
   ]
  },
  {
   "cell_type": "code",
   "execution_count": null,
   "id": "2ac8bf2f",
   "metadata": {},
   "outputs": [],
   "source": [
    "#Q. 'http://search.shooping.naver.com/best100v2/main.nhn' 에서\n",
    "# 크록스를 출력하세요\n",
    "import requests\n",
    "URL = 'http://search.shopping.naver.com/best100v2/main.nhn'          \n",
    "req = requests.get(URL)\n",
    "html = req.text\n",
    "html = html.split('_popular_srch_lst_li\"')[1]\n",
    "html = html.split('\" kwdNm=')[0]\n",
    "html = html.split('=\"')[1]\n",
    "print(html)"
   ]
  },
  {
   "cell_type": "code",
   "execution_count": null,
   "id": "79b44874",
   "metadata": {},
   "outputs": [],
   "source": [
    "#Q.URL = 'http://naver.com'에서 split()함수와 정규표현식을 \n",
    "# 이용하여 [메일,카페,블로그,지식IN,쇼핑]을 출력하세요\n",
    "\n",
    "import requests\n",
    "URL = \"http://naver.com\"        \n",
    "response = requests.get(URL)\n",
    "html_data = response.text\n",
    "content = html_data.split('<li class=\"nav_item\"')[1:6]\n",
    "body = re.findall(\"[가-힣]+[iN]*\",str(content))\n",
    "print(body)\n",
    "\n",
    "#해설\n",
    "URL = 'http://naver.com'\n",
    "response = requests.get(URL)\n",
    "html_data = response.text\n",
    "li = []\n",
    "for i in range(5):\n",
    "    result = html_data.split('<li class=\"nav_item\">')[i+1]\n",
    "#     print(result)\n",
    "    word = re.sub('<.*?>','',result)\n",
    "    word = re.sub(r'\\n','',word)\n",
    "    li.append(word)\n",
    "print(li)"
   ]
  },
  {
   "cell_type": "markdown",
   "id": "2583e8b9",
   "metadata": {},
   "source": [
    "#### import urllib\n",
    "urllib모듈이란: 파이썬의 표준 모듈로써 URL을 다루기 위한 모듈 패키지    \n",
    "- 설치가 필요하지 않고 import urllib로 활용\n",
    "- requests 모듈과 마찬가지로 URL과 관련된 여러가지 기능들을 제공 하위모듈\n",
    "- request : URL을 열고 읽는 모듈(HTTP 요청)\n",
    "- error : request 모듈에서 발생하는 에러들을 포함하는 모듈\n",
    "- parse : URL을 파싱하는 모듈(URL 해석 및 조작)\n",
    "- robots.txt 파일을 파싱하는 모듈"
   ]
  },
  {
   "cell_type": "markdown",
   "id": "2a80a7c7",
   "metadata": {},
   "source": [
    "URL 가지고놀기(참고 공부) - https://velog.io/@city7310/%ED%8C%8C%EC%9D%B4%EC%8D%AC%EC%9C%BC%EB%A1%9C-URL-%EA%B0%80%EC%A7%80%EA%B3%A0-%EB%86%80%EA%B8%B0"
   ]
  },
  {
   "cell_type": "code",
   "execution_count": null,
   "id": "ce15003d",
   "metadata": {},
   "outputs": [],
   "source": [
    "import urllib\n",
    "URL = 'http://www.naver.com'\n",
    "request = urllib.request.Request(URL)  #대문자 유의\n",
    "print(request) #<urllib.request.Request object at 0x000002E7F0872FA0>\n",
    "print(request.full_url) #http://www.naver.com\n",
    "print(request.type) #http\n",
    "print(request.host) #www.naver.com"
   ]
  },
  {
   "cell_type": "code",
   "execution_count": null,
   "id": "7254b91a",
   "metadata": {},
   "outputs": [],
   "source": [
    "URL = 'http://www.naver.com'\n",
    "request = urllib.request.Request(URL) #객체 리턴\n",
    "print(request)\n",
    "response = urllib.request.urlopen(URL) #open!\n",
    "byte_data = response.read(500) #<--바이트로 읽음\n",
    "text_data = byte_data.decode('utf-8') #<--디코드 통해서 택스트로 바꿈\n",
    "print(byte_data)\n",
    "print(text_data)"
   ]
  },
  {
   "cell_type": "code",
   "execution_count": null,
   "id": "681cc238",
   "metadata": {},
   "outputs": [],
   "source": [
    "#웹 이미지 저장\n",
    "#urllib.request.urlretrieve( ):웹상의 이미지를 폴더에 저장\n",
    "\n",
    "import urllib.request\n",
    "img_src = 'https://homepages.cae.wisc.edu/~ece533/images/tulips.png'\n",
    "new_name = 'img.png'\n",
    "urllib.request.urlretrieve(img_src,new_name)"
   ]
  },
  {
   "cell_type": "code",
   "execution_count": null,
   "id": "07ae3d05",
   "metadata": {},
   "outputs": [],
   "source": [
    "#단순한 패턴을 읽을 때는 복잡한 정규표현식 보다는 간단한 parse모듈을 사용합니다.\n",
    "#urllib.parse : url을 6개로 분리하여 반환\n",
    "\n",
    "URL = 'https://section.blog.naver.com/Search/Post.naver?pageNo=1&rangeType=ALL&orderBy=sim&keyword=ai'\n",
    "import urllib\n",
    "parse = urllib.parse.urlparse(URL)\n",
    "print(parse)  \n",
    "#ParseResult(scheme='https', netloc='section.blog.naver.com', path='/Search/Post.naver', params='', query='pageNo=1&rangeType=ALL&orderBy=sim&keyword=ai', fragment='') \n",
    "print(parse[0]) #https\n",
    "print(parse[5]) #fragment=''라서 ''\n",
    "print(parse[:5])\n",
    "print(parse.query) #쿼리부분 출력됨"
   ]
  },
  {
   "cell_type": "code",
   "execution_count": null,
   "id": "ea288abb",
   "metadata": {},
   "outputs": [],
   "source": [
    "#유의사항\n",
    "import urllib\n",
    "parse = urllib.parse.urlparse('https://blog.naver.com/koreatech91;a=1?b=2#b')\n",
    "print(parse)\n",
    "parse[1] = 'blog.daum.net'\n",
    "print(parse)\n",
    "#에러가 난다. ! 튜플(변경 불가능)으로 반환되기 때문에 \n",
    "#리스트(변경 가능)로 변경하여 활용해야함."
   ]
  },
  {
   "cell_type": "code",
   "execution_count": null,
   "id": "e99a6fd5",
   "metadata": {},
   "outputs": [],
   "source": [
    "#유의사항\n",
    "import urllib\n",
    "parse = urllib.parse.urlparse('https://blog.naver.com/koreatech91;a=1?b=2#b')\n",
    "print(parse)\n",
    "parse = list(parse)  #리스트로 변경\n",
    "parse[1] = 'blog.daum.net' #활용가능\n",
    "print(parse)"
   ]
  },
  {
   "cell_type": "code",
   "execution_count": null,
   "id": "519c237c",
   "metadata": {},
   "outputs": [],
   "source": [
    "# 원하는 웹사이트 requests 모듈과 urllib모듈로 가져와 text로 출력하세요.\n",
    "import requests\n",
    "URL = \"http://pythonstudy.xyz/python/article/403-%ED%8C%8C%EC%9D%B4%EC%8D%AC-Web-Scraping\"               #네이버홈페이지\n",
    "response = requests.get(URL)           #requests.get(URL)\n",
    "print(response.status_code)   #정보를 받을 수 있는지_200 정상//404 : 서버문제\n",
    "print(response.text)\n",
    "import urllib\n",
    "URL = 'http://pythonstudy.xyz/python/article/403-%ED%8C%8C%EC%9D%B4%EC%8D%AC-Web-Scraping'\n",
    "response = urllib.request.urlopen(URL)\n",
    "byte_data = response.read()  #바이트수를 정해줘서 글씨량 정할 수 있음.\n",
    "text_data = byte_data.decode('utf-8')\n",
    "print(text_data)"
   ]
  },
  {
   "cell_type": "markdown",
   "id": "c60743f1",
   "metadata": {},
   "source": [
    "----------------------------------------------------------------------------\n",
    "0706 강의시작"
   ]
  },
  {
   "cell_type": "markdown",
   "id": "5a67acc5",
   "metadata": {},
   "source": [
    "### BeautifulSoup\n",
    "beautifulsoup4 - 웹문서를 가져와서 가공하고 보여주는 외부모듈"
   ]
  },
  {
   "cell_type": "code",
   "execution_count": null,
   "id": "e09fd5e4",
   "metadata": {},
   "outputs": [],
   "source": [
    "!pip install beautifulsoup4\n",
    "#!conda list   #모듈 있는지 확인."
   ]
  },
  {
   "cell_type": "code",
   "execution_count": null,
   "id": "bc14ebb3",
   "metadata": {},
   "outputs": [],
   "source": [
    "# 홈페이지를 로컬에 파일로 저장\n",
    "\n",
    "import urllib\n",
    "request = urllib.request.Request('https://www.naver.com')\n",
    "data = urllib.request.urlopen(request).read()  #바이트\n",
    "#f = open('pc.html','wb')\n",
    "#f.write(data)\n",
    "#f.close()\n",
    "with open('pc.html','rb') as f:\n",
    "    data=f.read().decode('utf-8')\n",
    "    print(data)"
   ]
  },
  {
   "cell_type": "markdown",
   "id": "488a2252",
   "metadata": {},
   "source": [
    "BeautifuSoup 모듈\n",
    "- 홈페이지 내 데이터를 쉽게 추출할 수 있게 해주는 파이썬 외부 라이브러리\n",
    "- 웹 문서 내 수많은 HTML 태그들을 parser를 활용해 사용하기 편한 파이썬 객체로 만들어 제공\n",
    "- 웨 문서 구조를 알고 있다면 편하게 데이터를 뽑아 활용할 수 있음.\n",
    "\n",
    "어떤 tag으로 구성되었는지 보고싶다면    \n",
    "print(soup.prettify())"
   ]
  },
  {
   "cell_type": "code",
   "execution_count": null,
   "id": "b7494c63",
   "metadata": {},
   "outputs": [],
   "source": [
    "from bs4 import BeautifulSoup\n",
    "html = \"\"\"\n",
    "<html>\n",
    "<head>\n",
    "</head>\n",
    "<body>\n",
    "  <h1>스크레이핑이란?</h1>\n",
    "  <p>웹 페이지를 분석하는 것</p>\n",
    "  <p>원하는 부분을 추출하는 것</p>\n",
    "</body>\n",
    "</html>\n",
    "\"\"\"\n",
    "soup = BeautifulSoup(html, 'html.parser')\n",
    "print(soup)\n",
    "h1 = soup.body.h1\n",
    "p1 = soup.body.p\n",
    "p2 = p1.next_sibling.next_sibling   #next_sibling : 하나의 스페이스\n",
    "p_all = soup.find_all('p')\n",
    "print(h1)\n",
    "  \n",
    "#string와 text의 차이점은?_찾아보기 : \n",
    "#text는 모든 문자열(하위 자식태그의 텍스트까지 문자열로 반환)\n",
    "#string는 문자열이 없는 곳에는 None( .string 태그 하위에 문자열은 객체화)\n",
    "print(h1.string) \n",
    "print(h1.text)\n",
    "print(p1.string)\n",
    "print(p2.string)\n",
    "print(p_all)\n",
    "\n",
    "p22 = p_all[1]\n",
    "print(p22.string)"
   ]
  },
  {
   "attachments": {
    "image.png": {
     "image/png": "[encoded data removed]"
    }
   },
   "cell_type": "markdown",
   "id": "875f2e10",
   "metadata": {},
   "source": [
    "#### HTML    \n",
    "html dom <<- 알아둬야함.   \n",
    "dom : 문서 객체 모델(Document Object Model)   \n",
    "HTML 문서에 접근하기 위한 일종의 인터페이스\n",
    "\n",
    "![image.png](attachment:image.png)\n",
    "출처 : http://tcpschool.com/javascript/js_dom_concept\n",
    "\n",
    "1. Core DOM : 모든 문서 타입을 위한 DOM 모델   \n",
    "\n",
    "2. HTML DOM : HTML 문서를 위한 DOM 모델   \n",
    "\n",
    "3. XML DOM : XML 문서를 위한 DOM 모델 \n",
    "    \n",
    "    \n",
    "find() : HTML 태그에 대한 첫 번째 정보를 가져옴   \n",
    "- find(속성 ='값') : HTML 해당 속성과 일치하는 값에 대한 첫 번째 정보를 가져옴."
   ]
  },
  {
   "cell_type": "code",
   "execution_count": null,
   "id": "1e382320",
   "metadata": {},
   "outputs": [],
   "source": [
    "# id로 요소를 찾는 방법\n",
    "from bs4 import BeautifulSoup\n",
    "html = \"\"\"\n",
    "<body>\n",
    "  <h1 id = 'title'>스크레이핑이란?</h1>\n",
    "  <p id = 'body'>웹 페이지를 분석하는 것</p>\n",
    "  <p>원하는 부분을 추출하는 것</p>\n",
    "</body>\n",
    "\"\"\"\n",
    "soup = BeautifulSoup(html,'html.parser')\n",
    "#속성(id) = '값', 속성과 일치하는 값에 대한 첫번째 정보를 가져옴\n",
    "title = soup.find(id='title')   \n",
    "body = soup.find(id='body')\n",
    "print(title.string)\n",
    "print(body.string)"
   ]
  },
  {
   "cell_type": "markdown",
   "id": "79e1b953",
   "metadata": {},
   "source": [
    "_________________________"
   ]
  },
  {
   "cell_type": "code",
   "execution_count": null,
   "id": "1b1ddf96",
   "metadata": {},
   "outputs": [],
   "source": [
    "#**여러개의 요소 추출\n",
    "from bs4 import BeautifulSoup\n",
    "html = \"\"\"\n",
    "<html><body>\n",
    "  <ul> \n",
    "    <li><a href=\"http://www.naver.com\">naver</a></li>\n",
    "    <li><a href=\"http://www.daum.net\">naver</a></li>\n",
    "  </ul>\n",
    "</body></html>\n",
    "\"\"\"\n",
    "soup = BeautifulSoup(html,'html.parser')\n",
    "links = soup.find_all('a')\n",
    "for a in links:\n",
    "    href = a.attrs['href']    #속성출력 - 대괄호 이용\n",
    "    text = a.string\n",
    "    print(text, \">\", href) #herf :http://www.naver.com"
   ]
  },
  {
   "cell_type": "markdown",
   "id": "63126a2f",
   "metadata": {},
   "source": [
    "### html tag 정리 공부"
   ]
  },
  {
   "cell_type": "code",
   "execution_count": null,
   "id": "62ab8e84",
   "metadata": {},
   "outputs": [],
   "source": [
    "#### html tag 정리 공부 : https://pridiot.tistory.com/6\n",
    "> 자주 사용되는 tag\n",
    "\n",
    "1. <html> : 웹페이지의 시작과 끝    \n",
    "    - <! doctype html>  이 페이지를 html로 해석하라.     \n",
    "2. <head> : 웹페이지의 정보, 문서에서 사용할 외부 파일들을 링크할 때 사용        \n",
    "    - <title>, <meta> 등이 들어간다. \n",
    "3. <body> : 브라우저에 실제 표시되는 내용   \n",
    "4. <title> : 문서제목        \n",
    "5. <meta> : 문자 인코딩 및 문서 키워드, 요약정보    \n",
    "    - <meta charset=\"utf-8\">  웹페이지의 문자 인코딩 방식을 utf-8로 지정하라.    \n",
    "6. <div> : 아무런 의미X, 컨텐츠들을 어떤 목적에 따라 묶어야 할 때 사용.    \n",
    "7. <span> : 아무런 의미X, 컨텐츠들을 어떤 목적에 따라 묶어야 할 때 사용.        \n",
    "    * <div> 와 <span>의 차이    \n",
    "    <div>  block lever element(줄 바꿈 O)    \n",
    "    <span>  inline lever element(줄 바꿈 X)    \n",
    "8. <a> : anchor, 웹 페이지나 외부 사이트 연결    \n",
    "    - <a href=\"연결할 링크의 경로\">내용</a>    \n",
    "    - href=\"#\"은 실제로 연결되지 않는, 링크 역할만 하도록 만든 것. 널 링크(null link)라고 함.    \n",
    "    - ![image.png](attachment:image.png)    \n",
    "    > 'a'에서 사용할 수 있는 속성 값\n",
    "    1) target : 새창 or 새 탭에서 링크를 열때 사용\n",
    "        _blank 새로운 탭 or 창\n",
    "        _self 현재 탭 or 창\n",
    "        _parent 현재 화면을 불러낸 부모 탭 or 창, 없으면 현재 탭 or 창\n",
    "        _top 최상위 탭 or 창, 없으면 현재 탭 or 창\n",
    "    2) title : 링트의 툴팁을 표시(커서를 올렸을 때 나오는 설명)\n",
    "        <a href=\"연결할 페이지나 사이트 경로\" title=\"링크 내용에 대한 설명\"\n",
    "    3) id : 같은 페이지 안에서 이동할 때 사용\n",
    "        - 이동하고 싶은 위치마다 id속성을 이용하여 앵커를 만든다.(각각 다른 이름으로 지정해야 함.)\n",
    "        <a id=\"앵커이름\">내용</a>\n",
    "        - 이름 붙여놓은 앵커들을 다시 <a>의 href속성으로 연결.\n",
    "        <a href=\"앵커이름\">내용</a>\n",
    "9. <script> : 코드 삽임\n",
    "    - 실행 가능한 코드를 웹 페이지에 포함시키거나 참조하기 위해서 사용.\n",
    "    - 보통 Javascript 코드를 넣을 때 사용.\n",
    "10. <link> : 외부 파일을 연결할 때 사용\n",
    "    <link href=\"외부 CSS파일 경로\" rel=\"stylesheet\" type=\"test/CSS\">\n",
    "    rel=\"stylesheet\"는 연결할 파일이 stylesheet 라는 의미\n",
    "    type=\"test/CSS\"는 스타일시트 코드가 텍스트 파일로 된 css유형이라는 의미\n",
    "    * CSS 사용할 때 <link>와 <style> 차이\n",
    "    : <link>는 외부 css파일을 연결할 때, <style>은 css설정을 같은 웹페이지 안에서 정의할 때 사용.(<head>사이에 정의)\n",
    "11.<img> : 이미지 삽입\n",
    "    - <img src=\"이미지 경로\">\n",
    "    - 태그 하나당 1개의 이미지 삽입 가능\n",
    "    - img의 속성 : width(너비), height(높이), alt(이미지를 설명해 주는 대체 텍스트 추가),title(툴팁;커서올렸을 때 나오는거),usemap(이미지 맵(하나의 이미지에 여러 링크를 만드는 것))\n",
    "12.<p> : 단락\n",
    "    - 앞,뒤로 빈 줄이 생기면서 단락이 생긴다.\n",
    "13.<li> : <ul>과 <ol>안에서 각 항목을 나열할 때 사용.\n",
    "    <ul>                    <ol[속성=\"속성 값\"]>\n",
    "      <li>내용</li>           <li>내용</li>\n",
    "      <li>내용</li>           <li>내용</li>\n",
    "    </ul>                   </ol>\n",
    "14.<ul> : unordered list, 순서가 없는 list\n",
    "    + <ol> : olordered list, 순서가 있는 list\n",
    "        - type : 1,a,A,i,I\n",
    "        - start : 중간부터 시작해야 할 때 이 속성을 사용.\n",
    "        - reversed : 역순으로 할 때 사용.\n",
    "15.<style> : 스타일 정보를 정의할 때 사용.<head>사이에 정의.\n",
    "16.<br> : 줄바꿈, 닫는태그 없음!\n",
    "17.<hn> : 제목,<h1>~<h6>까지 1이 크기가 제일 큼.\n",
    "18.<input> : form의 요소중 하나. 사용자가 정보를 입력하는 부분을 만들어야 할 때 사용한다.\n",
    "    - type에 따라 어떤 형식으로 정보를 받을지 결정, id값을 통해 구별 가능.\n",
    "    - input 속성 : readonly(일기전용),placeholder(힌트표시)\n",
    "    - \n",
    "    - \n",
    "19.<form> : form 생성\n",
    "20.<iframe> : 외부 페이지 삽입\n",
    "    - width, height : 너비, 높이(픽셀갑)\n",
    "    - name : 프레임 이름\n",
    "    - seamless : 테두리 없애기, 속성값 없이 seamless만 사용.\n",
    "    - src : 프레임에 표시할 페이지의 주소 지정.\n",
    "21.<nav> : 문서 연결 링크, 같은 사이트 안의 페이지나 다른 사이트의 페이지로 연결.\n",
    "22.<strong> : 중요한 내용 강조를 위해 진하게 표시\n",
    "    - <b> : 의미없이 진하게 표시\n",
    "    - <em> : 내용의 강조를 위해 기울임 표시\n",
    "    - <i> : 의미없이 기울임\n",
    "        \n",
    "23.<footer> : 제작 정보와 저작권 정보\n",
    "    + <address> : 사이트 제작자 정보, 연락처 정보, 웹사이트 관련된 주소 넣을때 사용\n",
    "24.<header> : 제목 지정\n",
    "    + <head>와는 다름!\n",
    "    - <head> : <title>나<meta>등의 웹페이지 정보가 들어감, 1번밖에 못씀\n",
    "    - <header> : 문서에서 여러번 사용 가능.\n",
    "25.<button> : 버튼\n",
    "    - <input type=\"button\">해서 생성 가능\n",
    "    - 컨텐츠를 포함할 수 있어서 시각적 효과 줄 수 있다.\n",
    "    - 버튼속성:\n",
    "        - submit : from 제출 <button type=\"submit\"> _전송_ </button>\n",
    "        - reset : from 리셋 <button type=\"reset\"> _다시쓰기_ </button>\n",
    "        - button : 버튼의 형태만 만든다. 동작 실행하려면 함수와 연결 필요\n",
    "26.<i> : 묶어진 내용 기울임.    \n",
    "    \n",
    "27.<b> : bold, 진하게\n",
    "    - 묶인 내용들이 굵게 표시됨\n",
    "28.<aside> : 본문 이외의 내용\n",
    "    - 블로그 양 옆의 공고나 링크 같은 사이드 바를 표시할 때 사용\n",
    "    - 필수요소가 아니여서 필요한 경우 이용\n",
    "    + <section>과 <article>의 차이\n",
    "    - <section>: 맥락에 따라 주제별로 컨텐츠 묶을 때 사용\n",
    "    - <article>: 독립된 내용의 실제 컨텐츠 내용들을 넣을 때 사용\n",
    "    - <article>은 실제 내용들이 들어가고 <section>은 header, section, footer와 구분하기 위한 기능으로 사용\n",
    "       \n",
    "        \n",
    "--- 기타 Tag ---\n",
    "- 주석 :사람이 보기 위한 내용\n",
    "    * html의 주석 : <!--주석내용-->\n",
    "    * CSS의 주속 : /*주석내용*/\n",
    "- 시멘틱 태그(semantic tag) : 사람이 이해하기 쉽도록 태그의 이름만 보고도 역할이나 위치를 알 수 있도록 만든 태그들"
   ]
  },
  {
   "attachments": {
    "image.png": {
     "image/png": "[encoded data removed]"
    }
   },
   "cell_type": "markdown",
   "id": "0043fc50",
   "metadata": {},
   "source": [
    "[시멘틱 태그(semantic tag)]\n",
    "\n",
    "form, table, img, 등이 있으며, HTML5에서 추가된 시맨틱 태그는 아래와 같다.     \n",
    "<br>\n",
    "header : 헤더를 의미    \n",
    "nav : 네비게이션을 의미,콘텐츠를 담고 있는 문서를 사이트간에 서로 연결하는 링크   \n",
    "aside : 사이드바, 사이드에 위치하는 공간, 본문 이외의 내용을 담음      \n",
    "section : 본문 내용(article)을 담음   \n",
    "article : 실질적인 내용     \n",
    "footer : 화면의 구조 중 제일 아래에 위치하고, 회사소개 / 저작권 / 약관 / 제작정보      \n",
    "div : 글자나 사진등 콘텐츠들을 묶어서 CSS 스타일을 적용시킬때 사용     \n",
    "<br>\n",
    "\n",
    "![image.png](attachment:image.png)"
   ]
  },
  {
   "cell_type": "code",
   "execution_count": null,
   "id": "3c4fba94",
   "metadata": {},
   "outputs": [],
   "source": [
    "# 기상청 사이트 주소 - http://www.kma.go.kr/weather/forecast/mid-term-rss3.jsp\n",
    "#find 써서 타이틀과 wf 찾아서 출력하기.\n",
    "import urllib\n",
    "URL = 'http://www.kma.go.kr/weather/forecast/mid-term-rss3.jsp'\n",
    "request = urllib.request.Request(URL)\n",
    "response = urllib.request.urlopen(URL)\n",
    "byte_data = response.read()\n",
    "text_data = byte_data.decode('utf-8')\n",
    "#find('title')\n",
    "#find('wf')\n",
    "from bs4 import BeautifulSoup\n",
    "html = text_data\n",
    "soup = BeautifulSoup(html,'html.parser')\n",
    "title = soup.find('title')   #find는 처음거 찾는다.\n",
    "wf = soup.find('wf')\n",
    "print(title.string)    \n",
    "print(wf.string)"
   ]
  },
  {
   "cell_type": "code",
   "execution_count": null,
   "id": "f5cd6070",
   "metadata": {},
   "outputs": [],
   "source": [
    "import urllib\n",
    "URL = 'https://www.naver.com'\n",
    "request = urllib.request.Request(URL)\n",
    "response = urllib.request.urlopen(URL)\n",
    "byte_data = response.read()\n",
    "text_data = byte_data.decode('utf-8')\n",
    "from bs4 import BeautifulSoup\n",
    "html = text_data\n",
    "soup = BeautifulSoup(html, 'html.parser')    \n",
    "#HTML Parse란 HTML 문법 규칙에 따른 문자열을, \n",
    "# 해당 문법을 바탕으로 단어의 의미나 구조를 \n",
    "#분석하는 것을 의미\n",
    "title = soup.find('title')\n",
    "print(title.string)"
   ]
  },
  {
   "cell_type": "markdown",
   "id": "e97cb305",
   "metadata": {},
   "source": [
    "find_all():\n",
    "- HTML 의 해당 태그에 대한 모든 정보를 리스트 형식으로 가져옴. limit 옵션으로 개수 지정 가능.\n",
    "- CSS 속성으로 필터링(class_(생략가능)/#class는 언더바(_)필수/로 클래스를 직접 사용. 혹은 attrs(속성)에서 속성=값으로 필터링."
   ]
  },
  {
   "cell_type": "code",
   "execution_count": null,
   "id": "7df5f171",
   "metadata": {},
   "outputs": [],
   "source": [
    "#클래스 속성으로 가져오기\n",
    "import requests\n",
    "from bs4 import BeautifulSoup\n",
    "req = requests.get('https://www.naver.com')\n",
    "html = req.text  #text로 가져옴\n",
    "#print(html)\n",
    "soup = BeautifulSoup(html,'html.parser')\n",
    "result = soup.find_all('a',class_='link_set') #class 는 'a'태그의 속성\n",
    "#print(result)\n",
    "result1 = soup.find_all('a',class_=\"_2aeXMlrb BMgpjddw\")  \n",
    "print(result1)"
   ]
  },
  {
   "cell_type": "code",
   "execution_count": null,
   "id": "2ff868e1",
   "metadata": {},
   "outputs": [],
   "source": [
    "print(soup.title) #<title>NAVER</title>\n",
    "print(soup.title.name)# title\n",
    "print(soup.title.string) #NAVER\n",
    "print(soup.img) #alt 이미지속성 \n",
    "print(soup.img['alt'])  #속성검색할땐 대괄호\n",
    "print(soup.a)\n",
    "print(soup.a['href']) #a 의 href 속성을 검색함\n",
    "print(soup.a.string)"
   ]
  },
  {
   "cell_type": "code",
   "execution_count": null,
   "id": "44e4b8c8",
   "metadata": {},
   "outputs": [],
   "source": [
    "#limit 옵션으로 요소개수지정\n",
    "print(soup.find_all('a',limit=2))  "
   ]
  },
  {
   "cell_type": "code",
   "execution_count": null,
   "id": "f4a31590",
   "metadata": {},
   "outputs": [],
   "source": [
    "#find_all리스트의 인덱스지정사용법\n",
    "print(soup.find_all('a')[1])"
   ]
  },
  {
   "cell_type": "code",
   "execution_count": null,
   "id": "665044be",
   "metadata": {},
   "outputs": [],
   "source": [
    "#id 이용해서 리스트 뽑기\n",
    "print(soup.find_all('div', id = 'u_skip'))  "
   ]
  },
  {
   "cell_type": "code",
   "execution_count": null,
   "id": "ca1ea4e9",
   "metadata": {},
   "outputs": [],
   "source": [
    "print(soup.find_all('span',class_='blind',limit = 2))"
   ]
  },
  {
   "cell_type": "code",
   "execution_count": null,
   "id": "ae781529",
   "metadata": {},
   "outputs": [],
   "source": [
    "#속성에서 클래스가 블라인드인 항목만, 딕셔너리형식으로 넣어주면\n",
    "# 해당 항목 리스트로 출력, limit 제한 2 뒀음\n",
    "print(soup.find_all('span',attrs={'class':'blind'},limit = 2)) "
   ]
  },
  {
   "cell_type": "code",
   "execution_count": null,
   "id": "48b8cbfa",
   "metadata": {},
   "outputs": [],
   "source": [
    "#속성에서 항목 여러개 찾기 가능\n",
    "print(soup.find_all('span',attrs={'class':['blind','item']},limit = 10))"
   ]
  },
  {
   "cell_type": "code",
   "execution_count": null,
   "id": "82a68e53",
   "metadata": {},
   "outputs": [],
   "source": [
    "import re\n",
    "print(soup.find_all(string='네이버')) #only 네이버\n",
    "print(soup.find_all(string=re.compile('네이버'))) #네이버포함된거까지 모두"
   ]
  },
  {
   "cell_type": "markdown",
   "id": "dd68e0c4",
   "metadata": {},
   "source": [
    "select_one(), select()\n",
    "- CSS 선택자를 활용하여 원하는 정보를 가져옴(태그를 검색하는 find, find_all과 비슷함)\n",
    "- class는 .으로 id는 #로 표시"
   ]
  },
  {
   "cell_type": "code",
   "execution_count": null,
   "id": "75f52784",
   "metadata": {},
   "outputs": [],
   "source": [
    "from bs4 import BeautifulSoup\n",
    "html = \"\"\"\n",
    "<html>\n",
    "<body>\n",
    "<div id=\"meigen\">\n",
    "  <h1>위키북스 도서</h1>\n",
    "  <ul class=\"items\">\n",
    "    <li>유니티 게임 이펙트 입문</li>\n",
    "    <li>스위프트로 시작하는 아이폰 앱 개발 교과서</li>\n",
    "    <li>모던 웹사이트 디자인의 정석</li>\n",
    "  </ul>\n",
    "</div>\n",
    "</body>\n",
    "</html>\n",
    "\"\"\"\n",
    "soup = BeautifulSoup(html,'html.parser')\n",
    "h1 = soup.select_one('div#meigen > h1').string \n",
    "#괄호 안의 #은 id 뜻함.\n",
    "print(h1)\n",
    "li_list = soup.select('div#meigen > ul.items > li') \n",
    "#괄호 안의 .은 클래스 뜻함\n",
    "# li_list\n",
    "#[<li>유니티 게임 이펙트 입문</li>,\n",
    "# <li>스위프트로 시작하는 아이폰 앱 개발 교과서</li>,\n",
    "# <li>모던 웹사이트 디자인의 정석</li>]\n",
    "# print(li_list)\n",
    "# [<li>유니티 게임 이펙트 입문</li>, <li>스위프트로 시작하는 아이폰 앱 개발 교과서</li>, <li>모던 웹사이트 디자인의 정석</li>]\n",
    "\n",
    "for li in li_list:\n",
    "    print(li.string)\n",
    "    #유니티 게임 이펙트 입문\n",
    "    #스위프트로 시작하는 아이폰 앱 개발 교과서\n",
    "    #모던 웹사이트 디자인의 정석\n",
    "    "
   ]
  },
  {
   "cell_type": "code",
   "execution_count": null,
   "id": "5275626f",
   "metadata": {},
   "outputs": [],
   "source": [
    "# 미국환율가져오기 https://finance.naver.com/marketindex/\n",
    "import requests\n",
    "from bs4 import BeautifulSoup\n",
    "req = requests.get ('https://finance.naver.com/marketindex')\n",
    "html = req.text\n",
    "soup = BeautifulSoup(html,'html.parser')\n",
    "value = soup.find_all('span',class_='value')[0].string\n",
    "# print(soup.find('span',class_='value').string)\n",
    "print('usd/krw =',value)"
   ]
  },
  {
   "cell_type": "code",
   "execution_count": null,
   "id": "0cb0790b",
   "metadata": {},
   "outputs": [],
   "source": [
    "#파일 열어서 parser\n",
    "from bs4 import BeautifulSoup\n",
    "fp = open('fruits-vegetables.html',encoding = 'utf-8')\n",
    "soup = BeautifulSoup(fp,'html.parser')\n",
    "print(soup)"
   ]
  },
  {
   "cell_type": "code",
   "execution_count": null,
   "id": "ed898d7e",
   "metadata": {},
   "outputs": [],
   "source": [
    "#출력 연습\n",
    "print(soup.select_one('ul#ve-list > li.white').string) #무\n",
    "print(soup.select_one('div#main-goods > h1').string) #과일과 야채"
   ]
  },
  {
   "cell_type": "code",
   "execution_count": null,
   "id": "1428d5c2",
   "metadata": {},
   "outputs": [],
   "source": [
    "#<li class=\"black\" data-lo=\"us\">아보카도</li>\n",
    "#서로 다른 방법으로 아보카도를 5번 출력하세요.\n",
    "print(soup.select('ul#ve-list > li.black')[1].string)\n",
    "print(soup.select_one(\"#ve-list > li:nth-of-type(4)\").string)\n",
    "print(soup.find_all('li', attrs={'class':'black','data-lo':'us'})[0].string)\n",
    "print(soup.find_all('li', class_='black')[1].string)\n",
    "print(soup.find(attrs={'class':'black','data-lo':'us'}).string)\n",
    "print(soup.select('ul#ve-list > li[data-lo=\"us\"]')[1].string)\n",
    "#print(soup.find(id=\"ve-list\").find(\"li\",cond).string)"
   ]
  },
  {
   "cell_type": "code",
   "execution_count": null,
   "id": "b711d4b0",
   "metadata": {},
   "outputs": [],
   "source": [
    "#Q. 정규표현식과 BeautifulSoup을 이용하여 https가 포함된 url만 출력하세요.\n",
    "from bs4 import BeautifulSoup\n",
    "import re #정규표현식을 사용할 때 --- (※1)\n",
    "html = \"\"\"\n",
    "<ul>\n",
    "  <li><a href=\"hoge.html\">hoge</li>\n",
    "  <li><a href=\"https://example.com/fuga\">fuga*</li>\n",
    "  <li><a href=\"https://example.com/foo\">foo*</li>\n",
    "  <li><a href=\"http://example.com/aaa\">aaa*</li>\n",
    "</ul>\n",
    "\"\"\"\n",
    "p = re.compile('^https')  #'^ '시작부분,/ [^]에서는 반대의미\n",
    "soup = BeautifulSoup(html, 'html.parser')\n",
    "list_find = soup.find_all('a', attrs={'href':p})\n",
    "for find in list_find:\n",
    "    print(find['href'])"
   ]
  },
  {
   "cell_type": "code",
   "execution_count": null,
   "id": "9b2d6ffc",
   "metadata": {},
   "outputs": [],
   "source": [
    "#간단하게 만들기\n",
    "soup = BeautifulSoup(html, 'html.parser')\n",
    "list_find = soup.find_all(href=re.compile('https'))\n",
    "for find in list_find:\n",
    "    print(find['href']) #href 라는 속성을 출력._ 속성[]대괄호 이용"
   ]
  },
  {
   "cell_type": "code",
   "execution_count": null,
   "id": "6e81d028",
   "metadata": {},
   "outputs": [],
   "source": [
    "#Q. 'https://www.naver.com'으로 부터\n",
    "#<a href=\"#newsstand\"><span>뉴스스탠드 바로가기</span></a>을 출력하세요.\n",
    "import requests\n",
    "from bs4 import BeautifulSoup\n",
    "req = requests.get('https://www.naver.com')\n",
    "html = req.text \n",
    "soup = BeautifulSoup(html,'html.parser')\n",
    "\n",
    "print(soup.select('a', herf='#newsstand')[0]) \n",
    "#.string 추가해서 뒤에 붙여주면 '뉴스스탠드 바로가기' 글씨만 출력\n",
    "print(soup.select_one('a', herf='#newsstand'))\n",
    "print(soup.find(href=re.compile('#newsstand')))\n",
    "print(soup.find_all(href=re.compile('#newsstand'))) # find_all 리스트로 출력"
   ]
  },
  {
   "cell_type": "code",
   "execution_count": null,
   "id": "d25b9fc5",
   "metadata": {},
   "outputs": [],
   "source": [
    "! pip install lxml"
   ]
  },
  {
   "cell_type": "code",
   "execution_count": null,
   "id": "425a643c",
   "metadata": {},
   "outputs": [],
   "source": [
    "# <a href=\"#newsstand\"><span>뉴스스탠드 바로가기</span></a>을 출력\n",
    "# lxml 이용.\n",
    "import requests\n",
    "from bs4 import BeautifulSoup\n",
    "req = requests.get('https://www.naver.com')\n",
    "html = req.text \n",
    "soup = BeautifulSoup(html,'lxml')\n",
    "print(soup.select_one('a'))"
   ]
  },
  {
   "cell_type": "code",
   "execution_count": null,
   "id": "e5c7b0e0",
   "metadata": {},
   "outputs": [],
   "source": [
    "# prettify() 함수를 이용하면 보기 좋게 출력할 수 있음\n",
    "from bs4 import BeautifulSoup\n",
    "html = \"\"\"<html> <head><title>test site</title></head>\\\n",
    "<body> <p>test</p> <p>test1</p> <p>test2</p> </body></html>\"\"\"\n",
    "soup = BeautifulSoup(html, 'html.parser')\n",
    "soup.prettify()"
   ]
  },
  {
   "cell_type": "code",
   "execution_count": null,
   "id": "e6ecb3d2",
   "metadata": {},
   "outputs": [],
   "source": [
    "#### 과제_0706"
   ]
  },
  {
   "cell_type": "code",
   "execution_count": null,
   "id": "5084047f",
   "metadata": {},
   "outputs": [],
   "source": [
    "#Q1. 네이버 영화 랭킹 가져와서 첫번째 영화제목을 출력하세요.\n",
    "import requests\n",
    "from bs4 import BeautifulSoup\n",
    "req = requests.get('https://movie.naver.com/movie/sdb/rank/rmovie.nhn')\n",
    "html = req.text \n",
    "soup = BeautifulSoup(html, 'html.parser')\n",
    "print(soup.find(href=\"/movie/bi/mi/basic.nhn?code=194205\").string)\n",
    "\n",
    "# A\n",
    "a = soup.select_one('div.tit3 > a')\n",
    "print(a.string) "
   ]
  },
  {
   "cell_type": "code",
   "execution_count": null,
   "id": "ca26cb88",
   "metadata": {},
   "outputs": [],
   "source": [
    "#Q2. 네이버 영화 랭킹 가져와서 전체 영화제목을 출력하세요.\n",
    "import requests\n",
    "from bs4 import BeautifulSoup\n",
    "req = requests.get(\"https://movie.naver.com/movie/sdb/rank/rmovie.nhn\")\n",
    "html = req.text\n",
    "soup = BeautifulSoup(html,'html.parser')\n",
    "movies = soup.find_all('div' , class_=\"tit3\")\n",
    "\n",
    "i=0\n",
    "for movie in movies:\n",
    "    i = i+ 1\n",
    "    print('랭킹순위 {} : {}'.format(i, movie.a['title']))"
   ]
  },
  {
   "cell_type": "code",
   "execution_count": null,
   "id": "b0455aec",
   "metadata": {},
   "outputs": [],
   "source": [
    "# Q3.\"http://api.aoikujira.com/time/get.php\"으로 부터 아래와 같이 출력하세요.\n",
    "# 2020/08/02 08:06:45 - #text_data < urllib\n",
    "# b'2020/08/02 08:06:45' - #byte_data <urllib\n",
    "\n",
    "import urllib\n",
    "URL = 'http://api.aoikujira.com/time/get.php'\n",
    "request = urllib.request.Request(URL)\n",
    "data = urllib.request.urlopen(URL)\n",
    "#data = urllib.request.urlopen(request).read()\n",
    "byte_data = data.read()\n",
    "text_data = byte_data.decode('utf-8')\n",
    "\n",
    "import requests\n",
    "req = requests.get('http://api.aoikujira.com/time/get.php')\n",
    "html = req.text \n",
    "print(html)"
   ]
  },
  {
   "cell_type": "markdown",
   "id": "51b9b06b",
   "metadata": {},
   "source": [
    "개인공부 - 크롤링공부"
   ]
  },
  {
   "cell_type": "code",
   "execution_count": null,
   "id": "94fa14ea",
   "metadata": {},
   "outputs": [],
   "source": [
    "import requests as rq\n",
    "url = 'https://www.naver.com'\n",
    "response=rq.get(url)\n",
    "data = response.text"
   ]
  },
  {
   "cell_type": "code",
   "execution_count": null,
   "id": "9a60ecee",
   "metadata": {},
   "outputs": [],
   "source": [
    "from bs4 import BeautifulSoup\n",
    "soup = BeautifulSoup(data,'html.parser')\n",
    "print(soup.body.p)    \n",
    "#url의 정보를 쪼갠것 중 body의 p / 객체.태그이름.하위태그 <<<접근가능"
   ]
  },
  {
   "cell_type": "code",
   "execution_count": null,
   "id": "4acff1a8",
   "metadata": {},
   "outputs": [],
   "source": [
    "#객체.태그['속성이름']\n",
    "print(soup.a['href'])"
   ]
  },
  {
   "cell_type": "code",
   "execution_count": null,
   "id": "672154e5",
   "metadata": {},
   "outputs": [],
   "source": [
    "#객체.name\n",
    "## name 변수\n",
    "print(soup.title.name)  # title의 변수는 title"
   ]
  },
  {
   "cell_type": "code",
   "execution_count": null,
   "id": "3c4c2f8a",
   "metadata": {},
   "outputs": [],
   "source": [
    "#객체.string\n",
    "## string 변수(참고) Navigablestring: 문자열은 태그 안의 \n",
    "# 텍스트에 상응한다.<< BeautifulSoup는 이 클래스를 포함.\n",
    "print(soup.title.string) #<<태그 안의 <title='NAVER'> 문자열 출력."
   ]
  },
  {
   "cell_type": "code",
   "execution_count": null,
   "id": "bc3501eb",
   "metadata": {},
   "outputs": [],
   "source": [
    "#객체.contents\n",
    "##태그의 자식들을 리스트로 반환\n",
    "print(soup.contents)"
   ]
  },
  {
   "cell_type": "code",
   "execution_count": null,
   "id": "c1202c14",
   "metadata": {},
   "outputs": [],
   "source": [
    "#find() : 테그 하나만 가져옴\n",
    "\n",
    "'''find(name,attrs,recursive,string,**kwargs)\n",
    "\n",
    "[옵션]\n",
    "name - 태그이름\n",
    "attrs - 속성(딕셔너리로)\n",
    "recursive - 모든자식 or 자식\n",
    "string - 태그 안의 문자열\n",
    "keyword - 속성(키워드로)\n",
    "\n",
    "※(주의) class는 파이썬 예약어이므로, class_를 사용'''\n",
    "\n",
    "print(soup.find('a',attrs={'class':'link_jrnaver'}))\n",
    "\n",
    "#find_all() : 해당 태그가 여러개 있을 경우 한꺼번에 모두 가져온다. 그 객체들의 리스트로 반환한다.\n",
    "'''\n",
    "find_all(name,attrs,recursive,string,limit,**kwargs)\n",
    "[옵션]\n",
    "limit - 몇 개까지 찾을 것인가?, 제한두는 인자'''\n",
    "\n",
    "print(soup.find_all('a',limit=2))"
   ]
  },
  {
   "cell_type": "markdown",
   "id": "62c88d65",
   "metadata": {},
   "source": [
    "##### 파이썬 생활밀착형 프로젝트, 지은이 김효실, 출판사 : 로드북\n",
    "\n",
    "#### 네이버 영화 리뷰 크롤링\n",
    "\n",
    "영화'10 Things I Hate About You' 리뷰 제목 가져오기"
   ]
  },
  {
   "cell_type": "code",
   "execution_count": null,
   "id": "2ac6d6ed",
   "metadata": {},
   "outputs": [],
   "source": [
    "import requests\n",
    "from bs4 import BeautifulSoup\n",
    "url = 'https://movie.naver.com/movie/bi/mi/review.nhn?code=28899'\n",
    "res = requests.get(url)\n",
    "data=res.text\n",
    "\n",
    "#파싱\n",
    "soup=BeautifulSoup(data,'html.parser')\n",
    "\n",
    "#리뷰 리스트\n",
    "ul = soup.find('ul',class_=\"rvw_list_area\")\n",
    "lis = ul.find_all('li')\n",
    "#print(lis)\n",
    "#리뷰 제목 출력\n",
    "count=0\n",
    "for li in lis:\n",
    "    count += 1\n",
    "    print(f\"[{count}th]\",li.a.string)"
   ]
  },
  {
   "cell_type": "markdown",
   "id": "33d35413",
   "metadata": {},
   "source": [
    "----------------------------------------------------------------------\n",
    "### 0712 셀레니움"
   ]
  },
  {
   "cell_type": "markdown",
   "id": "d56d05f7",
   "metadata": {},
   "source": [
    "### selenium 모듈\n",
    "- 웹 어플리케이션 테스트를 위한 프레임 워크 :  홈페이지 테스트용으로 사용\n",
    "- 사용자가 아닌 프로그램이 웹 프라우저를 제어할 수 있도록 지원\n",
    "- 웹 브라우저 마다 클라이언트 프로그램(Web Driver)이 별도로 필요(웹프라우저 <->프로그램간 통신 목적)\n",
    "- 크롤링 보다는 웹을 제어하는 목적이 더 큼\n",
    "- pip install selenium\n",
    "- web driver설치(크롬 버전 확인) : https://chromedriver.chromium.org/downloads\n",
    "- 압축 해제한 후 chromedriver.exe를 적당한 경로로 이동\n",
    "selenium 모듈 호출 후 설치한 web driver 경로를 지정\n",
    "\n",
    "이벤트로 제어하기 : 브라우저를 직접 제어하기 때문에 직접 컨트롤하여 마우스 클릭, 키보드 입력, 자바 스크립트 이벤트 처리 가능\n",
    "- 마우스 클릭 : click()\n",
    "- 키보드 입력 : send_keys()\n",
    "- 자바스크립트 삽입 : execute_script()\n",
    "- 입력 양식 전송 : submiit()\n",
    "- 스크린샷 : screenshot(파일이름)\n",
    "- 글자 지움 : clear()\n",
    "- 뒤로 가기 : back()\n",
    "- 앞으로 가기 : forward()"
   ]
  },
  {
   "cell_type": "code",
   "execution_count": null,
   "id": "4dd71061",
   "metadata": {},
   "outputs": [],
   "source": [
    "!pip install selenium"
   ]
  },
  {
   "cell_type": "code",
   "execution_count": null,
   "id": "beefefc5",
   "metadata": {},
   "outputs": [],
   "source": [
    "import selenium\n",
    "from selenium import webdriver\n",
    "\n",
    "## 웹브라우저 띄우기\n",
    "url = 'https://www.naver.com'\n",
    "path = 'C:/tool/chromedriver.exe'  #드라이버 위치\n",
    "driver = webdriver.Chrome(path)  \n",
    "driver.get(url)   #웹브라우저가 뜬다."
   ]
  },
  {
   "cell_type": "code",
   "execution_count": null,
   "id": "2938e598",
   "metadata": {},
   "outputs": [],
   "source": [
    "driver.close() #드라이버 닫힘"
   ]
  },
  {
   "cell_type": "code",
   "execution_count": null,
   "id": "46fe363a",
   "metadata": {},
   "outputs": [],
   "source": [
    "driver.maximize_window() #창 크게"
   ]
  },
  {
   "cell_type": "code",
   "execution_count": null,
   "id": "a3127a32",
   "metadata": {},
   "outputs": [],
   "source": [
    "driver.minimize_window() #창 최소화"
   ]
  },
  {
   "cell_type": "code",
   "execution_count": null,
   "id": "cfb19b91",
   "metadata": {},
   "outputs": [],
   "source": [
    "print(driver.current_url) #현재 url 얻기"
   ]
  },
  {
   "cell_type": "code",
   "execution_count": null,
   "id": "cb0ab0cb",
   "metadata": {},
   "outputs": [],
   "source": [
    "driver.implicitly_wait(time_to_wait=5) \n",
    "#Implicit Waits(암묵적 대기) Default 값은 0이다. 위의 예시는 5초\n",
    "\n",
    "# implicitly wait (웹페이지 전체가 넘어올때까지 기다리기) 와 \n",
    "# explicitly wait (웹페이지의 일부분이 나타날때까지 기다리기) "
   ]
  },
  {
   "cell_type": "markdown",
   "id": "67530e1a",
   "metadata": {},
   "source": [
    "#### 셀레니움 함수\n",
    "- find_element(s)_by_id : id 속성을 사용하여 접근\n",
    "- find_element(s)_by_class_name : 클래스를 사용하여 접근\n",
    "- find_element(s)_by_name : name속성을 사용하여 접근      \n",
    "find_element_by_name : 태그 name으로 특정한 태그를 찾을 수 있음     \n",
    "- find_element(s)_by_tag_name :태그를 사용하여 접근       \n",
    "find_element_by_tag_name() : 최초 발견한 태그만 가져오기       \n",
    "- find_element(s)_by_xpath : xpath속성을 사용하여 접근\n",
    "- find_element(s)_by_link_text : 앵커태그(a태그)에 사용되는 텍스트로 접근\n",
    "- find_element(s)_by_partial_link_text : 앵커태그(a태그)에 사용되는 일부 텍스트로 접근\n",
    "- find_element(s)_by_css_selector : CSS선택자를 사용하여 접근"
   ]
  },
  {
   "cell_type": "code",
   "execution_count": null,
   "id": "87f9801c",
   "metadata": {},
   "outputs": [],
   "source": [
    "from selenium import webdriver\n",
    "from selenium.webdriver.common.keys import Keys\n",
    "import time\n",
    "\n",
    "#웹드라이버 객체생성\n",
    "driver = webdriver.Chrome('C:/tool/chromedriver.exe') #드라이버 위치 넣기\n",
    "\n",
    "url = \"https://www.google.co.kr\"\n",
    "driver.get(url) #크롬 창 띄우기\n",
    "\n",
    "#검색창\n",
    "search_box = driver.find_element_by_xpath('/html/body/div[1]/div[3]/form/div[1]/div[1]/div[1]/div/div[2]/input')\n",
    "\n",
    "#검색할거 입력\n",
    "search_box.send_keys('빅데이터')\n",
    "#입력하고 엔터\n",
    "search_box.send_keys(Keys.RETURN)\n",
    "#검색하고 요소 가져오기\n",
    "elements = driver.find_elements_by_xpath('//*[@id=\"rso\"]/div/div/div/div/a/h3'\n",
    "#검색하고 위의 요소들\n",
    "#하나씩 프린트\n",
    "#파일로저장\n",
    "for e in elements:\n",
    "    print(e.text)\n",
    "    print(e.text, file=open('dataset/test_sel.txt','a',encoding='utf-8'))\n",
    "#//*[@id=\"rso\"]/div[2]/div/div/div[1]/a/h3 <<< 여기서 여러개 가져오려고 뒤의 div뒤 번호지움\n",
    "time.sleep(3)\n",
    "driver.close()"
   ]
  },
  {
   "cell_type": "markdown",
   "id": "eeb9eae9",
   "metadata": {},
   "source": [
    "### 과제"
   ]
  },
  {
   "cell_type": "code",
   "execution_count": null,
   "id": "43f6ad6b",
   "metadata": {},
   "outputs": [],
   "source": [
    "# 과제  _ 상위열개\n",
    "# Q. 구글 검색에서 '이대역 맛집' 을 찾아 상위 10개만 출력 및 저장하세요.(셀레니움 이용)\n",
    "\n",
    "driver = webdriver.Chrome('C:/tool/chromedriver.exe')\n",
    "url = \"https://www.google.co.kr\"\n",
    "driver.get(url)\n",
    "search_box = driver.find_element_by_xpath('/html/body/div[1]/div[3]/form/div[1]/div[1]/div[1]/div/div[2]/input')\n",
    "search_box.send_keys('이대역 맛집')\n",
    "search_box.send_keys(Keys.RETURN)\n",
    "elements = driver.find_elements_by_xpath('//*[@id=\"rso\"]/div/div/div/div/a/h3')\n",
    "\n",
    "count = 0\n",
    "for e in elements:\n",
    "    print(e.text)\n",
    "    print(e.text, file = open('dataset/test2_sel.txt','a',encoding='utf-8'))\n",
    "    count +=1\n",
    "    if count > 10: break\n",
    "        \n",
    "time.sleep(1)\n",
    "driver.close() #현재 탭 닫기.\n",
    "#driver.quit()  #브라우저 닫기"
   ]
  },
  {
   "cell_type": "markdown",
   "id": "7b071796",
   "metadata": {},
   "source": [
    "\n",
    "driver.close() #현재 탭 닫기    \n",
    "driver.quit()  #브라우저 닫기     \n",
    "driver.back() #뒤로가기     \n",
    "driver.forward() #앞으로가기    \n",
    "driver.window_handles[0] #브라우저 탭 객체를 리스트로 반환. [0] 은 인덱싱. 첫번재 탭을 의미     \n",
    "\n",
    "driver.switch_to.window(driver.window_handles[0]) #첫번째 탭으로 이동     \n",
    "driver.switch_to.window(driver.window_handles[1]) #두번째 탭으로 이동     \n",
    "driver.switch_to.window(driver.window_handles[2]) #세번째 탭으로 이동    \n",
    "\n",
    "driver.switch_to.window(driver.window_handles[0]) #닫을 탭으로 이동 후      \n",
    "\n",
    "driver.close()     \n",
    "\n",
    "driver.find_element_by_id('ke_kbd_btn').click() #엘레먼트 클릭     \n",
    "driver.find_element_by_id('ke_awd2_btn').send_keys('텍스트 입력')#텍스트 입력   \n",
    "\n",
    "출처 : https://pythondocs.net/selenium/%EC%85%80%EB%A0%88%EB%8B%88%EC%9B%80-%ED%81%AC%EB%A1%A4%EB%9F%AC-%EA%B8%B0%EB%B3%B8-%EC%82%AC%EC%9A%A9%EB%B2%95/"
   ]
  },
  {
   "cell_type": "code",
   "execution_count": null,
   "id": "a68d1a28",
   "metadata": {},
   "outputs": [],
   "source": [
    "#네이버 드라이버 객체 만들고 네이버 홈페이지 불러오기\n",
    "from selenium import webdriver\n",
    "from selenium.webdriver.common.keys import Keys\n",
    "\n",
    "driver = webdriver.Chrome('C:/tool/chromedriver.exe')\n",
    "url = \"https://www.naver.com\"\n",
    "driver.get(url)\n",
    "driver.maximize_window()\n",
    "#seatch_box = driver.find_element_byxpath()\n",
    "#로그인 이동 -> 홈 이동\n",
    "\n",
    "import time\n",
    "driver.find_element_by_class_name('link_login').click()\n",
    "time.sleep(2)\n",
    "driver.back() #전 화면으로"
   ]
  },
  {
   "cell_type": "code",
   "execution_count": null,
   "id": "c0bb38ac",
   "metadata": {},
   "outputs": [],
   "source": [
    "#앞화면으로\n",
    "driver.forward()"
   ]
  },
  {
   "cell_type": "code",
   "execution_count": null,
   "id": "d6bafe58",
   "metadata": {},
   "outputs": [],
   "source": [
    "#새로고침 -> 홈 이동\n",
    "driver.refresh() #새로고침\n",
    "time.sleep(2)\n",
    "driver.back()"
   ]
  },
  {
   "cell_type": "code",
   "execution_count": null,
   "id": "feb346bd",
   "metadata": {},
   "outputs": [],
   "source": [
    "#검색어 입력\n",
    "elem = driver.find_element_by_id('query')\n",
    "elem.send_keys('빅데이터')\n",
    "elem.send_keys(Keys.ENTER)  #ENTER, RETURN 둘다가능"
   ]
  },
  {
   "cell_type": "code",
   "execution_count": null,
   "id": "177e9906",
   "metadata": {},
   "outputs": [],
   "source": [
    "#'a'태그\n",
    "elem = driver.find_element_by_tag_name('a')\n",
    "elem"
   ]
  },
  {
   "cell_type": "code",
   "execution_count": null,
   "id": "08c7aab1",
   "metadata": {},
   "outputs": [],
   "source": [
    "#모든 a 태그의 href 속성 출력\n",
    "elems = driver.find_elements_by_tag_name('a')\n",
    "for e in elems:\n",
    "    print(e.get_attribute('href'))"
   ]
  },
  {
   "cell_type": "code",
   "execution_count": null,
   "id": "85e96be9",
   "metadata": {},
   "outputs": [],
   "source": [
    "#모든 a 태그의 href 속성 출력\n",
    "elems = driver.find_elements_by_tag_name('a')\n",
    "for i, e in enumerate(elems):\n",
    "    if i < 5:\n",
    "        print(e.get_attribute('href'))\n",
    "    else : pass"
   ]
  },
  {
   "cell_type": "code",
   "execution_count": null,
   "id": "32091efd",
   "metadata": {},
   "outputs": [],
   "source": [
    "# 다음 사이트로 이동\n",
    "driver = webdriver.Chrome('C:/tool/chromedriver.exe')\n",
    "driver.get(\"http://www.daum.net\")"
   ]
  },
  {
   "cell_type": "code",
   "execution_count": null,
   "id": "7cbf5332",
   "metadata": {},
   "outputs": [],
   "source": [
    "# 검색어 이동\n",
    "elem = driver.find_element_by_name('q')\n",
    "elem.send_keys('빅데이터')\n",
    "elem.send_keys(Keys.RETURN)"
   ]
  },
  {
   "cell_type": "code",
   "execution_count": null,
   "id": "8b396a62",
   "metadata": {},
   "outputs": [],
   "source": [
    "driver.back()"
   ]
  },
  {
   "cell_type": "code",
   "execution_count": null,
   "id": "da305983",
   "metadata": {},
   "outputs": [],
   "source": [
    "elem = driver.find_element_by_name('q')\n",
    "elem.send_keys('빅데이터')\n",
    "elem = driver.find_element_by_xpath('//*[@id=\"daumSearch\"]/fieldset/div/div/button[2]').click()\n",
    "#elem.click()"
   ]
  },
  {
   "cell_type": "code",
   "execution_count": null,
   "id": "e35b42ae",
   "metadata": {},
   "outputs": [],
   "source": [
    "driver.refresh()"
   ]
  },
  {
   "cell_type": "code",
   "execution_count": null,
   "id": "05da6b4d",
   "metadata": {},
   "outputs": [],
   "source": [
    "#뉴스 출력\n",
    "elem = driver.find_element_by_css_selector('#container > li:nth-child(1) > div.wrap_cont > a')\n",
    "elem.text"
   ]
  },
  {
   "cell_type": "code",
   "execution_count": null,
   "id": "41340a9e",
   "metadata": {},
   "outputs": [],
   "source": [
    "#뉴스 다수 출력\n",
    "elems = driver.find_elements_by_css_selector('#container > li> div.wrap_cont > a')\n",
    "for e in elems:\n",
    "    print(e.text)"
   ]
  },
  {
   "cell_type": "code",
   "execution_count": null,
   "id": "9bf0ef9b",
   "metadata": {},
   "outputs": [],
   "source": [
    "driver.close()"
   ]
  },
  {
   "cell_type": "code",
   "execution_count": null,
   "id": "b2b14e3f",
   "metadata": {},
   "outputs": [],
   "source": [
    "# 과제\n",
    "#뉴스 타이틀 링크 1개 가져오기"
   ]
  },
  {
   "cell_type": "code",
   "execution_count": null,
   "id": "662d3c45",
   "metadata": {},
   "outputs": [],
   "source": [
    "# 과제\n",
    "#뉴스 타이틀 링크 모두 가저오기"
   ]
  },
  {
   "cell_type": "code",
   "execution_count": null,
   "id": "061a8bc3",
   "metadata": {},
   "outputs": [],
   "source": [
    "from selenium import webdriver\n",
    "\n",
    "url = 'https://www.naver.com'\n",
    "driver = webdriver.Chrome('C:/tool/chromedriver.exe')\n",
    "driver.get(url)"
   ]
  },
  {
   "cell_type": "code",
   "execution_count": null,
   "id": "47fa197c",
   "metadata": {},
   "outputs": [],
   "source": [
    "selected_link = driver.find_element_by_link_text('경제M')\n",
    "print(selected_link)\n",
    "print(selected_link.tag_name)\n",
    "print(selected_link.text)"
   ]
  },
  {
   "cell_type": "code",
   "execution_count": null,
   "id": "4f4f2a1b",
   "metadata": {},
   "outputs": [],
   "source": [
    "selected_link = driver.find_element_by_partial_link_text('원조') #일부만 적어도 전체 발췌\n",
    "print(selected_link)\n",
    "print(selected_link.tag_name)\n",
    "print(selected_link.text)"
   ]
  },
  {
   "cell_type": "code",
   "execution_count": null,
   "id": "a299496e",
   "metadata": {},
   "outputs": [],
   "source": [
    "# 과제\n",
    "# 네이버 사이트에서 15개 selenium 함수를 이용하여 요소를 가져와서 출력하세요(15개)"
   ]
  },
  {
   "cell_type": "code",
   "execution_count": null,
   "id": "1e6bec3a",
   "metadata": {},
   "outputs": [],
   "source": [
    "# requests + bs4\n",
    "import requests\n",
    "from bs4 import BeautifulSoup\n",
    "\n",
    "url = 'https://naver.com'\n",
    "response = requests.get(url)\n",
    "html = response.text\n",
    "\n",
    "bs = BeautifulSoup(html, 'lxml')\n",
    "##themecast > div.theme_cont > div:nth-child(1) > div > ul > li:nth-child(1) > a.theme_info > strong\n",
    "##themecast > div.theme_cont > div:nth-child(1) > div > ul > li:nth-child(4) > a.theme_info > strong\n",
    "titles = bs.select('#themecast > div.theme_cont > div > div > ul > li > a.theme_info > strong')\n",
    "for i, t in enumerate(titles):\n",
    "    if i < 5:\n",
    "        print(t.text)\n",
    "    else: pass"
   ]
  },
  {
   "cell_type": "code",
   "execution_count": null,
   "id": "4822bab0",
   "metadata": {},
   "outputs": [],
   "source": [
    "#자바스크립트 실행\n",
    "from selenium import webdriver\n",
    "url = 'https://www.naver.com'\n",
    "driver = webdriver.Chrome('C:/tool/chromedriver.exe')\n",
    "driver.get(url)\n",
    "driver.execute_script('alert(\"test\")') #alert:경고창/경고창이 뜬다 -> 자바스크립트"
   ]
  },
  {
   "cell_type": "markdown",
   "id": "ca19e6b3",
   "metadata": {},
   "source": [
    "로그인 하기위해 필요한 부분 자바스크립트, 틈날때 공부하기"
   ]
  },
  {
   "cell_type": "code",
   "execution_count": null,
   "id": "5dbf3da2",
   "metadata": {},
   "outputs": [],
   "source": [
    "#파이썬과 스크립트가 같이있을때 어떻게 작동하는지\n",
    "#스크립트 부분이 완전히 실행되기 전에 10라인이 실행됩니다.\n",
    "#즉, 파이썬은 스크립트를 주는 즉시 다음 코드 실행!\n",
    "#끝날때까지 기다리지 않음\n",
    "from selenium import webdriver\n",
    "url = 'https://www.naver.com'\n",
    "driver = webdriver.Chrome('C:/tool/chromedriver.exe')\n",
    "driver.get(url)\n",
    "driver.execute_script('alert(\"test\")')\n",
    "\n",
    "for i in range(0,10):\n",
    "    print(i, end=' ')"
   ]
  },
  {
   "cell_type": "markdown",
   "id": "fb0a80ea",
   "metadata": {},
   "source": [
    "## selenium으로 page_source 가져오기"
   ]
  },
  {
   "cell_type": "code",
   "execution_count": null,
   "id": "9ddb6941",
   "metadata": {},
   "outputs": [],
   "source": [
    "#page_source 속성을 이용해여 자바스크립트가 저리된 코드를 가져옴.\n",
    "from selenium import webdriver\n",
    "url = 'https://www.naver.com'\n",
    "driver = webdriver.Chrome('C:/tool/chromedriver.exe')\n",
    "driver.get(url)\n",
    "print(driver.page_source) \n",
    "#페이지 소스 가져와서 찾고싶은 정보 여기서 찾으면 됨.\n",
    "\n",
    "#셀레니움으로 가져온 정보를 BeautifulSoup를 이용해 처리할 수 있다."
   ]
  },
  {
   "cell_type": "code",
   "execution_count": null,
   "id": "0dba0cab",
   "metadata": {},
   "outputs": [],
   "source": [
    "#requests로 처리하기 힘든 JavsScript를 처리하고(셀레니움으로) \n",
    "#만들어진 html은 bs를 이용하여처리할 수 있다.\n",
    "#- 셀레니움 메모리 용량 많이 들기 때문"
   ]
  },
  {
   "cell_type": "code",
   "execution_count": null,
   "id": "d913e491",
   "metadata": {},
   "outputs": [],
   "source": [
    "from selenium import webdriver\n",
    "from bs4 import BeautifulSoup\n",
    "\n",
    "url = 'https://www.naver.com'\n",
    "\n",
    "driver = webdriver.Chrome('C:/tool/chromedriver.exe')\n",
    "driver.get(url)\n",
    "bs = BeautifulSoup(driver.page_source, 'html.parser')\n",
    "#print(bs)\n",
    "titles = bs.select('#themecast > div.theme_cont > div > div > ul > li > a.theme_info > strong')\n",
    "for i, t in enumerate(titles):\n",
    "    if i < 5: print(t.text)\n",
    "    else: pass\n",
    "driver.close()"
   ]
  },
  {
   "cell_type": "markdown",
   "id": "295659ab",
   "metadata": {},
   "source": [
    "### 웹브라우저 화면캡쳐"
   ]
  },
  {
   "cell_type": "code",
   "execution_count": null,
   "id": "e54ad3a7",
   "metadata": {},
   "outputs": [],
   "source": [
    "#web browser 화면캡쳐\n",
    "from selenium import webdriver\n",
    "url = 'https://www.naver.com'\n",
    "driver = webdriver.Chrome('C:/tool/chromedriver.exe')\n",
    "driver.get(url)\n",
    "#가져온 사이트를 캡쳐해 저장하는 것\n",
    "driver.get_screenshot_as_file('dataset/naver.png')\n",
    "#True 면 실행됨"
   ]
  },
  {
   "cell_type": "markdown",
   "id": "3998f69a",
   "metadata": {},
   "source": [
    "------------------------------"
   ]
  },
  {
   "cell_type": "code",
   "execution_count": null,
   "id": "2f654c9e",
   "metadata": {},
   "outputs": [],
   "source": [
    "#Q.네이버 사이트에서  \" 화이트 인테리어의 진수\"를 class_name을 이용하여 \n",
    "#가져와서 출력하세요\n",
    "from selenium import webdriver\n",
    "from selenium.webdriver.common.keys import Keys\n",
    "\n",
    "driver = webdriver.Chrome('C:/tool/chromedriver.exe')\n",
    "url = \"https://www.naver.com\"\n",
    "driver.get(url)\n",
    "\n",
    "elem = driver.find_element_by_class_name('title.elss')\n",
    "print(elem.text)"
   ]
  },
  {
   "cell_type": "code",
   "execution_count": null,
   "id": "47ed86d8",
   "metadata": {},
   "outputs": [],
   "source": [
    "#Q.네이버 사이트에서  strong태그를 이용하여 모든 텍스트를 가져와서\n",
    "#가져와서 출력하세요\n",
    "tags = driver.find_elements_by_tag_name('strong')\n",
    "\n",
    "for t in tags:\n",
    "    print(t.text)"
   ]
  },
  {
   "cell_type": "code",
   "execution_count": null,
   "id": "e4a039b5",
   "metadata": {},
   "outputs": [],
   "source": [
    "#Q.네이버 사이트에서  id를 이용하여 다음을 출력하세요.\n",
    "#뉴스스텐드\n",
    "#구독한 언론사 전체언론사\n",
    "#리스트형\n",
    "#썸네일\n",
    "#설정\n",
    "\n",
    "ids = driver.find_element_by_id('NM_NEWSSTAND_TITLE')\n",
    "print(ids.text)"
   ]
  },
  {
   "cell_type": "code",
   "execution_count": null,
   "id": "9a5cbd72",
   "metadata": {},
   "outputs": [],
   "source": [
    "# Q. selenium + bs4로 네이버 사이트에서 뉴스 5개를 가져와서 출력하세요.\n",
    "\n",
    "from selenium import webdriver\n",
    "from selenium.webdriver.common.keys import Keys\n",
    "from bs4 import BeautifulSoup\n",
    "import time\n",
    "\n",
    "driver = webdriver.Chrome('C:/tool/chromedriver.exe')\n",
    "url = \"https://www.naver.com\"\n",
    "driver.get(url)\n",
    "time.sleep(3)\n",
    "driver.find_element_by_xpath('//*[@id=\"NM_NEWSSTAND_view_buttons\"]/a[1]/i').click()\n",
    "time.sleep(3)\n",
    "bs = BeautifulSoup(driver.page_source, 'html.parser')\n",
    "\n",
    "titles = bs.select('#NM_NEWSSTAND_DEFAULT_LIST > div.list_view > div._NM_NEWSSTAND_ARTICLE_CONTAINER > div > div.news_box > div.sub_news > ul > li > a')\n",
    "time.sleep(2)\n",
    "for i,t in enumerate(titles):\n",
    "    if i < 5:\n",
    "        print(t.text)\n",
    "    else : pass"
   ]
  },
  {
   "cell_type": "markdown",
   "id": "cafd4745",
   "metadata": {},
   "source": [
    "#### 과제"
   ]
  },
  {
   "cell_type": "code",
   "execution_count": null,
   "id": "cde6ed2e",
   "metadata": {},
   "outputs": [],
   "source": [
    "# 과제\n",
    "# Q. urllib + bs4로 네이버 사이트에서 뉴스 5개를 \n",
    "# 가져와서 출력하세요.\n",
    "import urllib\n",
    "\n",
    "url = 'https://news.naver.com'\n",
    "request = urllib.request.Request(url)\n",
    "response = urllib.request.urlopen(url)\n",
    "byte_data = response.read()\n",
    "text_data = byte_data.decode('utf-8')\n",
    "text_data"
   ]
  },
  {
   "cell_type": "code",
   "execution_count": null,
   "id": "0badb96f",
   "metadata": {},
   "outputs": [],
   "source": [
    "# 과제\n",
    "# Q. selenium으로 네이버 사이트 접속 후 5개 내부 사이트로 이동하면서 \n",
    "# 10개의 요소를 선택 후 출력한 수 드라이버를 클로즈하세요. 단, 10개의 요소는\n",
    "# 텍스트, 링크를 포함"
   ]
  },
  {
   "cell_type": "code",
   "execution_count": null,
   "id": "ababed52",
   "metadata": {},
   "outputs": [],
   "source": [
    "# 과제\n",
    "# Q. 네이버 항공권 검색 > 제주도 특정일 편도 첫번째 항공권 정보 가져오기"
   ]
  }
 ],
 "metadata": {
  "kernelspec": {
   "display_name": "Python 3",
   "language": "python",
   "name": "python3"
  },
  "language_info": {
   "codemirror_mode": {
    "name": "ipython",
    "version": 3
   },
   "file_extension": ".py",
   "mimetype": "text/x-python",
   "name": "python",
   "nbconvert_exporter": "python",
   "pygments_lexer": "ipython3",
   "version": "3.8.10"
  }
 },
 "nbformat": 4,
 "nbformat_minor": 5
}
