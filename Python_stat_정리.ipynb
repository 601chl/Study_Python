{
 "cells": [
  {
   "cell_type": "code",
   "execution_count": 90,
   "id": "56527797",
   "metadata": {},
   "outputs": [],
   "source": [
    "import numpy as np\n",
    "import pandas as pd\n",
    "import matplotlib.pyplot as plt\n",
    "import seaborn as sns\n",
    "from scipy import stats\n",
    "import scipy as sp\n",
    "import statsmodels.formula.api as smf\n",
    "import statsmodels.api as sm\n",
    "from statsmodels.stats.anova import anova_lm  #일원배치분산분석\n",
    "from statsmodels.stats.multicomp import pairwise_tukeyhsd  #사후검정"
   ]
  },
  {
   "cell_type": "markdown",
   "id": "91f82fa9",
   "metadata": {},
   "source": [
    "---------------------------"
   ]
  },
  {
   "cell_type": "markdown",
   "id": "45fcc3f1",
   "metadata": {},
   "source": [
    "## 1. stat1"
   ]
  },
  {
   "cell_type": "markdown",
   "id": "1ed3a1fa",
   "metadata": {},
   "source": [
    "### 1) 통계수치 계산 문법\n",
    "sum, mean, var, std, **stats.scoreatpercentile 분위수**, median, describe,     \n",
    "공분산: sp.cov(cov_data.x, cov_data.y, ddof=1) ,    \n",
    "상관계수: np.corrcoef(cov_data.x,cov_data.y)  == df.corr()"
   ]
  },
  {
   "cell_type": "code",
   "execution_count": 3,
   "id": "53471601",
   "metadata": {},
   "outputs": [
    {
     "data": {
      "text/plain": [
       "40"
      ]
     },
     "execution_count": 3,
     "metadata": {},
     "output_type": "execute_result"
    }
   ],
   "source": [
    "fish_data=np.array([2,3,3,4,4,4,4,5,5,6])\n",
    "np.sum(fish_data)  #합계"
   ]
  },
  {
   "cell_type": "code",
   "execution_count": 6,
   "id": "b7c3805e",
   "metadata": {},
   "outputs": [
    {
     "name": "stdout",
     "output_type": "stream",
     "text": [
      "평균: 4.0\n"
     ]
    },
    {
     "data": {
      "text/plain": [
       "4.0"
      ]
     },
     "execution_count": 6,
     "metadata": {},
     "output_type": "execute_result"
    }
   ],
   "source": [
    "len(fish_data) #표본개수\n",
    "#평균\n",
    "N = len(fish_data)\n",
    "sum_value = np.sum(fish_data)\n",
    "mu = sum_value/N\n",
    "\n",
    "print('평균:',mu)\n",
    "np.mean(fish_data)  # == mu"
   ]
  },
  {
   "cell_type": "code",
   "execution_count": null,
   "id": "1a105f75",
   "metadata": {},
   "outputs": [],
   "source": [
    "#표본분산\n",
    "sigma_2_sample = np.sum((fish_data-mu)**2)/N  #분산: 편차제곱의 평균\n",
    "np.var(fish_data, ddof=0) # == sigma_2_sample"
   ]
  },
  {
   "cell_type": "code",
   "execution_count": null,
   "id": "5669d81e",
   "metadata": {},
   "outputs": [],
   "source": [
    "#표준편차\n",
    "np.std(fish_data, ddof=0) #루트분산"
   ]
  },
  {
   "cell_type": "code",
   "execution_count": null,
   "id": "6afbc948",
   "metadata": {},
   "outputs": [],
   "source": [
    "#불편분산, 편차\n",
    "np.var(fish_data, ddof=1)\n",
    "np.std(fish_data, ddof=1).round(2) # == np.round(np.std(fish_data, ddof=1),2)"
   ]
  },
  {
   "cell_type": "code",
   "execution_count": 8,
   "id": "58d58010",
   "metadata": {},
   "outputs": [
    {
     "data": {
      "text/plain": [
       "array([3.25, 4.75])"
      ]
     },
     "execution_count": 8,
     "metadata": {},
     "output_type": "execute_result"
    }
   ],
   "source": [
    "from scipy import stats\n",
    "#분위수\n",
    "stats.scoreatpercentile(fish_data,[25,75]) "
   ]
  },
  {
   "cell_type": "code",
   "execution_count": null,
   "id": "a859f520",
   "metadata": {},
   "outputs": [],
   "source": [
    "#중앙값\n",
    "np.median(fish_data2)"
   ]
  },
  {
   "cell_type": "markdown",
   "id": "2ae1fc88",
   "metadata": {},
   "source": [
    "그룹별 통계량 : mean(), std(), describe()      \n",
    "교차분석표 : pivot_table(), crosstab()\n",
    "    \n",
    "피어슨 상관계수 : 공분산을 최대값 1, 최소값 -1 사이가 되도록 표준화 :     \n",
    "cov / sp.sqrt(sigma_2_x * sigma_2_y)"
   ]
  },
  {
   "cell_type": "code",
   "execution_count": 10,
   "id": "599af28e",
   "metadata": {},
   "outputs": [
    {
     "data": {
      "text/html": [
       "<div>\n",
       "<style scoped>\n",
       "    .dataframe tbody tr th:only-of-type {\n",
       "        vertical-align: middle;\n",
       "    }\n",
       "\n",
       "    .dataframe tbody tr th {\n",
       "        vertical-align: top;\n",
       "    }\n",
       "\n",
       "    .dataframe thead th {\n",
       "        text-align: right;\n",
       "    }\n",
       "</style>\n",
       "<table border=\"1\" class=\"dataframe\">\n",
       "  <thead>\n",
       "    <tr style=\"text-align: right;\">\n",
       "      <th></th>\n",
       "      <th>species</th>\n",
       "      <th>length</th>\n",
       "    </tr>\n",
       "  </thead>\n",
       "  <tbody>\n",
       "    <tr>\n",
       "      <th>0</th>\n",
       "      <td>A</td>\n",
       "      <td>2</td>\n",
       "    </tr>\n",
       "    <tr>\n",
       "      <th>1</th>\n",
       "      <td>A</td>\n",
       "      <td>3</td>\n",
       "    </tr>\n",
       "  </tbody>\n",
       "</table>\n",
       "</div>"
      ],
      "text/plain": [
       "  species  length\n",
       "0       A       2\n",
       "1       A       3"
      ]
     },
     "execution_count": 10,
     "metadata": {},
     "output_type": "execute_result"
    }
   ],
   "source": [
    "fish_multi = pd.read_csv('dataset/5_2_fm.csv')\n",
    "fish_multi.head(2)"
   ]
  },
  {
   "cell_type": "code",
   "execution_count": 11,
   "id": "bf53bb93",
   "metadata": {},
   "outputs": [
    {
     "data": {
      "text/html": [
       "<div>\n",
       "<style scoped>\n",
       "    .dataframe tbody tr th:only-of-type {\n",
       "        vertical-align: middle;\n",
       "    }\n",
       "\n",
       "    .dataframe tbody tr th {\n",
       "        vertical-align: top;\n",
       "    }\n",
       "\n",
       "    .dataframe thead tr th {\n",
       "        text-align: left;\n",
       "    }\n",
       "\n",
       "    .dataframe thead tr:last-of-type th {\n",
       "        text-align: right;\n",
       "    }\n",
       "</style>\n",
       "<table border=\"1\" class=\"dataframe\">\n",
       "  <thead>\n",
       "    <tr>\n",
       "      <th></th>\n",
       "      <th colspan=\"8\" halign=\"left\">length</th>\n",
       "    </tr>\n",
       "    <tr>\n",
       "      <th></th>\n",
       "      <th>count</th>\n",
       "      <th>mean</th>\n",
       "      <th>std</th>\n",
       "      <th>min</th>\n",
       "      <th>25%</th>\n",
       "      <th>50%</th>\n",
       "      <th>75%</th>\n",
       "      <th>max</th>\n",
       "    </tr>\n",
       "    <tr>\n",
       "      <th>species</th>\n",
       "      <th></th>\n",
       "      <th></th>\n",
       "      <th></th>\n",
       "      <th></th>\n",
       "      <th></th>\n",
       "      <th></th>\n",
       "      <th></th>\n",
       "      <th></th>\n",
       "    </tr>\n",
       "  </thead>\n",
       "  <tbody>\n",
       "    <tr>\n",
       "      <th>A</th>\n",
       "      <td>3.0</td>\n",
       "      <td>3.0</td>\n",
       "      <td>1.0</td>\n",
       "      <td>2.0</td>\n",
       "      <td>2.5</td>\n",
       "      <td>3.0</td>\n",
       "      <td>3.5</td>\n",
       "      <td>4.0</td>\n",
       "    </tr>\n",
       "    <tr>\n",
       "      <th>B</th>\n",
       "      <td>3.0</td>\n",
       "      <td>8.0</td>\n",
       "      <td>2.0</td>\n",
       "      <td>6.0</td>\n",
       "      <td>7.0</td>\n",
       "      <td>8.0</td>\n",
       "      <td>9.0</td>\n",
       "      <td>10.0</td>\n",
       "    </tr>\n",
       "  </tbody>\n",
       "</table>\n",
       "</div>"
      ],
      "text/plain": [
       "        length                                    \n",
       "         count mean  std  min  25%  50%  75%   max\n",
       "species                                           \n",
       "A          3.0  3.0  1.0  2.0  2.5  3.0  3.5   4.0\n",
       "B          3.0  8.0  2.0  6.0  7.0  8.0  9.0  10.0"
      ]
     },
     "execution_count": 11,
     "metadata": {},
     "output_type": "execute_result"
    }
   ],
   "source": [
    "#그룹별 통계량 계산\n",
    "grouped = fish_multi.groupby('species')\n",
    "grouped.describe()"
   ]
  },
  {
   "cell_type": "code",
   "execution_count": 12,
   "id": "3fd1afd2",
   "metadata": {},
   "outputs": [
    {
     "data": {
      "text/html": [
       "<div>\n",
       "<style scoped>\n",
       "    .dataframe tbody tr th:only-of-type {\n",
       "        vertical-align: middle;\n",
       "    }\n",
       "\n",
       "    .dataframe tbody tr th {\n",
       "        vertical-align: top;\n",
       "    }\n",
       "\n",
       "    .dataframe thead th {\n",
       "        text-align: right;\n",
       "    }\n",
       "</style>\n",
       "<table border=\"1\" class=\"dataframe\">\n",
       "  <thead>\n",
       "    <tr style=\"text-align: right;\">\n",
       "      <th></th>\n",
       "      <th>x</th>\n",
       "      <th>y</th>\n",
       "    </tr>\n",
       "  </thead>\n",
       "  <tbody>\n",
       "    <tr>\n",
       "      <th>0</th>\n",
       "      <td>18.5</td>\n",
       "      <td>34</td>\n",
       "    </tr>\n",
       "    <tr>\n",
       "      <th>1</th>\n",
       "      <td>18.7</td>\n",
       "      <td>39</td>\n",
       "    </tr>\n",
       "  </tbody>\n",
       "</table>\n",
       "</div>"
      ],
      "text/plain": [
       "      x   y\n",
       "0  18.5  34\n",
       "1  18.7  39"
      ]
     },
     "execution_count": 12,
     "metadata": {},
     "output_type": "execute_result"
    }
   ],
   "source": [
    "#공분산행렬\n",
    "cov_data = pd.read_csv('dataset/4_cov.csv')\n",
    "cov_data.head(2)"
   ]
  },
  {
   "cell_type": "code",
   "execution_count": 13,
   "id": "a6f1d78d",
   "metadata": {},
   "outputs": [],
   "source": [
    "#과제\n",
    "#01.공분산을 풀어서 구하세요.\n",
    "\n",
    "#공분산\n",
    "#(편차를 곱한것의 합을 표본개수(표본이라 N-1, 모집단 전체이면 N)로 나눠줌)\n",
    "mu_x = cov_data.x.mean()  #x 평균\n",
    "mu_y = cov_data.y.mean()  #y 평균\n",
    "N = len(cov_data) # 개수\n",
    "df = N-1 # 자유도\n",
    "\n",
    "cov = sum((cov_data.x-mu_x)*(cov_data.y-mu_y))/df\n",
    "# 공분산 = (x값-x평균값) 곱하기 (y값-y평균값) 의 합 / 자유도"
   ]
  },
  {
   "cell_type": "code",
   "execution_count": 19,
   "id": "63ab4121",
   "metadata": {},
   "outputs": [
    {
     "name": "stderr",
     "output_type": "stream",
     "text": [
      "<ipython-input-19-8a9b479634fe>:2: DeprecationWarning: scipy.cov is deprecated and will be removed in SciPy 2.0.0, use numpy.cov instead\n",
      "  sp.cov(cov_data.x, cov_data.y, ddof=1)\n"
     ]
    },
    {
     "data": {
      "text/plain": [
       "array([[ 3.64622222,  7.67333333],\n",
       "       [ 7.67333333, 28.01111111]])"
      ]
     },
     "execution_count": 19,
     "metadata": {},
     "output_type": "execute_result"
    }
   ],
   "source": [
    "#공분산 행렬\n",
    "sp.cov(cov_data.x, cov_data.y, ddof=1) "
   ]
  },
  {
   "cell_type": "code",
   "execution_count": 14,
   "id": "f9964eb6",
   "metadata": {},
   "outputs": [
    {
     "data": {
      "text/plain": [
       "7.673333333333336"
      ]
     },
     "execution_count": 14,
     "metadata": {},
     "output_type": "execute_result"
    }
   ],
   "source": [
    "cov # sp.cov 공분산 계산한것과 같다."
   ]
  },
  {
   "cell_type": "code",
   "execution_count": 21,
   "id": "c1665331",
   "metadata": {},
   "outputs": [],
   "source": [
    "#02.상관계수를 풀어서 구하세요.\n",
    "# 상관관계(공분산을 표준편차로 나눔)\n",
    "sigma_x = cov_data.x.std()  #ddof=1 디폴트값\n",
    "sigma_y = cov_data.y.std()\n",
    "cor = cov/(cov_data.x.std()*cov_data.y.std())\n",
    "# 상관계수 = 공분산 / sp.sqrt( 데이터 x의 표준편차 곱사기 데이터 y의 표준편차)"
   ]
  },
  {
   "cell_type": "code",
   "execution_count": 24,
   "id": "0d8d3f39",
   "metadata": {},
   "outputs": [
    {
     "data": {
      "text/plain": [
       "array([[1.       , 0.7592719],\n",
       "       [0.7592719, 1.       ]])"
      ]
     },
     "execution_count": 24,
     "metadata": {},
     "output_type": "execute_result"
    }
   ],
   "source": [
    "#상관 행렬: df.corr() 도 가능\n",
    "np.corrcoef(cov_data.x,cov_data.y)  #ddof 영향없음."
   ]
  },
  {
   "cell_type": "code",
   "execution_count": 22,
   "id": "1d46734b",
   "metadata": {},
   "outputs": [
    {
     "data": {
      "text/plain": [
       "0.7592719041137088"
      ]
     },
     "execution_count": 22,
     "metadata": {},
     "output_type": "execute_result"
    }
   ],
   "source": [
    "cor #np.corrcoef() 상관계수 계산한것과 같다."
   ]
  },
  {
   "cell_type": "markdown",
   "id": "5e8e6028",
   "metadata": {},
   "source": [
    "### 2) 정규분포\n",
    "norm = stats.norm()\n",
    "- 정규분포의 표본분포를 통한 확인\n",
    "- 정규분포의 표분의 개수가 많을수록 표본의 평균은 정규분포의 평균과 가까워진다."
   ]
  },
  {
   "cell_type": "code",
   "execution_count": 25,
   "id": "9d504834",
   "metadata": {},
   "outputs": [
    {
     "data": {
      "text/plain": [
       "array([4.57961807, 3.56129294, 4.307118  , 4.05207123, 3.77510296,\n",
       "       2.51604812, 3.75124001, 3.63449545, 4.1361518 , 3.21819278])"
      ]
     },
     "execution_count": 25,
     "metadata": {},
     "output_type": "execute_result"
    }
   ],
   "source": [
    "#평균 4, 표준편차 0.8인 정규분포에서 10개 샘플 추출\n",
    "population = stats.norm(loc=4,scale=0.8)\n",
    "population.rvs(size= 10)  #랜덤샘플"
   ]
  },
  {
   "cell_type": "code",
   "execution_count": 26,
   "id": "05dd0beb",
   "metadata": {},
   "outputs": [],
   "source": [
    "#0으로 빈 배열 만들기 : np.zeros\n",
    "sample_mean_array = np.zeros(10000)"
   ]
  },
  {
   "cell_type": "code",
   "execution_count": 27,
   "id": "69748a9c",
   "metadata": {},
   "outputs": [
    {
     "data": {
      "text/plain": [
       "array([4.14453047, 4.27935323, 3.91459474, 4.14200547, 4.11233808,\n",
       "       4.10969124, 3.99576557, 4.23773869, 4.14007356, 4.00650778])"
      ]
     },
     "execution_count": 27,
     "metadata": {},
     "output_type": "execute_result"
    }
   ],
   "source": [
    "#집어넣어준다. -> 반복적인 행동\n",
    "#표본의 평균을 구하는 법 \n",
    "# population.rvs(size= 10).mean() \n",
    "# 표본평균 (샘플사이즈가 10개) \n",
    "# 만개 구해서 빈행렬에 넣어준다\n",
    "sample_mean_array = np.zeros(10000) \n",
    "for i in range(0,10000):\n",
    "    sample_mean_array[i] = population.rvs(size= 10).mean()\n",
    "sample_mean_array[:10]  #sample에 들어간 것들은 표본평균들(평균 4, 표준편차 0.8)"
   ]
  },
  {
   "cell_type": "code",
   "execution_count": 28,
   "id": "37b6ec03",
   "metadata": {},
   "outputs": [
    {
     "name": "stdout",
     "output_type": "stream",
     "text": [
      "4.0\n",
      "0.25\n"
     ]
    }
   ],
   "source": [
    "#표본평균의 평균, 표준편차 구하기.\n",
    "print(sample_mean_array.mean().round(2)) #평균\n",
    "print(np.std(sample_mean_array, ddof=1).round(2)) \n",
    "# 표준편차 #ddof 신경써주기\n",
    "#- 준비된 데이터가 모집단(전체)일때 0\n",
    "#- 준비된 데이터가 불편분산, 불편표준편차일 경우 1"
   ]
  },
  {
   "cell_type": "code",
   "execution_count": 29,
   "id": "4e926d1f",
   "metadata": {},
   "outputs": [
    {
     "data": {
      "text/plain": [
       "<AxesSubplot:ylabel='Count'>"
      ]
     },
     "execution_count": 29,
     "metadata": {},
     "output_type": "execute_result"
    },
    {
     "data": {
      "image/png": "[encoded data removed]",
      "text/plain": [
       "<Figure size 432x288 with 1 Axes>"
      ]
     },
     "metadata": {
      "needs_background": "light"
     },
     "output_type": "display_data"
    }
   ],
   "source": [
    "#확률밀도함수 구하기\n",
    "sns.histplot(sample_mean_array,color='black', kde=True)\n",
    "#표본평균 만개의 분포 히스토그램\n",
    "#아래 그래프 면적 1\n",
    "#평균 4, 표준편차 0.8인 정규분포"
   ]
  },
  {
   "cell_type": "code",
   "execution_count": 30,
   "id": "23c39d01",
   "metadata": {},
   "outputs": [
    {
     "data": {
      "image/png": "[encoded data removed]",
      "text/plain": [
       "<Figure size 432x288 with 1 Axes>"
      ]
     },
     "metadata": {
      "needs_background": "light"
     },
     "output_type": "display_data"
    }
   ],
   "source": [
    "#샘플사이즈 변화( 많아질수록 표준편차가 작아진다, 평균으로 좁아진다. \n",
    "# -> 학습 추정) \n",
    "#그림으로 확인하기\n",
    "\n",
    "#샘플사이즈변화에 따라 평균변화\n",
    "#샘플사이즈를 변화시키면서 표본평균을 도출하는 시뮬레이션\n",
    "\n",
    "#샘플사이즈변화\n",
    "size_array = np.arange(10,100100,100)\n",
    "\n",
    "np.random.seed(1)\n",
    "sample_mean_array_size= np.zeros(len(size_array))  #빈 array 그릇 만들어주기!!!\n",
    "for i in range(0, len(size_array)):\n",
    "    sample = population.rvs(size=size_array[i]) #10개부터 100개씩 증가하는(100100-1까지) 정규분포 랜덤샘플\n",
    "    sample_mean_array_size[i] = np.mean(sample) #샘플사이즈 10개 평균, 110개평균, 210개 평균...\n",
    "\n",
    "#그림그리기    \n",
    "plt.plot(size_array, sample_mean_array_size, color = 'black') \n",
    "#표본의 수가 증가함에따라 표본평균이 어떻게 변화하는지 그래프\n",
    "\n",
    "plt.xlabel('sample size')  #표본 개수\n",
    "plt.ylabel('sample mean')  #표본의 평균 (설정했던 평균 4)\n",
    "plt.show()\n",
    "#샘플사이즈가 커질수록 평균(4)으로 가까워지는 것을 확인할 수 있다."
   ]
  },
  {
   "cell_type": "markdown",
   "id": "9d72b5c2",
   "metadata": {},
   "source": [
    "### 3) 샘플사이즈(표본 개수)에 따른 평균비교\n",
    "샘플 사이즈가 커질수록 표본평균이 모평균에 가까워지고 모평균으로 밀집도가 높아진다."
   ]
  },
  {
   "cell_type": "code",
   "execution_count": 31,
   "id": "557fbd01",
   "metadata": {},
   "outputs": [],
   "source": [
    "np.random.seed(1) #랜덤고정\n",
    "\n",
    "#표본평균 계산하는 사용자함수 만들기.\n",
    "def cal_sample_mean(norm, size, n_trial):  #사이즈, 표본개수\n",
    "    sample_mean_array = np.zeros(n_trial)  #빈그릇 생성(표본의 수 만큼)\n",
    "    for i in range(0,n_trial):  #그릇에 담기는 동안\n",
    "        sample_mean_array[i] = norm.rvs(size = size).mean() #모집단의 랜덤표본 size개의 평균\n",
    "    return sample_mean_array\n",
    "\n",
    "population = stats.norm(loc=4,scale=0.8)  \n",
    "#이 정규분포에 대해 표본개수에 따른 표본평균의 변화를 관찰.\n",
    "\n",
    "# 샘플 사이즈가 10\n",
    "size_10 = cal_sample_mean(population,10, 10000)\n",
    "# 샘플 사이즈가 20\n",
    "size_20 = cal_sample_mean(population,20, 10000)\n",
    "# 샘플 사이즈가 30\n",
    "size_30 = cal_sample_mean(population,30, 10000)"
   ]
  },
  {
   "cell_type": "code",
   "execution_count": 33,
   "id": "61d41371",
   "metadata": {},
   "outputs": [
    {
     "data": {
      "text/html": [
       "<div>\n",
       "<style scoped>\n",
       "    .dataframe tbody tr th:only-of-type {\n",
       "        vertical-align: middle;\n",
       "    }\n",
       "\n",
       "    .dataframe tbody tr th {\n",
       "        vertical-align: top;\n",
       "    }\n",
       "\n",
       "    .dataframe thead th {\n",
       "        text-align: right;\n",
       "    }\n",
       "</style>\n",
       "<table border=\"1\" class=\"dataframe\">\n",
       "  <thead>\n",
       "    <tr style=\"text-align: right;\">\n",
       "      <th></th>\n",
       "      <th>size_10_sample_mean</th>\n",
       "      <th>size_20_sample_mean</th>\n",
       "      <th>size_30_sample_mean</th>\n",
       "    </tr>\n",
       "  </thead>\n",
       "  <tbody>\n",
       "    <tr>\n",
       "      <th>0</th>\n",
       "      <td>3.922287</td>\n",
       "      <td>4.021685</td>\n",
       "      <td>4.129223</td>\n",
       "    </tr>\n",
       "    <tr>\n",
       "      <th>1</th>\n",
       "      <td>3.864329</td>\n",
       "      <td>3.899744</td>\n",
       "      <td>3.772253</td>\n",
       "    </tr>\n",
       "  </tbody>\n",
       "</table>\n",
       "</div>"
      ],
      "text/plain": [
       "   size_10_sample_mean  size_20_sample_mean  size_30_sample_mean\n",
       "0             3.922287             4.021685             4.129223\n",
       "1             3.864329             3.899744             3.772253"
      ]
     },
     "execution_count": 33,
     "metadata": {},
     "output_type": "execute_result"
    }
   ],
   "source": [
    "#표본개수에 따른 평균값들 가지고 df 만들기\n",
    "df = pd.DataFrame([size_10,size_20,size_30],\n",
    "                  index=['size_10_sample_mean','size_20_sample_mean',\n",
    "                         'size_30_sample_mean'])\n",
    "df.T.head(2)"
   ]
  },
  {
   "cell_type": "code",
   "execution_count": 36,
   "id": "310c3497",
   "metadata": {},
   "outputs": [
    {
     "data": {
      "image/png": "[encoded data removed]",
      "text/plain": [
       "<Figure size 432x288 with 1 Axes>"
      ]
     },
     "metadata": {
      "needs_background": "light"
     },
     "output_type": "display_data"
    }
   ],
   "source": [
    "df.T.plot(kind='density')\n",
    "plt.show() #표본수가 30이 가장 평균 4 에 가까운것을 확인할 수 있다."
   ]
  },
  {
   "cell_type": "code",
   "execution_count": 37,
   "id": "2508f6fb",
   "metadata": {},
   "outputs": [
    {
     "data": {
      "text/plain": [
       "<AxesSubplot:xlabel='size', ylabel='sample_mean'>"
      ]
     },
     "execution_count": 37,
     "metadata": {},
     "output_type": "execute_result"
    },
    {
     "data": {
      "image/png": "[encoded data removed]",
      "text/plain": [
       "<Figure size 432x288 with 1 Axes>"
      ]
     },
     "metadata": {
      "needs_background": "light"
     },
     "output_type": "display_data"
    }
   ],
   "source": [
    "# 다른방법\n",
    "\n",
    "# 표본샘플 사이즈가 10\n",
    "size_10 = cal_sample_mean(population,10, 10000)\n",
    "size_10_df = pd.DataFrame({'sample_mean':size_10,  #딕셔너리 키-값으로 df만들기\n",
    "                          'size' : np.tile('size_10',10000)}) #np.tile(str,num) str을 num개 붙이라는 의미\n",
    "# 표본샘플 사이즈가 20\n",
    "size_20 = cal_sample_mean(population, 20, 10000)\n",
    "size_20_df = pd.DataFrame({'sample_mean':size_20,\n",
    "                          'size' : np.tile('size_20',10000)})\n",
    "# 표본샘플 사이즈가 30\n",
    "size_30 = cal_sample_mean(population, 30, 10000)\n",
    "size_30_df = pd.DataFrame({'sample_mean':size_30,\n",
    "                          'size' : np.tile('size_30',10000)})\n",
    "\n",
    "#위 3개의 df 합치기\n",
    "sim_result = pd.concat([size_10_df,size_20_df,size_30_df], ignore_index=True) #행방향 합치기\n",
    "sim_result.head() #3만개\n",
    "\n",
    "\n",
    "# 바이올린 플롯을 그리고, 3개 그룹에 대한 인사이트를 기술하세요.\n",
    "sns.violinplot(x='size', y='sample_mean',data=sim_result)\n",
    "#분포와 밀집도를 둘다 알 수 있음."
   ]
  },
  {
   "cell_type": "markdown",
   "id": "47909a0d",
   "metadata": {},
   "source": [
    "- 추출횟수가 같더라도, 표본샘플의 사이즈가 커질수록 모평균으로 밀집도가 높아지는 것을 알 수 있다.\n",
    "- 추출횟수가 같더라도, 표본샘플의 사이즈가 커질수록 표준편차가 작아지는 것을 확인할 수 있다.       \n",
    "샘플사이즈에 의미가 특별하다.\n",
    "\n",
    "[다른분들의 인사이트]       \n",
    "- 세 분포 모두 평균 4.0을 중심으로 종모양의 분포 형태를 갖는다. \n",
    "- size=10일때는 size=20,30일때보다 분포가 넓게 퍼져있고, \n",
    "- 샘플사이즈가 커질수록 분포가 평균값에 몰려있다는 것을 확인할 수 있다. \n",
    "- 즉, 샘플사이즈가 클수록 표본에서 구한 평균이 모평균과 가까운 값일 확률이 높아진다는 의미이다.\n",
    "\n",
    "- 추출횟수가 같더라도 샘플의 사이즈가 커질수록 표본평균이 모평균에 근사함\n",
    "- 추출횟수가 같더라도 샘플의 사이즈가 커질수록 표준편차가 작아짐\n",
    "\n",
    "1. 샘플 사이즈가 커질수록 표본평균에 근접한 값의 밀도가 높아짐.\n",
    "2. 즉 샘플 사이즈가 커질수록 표본평균이 모평균에 가까워짐.\n",
    "3. 샘플 사이즈의 크기가 중요해진다."
   ]
  },
  {
   "cell_type": "markdown",
   "id": "15598014",
   "metadata": {},
   "source": [
    "### 4) 샘플사이즈(표본 개수)에 따른 표준편차의 변화\n",
    "키워드 : 표본평균의 표준편차, 표준오차"
   ]
  },
  {
   "cell_type": "code",
   "execution_count": 39,
   "id": "16c2d2ba",
   "metadata": {},
   "outputs": [
    {
     "data": {
      "image/png": "[encoded data removed]",
      "text/plain": [
       "<Figure size 432x288 with 1 Axes>"
      ]
     },
     "metadata": {
      "needs_background": "light"
     },
     "output_type": "display_data"
    }
   ],
   "source": [
    "#샘플사이즈가 커짐\n",
    "size_array = np.arange(2,102,2)\n",
    "#표본평균의 표준편차를 저장할 배열(그릇)\n",
    "sample_mean_std_array = np.zeros(len(size_array))   \n",
    "\n",
    "#시뮬레이션 : 샘플사이즈가 커질수록 표본평균의 표준편차가 작아짐.\n",
    "for i in range(len(size_array)):\n",
    "    sample_mean = cal_sample_mean(population, size=size_array[i],n_trial=100)  \n",
    "    #101까지 2씩 증가하는 array -> 샘플 2씩 증가 #n_trial = 표본개수 100개 고정\n",
    "    sample_mean_std_array[i] = np.std(sample_mean, ddof=1)\n",
    "plt.plot(size_array, sample_mean_std_array,color='black')\n",
    "plt.xlabel('sample size')\n",
    "plt.ylabel('mean std value')  \n",
    "plt.show() #샘플사이즈가 커짐에 따라서 표본평균의 표준편차가 줄어드는 것을 확인할 수 있다."
   ]
  },
  {
   "cell_type": "code",
   "execution_count": 40,
   "id": "c583df4f",
   "metadata": {},
   "outputs": [
    {
     "data": {
      "text/plain": [
       "Text(0, 0.5, 'mean std value')"
      ]
     },
     "execution_count": 40,
     "metadata": {},
     "output_type": "execute_result"
    },
    {
     "data": {
      "image/png": "[encoded data removed]",
      "text/plain": [
       "<Figure size 432x288 with 1 Axes>"
      ]
     },
     "metadata": {
      "needs_background": "light"
     },
     "output_type": "display_data"
    }
   ],
   "source": [
    "# 표준오차 : 표본평균과 모평균과의 표준적인 차이,\n",
    "#(샘플사이즈가 커지면 표본평균이 모평균에 근사해지니까 차이는 작아짐)\n",
    "standard_error = 0.8/np.sqrt(size_array) #(모집단의 표준편차)/(루트 샘플사이즈)\n",
    "\n",
    "#시뮬레이션 결과(표준평균의 표준편차)와 표준오차간 비교\n",
    "plt.plot(size_array, sample_mean_std_array,color='black')\n",
    "plt.plot(size_array, standard_error,color='red', linestyle='dotted')\n",
    "plt.xlabel('sample size')\n",
    "plt.ylabel('mean std value')\n",
    "\n",
    "#거의 일치\n",
    "#표본평균의 표준편차로 표준오차를 쓰기도 한다."
   ]
  },
  {
   "cell_type": "markdown",
   "id": "3b71df1a",
   "metadata": {},
   "source": [
    "### 5) 정규분포의 함수\n",
    "확률밀도함수(pdf), 누적분포함수(cdf), 누적분포함수의 역함수(ppf)"
   ]
  },
  {
   "cell_type": "code",
   "execution_count": 42,
   "id": "a7c2dea3",
   "metadata": {},
   "outputs": [
    {
     "data": {
      "image/png": "[encoded data removed]",
      "text/plain": [
       "<Figure size 432x288 with 1 Axes>"
      ]
     },
     "metadata": {
      "needs_background": "light"
     },
     "output_type": "display_data"
    }
   ],
   "source": [
    "#확률밀도함수(pdf, probability density function)\n",
    "stats.norm.pdf(loc= 평균, scale=표준편차, x = 배열이나 숫자)\n",
    "\n",
    "#확률밀도함수 그래프\n",
    "x_plot = np.arange(1,7.1,0.1)\n",
    "plt.plot(x_plot, stats.norm.pdf(x=x_plot,loc=4,scale=0.8),color='black')\n",
    "plt.show()"
   ]
  },
  {
   "cell_type": "code",
   "execution_count": 43,
   "id": "e938d9cf",
   "metadata": {},
   "outputs": [
    {
     "data": {
      "text/plain": [
       "0.49867785050179086"
      ]
     },
     "execution_count": 43,
     "metadata": {},
     "output_type": "execute_result"
    }
   ],
   "source": [
    "norm_dist = stats.norm(loc=4,scale=0.8) #정규분포\n",
    "norm_dist.pdf(x=4) #정규분포의 확률밀도함수에서 x가 4일때의 값 출력"
   ]
  },
  {
   "cell_type": "code",
   "execution_count": 44,
   "id": "948da948",
   "metadata": {},
   "outputs": [
    {
     "data": {
      "text/plain": [
       "0.9999115827147992"
      ]
     },
     "execution_count": 44,
     "metadata": {},
     "output_type": "execute_result"
    }
   ],
   "source": [
    "#누적분포함수 (cdf, cumulative distribution function)\n",
    "stats.norm.cdf(loc=4,scale=0.8,x=7)  #정규분포의 누적분포함수에서 x가 7일때의 값 출력"
   ]
  },
  {
   "cell_type": "code",
   "execution_count": 45,
   "id": "a53c786f",
   "metadata": {},
   "outputs": [
    {
     "data": {
      "image/png": "[encoded data removed]",
      "text/plain": [
       "<Figure size 432x288 with 1 Axes>"
      ]
     },
     "metadata": {
      "needs_background": "light"
     },
     "output_type": "display_data"
    }
   ],
   "source": [
    "x_plot = np.arange(1,7.1,0.1)\n",
    "plt.plot(x_plot,stats.norm.cdf(x=x_plot,loc=4,scale=0.8),color='midnightblue')\n",
    "plt.show()"
   ]
  },
  {
   "cell_type": "code",
   "execution_count": 46,
   "id": "c25cf1ed",
   "metadata": {},
   "outputs": [
    {
     "data": {
      "text/plain": [
       "0.5"
      ]
     },
     "execution_count": 46,
     "metadata": {},
     "output_type": "execute_result"
    }
   ],
   "source": [
    "stats.norm.cdf(loc=4,scale=0.8,x=4) #평균값은 딱 중간(0.5)에 있다."
   ]
  },
  {
   "cell_type": "code",
   "execution_count": 47,
   "id": "207ca0c5",
   "metadata": {},
   "outputs": [
    {
     "data": {
      "text/plain": [
       "4.0"
      ]
     },
     "execution_count": 47,
     "metadata": {},
     "output_type": "execute_result"
    }
   ],
   "source": [
    "# 누적분포함수의 역함수(inverse cumulative distribution function) ppf\n",
    "# 퍼센트 포인트 - 하측확률 대응됨\n",
    "# 하측확률 q 에 해당되는 퍼센트포인트(x값) 구할 때 이용\n",
    "stats.norm.ppf(loc=4,scale=0.8,q=0.5) #하측확률이 q=0.5 일 x값(= 퍼센트포인트)"
   ]
  },
  {
   "cell_type": "code",
   "execution_count": 48,
   "id": "b4601271",
   "metadata": {},
   "outputs": [
    {
     "data": {
      "text/plain": [
       "0.5"
      ]
     },
     "execution_count": 48,
     "metadata": {},
     "output_type": "execute_result"
    }
   ],
   "source": [
    "#하측확률 구할때, x= (퍼센트포인트) 이용\n",
    "stats.norm.cdf(loc=4,scale=0.8, x=4) #하측확률은? 0.5(분위수퍼센트)"
   ]
  },
  {
   "cell_type": "markdown",
   "id": "05c554e5",
   "metadata": {},
   "source": [
    "### 6) t 분포\n",
    "stats.**t**.pdf(x=x,df=5)  \n",
    "-  자유도가 5인 t 분포의 확률밀도함수"
   ]
  },
  {
   "cell_type": "code",
   "execution_count": 50,
   "id": "fc04439e",
   "metadata": {},
   "outputs": [],
   "source": [
    "#t 값의 표본분포\n",
    "np.random.seed(1)\n",
    "t_value_array = np.zeros(10000) #빈그릇\n",
    "\n",
    "norm_dist = stats.norm(loc=4, scale=0.8) #정규분포\n",
    "\n",
    "for i in range(0,10000):\n",
    "    sample = norm_dist.rvs(size=10)\n",
    "    sample_mean = np.mean(sample)\n",
    "    sample_std = np.std(sample,ddof=1)\n",
    "    sample_se = sample_std/np.sqrt(len(sample))  \n",
    "    #se: 표준오차(모평균과 표본 차이)  \n",
    "    #se = 랜덤표본의 표준편차(표본평균과 모평균의 차이)/루트 샘플수\n",
    "    t_value_array[i] = (sample_mean - 4)/sample_se  \n",
    "    #t값 = (표본평균 - (4 : 모평균))/표준오차\n",
    "    # => 크다 : 표준오차 작다, 작다 :표준오차 크다"
   ]
  },
  {
   "cell_type": "code",
   "execution_count": 63,
   "id": "c1608d8c",
   "metadata": {},
   "outputs": [
    {
     "data": {
      "image/png": "[encoded data removed]",
      "text/plain": [
       "<Figure size 432x288 with 1 Axes>"
      ]
     },
     "metadata": {
      "needs_background": "light"
     },
     "output_type": "display_data"
    }
   ],
   "source": [
    "# t분포\n",
    "sns.distplot(t_value_array, color = 'skyblue', kde=True)\n",
    "\n",
    "#표준정규분포의 확률밀도 stats.norm.pdf()\n",
    "x = np.arange(-8,8.1,0.1)\n",
    "plt.plot(x, stats.norm.pdf(x=x),\n",
    "        color = 'black', linestyle='dotted') #점선\n",
    "plt.show()\n",
    "#하늘색 t분포는 점선인 정규분포보다 살짝 넓게 퍼져있다."
   ]
  },
  {
   "cell_type": "code",
   "execution_count": 65,
   "id": "a0377ec1",
   "metadata": {
    "scrolled": true
   },
   "outputs": [
    {
     "data": {
      "image/png": "[encoded data removed]",
      "text/plain": [
       "<Figure size 432x288 with 1 Axes>"
      ]
     },
     "metadata": {
      "needs_background": "light"
     },
     "output_type": "display_data"
    }
   ],
   "source": [
    "# 자유도 n 이 커짐에 따라 표준정규분포 N(0,1)에 수렴\n",
    "plt.plot(x, stats.norm.pdf(x=x),\n",
    "         color = 'black', linestyle = 'dotted') \n",
    "plt.plot(x, stats.t.pdf(x=x,df=5),  #자유도가 5인 t분포\n",
    "        color = 'blue')\n",
    "plt.plot(x, stats.t.pdf(x=x, df=1),  #자유도가 1인 t분포\n",
    "        color= 'red')\n",
    "plt.show()\n",
    "#자유도가 커질수록 표준정규분포에 근사한다."
   ]
  },
  {
   "cell_type": "markdown",
   "id": "6db868e7",
   "metadata": {},
   "source": [
    "### 7) 신뢰구간\n",
    "신뢰구간계산 : 신뢰구간이란 특정 신뢰계수를 만족하는 구간        \n",
    "**(표본평균-모평균 ;=표준편차)/표준오차**로 계산한 t값. "
   ]
  },
  {
   "cell_type": "code",
   "execution_count": 67,
   "id": "858a3b2b",
   "metadata": {},
   "outputs": [],
   "source": [
    "df = pd.read_csv('dataset/5_7_fl.csv')\n",
    "fish = df['length']  #시리즈로 가져오기\n",
    "# 모평균의 점추정\n",
    "mu = np.mean(fish)\n",
    "# 모분산의 점추정\n",
    "sigma_2 = np.var(fish, ddof=1) #ddof=1 불편추정량의 성질을 만족하기 위함"
   ]
  },
  {
   "cell_type": "code",
   "execution_count": 68,
   "id": "21a4b22a",
   "metadata": {},
   "outputs": [],
   "source": [
    "# 표준편차\n",
    "sigma = np.std(fish, ddof=1)\n",
    "#표준오차\n",
    "se = (sigma)/np.sqrt(len(fish)) #표준평균과 모평균의 차이 = 표준편차/루트 개수\n",
    "#자유도 degree of freedom\n",
    "df = len(fish) -1"
   ]
  },
  {
   "cell_type": "code",
   "execution_count": 69,
   "id": "f163e6c8",
   "metadata": {},
   "outputs": [
    {
     "data": {
      "text/plain": [
       "(3.5970100568358245, 4.777068592173221)"
      ]
     },
     "execution_count": 69,
     "metadata": {},
     "output_type": "execute_result"
    }
   ],
   "source": [
    "#신뢰구간 stats.t.interval\n",
    "Interval = stats.t.interval(alpha = 0.95, df=df, loc=mu, scale=se) \n",
    "#alpha = 신뢰수준, df=자유도, loc = 평균, scale = 표준오차(t분포여서)\n",
    "Interval #신뢰구간의 (하한가, 상한가)\n",
    "#(3.5970100568358245 ~ 4.777068592173221) 이 신뢰구간이다."
   ]
  },
  {
   "cell_type": "code",
   "execution_count": 70,
   "id": "12390b9d",
   "metadata": {},
   "outputs": [
    {
     "data": {
      "text/plain": [
       "(4.0004556873051, 4.373622961703947)"
      ]
     },
     "execution_count": 70,
     "metadata": {},
     "output_type": "execute_result"
    }
   ],
   "source": [
    "# 샘플사이즈를 10배로 늘려서 신뢰구간 계산 - 신뢰구간 줄어듬\n",
    "df_10 = (len(fish*10)) -1\n",
    "se_10 = (sigma)/np.sqrt(len(fish)*10)\n",
    "stats.t.interval(alpha=0.95, df=df_10, loc=mu, scale=se_10)\n",
    "\n",
    "# 신뢰계수가 커질수록 신뢰구간의 폭이 넓어지고 안전해진다고 볼 수 있음."
   ]
  },
  {
   "cell_type": "markdown",
   "id": "3cb29da3",
   "metadata": {},
   "source": [
    "-------------\n",
    "## 2. stat2"
   ]
  },
  {
   "cell_type": "markdown",
   "id": "f40b533c",
   "metadata": {},
   "source": [
    "### 1) 가설검정 - 귀무가설, t-검정\n",
    "- 대응표본 t-검정\n",
    "- 독립표본 t-검정"
   ]
  },
  {
   "cell_type": "code",
   "execution_count": 71,
   "id": "200c275a",
   "metadata": {},
   "outputs": [],
   "source": [
    "# t검정 : 귀무가설 _ 과자의 무게는 50g 이다.\n",
    "junk_food = pd.read_csv('dataset/5_8_jfw.csv')\n",
    "#표본평균 뽑기\n",
    "jfood = junk_food.weight.copy()\n",
    "mu = np.mean(jfood)\n",
    "# 자유도\n",
    "df = len(jfood)-1\n",
    "# 표준편차\n",
    "sigma = np.std(jfood, ddof=1)\n",
    "# 표준오차\n",
    "se = sigma/np.sqrt(len(jfood))"
   ]
  },
  {
   "cell_type": "code",
   "execution_count": 73,
   "id": "26dd6c6a",
   "metadata": {},
   "outputs": [
    {
     "data": {
      "text/plain": [
       "2.7503396831713434"
      ]
     },
     "execution_count": 73,
     "metadata": {},
     "output_type": "execute_result"
    }
   ],
   "source": [
    "# t 값\n",
    "t_value = (mu-50)/se\n",
    "t_value"
   ]
  },
  {
   "cell_type": "code",
   "execution_count": 74,
   "id": "44a51457",
   "metadata": {},
   "outputs": [
    {
     "data": {
      "text/plain": [
       "0.9936372049937379"
      ]
     },
     "execution_count": 74,
     "metadata": {},
     "output_type": "execute_result"
    }
   ],
   "source": [
    "# p값(유의확률)을 구해서 p값이 유의수준 0.05보다 작으면 귀무가설 기각\n",
    "# t 분포의 누적밀도함수(cdf) , x = t 값, df = 자유도\n",
    "alpha = stats.t.cdf(t_value,df=df)\n",
    "alpha #p값은 양쪽끝에 있음. #양측검정이니까 *2 필요"
   ]
  },
  {
   "cell_type": "code",
   "execution_count": 75,
   "id": "1c1f7dca",
   "metadata": {},
   "outputs": [
    {
     "data": {
      "text/plain": [
       "0.012725590012524268"
      ]
     },
     "execution_count": 75,
     "metadata": {},
     "output_type": "execute_result"
    }
   ],
   "source": [
    "(1-alpha)*2  #0.05보다 작다 -> 귀무가설 기각, 대립가설 채택"
   ]
  },
  {
   "cell_type": "markdown",
   "id": "21593fb4",
   "metadata": {},
   "source": [
    "[대응표본 t검정]"
   ]
  },
  {
   "cell_type": "code",
   "execution_count": 77,
   "id": "4de20b49",
   "metadata": {},
   "outputs": [
    {
     "data": {
      "text/html": [
       "<div>\n",
       "<style scoped>\n",
       "    .dataframe tbody tr th:only-of-type {\n",
       "        vertical-align: middle;\n",
       "    }\n",
       "\n",
       "    .dataframe tbody tr th {\n",
       "        vertical-align: top;\n",
       "    }\n",
       "\n",
       "    .dataframe thead th {\n",
       "        text-align: right;\n",
       "    }\n",
       "</style>\n",
       "<table border=\"1\" class=\"dataframe\">\n",
       "  <thead>\n",
       "    <tr style=\"text-align: right;\">\n",
       "      <th></th>\n",
       "      <th>person</th>\n",
       "      <th>medicine</th>\n",
       "      <th>body_temperature</th>\n",
       "    </tr>\n",
       "  </thead>\n",
       "  <tbody>\n",
       "    <tr>\n",
       "      <th>0</th>\n",
       "      <td>A</td>\n",
       "      <td>before</td>\n",
       "      <td>36.2</td>\n",
       "    </tr>\n",
       "    <tr>\n",
       "      <th>1</th>\n",
       "      <td>B</td>\n",
       "      <td>before</td>\n",
       "      <td>36.2</td>\n",
       "    </tr>\n",
       "  </tbody>\n",
       "</table>\n",
       "</div>"
      ],
      "text/plain": [
       "  person medicine  body_temperature\n",
       "0      A   before              36.2\n",
       "1      B   before              36.2"
      ]
     },
     "execution_count": 77,
     "metadata": {},
     "output_type": "execute_result"
    }
   ],
   "source": [
    "# 대응표본(약을 먹기 전과 후의 체온의 차이)\n",
    "paired_test_data = pd.read_csv('dataset/5_9_ptt.csv')\n",
    "ptdata = paired_test_data.copy()\n",
    "ptdata.head(2)\n",
    "# 귀무가설 : 약을 먹기 전고 후의 체온에 차이가 없다. "
   ]
  },
  {
   "cell_type": "code",
   "execution_count": 79,
   "id": "b661fa4b",
   "metadata": {},
   "outputs": [],
   "source": [
    "# 대응표본 t검정\n",
    "# 데이터 전처리, 쿼리 이용하여 before 와 after을 구분하기\n",
    "before = ptdata.query('medicine==\"before\"')['body_temperature']\n",
    "after = ptdata.query('medicine==\"after\"')['body_temperature']\n",
    "#배열로 변환\n",
    "before = np.array(before)\n",
    "after = np.array(after)\n",
    "# 차이구하기\n",
    "diff = after - before "
   ]
  },
  {
   "cell_type": "code",
   "execution_count": 80,
   "id": "4ea8d51a",
   "metadata": {},
   "outputs": [
    {
     "data": {
      "text/plain": [
       "Ttest_1sampResult(statistic=2.901693483620596, pvalue=0.044043109730074276)"
      ]
     },
     "execution_count": 80,
     "metadata": {},
     "output_type": "execute_result"
    }
   ],
   "source": [
    "# 차이가 평균값이 0과 다른지 검정\n",
    "stats.ttest_1samp(diff,0)\n",
    "# t검정 귀무가설에서 p값이 0.05보다 작으니 귀무가설 기각, 대립가설 채택됨\n",
    "# 약을 먹기 전고 후의 체온에 유의미한 차이가 있다고 주장할 수 있다."
   ]
  },
  {
   "cell_type": "markdown",
   "id": "72485fae",
   "metadata": {},
   "source": [
    "[독립표본 t검정]"
   ]
  },
  {
   "cell_type": "code",
   "execution_count": 84,
   "id": "45f61fa9",
   "metadata": {},
   "outputs": [
    {
     "data": {
      "text/plain": [
       "3.1557282344421034"
      ]
     },
     "execution_count": 84,
     "metadata": {},
     "output_type": "execute_result"
    }
   ],
   "source": [
    "# 독립표본으로 각각의 표본 평균 구해줌\n",
    "mean_bf = np.mean(before)\n",
    "mean_af = np.mean(after)\n",
    "#분산\n",
    "sigma_bf = np.var(before, ddof=1)\n",
    "sigma_af = np.var(after, ddof=1)\n",
    "#샘플사이즈\n",
    "m = len(before)\n",
    "n = len(after)\n",
    "# t값\n",
    "t_value = (mean_af-mean_bf)/np.sqrt((sigma_bf/m + sigma_af/n))\n",
    "t_value # == Ttest_indResult의 statistic = 3.1557282344421034"
   ]
  },
  {
   "cell_type": "code",
   "execution_count": 83,
   "id": "a5b263dc",
   "metadata": {},
   "outputs": [
    {
     "data": {
      "text/plain": [
       "Ttest_indResult(statistic=3.1557282344421034, pvalue=0.013484775682079892)"
      ]
     },
     "execution_count": 83,
     "metadata": {},
     "output_type": "execute_result"
    }
   ],
   "source": [
    "stats.ttest_ind(after,before,equal_var=False) \n",
    "# equal_val : 분산이 같다, 다르다를 가정한 t검정(다르다_False -> welch 검정)\n",
    "# 독립표본 indepandent\n",
    "# p값이 0.05보다 작다-> 귀무가설 기각(우연아님) \n",
    "# 귀무가설을 기각하고 유의미한 차이가 있다고 판단\n",
    "# -> after, before 유의미한 차이가 잇다고 주장할 수 있음."
   ]
  },
  {
   "cell_type": "markdown",
   "id": "f3fc34e8",
   "metadata": {},
   "source": [
    "### 2) 카이제곱검정(x² 카이스퀘어검정)\n",
    "- **독립성 검정**의 분할표 및 가설 설정\n",
    "- 귀무가설 : 두 범주형 변수 사이에 연관이 없다.(독립이다.)\n",
    "- 대립가설 : 두 범주형 변수 사이에 연관이 있다.(종속이다.)\n",
    "\n",
    "stats.**chi2_contingency**(분할표, correction = False)"
   ]
  },
  {
   "cell_type": "code",
   "execution_count": 86,
   "id": "87918f09",
   "metadata": {},
   "outputs": [
    {
     "data": {
      "text/html": [
       "<div>\n",
       "<style scoped>\n",
       "    .dataframe tbody tr th:only-of-type {\n",
       "        vertical-align: middle;\n",
       "    }\n",
       "\n",
       "    .dataframe tbody tr th {\n",
       "        vertical-align: top;\n",
       "    }\n",
       "\n",
       "    .dataframe thead th {\n",
       "        text-align: right;\n",
       "    }\n",
       "</style>\n",
       "<table border=\"1\" class=\"dataframe\">\n",
       "  <thead>\n",
       "    <tr style=\"text-align: right;\">\n",
       "      <th>click</th>\n",
       "      <th>click</th>\n",
       "      <th>not</th>\n",
       "    </tr>\n",
       "    <tr>\n",
       "      <th>color</th>\n",
       "      <th></th>\n",
       "      <th></th>\n",
       "    </tr>\n",
       "  </thead>\n",
       "  <tbody>\n",
       "    <tr>\n",
       "      <th>blue</th>\n",
       "      <td>20</td>\n",
       "      <td>230</td>\n",
       "    </tr>\n",
       "    <tr>\n",
       "      <th>red</th>\n",
       "      <td>10</td>\n",
       "      <td>40</td>\n",
       "    </tr>\n",
       "  </tbody>\n",
       "</table>\n",
       "</div>"
      ],
      "text/plain": [
       "click  click  not\n",
       "color            \n",
       "blue      20  230\n",
       "red       10   40"
      ]
     },
     "execution_count": 86,
     "metadata": {},
     "output_type": "execute_result"
    }
   ],
   "source": [
    "# 분할표\n",
    "click_data = pd.read_csv('dataset/5_10_cd.csv')\n",
    "cross = pd.pivot_table(data=click_data, values = 'freq', \n",
    "                       aggfunc='sum',index='color',columns='click')\n",
    "cross\n",
    "#색이 클릭과 독립성이 있는지 분석 _ 독립성 분석\n",
    "# 카이스퀘어 통계량으로 t값을 구함."
   ]
  },
  {
   "cell_type": "code",
   "execution_count": 87,
   "id": "b76740a4",
   "metadata": {},
   "outputs": [
    {
     "data": {
      "text/plain": [
       "(6.666666666666666,\n",
       " 0.009823274507519247,\n",
       " 1,\n",
       " array([[ 25., 225.],\n",
       "        [  5.,  45.]]))"
      ]
     },
     "execution_count": 87,
     "metadata": {},
     "output_type": "execute_result"
    }
   ],
   "source": [
    "# 카이스퀘어 통계량 , p값, 자유도, 기대도수표 출력\n",
    "stats.chi2_contingency(cross, correction = False)"
   ]
  },
  {
   "cell_type": "markdown",
   "id": "30009be7",
   "metadata": {},
   "source": [
    "correction = False 파라미터 보정 안함.      \n",
    "카이스퀘어 검정 시 기대도수가 전부 5 이상이어야 함.      \n",
    "p값 0.05보다 작으므로 귀무가설(색에 따라 클릭버튼 관계 없음) 기각       \n",
    "색에 따라 버튼을 클릭하는 것이 유의미하게 변한다고 판단. -> 독립성 없음.      "
   ]
  },
  {
   "cell_type": "markdown",
   "id": "776fa319",
   "metadata": {},
   "source": [
    "### 3) 수리모델 : 현상을 수식으로 표현한 모델. \n",
    "맥주 매상 = 20 + 4 * 기온\n",
    "\n",
    "[모델]       \n",
    "lm_model = smf.**ols** (formula= , data= )       \n",
    "lm_model.fit() : 모델 학습시키는 문법.         \n",
    "OLS Regression Results 이해하기.\n",
    "\n",
    "Q-Q플롯 "
   ]
  },
  {
   "cell_type": "code",
   "execution_count": 88,
   "id": "28107eda",
   "metadata": {},
   "outputs": [
    {
     "data": {
      "image/png": "[encoded data removed]",
      "text/plain": [
       "<Figure size 432x432 with 3 Axes>"
      ]
     },
     "metadata": {
      "needs_background": "light"
     },
     "output_type": "display_data"
    }
   ],
   "source": [
    "beer = pd.read_csv('dataset/7_1_beer.csv')\n",
    "sns.jointplot(x=beer.temperature, y=beer.beer, kind='reg',\n",
    "             color='skyblue')\n",
    "plt.show() # 온도가 올라감에 따라 beer 가 올라감"
   ]
  },
  {
   "cell_type": "code",
   "execution_count": 93,
   "id": "24b01fc0",
   "metadata": {},
   "outputs": [
    {
     "data": {
      "text/html": [
       "<table class=\"simpletable\">\n",
       "<caption>OLS Regression Results</caption>\n",
       "<tr>\n",
       "  <th>Dep. Variable:</th>          <td>beer</td>       <th>  R-squared:         </th> <td>   0.504</td>\n",
       "</tr>\n",
       "<tr>\n",
       "  <th>Model:</th>                   <td>OLS</td>       <th>  Adj. R-squared:    </th> <td>   0.486</td>\n",
       "</tr>\n",
       "<tr>\n",
       "  <th>Method:</th>             <td>Least Squares</td>  <th>  F-statistic:       </th> <td>   28.45</td>\n",
       "</tr>\n",
       "<tr>\n",
       "  <th>Date:</th>             <td>Wed, 18 Aug 2021</td> <th>  Prob (F-statistic):</th> <td>1.11e-05</td>\n",
       "</tr>\n",
       "<tr>\n",
       "  <th>Time:</th>                 <td>17:45:55</td>     <th>  Log-Likelihood:    </th> <td> -102.45</td>\n",
       "</tr>\n",
       "<tr>\n",
       "  <th>No. Observations:</th>      <td>    30</td>      <th>  AIC:               </th> <td>   208.9</td>\n",
       "</tr>\n",
       "<tr>\n",
       "  <th>Df Residuals:</th>          <td>    28</td>      <th>  BIC:               </th> <td>   211.7</td>\n",
       "</tr>\n",
       "<tr>\n",
       "  <th>Df Model:</th>              <td>     1</td>      <th>                     </th>     <td> </td>   \n",
       "</tr>\n",
       "<tr>\n",
       "  <th>Covariance Type:</th>      <td>nonrobust</td>    <th>                     </th>     <td> </td>   \n",
       "</tr>\n",
       "</table>\n",
       "<table class=\"simpletable\">\n",
       "<tr>\n",
       "       <td></td>          <th>coef</th>     <th>std err</th>      <th>t</th>      <th>P>|t|</th>  <th>[0.025</th>    <th>0.975]</th>  \n",
       "</tr>\n",
       "<tr>\n",
       "  <th>Intercept</th>   <td>   34.6102</td> <td>    3.235</td> <td>   10.699</td> <td> 0.000</td> <td>   27.984</td> <td>   41.237</td>\n",
       "</tr>\n",
       "<tr>\n",
       "  <th>temperature</th> <td>    0.7654</td> <td>    0.144</td> <td>    5.334</td> <td> 0.000</td> <td>    0.471</td> <td>    1.059</td>\n",
       "</tr>\n",
       "</table>\n",
       "<table class=\"simpletable\">\n",
       "<tr>\n",
       "  <th>Omnibus:</th>       <td> 0.587</td> <th>  Durbin-Watson:     </th> <td>   1.960</td>\n",
       "</tr>\n",
       "<tr>\n",
       "  <th>Prob(Omnibus):</th> <td> 0.746</td> <th>  Jarque-Bera (JB):  </th> <td>   0.290</td>\n",
       "</tr>\n",
       "<tr>\n",
       "  <th>Skew:</th>          <td>-0.240</td> <th>  Prob(JB):          </th> <td>   0.865</td>\n",
       "</tr>\n",
       "<tr>\n",
       "  <th>Kurtosis:</th>      <td> 2.951</td> <th>  Cond. No.          </th> <td>    52.5</td>\n",
       "</tr>\n",
       "</table><br/><br/>Notes:<br/>[1] Standard Errors assume that the covariance matrix of the errors is correctly specified."
      ],
      "text/plain": [
       "<class 'statsmodels.iolib.summary.Summary'>\n",
       "\"\"\"\n",
       "                            OLS Regression Results                            \n",
       "==============================================================================\n",
       "Dep. Variable:                   beer   R-squared:                       0.504\n",
       "Model:                            OLS   Adj. R-squared:                  0.486\n",
       "Method:                 Least Squares   F-statistic:                     28.45\n",
       "Date:                Wed, 18 Aug 2021   Prob (F-statistic):           1.11e-05\n",
       "Time:                        17:45:55   Log-Likelihood:                -102.45\n",
       "No. Observations:                  30   AIC:                             208.9\n",
       "Df Residuals:                      28   BIC:                             211.7\n",
       "Df Model:                           1                                         \n",
       "Covariance Type:            nonrobust                                         \n",
       "===============================================================================\n",
       "                  coef    std err          t      P>|t|      [0.025      0.975]\n",
       "-------------------------------------------------------------------------------\n",
       "Intercept      34.6102      3.235     10.699      0.000      27.984      41.237\n",
       "temperature     0.7654      0.144      5.334      0.000       0.471       1.059\n",
       "==============================================================================\n",
       "Omnibus:                        0.587   Durbin-Watson:                   1.960\n",
       "Prob(Omnibus):                  0.746   Jarque-Bera (JB):                0.290\n",
       "Skew:                          -0.240   Prob(JB):                        0.865\n",
       "Kurtosis:                       2.951   Cond. No.                         52.5\n",
       "==============================================================================\n",
       "\n",
       "Notes:\n",
       "[1] Standard Errors assume that the covariance matrix of the errors is correctly specified.\n",
       "\"\"\""
      ]
     },
     "execution_count": 93,
     "metadata": {},
     "output_type": "execute_result"
    }
   ],
   "source": [
    "#모델구축\n",
    "lm_model = smf.ols(formula=\"beer ~ temperature\",\n",
    "                  data = beer).fit()  #fit 은 학습시킴\n",
    "lm_model.summary()"
   ]
  },
  {
   "cell_type": "markdown",
   "id": "80c9f8bc",
   "metadata": {},
   "source": [
    "=> 해석 : 기온이 맥주 매상에 영향을 미친다는 것을 알 수 있음     \n",
    "https://blog.naver.com/ehdanf1219 항목의 자세한 설명 참고."
   ]
  },
  {
   "cell_type": "code",
   "execution_count": 94,
   "id": "3e43c1d1",
   "metadata": {},
   "outputs": [
    {
     "data": {
      "text/plain": [
       "34.610215255741466"
      ]
     },
     "execution_count": 94,
     "metadata": {},
     "output_type": "execute_result"
    }
   ],
   "source": [
    "# 기온이 0도일 때 맥주 매상의 기댓값\n",
    "# 방법1\n",
    "lm_model.predict(pd.DataFrame({'temperature':[0]}))\n",
    "\n",
    "# 방법2\n",
    "beta0 = lm_model.params[0]\n",
    "beta1 = lm_model.params[1]\n",
    "temperature = 0\n",
    "beta0 + (beta1 * temperature)  #y = a(기울기)x + b(편차)"
   ]
  },
  {
   "cell_type": "code",
   "execution_count": 95,
   "id": "0d06f84e",
   "metadata": {},
   "outputs": [
    {
     "data": {
      "text/plain": [
       "Intercept      34.610215\n",
       "temperature     0.765428\n",
       "dtype: float64"
      ]
     },
     "execution_count": 95,
     "metadata": {},
     "output_type": "execute_result"
    }
   ],
   "source": [
    "lm_model.params"
   ]
  },
  {
   "cell_type": "code",
   "execution_count": null,
   "id": "67487677",
   "metadata": {},
   "outputs": [],
   "source": [
    "# 잔차계산\n",
    "# 방법1\n",
    "resid = lm_model.resid\n",
    "\n",
    "#방법2\n",
    "# 잔차 = 실제값 - 예측값\n",
    "y_hat = beta0 + (beta1 * beer.temperature) # -> 예측값\n",
    "beer.beer - y_hat  # 실제값 - 예측값"
   ]
  },
  {
   "cell_type": "code",
   "execution_count": 99,
   "id": "f84e13ad",
   "metadata": {
    "scrolled": false
   },
   "outputs": [
    {
     "data": {
      "image/png": "[encoded data removed]",
      "text/plain": [
       "<Figure size 432x432 with 3 Axes>"
      ]
     },
     "metadata": {
      "needs_background": "light"
     },
     "output_type": "display_data"
    }
   ],
   "source": [
    "# 잔차의 산포도 : x축 적합도(fittedvalues), y축 잔차(resid)\n",
    "sns.jointplot(lm_model.fittedvalues,lm_model.resid, color = 'skyblue') #아래 모양 잘 되어있음.\n",
    "plt.show()\n",
    "# 잔차 플롯의 패턴 또는 절대 값이 큰 잔차는 회귀모형에 문제가 있음을 나타낸다.\n",
    "# 패턴없는게 문제 없음."
   ]
  },
  {
   "cell_type": "code",
   "execution_count": 100,
   "id": "98a5e861",
   "metadata": {},
   "outputs": [
    {
     "data": {
      "text/plain": [
       "0.503959323061188"
      ]
     },
     "execution_count": 100,
     "metadata": {},
     "output_type": "execute_result"
    }
   ],
   "source": [
    "# 결정계수 R-squared\n",
    "# Regression model의 성능을 측정하기 위해 mean value로 예측하는 단순 모델(Zero-R 모델)과\n",
    "# 비교하여 상대적으로 얼마나 성능이 나오는지를 측정한 지표.\n",
    "mu = np.mean(beer.beer)\n",
    "y = beer.beer\n",
    "yhat = lm_model.predict()\n",
    "\n",
    "# np.sum((yhat-mu)**2) 모듈에의한 변화, \n",
    "# np.sum((y-mu)**2)전체변화 -> 모델이 전체를 설명할 수 있는 정도 (설명력)\n",
    "np.sum((yhat-mu)**2)/np.sum((y-mu)**2)"
   ]
  },
  {
   "cell_type": "code",
   "execution_count": 104,
   "id": "c3c49763",
   "metadata": {},
   "outputs": [
    {
     "data": {
      "text/plain": [
       "0.4862435845990851"
      ]
     },
     "execution_count": 104,
     "metadata": {},
     "output_type": "execute_result"
    }
   ],
   "source": [
    "# 수정결정계수 : 독립변수의 수가 늘어나면 \n",
    "# 결정계수가 커지는 경향을 조정하기 위하여 \n",
    "# 독립변수가 늘어나는 것에 대하여 패널티 부여\n",
    "#방법1\n",
    "n = len(beer.beer)\n",
    "s = 1 # 독립변수의 개수\n",
    "1 - ((np.sum(resid**2))/(n-s-1))/(np.sum((y-mu)**2)/(n-1))\n",
    "\n",
    "# 방법2\n",
    "lm_model.rsquared_adj"
   ]
  },
  {
   "cell_type": "code",
   "execution_count": 105,
   "id": "20fe9462",
   "metadata": {},
   "outputs": [
    {
     "data": {
      "text/plain": [
       "3277.1146666666727"
      ]
     },
     "execution_count": 105,
     "metadata": {},
     "output_type": "execute_result"
    }
   ],
   "source": [
    "# 종속변수의 변동 크기는 모델로 설명 가능한 변동과 설명 못하는 \n",
    "# 잔차제곱합으로 분해할 수 있다.\n",
    "\n",
    "# 종속변수의 변동\n",
    "# 방법1\n",
    "np.sum((y-mu)**2)\n",
    "\n",
    "# 방법2\n",
    "# np.sum((yhat-mu)**2)  모델이 설명하는 크기, \n",
    "# sum(resid**2) 잔차제곱합(모델이 설명하지 못하는)\n",
    "np.sum((yhat-mu)**2) + sum(resid**2)"
   ]
  },
  {
   "cell_type": "code",
   "execution_count": 106,
   "id": "18e5cc27",
   "metadata": {},
   "outputs": [
    {
     "data": {
      "image/png": "[encoded data removed]",
      "text/plain": [
       "<Figure size 432x288 with 1 Axes>"
      ]
     },
     "metadata": {
      "needs_background": "light"
     },
     "output_type": "display_data"
    }
   ],
   "source": [
    "# Q-Q플롯 : 이론상의 분위점과 실제 데이터의 분위점(1,2,3,4분위)을 산포도 그래프로 그린 것.\n",
    "import statsmodels.api as sm\n",
    "fig = sm.qqplot(resid, line='s')"
   ]
  },
  {
   "cell_type": "markdown",
   "id": "535c8b5c",
   "metadata": {},
   "source": [
    "### 4) 분산분석\n",
    "[분산분석 모델]      \n",
    "anova_model = smf.ols('beer~weather', data = w_beer).fit()        \n",
    "sm.stats.**anova_lm**(anova_model,typ=2)        "
   ]
  },
  {
   "cell_type": "code",
   "execution_count": 107,
   "id": "7b69efc3",
   "metadata": {},
   "outputs": [],
   "source": [
    "# 샘플데이터\n",
    "weather = [\n",
    "    \"cloudy\",\"cloudy\",\n",
    "    \"rainy\",\"rainy\",\n",
    "    \"sunny\",\"sunny\"\n",
    "]\n",
    "beer = [6,8,2,4,10,12]\n",
    "w_beer = pd.DataFrame({\"beer\":beer,\n",
    "                      \"weather\" : weather})"
   ]
  },
  {
   "cell_type": "code",
   "execution_count": 109,
   "id": "6ef8ecbe",
   "metadata": {},
   "outputs": [
    {
     "data": {
      "image/png": "[encoded data removed]",
      "text/plain": [
       "<Figure size 432x288 with 1 Axes>"
      ]
     },
     "metadata": {
      "needs_background": "light"
     },
     "output_type": "display_data"
    }
   ],
   "source": [
    "# 날씨에 따른 맥주판매\n",
    "sns.boxplot(w_beer.weather,w_beer.beer, color ='skyblue') #군간변동이 있는것을 확인할 수 있다.\n",
    "plt.show()"
   ]
  },
  {
   "cell_type": "code",
   "execution_count": null,
   "id": "be89962b",
   "metadata": {},
   "outputs": [],
   "source": [
    "# 날씨별 매상의 평균치\n",
    "w_beer.groupby('weather').mean()"
   ]
  },
  {
   "cell_type": "code",
   "execution_count": 110,
   "id": "24d8c244",
   "metadata": {},
   "outputs": [
    {
     "data": {
      "text/plain": [
       "64.0"
      ]
     },
     "execution_count": 110,
     "metadata": {},
     "output_type": "execute_result"
    }
   ],
   "source": [
    "# 날씨에 의한 영향 : 2일씩 6일에 대한 날씨별 매상의 평균치\n",
    "effect = [7,7,3,3,11,11] #각 군의 평균을 넣어줌, 오차를 빼버림. \n",
    "\n",
    "# 군간변동 구하기\n",
    "# 군간변동 => effect의 흩어진 정도\n",
    "# effect의 흩어진 정도를 구함으로써 군간변동을 구할 수 있음.\n",
    "mu_effect = np.mean(effect)\n",
    "sq_model = np.sum((effect-mu_effect)**2)\n",
    "sq_model"
   ]
  },
  {
   "cell_type": "code",
   "execution_count": 111,
   "id": "f8900b86",
   "metadata": {},
   "outputs": [
    {
     "data": {
      "text/plain": [
       "16.0"
      ]
     },
     "execution_count": 111,
     "metadata": {},
     "output_type": "execute_result"
    }
   ],
   "source": [
    "# 오차(Error(Residual = 잔차))는 beer 와 평균과의 차이\n",
    "resid = w_beer.beer - effect\n",
    "\n",
    "# 군내변동: 오차 제곱의 합. 오차의 평균값은 0\n",
    "sq_resid = np.sum(resid**2)\n",
    "\n",
    "# 자유도 구하기\n",
    "df_model = 2 # 군간변동의 자유도(수준의 종류 수에 따라 좌우됨 : 수준(3) - 1)\n",
    "df_resid = 3 # 군내변동의 자유도(샘플사이즈와 수준의 종류 수 : 샘플(6) - 수준(3))\n",
    "\n",
    "# 군간 평균 제곱(분산)\n",
    "v_model = sq_model/df_model\n",
    "\n",
    "# 군내 평균 제곱(분산)\n",
    "v_resid = sq_resid/df_resid\n",
    "\n",
    "# F비를 구할 수 있다.\n",
    "# F비는 군간분산과 군내분산의 비\n",
    "f_ratio = v_model/v_resid\n",
    "f_ratio"
   ]
  },
  {
   "cell_type": "code",
   "execution_count": 112,
   "id": "eef6d8fb",
   "metadata": {},
   "outputs": [
    {
     "data": {
      "text/plain": [
       "0.02509457330439091"
      ]
     },
     "execution_count": 112,
     "metadata": {},
     "output_type": "execute_result"
    }
   ],
   "source": [
    "# p값 구하기\n",
    "1- stats.f.cdf(x=f_ratio, dfn=df_model, dfd = df_resid) "
   ]
  },
  {
   "cell_type": "code",
   "execution_count": null,
   "id": "4f74d584",
   "metadata": {},
   "outputs": [],
   "source": [
    "# p값  - 0.05보다 작아 귀무가설 기각.-> 우연이 아니고 \n",
    "# 날씨에 의해 맥주매상이 유의미하게 변화한다고 판단할 수 있다."
   ]
  },
  {
   "cell_type": "code",
   "execution_count": 113,
   "id": "74d8ce11",
   "metadata": {},
   "outputs": [
    {
     "data": {
      "text/html": [
       "<div>\n",
       "<style scoped>\n",
       "    .dataframe tbody tr th:only-of-type {\n",
       "        vertical-align: middle;\n",
       "    }\n",
       "\n",
       "    .dataframe tbody tr th {\n",
       "        vertical-align: top;\n",
       "    }\n",
       "\n",
       "    .dataframe thead th {\n",
       "        text-align: right;\n",
       "    }\n",
       "</style>\n",
       "<table border=\"1\" class=\"dataframe\">\n",
       "  <thead>\n",
       "    <tr style=\"text-align: right;\">\n",
       "      <th></th>\n",
       "      <th>sum_sq</th>\n",
       "      <th>df</th>\n",
       "      <th>F</th>\n",
       "      <th>PR(&gt;F)</th>\n",
       "    </tr>\n",
       "  </thead>\n",
       "  <tbody>\n",
       "    <tr>\n",
       "      <th>weather</th>\n",
       "      <td>64.0</td>\n",
       "      <td>2.0</td>\n",
       "      <td>16.0</td>\n",
       "      <td>0.025095</td>\n",
       "    </tr>\n",
       "    <tr>\n",
       "      <th>Residual</th>\n",
       "      <td>6.0</td>\n",
       "      <td>3.0</td>\n",
       "      <td>NaN</td>\n",
       "      <td>NaN</td>\n",
       "    </tr>\n",
       "  </tbody>\n",
       "</table>\n",
       "</div>"
      ],
      "text/plain": [
       "          sum_sq   df     F    PR(>F)\n",
       "weather     64.0  2.0  16.0  0.025095\n",
       "Residual     6.0  3.0   NaN       NaN"
      ]
     },
     "execution_count": 113,
     "metadata": {},
     "output_type": "execute_result"
    }
   ],
   "source": [
    "# 날씨에 따른 맥주판매, 분산분석 모델\n",
    "anova_model = smf.ols('beer~weather',\n",
    "                     data = w_beer).fit()  #아노바모델만들어줌\n",
    "sm.stats.anova_lm(anova_model,typ=2) #분산분석표 : 군간, 군내편차제곱합, 자유도, F비, p값"
   ]
  },
  {
   "cell_type": "code",
   "execution_count": 114,
   "id": "cb91bcfb",
   "metadata": {},
   "outputs": [
    {
     "data": {
      "text/plain": [
       "Intercept           7.0\n",
       "weather[T.rainy]   -4.0\n",
       "weather[T.sunny]    4.0\n",
       "dtype: float64"
      ]
     },
     "execution_count": 114,
     "metadata": {},
     "output_type": "execute_result"
    }
   ],
   "source": [
    "anova_model.params  #파라미터값, 변수들의 회귀계수들"
   ]
  },
  {
   "cell_type": "markdown",
   "id": "abb65b3d",
   "metadata": {},
   "source": [
    "### 5) 독립변수가 여럿인 모델\n"
   ]
  },
  {
   "cell_type": "markdown",
   "id": "98b0289a",
   "metadata": {},
   "source": [
    "> 독립변수가 여러개 일 때, 분산분석이 필요한 이유,       \n",
    "> 검정을 이용하여 모델 선택하는 방법"
   ]
  },
  {
   "cell_type": "code",
   "execution_count": 115,
   "id": "b9cddba0",
   "metadata": {},
   "outputs": [
    {
     "data": {
      "text/plain": [
       "<seaborn.axisgrid.PairGrid at 0x2a66d5641f0>"
      ]
     },
     "execution_count": 115,
     "metadata": {},
     "output_type": "execute_result"
    },
    {
     "data": {
      "image/png": "[encoded data removed]",
      "text/plain": [
       "<Figure size 786.25x720 with 20 Axes>"
      ]
     },
     "metadata": {
      "needs_background": "light"
     },
     "output_type": "display_data"
    }
   ],
   "source": [
    "sales = pd.read_csv('dataset/7_3_lmm.csv')\n",
    "# pairplot 그려보기\n",
    "sns.pairplot(data = sales, hue = 'weather', palette = 'Blues')"
   ]
  },
  {
   "cell_type": "code",
   "execution_count": 116,
   "id": "bcc74fce",
   "metadata": {},
   "outputs": [
    {
     "data": {
      "text/plain": [
       "Intercept    113.645406\n",
       "price          0.332812\n",
       "dtype: float64"
      ]
     },
     "execution_count": 116,
     "metadata": {},
     "output_type": "execute_result"
    }
   ],
   "source": [
    "lm = smf.ols('sales ~ price', data = sales).fit()\n",
    "lm.params #sales가 price와 양의상관관계라고 나옴. 그래프에서는 잘 안보임."
   ]
  },
  {
   "cell_type": "code",
   "execution_count": 117,
   "id": "51aebbb0",
   "metadata": {},
   "outputs": [
    {
     "data": {
      "text/html": [
       "<div>\n",
       "<style scoped>\n",
       "    .dataframe tbody tr th:only-of-type {\n",
       "        vertical-align: middle;\n",
       "    }\n",
       "\n",
       "    .dataframe tbody tr th {\n",
       "        vertical-align: top;\n",
       "    }\n",
       "\n",
       "    .dataframe thead th {\n",
       "        text-align: right;\n",
       "    }\n",
       "</style>\n",
       "<table border=\"1\" class=\"dataframe\">\n",
       "  <thead>\n",
       "    <tr style=\"text-align: right;\">\n",
       "      <th></th>\n",
       "      <th>sum_sq</th>\n",
       "      <th>df</th>\n",
       "      <th>F</th>\n",
       "      <th>PR(&gt;F)</th>\n",
       "    </tr>\n",
       "  </thead>\n",
       "  <tbody>\n",
       "    <tr>\n",
       "      <th>price</th>\n",
       "      <td>1398.392322</td>\n",
       "      <td>1.0</td>\n",
       "      <td>4.970685</td>\n",
       "      <td>0.028064</td>\n",
       "    </tr>\n",
       "    <tr>\n",
       "      <th>Residual</th>\n",
       "      <td>27570.133578</td>\n",
       "      <td>98.0</td>\n",
       "      <td>NaN</td>\n",
       "      <td>NaN</td>\n",
       "    </tr>\n",
       "  </tbody>\n",
       "</table>\n",
       "</div>"
      ],
      "text/plain": [
       "                sum_sq    df         F    PR(>F)\n",
       "price      1398.392322   1.0  4.970685  0.028064\n",
       "Residual  27570.133578  98.0       NaN       NaN"
      ]
     },
     "execution_count": 117,
     "metadata": {},
     "output_type": "execute_result"
    }
   ],
   "source": [
    "# 분산분석표 보기\n",
    "sm.stats.anova_lm(lm, typ=2)\n",
    "# p값이 0.05보다 작아서 유의미하다고 나옴.\n",
    "# 잘못된 분석으로 보임, 가격이 오르면 매상도 증가한다."
   ]
  },
  {
   "cell_type": "code",
   "execution_count": 119,
   "id": "91ebcb3b",
   "metadata": {},
   "outputs": [
    {
     "data": {
      "image/png": "[encoded data removed]",
      "text/plain": [
       "<Figure size 360x360 with 1 Axes>"
      ]
     },
     "metadata": {
      "needs_background": "light"
     },
     "output_type": "display_data"
    }
   ],
   "source": [
    "# 매상을 상품가격만으로 분석하여 문제의 소지 발생.\n",
    "# 그림을 그려서 원인 발견, 다른변수 무시, 가격과 매상만 비교하는 그림\n",
    "sns.lmplot(x='price', y='sales',data = sales, palette='gray')\n",
    "plt.show()"
   ]
  },
  {
   "cell_type": "code",
   "execution_count": 121,
   "id": "96922466",
   "metadata": {},
   "outputs": [
    {
     "data": {
      "image/png": "[encoded data removed]",
      "text/plain": [
       "<Figure size 426.25x360 with 1 Axes>"
      ]
     },
     "metadata": {
      "needs_background": "light"
     },
     "output_type": "display_data"
    }
   ],
   "source": [
    "# weather을 넣으니 그래프 변화 있음.\n",
    "# 변수선택의 중요성이 보여짐\n",
    "sns.lmplot(x='price', y='sales',data = sales, hue='weather', palette='gray')\n",
    "plt.show()"
   ]
  },
  {
   "cell_type": "code",
   "execution_count": 122,
   "id": "e44e6776",
   "metadata": {},
   "outputs": [
    {
     "data": {
      "text/html": [
       "<div>\n",
       "<style scoped>\n",
       "    .dataframe tbody tr th:only-of-type {\n",
       "        vertical-align: middle;\n",
       "    }\n",
       "\n",
       "    .dataframe tbody tr th {\n",
       "        vertical-align: top;\n",
       "    }\n",
       "\n",
       "    .dataframe thead th {\n",
       "        text-align: right;\n",
       "    }\n",
       "</style>\n",
       "<table border=\"1\" class=\"dataframe\">\n",
       "  <thead>\n",
       "    <tr style=\"text-align: right;\">\n",
       "      <th></th>\n",
       "      <th>humidity</th>\n",
       "      <th>price</th>\n",
       "      <th>sales</th>\n",
       "      <th>temperature</th>\n",
       "    </tr>\n",
       "    <tr>\n",
       "      <th>weather</th>\n",
       "      <th></th>\n",
       "      <th></th>\n",
       "      <th></th>\n",
       "      <th></th>\n",
       "    </tr>\n",
       "  </thead>\n",
       "  <tbody>\n",
       "    <tr>\n",
       "      <th>rainy</th>\n",
       "      <td>32.126</td>\n",
       "      <td>295.5</td>\n",
       "      <td>205.924</td>\n",
       "      <td>20.422</td>\n",
       "    </tr>\n",
       "    <tr>\n",
       "      <th>sunny</th>\n",
       "      <td>30.852</td>\n",
       "      <td>309.5</td>\n",
       "      <td>222.718</td>\n",
       "      <td>21.102</td>\n",
       "    </tr>\n",
       "  </tbody>\n",
       "</table>\n",
       "</div>"
      ],
      "text/plain": [
       "         humidity  price    sales  temperature\n",
       "weather                                       \n",
       "rainy      32.126  295.5  205.924       20.422\n",
       "sunny      30.852  309.5  222.718       21.102"
      ]
     },
     "execution_count": 122,
     "metadata": {},
     "output_type": "execute_result"
    }
   ],
   "source": [
    "sales.groupby('weather').mean()\n",
    "# rainy, sunny의 sales 차이가 보임.\n",
    "# 매상을 가격만으로 분석하면 문제의 소지가 발생\n",
    "# 날씨별로 보면 가격이 높아질 경우 매상이 줄어든다는 것을 알 수 있음."
   ]
  },
  {
   "cell_type": "code",
   "execution_count": 123,
   "id": "a14327c5",
   "metadata": {},
   "outputs": [
    {
     "data": {
      "text/plain": [
       "Intercept           278.627722\n",
       "weather[T.sunny]     19.989119\n",
       "humidity             -0.254055\n",
       "temperature           1.603115\n",
       "price                -0.329207\n",
       "dtype: float64"
      ]
     },
     "execution_count": 123,
     "metadata": {},
     "output_type": "execute_result"
    }
   ],
   "source": [
    "#독립변수가 4개인 모델 추정\n",
    "lm_sales = smf.ols(\n",
    "\"sales ~ weather+humidity+temperature+price\", data = sales).fit()\n",
    "lm_sales.params\n",
    "# 교차효과가 없다고 가정하고 +  // 교차효과가 있다고 가정하면 * 사용해야 함.\n",
    "# 위에서와는 다르게 price의 기울기 음수로 나옴.\n",
    "# 2개 이원분산, 3개부터 다원분산분석."
   ]
  },
  {
   "cell_type": "code",
   "execution_count": 124,
   "id": "17239386",
   "metadata": {},
   "outputs": [
    {
     "data": {
      "text/html": [
       "<div>\n",
       "<style scoped>\n",
       "    .dataframe tbody tr th:only-of-type {\n",
       "        vertical-align: middle;\n",
       "    }\n",
       "\n",
       "    .dataframe tbody tr th {\n",
       "        vertical-align: top;\n",
       "    }\n",
       "\n",
       "    .dataframe thead th {\n",
       "        text-align: right;\n",
       "    }\n",
       "</style>\n",
       "<table border=\"1\" class=\"dataframe\">\n",
       "  <thead>\n",
       "    <tr style=\"text-align: right;\">\n",
       "      <th></th>\n",
       "      <th>df</th>\n",
       "      <th>sum_sq</th>\n",
       "      <th>mean_sq</th>\n",
       "      <th>F</th>\n",
       "      <th>PR(&gt;F)</th>\n",
       "    </tr>\n",
       "  </thead>\n",
       "  <tbody>\n",
       "    <tr>\n",
       "      <th>weather</th>\n",
       "      <td>1.0</td>\n",
       "      <td>7050.961</td>\n",
       "      <td>7050.961</td>\n",
       "      <td>38.848</td>\n",
       "      <td>0.000</td>\n",
       "    </tr>\n",
       "    <tr>\n",
       "      <th>humidity</th>\n",
       "      <td>1.0</td>\n",
       "      <td>1779.601</td>\n",
       "      <td>1779.601</td>\n",
       "      <td>9.805</td>\n",
       "      <td>0.002</td>\n",
       "    </tr>\n",
       "    <tr>\n",
       "      <th>temperature</th>\n",
       "      <td>1.0</td>\n",
       "      <td>2076.845</td>\n",
       "      <td>2076.845</td>\n",
       "      <td>11.443</td>\n",
       "      <td>0.001</td>\n",
       "    </tr>\n",
       "    <tr>\n",
       "      <th>price</th>\n",
       "      <td>1.0</td>\n",
       "      <td>818.402</td>\n",
       "      <td>818.402</td>\n",
       "      <td>4.509</td>\n",
       "      <td>0.036</td>\n",
       "    </tr>\n",
       "    <tr>\n",
       "      <th>Residual</th>\n",
       "      <td>95.0</td>\n",
       "      <td>17242.717</td>\n",
       "      <td>181.502</td>\n",
       "      <td>NaN</td>\n",
       "      <td>NaN</td>\n",
       "    </tr>\n",
       "  </tbody>\n",
       "</table>\n",
       "</div>"
      ],
      "text/plain": [
       "               df     sum_sq   mean_sq       F  PR(>F)\n",
       "weather       1.0   7050.961  7050.961  38.848   0.000\n",
       "humidity      1.0   1779.601  1779.601   9.805   0.002\n",
       "temperature   1.0   2076.845  2076.845  11.443   0.001\n",
       "price         1.0    818.402   818.402   4.509   0.036\n",
       "Residual     95.0  17242.717   181.502     NaN     NaN"
      ]
     },
     "execution_count": 124,
     "metadata": {},
     "output_type": "execute_result"
    }
   ],
   "source": [
    "#분산분석표\n",
    "sm.stats.anova_lm(lm_sales).round(3) #소수점이 많아서 반올림처리"
   ]
  },
  {
   "cell_type": "markdown",
   "id": "285ed862",
   "metadata": {},
   "source": [
    "=> 모든 독립변수가 유의미하다고 도출되어 '잘못된 검정 결과'라 의심됨"
   ]
  },
  {
   "cell_type": "markdown",
   "id": "e08574f9",
   "metadata": {},
   "source": [
    "- F검정(분산분석) 대신 회귀계수의 T검정을 수행하면 문제는 발생되지 않음,     \n",
    "- 그러나 검정 다중성의 문제가 발생할 수 있음     \n",
    "         \n",
    "\n",
    "[검정 다중성의 문제]      \n",
    ": 귀무가설이 기각되기 쉬어지고 1종오류가 발생할 가능성이 커짐.      \n",
    "- \"다중성은 여러 개의 검정을 동시에 실시함에 따라 그 중에 하나라도 우연히 기각할 확률이 점차 늘어남을 의미한다(김권현, 193).\"     \n",
    "- 귀무가설이 과소평가되는 것 - > 귀무가설이 참인데 기각되는 오류(1종오류)      \n",
    "- 그래서 분산분석을 이용하여 한번에 분석.      "
   ]
  },
  {
   "cell_type": "code",
   "execution_count": 126,
   "id": "5064d9dd",
   "metadata": {},
   "outputs": [
    {
     "data": {
      "text/html": [
       "<table class=\"simpletable\">\n",
       "<tr>\n",
       "          <td></td>            <th>coef</th>     <th>std err</th>      <th>t</th>      <th>P>|t|</th>  <th>[0.025</th>    <th>0.975]</th>  \n",
       "</tr>\n",
       "<tr>\n",
       "  <th>Intercept</th>        <td>  278.6277</td> <td>   46.335</td> <td>    6.013</td> <td> 0.000</td> <td>  186.641</td> <td>  370.615</td>\n",
       "</tr>\n",
       "<tr>\n",
       "  <th>weather[T.sunny]</th> <td>   19.9891</td> <td>    3.522</td> <td>    5.675</td> <td> 0.000</td> <td>   12.997</td> <td>   26.982</td>\n",
       "</tr>\n",
       "<tr>\n",
       "  <th>humidity</th>         <td>   -0.2541</td> <td>    0.456</td> <td>   -0.558</td> <td> 0.578</td> <td>   -1.159</td> <td>    0.651</td>\n",
       "</tr>\n",
       "<tr>\n",
       "  <th>temperature</th>      <td>    1.6031</td> <td>    0.443</td> <td>    3.620</td> <td> 0.000</td> <td>    0.724</td> <td>    2.482</td>\n",
       "</tr>\n",
       "<tr>\n",
       "  <th>price</th>            <td>   -0.3292</td> <td>    0.155</td> <td>   -2.123</td> <td> 0.036</td> <td>   -0.637</td> <td>   -0.021</td>\n",
       "</tr>\n",
       "</table>"
      ],
      "text/plain": [
       "<class 'statsmodels.iolib.table.SimpleTable'>"
      ]
     },
     "execution_count": 126,
     "metadata": {},
     "output_type": "execute_result"
    }
   ],
   "source": [
    "lm_sales.summary().tables[1]\n",
    "# humidity t검정의 p값 0.578, 0.05이상으로 귀무가설 채택 유의미하지 않음.\n",
    "# 하지만 검색 다중성의 문제가 있음."
   ]
  },
  {
   "cell_type": "code",
   "execution_count": 128,
   "id": "0f8dff73",
   "metadata": {},
   "outputs": [
    {
     "data": {
      "text/html": [
       "<div>\n",
       "<style scoped>\n",
       "    .dataframe tbody tr th:only-of-type {\n",
       "        vertical-align: middle;\n",
       "    }\n",
       "\n",
       "    .dataframe tbody tr th {\n",
       "        vertical-align: top;\n",
       "    }\n",
       "\n",
       "    .dataframe thead th {\n",
       "        text-align: right;\n",
       "    }\n",
       "</style>\n",
       "<table border=\"1\" class=\"dataframe\">\n",
       "  <thead>\n",
       "    <tr style=\"text-align: right;\">\n",
       "      <th></th>\n",
       "      <th>df</th>\n",
       "      <th>sum_sq</th>\n",
       "      <th>mean_sq</th>\n",
       "      <th>F</th>\n",
       "      <th>PR(&gt;F)</th>\n",
       "    </tr>\n",
       "  </thead>\n",
       "  <tbody>\n",
       "    <tr>\n",
       "      <th>weather</th>\n",
       "      <td>1.0</td>\n",
       "      <td>7050.961</td>\n",
       "      <td>7050.961</td>\n",
       "      <td>38.848</td>\n",
       "      <td>0.000</td>\n",
       "    </tr>\n",
       "    <tr>\n",
       "      <th>temperature</th>\n",
       "      <td>1.0</td>\n",
       "      <td>3814.779</td>\n",
       "      <td>3814.779</td>\n",
       "      <td>21.018</td>\n",
       "      <td>0.000</td>\n",
       "    </tr>\n",
       "    <tr>\n",
       "      <th>humidity</th>\n",
       "      <td>1.0</td>\n",
       "      <td>41.667</td>\n",
       "      <td>41.667</td>\n",
       "      <td>0.230</td>\n",
       "      <td>0.633</td>\n",
       "    </tr>\n",
       "    <tr>\n",
       "      <th>price</th>\n",
       "      <td>1.0</td>\n",
       "      <td>818.402</td>\n",
       "      <td>818.402</td>\n",
       "      <td>4.509</td>\n",
       "      <td>0.036</td>\n",
       "    </tr>\n",
       "    <tr>\n",
       "      <th>Residual</th>\n",
       "      <td>95.0</td>\n",
       "      <td>17242.717</td>\n",
       "      <td>181.502</td>\n",
       "      <td>NaN</td>\n",
       "      <td>NaN</td>\n",
       "    </tr>\n",
       "  </tbody>\n",
       "</table>\n",
       "</div>"
      ],
      "text/plain": [
       "               df     sum_sq   mean_sq       F  PR(>F)\n",
       "weather       1.0   7050.961  7050.961  38.848   0.000\n",
       "temperature   1.0   3814.779  3814.779  21.018   0.000\n",
       "humidity      1.0     41.667    41.667   0.230   0.633\n",
       "price         1.0    818.402   818.402   4.509   0.036\n",
       "Residual     95.0  17242.717   181.502     NaN     NaN"
      ]
     },
     "execution_count": 128,
     "metadata": {},
     "output_type": "execute_result"
    }
   ],
   "source": [
    "lm_sales2 = smf.ols(\n",
    "\"sales ~ weather+temperature+humidity+price\", data = sales).fit()\n",
    "sm.stats.anova_lm(lm_sales2).round(3)\n",
    "# humidity, temperature 순서를 바꿨더니 humidity의 p값이 0.05보다 큼.\n",
    "# 유의미한 변수 3개로 바뀜.- > 뭔가 잘못됨을 감지할 수 있음."
   ]
  },
  {
   "cell_type": "code",
   "execution_count": 129,
   "id": "29a98457",
   "metadata": {},
   "outputs": [
    {
     "data": {
      "text/html": [
       "<table class=\"simpletable\">\n",
       "<tr>\n",
       "          <td></td>            <th>coef</th>     <th>std err</th>      <th>t</th>      <th>P>|t|</th>  <th>[0.025</th>    <th>0.975]</th>  \n",
       "</tr>\n",
       "<tr>\n",
       "  <th>Intercept</th>        <td>  278.6277</td> <td>   46.335</td> <td>    6.013</td> <td> 0.000</td> <td>  186.641</td> <td>  370.615</td>\n",
       "</tr>\n",
       "<tr>\n",
       "  <th>weather[T.sunny]</th> <td>   19.9891</td> <td>    3.522</td> <td>    5.675</td> <td> 0.000</td> <td>   12.997</td> <td>   26.982</td>\n",
       "</tr>\n",
       "<tr>\n",
       "  <th>temperature</th>      <td>    1.6031</td> <td>    0.443</td> <td>    3.620</td> <td> 0.000</td> <td>    0.724</td> <td>    2.482</td>\n",
       "</tr>\n",
       "<tr>\n",
       "  <th>humidity</th>         <td>   -0.2541</td> <td>    0.456</td> <td>   -0.558</td> <td> 0.578</td> <td>   -1.159</td> <td>    0.651</td>\n",
       "</tr>\n",
       "<tr>\n",
       "  <th>price</th>            <td>   -0.3292</td> <td>    0.155</td> <td>   -2.123</td> <td> 0.036</td> <td>   -0.637</td> <td>   -0.021</td>\n",
       "</tr>\n",
       "</table>"
      ],
      "text/plain": [
       "<class 'statsmodels.iolib.table.SimpleTable'>"
      ]
     },
     "execution_count": 129,
     "metadata": {},
     "output_type": "execute_result"
    }
   ],
   "source": [
    "lm_sales2.summary().tables[1]  \n",
    "#t검정 결과 값이 humidity, temperature 순서를 바꾸기 전과 같음을 알 수 있음."
   ]
  },
  {
   "cell_type": "markdown",
   "id": "6dc5b151",
   "metadata": {},
   "source": [
    "**위의 검정에서 주요 문제 ; 검색다중성의 문제**"
   ]
  },
  {
   "cell_type": "code",
   "execution_count": 130,
   "id": "0bc802f2",
   "metadata": {},
   "outputs": [
    {
     "data": {
      "text/html": [
       "<div>\n",
       "<style scoped>\n",
       "    .dataframe tbody tr th:only-of-type {\n",
       "        vertical-align: middle;\n",
       "    }\n",
       "\n",
       "    .dataframe tbody tr th {\n",
       "        vertical-align: top;\n",
       "    }\n",
       "\n",
       "    .dataframe thead th {\n",
       "        text-align: right;\n",
       "    }\n",
       "</style>\n",
       "<table border=\"1\" class=\"dataframe\">\n",
       "  <thead>\n",
       "    <tr style=\"text-align: right;\">\n",
       "      <th></th>\n",
       "      <th>sum_sq</th>\n",
       "      <th>df</th>\n",
       "      <th>F</th>\n",
       "      <th>PR(&gt;F)</th>\n",
       "    </tr>\n",
       "  </thead>\n",
       "  <tbody>\n",
       "    <tr>\n",
       "      <th>weather</th>\n",
       "      <td>5845.878</td>\n",
       "      <td>1.0</td>\n",
       "      <td>32.208</td>\n",
       "      <td>0.000</td>\n",
       "    </tr>\n",
       "    <tr>\n",
       "      <th>humidity</th>\n",
       "      <td>56.425</td>\n",
       "      <td>1.0</td>\n",
       "      <td>0.311</td>\n",
       "      <td>0.578</td>\n",
       "    </tr>\n",
       "    <tr>\n",
       "      <th>temperature</th>\n",
       "      <td>2378.017</td>\n",
       "      <td>1.0</td>\n",
       "      <td>13.102</td>\n",
       "      <td>0.000</td>\n",
       "    </tr>\n",
       "    <tr>\n",
       "      <th>price</th>\n",
       "      <td>818.402</td>\n",
       "      <td>1.0</td>\n",
       "      <td>4.509</td>\n",
       "      <td>0.036</td>\n",
       "    </tr>\n",
       "    <tr>\n",
       "      <th>Residual</th>\n",
       "      <td>17242.717</td>\n",
       "      <td>95.0</td>\n",
       "      <td>NaN</td>\n",
       "      <td>NaN</td>\n",
       "    </tr>\n",
       "  </tbody>\n",
       "</table>\n",
       "</div>"
      ],
      "text/plain": [
       "                sum_sq    df       F  PR(>F)\n",
       "weather       5845.878   1.0  32.208   0.000\n",
       "humidity        56.425   1.0   0.311   0.578\n",
       "temperature   2378.017   1.0  13.102   0.000\n",
       "price          818.402   1.0   4.509   0.036\n",
       "Residual     17242.717  95.0     NaN     NaN"
      ]
     },
     "execution_count": 130,
     "metadata": {},
     "output_type": "execute_result"
    }
   ],
   "source": [
    "# 그래서 Type 2 ANOVA 사용\n",
    "# 모든 변수가 포함된 \n",
    "mod_full = smf.ols(\n",
    "\"sales ~ weather+humidity+temperature+price\", sales).fit()\n",
    "sm.stats.anova_lm(mod_full, typ=2).round(3)\n",
    "# F검정의 p값이 T검정 p값과 같은 결과로 나옴."
   ]
  },
  {
   "cell_type": "code",
   "execution_count": 131,
   "id": "a8a8d83d",
   "metadata": {},
   "outputs": [
    {
     "data": {
      "text/html": [
       "<div>\n",
       "<style scoped>\n",
       "    .dataframe tbody tr th:only-of-type {\n",
       "        vertical-align: middle;\n",
       "    }\n",
       "\n",
       "    .dataframe tbody tr th {\n",
       "        vertical-align: top;\n",
       "    }\n",
       "\n",
       "    .dataframe thead th {\n",
       "        text-align: right;\n",
       "    }\n",
       "</style>\n",
       "<table border=\"1\" class=\"dataframe\">\n",
       "  <thead>\n",
       "    <tr style=\"text-align: right;\">\n",
       "      <th></th>\n",
       "      <th>sum_sq</th>\n",
       "      <th>df</th>\n",
       "      <th>F</th>\n",
       "      <th>PR(&gt;F)</th>\n",
       "    </tr>\n",
       "  </thead>\n",
       "  <tbody>\n",
       "    <tr>\n",
       "      <th>weather</th>\n",
       "      <td>6354.966</td>\n",
       "      <td>1.0</td>\n",
       "      <td>35.266</td>\n",
       "      <td>0.000</td>\n",
       "    </tr>\n",
       "    <tr>\n",
       "      <th>temperature</th>\n",
       "      <td>4254.736</td>\n",
       "      <td>1.0</td>\n",
       "      <td>23.611</td>\n",
       "      <td>0.000</td>\n",
       "    </tr>\n",
       "    <tr>\n",
       "      <th>price</th>\n",
       "      <td>803.644</td>\n",
       "      <td>1.0</td>\n",
       "      <td>4.460</td>\n",
       "      <td>0.037</td>\n",
       "    </tr>\n",
       "    <tr>\n",
       "      <th>Residual</th>\n",
       "      <td>17299.142</td>\n",
       "      <td>96.0</td>\n",
       "      <td>NaN</td>\n",
       "      <td>NaN</td>\n",
       "    </tr>\n",
       "  </tbody>\n",
       "</table>\n",
       "</div>"
      ],
      "text/plain": [
       "                sum_sq    df       F  PR(>F)\n",
       "weather       6354.966   1.0  35.266   0.000\n",
       "temperature   4254.736   1.0  23.611   0.000\n",
       "price          803.644   1.0   4.460   0.037\n",
       "Residual     17299.142  96.0     NaN     NaN"
      ]
     },
     "execution_count": 131,
     "metadata": {},
     "output_type": "execute_result"
    }
   ],
   "source": [
    "#유의미하지 않은 변수(humidity) 제거\n",
    "mod_non_humi = smf.ols(\n",
    "\"sales ~ weather+temperature+price\", sales).fit()\n",
    "sm.stats.anova_lm(mod_non_humi, typ=2).round(3)"
   ]
  },
  {
   "cell_type": "code",
   "execution_count": null,
   "id": "7412efa4",
   "metadata": {},
   "outputs": [],
   "source": [
    "# 습도는 기온과 강한 상관관계가 있으며 기온이라는 독립변수가 포함되어 있으면\n",
    "# 습도는 매상에 영향을 끼친다고 볼 수 없음."
   ]
  },
  {
   "cell_type": "markdown",
   "id": "53e805b9",
   "metadata": {},
   "source": [
    "**문제 해결 :     \n",
    "※ 독립변수 여러개일 때 Type 2 ANOVA 모델 선택.**"
   ]
  },
  {
   "attachments": {
    "image.png": {
     "image/png": "[encoded data removed]"
    }
   },
   "cell_type": "markdown",
   "id": "e38d3f05",
   "metadata": {},
   "source": [
    "**독립변수가 여러개일 때는 아노바(F검정이용하는, Type 2 ANOVA)이용**\n",
    "- t검정일 때는 검색 다중의 문제가 발생\n",
    "\n",
    "![image.png](attachment:image.png)"
   ]
  },
  {
   "cell_type": "markdown",
   "id": "727e8d7a",
   "metadata": {},
   "source": [
    "### 6) 독립변수들간의 교우작용\n",
    "- 결과에서 교우관계를 확인한 결과(2가지가 종속변수에 미치는 영향) 독립변수들끼리 p값이 0.05미만인 것은 확인되지 않는다.\n",
    "- 이원분산분석 부터는 교우작용도 따져줘야한다.\n",
    "- 시험문제에 아노바분석은 * 로, 교우작용이 유의미한지 확인해줘야 한다."
   ]
  },
  {
   "cell_type": "code",
   "execution_count": 132,
   "id": "5ad3118f",
   "metadata": {},
   "outputs": [
    {
     "data": {
      "text/html": [
       "<div>\n",
       "<style scoped>\n",
       "    .dataframe tbody tr th:only-of-type {\n",
       "        vertical-align: middle;\n",
       "    }\n",
       "\n",
       "    .dataframe tbody tr th {\n",
       "        vertical-align: top;\n",
       "    }\n",
       "\n",
       "    .dataframe thead th {\n",
       "        text-align: right;\n",
       "    }\n",
       "</style>\n",
       "<table border=\"1\" class=\"dataframe\">\n",
       "  <thead>\n",
       "    <tr style=\"text-align: right;\">\n",
       "      <th></th>\n",
       "      <th>sum_sq</th>\n",
       "      <th>df</th>\n",
       "      <th>F</th>\n",
       "      <th>PR(&gt;F)</th>\n",
       "    </tr>\n",
       "  </thead>\n",
       "  <tbody>\n",
       "    <tr>\n",
       "      <th>weather</th>\n",
       "      <td>6425.428</td>\n",
       "      <td>1.0</td>\n",
       "      <td>36.086</td>\n",
       "      <td>0.000</td>\n",
       "    </tr>\n",
       "    <tr>\n",
       "      <th>temperature</th>\n",
       "      <td>4278.061</td>\n",
       "      <td>1.0</td>\n",
       "      <td>24.026</td>\n",
       "      <td>0.000</td>\n",
       "    </tr>\n",
       "    <tr>\n",
       "      <th>weather:temperature</th>\n",
       "      <td>71.995</td>\n",
       "      <td>1.0</td>\n",
       "      <td>0.404</td>\n",
       "      <td>0.526</td>\n",
       "    </tr>\n",
       "    <tr>\n",
       "      <th>price</th>\n",
       "      <td>803.336</td>\n",
       "      <td>1.0</td>\n",
       "      <td>4.512</td>\n",
       "      <td>0.036</td>\n",
       "    </tr>\n",
       "    <tr>\n",
       "      <th>weather:price</th>\n",
       "      <td>96.890</td>\n",
       "      <td>1.0</td>\n",
       "      <td>0.544</td>\n",
       "      <td>0.463</td>\n",
       "    </tr>\n",
       "    <tr>\n",
       "      <th>temperature:price</th>\n",
       "      <td>390.204</td>\n",
       "      <td>1.0</td>\n",
       "      <td>2.191</td>\n",
       "      <td>0.142</td>\n",
       "    </tr>\n",
       "    <tr>\n",
       "      <th>weather:temperature:price</th>\n",
       "      <td>357.056</td>\n",
       "      <td>1.0</td>\n",
       "      <td>2.005</td>\n",
       "      <td>0.160</td>\n",
       "    </tr>\n",
       "    <tr>\n",
       "      <th>Residual</th>\n",
       "      <td>16381.404</td>\n",
       "      <td>92.0</td>\n",
       "      <td>NaN</td>\n",
       "      <td>NaN</td>\n",
       "    </tr>\n",
       "  </tbody>\n",
       "</table>\n",
       "</div>"
      ],
      "text/plain": [
       "                              sum_sq    df       F  PR(>F)\n",
       "weather                     6425.428   1.0  36.086   0.000\n",
       "temperature                 4278.061   1.0  24.026   0.000\n",
       "weather:temperature           71.995   1.0   0.404   0.526\n",
       "price                        803.336   1.0   4.512   0.036\n",
       "weather:price                 96.890   1.0   0.544   0.463\n",
       "temperature:price            390.204   1.0   2.191   0.142\n",
       "weather:temperature:price    357.056   1.0   2.005   0.160\n",
       "Residual                   16381.404  92.0     NaN     NaN"
      ]
     },
     "execution_count": 132,
     "metadata": {},
     "output_type": "execute_result"
    }
   ],
   "source": [
    "# 변수간의 교우작용 확인\n",
    "mod_non_humi = smf.ols(\n",
    "\"sales ~ weather*temperature*price\", sales).fit()\n",
    "sm.stats.anova_lm(mod_non_humi, typ=2).round(3)"
   ]
  },
  {
   "cell_type": "markdown",
   "id": "435868fc",
   "metadata": {},
   "source": [
    "---------------------------"
   ]
  },
  {
   "cell_type": "markdown",
   "id": "e9036069",
   "metadata": {},
   "source": [
    "## 3. stat 과제"
   ]
  },
  {
   "cell_type": "markdown",
   "id": "47dc4ea4",
   "metadata": {},
   "source": [
    "[과제]    \n",
    "Q. 'dataset/5_2_shoes.csv' 을 데이터프레임으로 불러와서 아래 작업을 수행하세요.\n",
    "- 4행 3열을 복사하여 수직으로 결합하여 8행 3열의 데이터프레임 만드세요.\n",
    "- 교차분석표를 만드세요.(values='sales',aggfunc='sum',index='store',columns='color')\n",
    "- 독립성 검정을 수행하세요."
   ]
  },
  {
   "cell_type": "code",
   "execution_count": 135,
   "id": "a66928aa",
   "metadata": {},
   "outputs": [
    {
     "data": {
      "text/html": [
       "<div>\n",
       "<style scoped>\n",
       "    .dataframe tbody tr th:only-of-type {\n",
       "        vertical-align: middle;\n",
       "    }\n",
       "\n",
       "    .dataframe tbody tr th {\n",
       "        vertical-align: top;\n",
       "    }\n",
       "\n",
       "    .dataframe thead th {\n",
       "        text-align: right;\n",
       "    }\n",
       "</style>\n",
       "<table border=\"1\" class=\"dataframe\">\n",
       "  <thead>\n",
       "    <tr style=\"text-align: right;\">\n",
       "      <th></th>\n",
       "      <th>store</th>\n",
       "      <th>color</th>\n",
       "      <th>sales</th>\n",
       "    </tr>\n",
       "  </thead>\n",
       "  <tbody>\n",
       "    <tr>\n",
       "      <th>0</th>\n",
       "      <td>tokyo</td>\n",
       "      <td>blue</td>\n",
       "      <td>10</td>\n",
       "    </tr>\n",
       "    <tr>\n",
       "      <th>1</th>\n",
       "      <td>tokyo</td>\n",
       "      <td>red</td>\n",
       "      <td>15</td>\n",
       "    </tr>\n",
       "    <tr>\n",
       "      <th>2</th>\n",
       "      <td>osaka</td>\n",
       "      <td>blue</td>\n",
       "      <td>13</td>\n",
       "    </tr>\n",
       "  </tbody>\n",
       "</table>\n",
       "</div>"
      ],
      "text/plain": [
       "   store color  sales\n",
       "0  tokyo  blue     10\n",
       "1  tokyo   red     15\n",
       "2  osaka  blue     13"
      ]
     },
     "execution_count": 135,
     "metadata": {},
     "output_type": "execute_result"
    }
   ],
   "source": [
    "shoes = pd.read_csv('dataset/5_2_shoes.csv')\n",
    "shoes2 = shoes.copy()\n",
    "shoes = pd.concat([shoes,shoes2])\n",
    "shoes.head(3)"
   ]
  },
  {
   "cell_type": "code",
   "execution_count": 136,
   "id": "6369458c",
   "metadata": {},
   "outputs": [
    {
     "data": {
      "text/html": [
       "<div>\n",
       "<style scoped>\n",
       "    .dataframe tbody tr th:only-of-type {\n",
       "        vertical-align: middle;\n",
       "    }\n",
       "\n",
       "    .dataframe tbody tr th {\n",
       "        vertical-align: top;\n",
       "    }\n",
       "\n",
       "    .dataframe thead th {\n",
       "        text-align: right;\n",
       "    }\n",
       "</style>\n",
       "<table border=\"1\" class=\"dataframe\">\n",
       "  <thead>\n",
       "    <tr style=\"text-align: right;\">\n",
       "      <th>color</th>\n",
       "      <th>blue</th>\n",
       "      <th>red</th>\n",
       "    </tr>\n",
       "    <tr>\n",
       "      <th>store</th>\n",
       "      <th></th>\n",
       "      <th></th>\n",
       "    </tr>\n",
       "  </thead>\n",
       "  <tbody>\n",
       "    <tr>\n",
       "      <th>osaka</th>\n",
       "      <td>26</td>\n",
       "      <td>18</td>\n",
       "    </tr>\n",
       "    <tr>\n",
       "      <th>tokyo</th>\n",
       "      <td>20</td>\n",
       "      <td>30</td>\n",
       "    </tr>\n",
       "  </tbody>\n",
       "</table>\n",
       "</div>"
      ],
      "text/plain": [
       "color  blue  red\n",
       "store           \n",
       "osaka    26   18\n",
       "tokyo    20   30"
      ]
     },
     "execution_count": 136,
     "metadata": {},
     "output_type": "execute_result"
    }
   ],
   "source": [
    "shoes_cross = pd.pivot_table(data = shoes, values='sales',\n",
    "                             aggfunc='sum',index='store',columns='color')\n",
    "shoes_cross"
   ]
  },
  {
   "cell_type": "code",
   "execution_count": 137,
   "id": "205fa147",
   "metadata": {},
   "outputs": [
    {
     "data": {
      "text/plain": [
       "(3.413537549407115,\n",
       " 0.06466368573255789,\n",
       " 1,\n",
       " array([[21.53191489, 22.46808511],\n",
       "        [24.46808511, 25.53191489]]))"
      ]
     },
     "execution_count": 137,
     "metadata": {},
     "output_type": "execute_result"
    }
   ],
   "source": [
    "# 독립성 검정 -> 카이제곱검정(chi2_contingency)\n",
    "\n",
    "stats.chi2_contingency(shoes_cross, correction = False)"
   ]
  },
  {
   "cell_type": "code",
   "execution_count": null,
   "id": "240005c2",
   "metadata": {},
   "outputs": [],
   "source": [
    "#통계량 3.413537549407115,\n",
    "#p값 0.06466368573255789,\n",
    "#자유도 1,\n",
    "#기대도수표  [[21.53191489, 22.46808511],\n",
    "#            [24.46808511, 25.53191489]]))"
   ]
  },
  {
   "cell_type": "markdown",
   "id": "47e510fc",
   "metadata": {},
   "source": [
    "[과제]    \n",
    "Q. lm_model 선형모델을 생성하고 summary 를 출력한 후 모델에 대해 해석하세요."
   ]
  },
  {
   "cell_type": "code",
   "execution_count": 140,
   "id": "881aa219",
   "metadata": {},
   "outputs": [
    {
     "data": {
      "text/html": [
       "<div>\n",
       "<style scoped>\n",
       "    .dataframe tbody tr th:only-of-type {\n",
       "        vertical-align: middle;\n",
       "    }\n",
       "\n",
       "    .dataframe tbody tr th {\n",
       "        vertical-align: top;\n",
       "    }\n",
       "\n",
       "    .dataframe thead th {\n",
       "        text-align: right;\n",
       "    }\n",
       "</style>\n",
       "<table border=\"1\" class=\"dataframe\">\n",
       "  <thead>\n",
       "    <tr style=\"text-align: right;\">\n",
       "      <th></th>\n",
       "      <th>mpg</th>\n",
       "      <th>weight</th>\n",
       "    </tr>\n",
       "  </thead>\n",
       "  <tbody>\n",
       "    <tr>\n",
       "      <th>0</th>\n",
       "      <td>18.0</td>\n",
       "      <td>3504</td>\n",
       "    </tr>\n",
       "    <tr>\n",
       "      <th>1</th>\n",
       "      <td>15.0</td>\n",
       "      <td>3693</td>\n",
       "    </tr>\n",
       "    <tr>\n",
       "      <th>2</th>\n",
       "      <td>18.0</td>\n",
       "      <td>3436</td>\n",
       "    </tr>\n",
       "  </tbody>\n",
       "</table>\n",
       "</div>"
      ],
      "text/plain": [
       "    mpg  weight\n",
       "0  18.0    3504\n",
       "1  15.0    3693\n",
       "2  18.0    3436"
      ]
     },
     "execution_count": 140,
     "metadata": {},
     "output_type": "execute_result"
    }
   ],
   "source": [
    "df = pd.read_csv('C:\\workspace\\cakd3\\programming\\dataset/auto-mpg.csv')\n",
    "df_mw = df[['mpg', 'weight']]\n",
    "df_mw.head(3)"
   ]
  },
  {
   "cell_type": "code",
   "execution_count": 139,
   "id": "e5c2a21c",
   "metadata": {},
   "outputs": [
    {
     "data": {
      "text/html": [
       "<table class=\"simpletable\">\n",
       "<caption>OLS Regression Results</caption>\n",
       "<tr>\n",
       "  <th>Dep. Variable:</th>           <td>mpg</td>       <th>  R-squared:         </th> <td>   0.692</td> \n",
       "</tr>\n",
       "<tr>\n",
       "  <th>Model:</th>                   <td>OLS</td>       <th>  Adj. R-squared:    </th> <td>   0.691</td> \n",
       "</tr>\n",
       "<tr>\n",
       "  <th>Method:</th>             <td>Least Squares</td>  <th>  F-statistic:       </th> <td>   888.9</td> \n",
       "</tr>\n",
       "<tr>\n",
       "  <th>Date:</th>             <td>Wed, 18 Aug 2021</td> <th>  Prob (F-statistic):</th> <td>2.97e-103</td>\n",
       "</tr>\n",
       "<tr>\n",
       "  <th>Time:</th>                 <td>18:49:07</td>     <th>  Log-Likelihood:    </th> <td> -1148.4</td> \n",
       "</tr>\n",
       "<tr>\n",
       "  <th>No. Observations:</th>      <td>   398</td>      <th>  AIC:               </th> <td>   2301.</td> \n",
       "</tr>\n",
       "<tr>\n",
       "  <th>Df Residuals:</th>          <td>   396</td>      <th>  BIC:               </th> <td>   2309.</td> \n",
       "</tr>\n",
       "<tr>\n",
       "  <th>Df Model:</th>              <td>     1</td>      <th>                     </th>     <td> </td>    \n",
       "</tr>\n",
       "<tr>\n",
       "  <th>Covariance Type:</th>      <td>nonrobust</td>    <th>                     </th>     <td> </td>    \n",
       "</tr>\n",
       "</table>\n",
       "<table class=\"simpletable\">\n",
       "<tr>\n",
       "      <td></td>         <th>coef</th>     <th>std err</th>      <th>t</th>      <th>P>|t|</th>  <th>[0.025</th>    <th>0.975]</th>  \n",
       "</tr>\n",
       "<tr>\n",
       "  <th>Intercept</th> <td>   46.3174</td> <td>    0.795</td> <td>   58.243</td> <td> 0.000</td> <td>   44.754</td> <td>   47.881</td>\n",
       "</tr>\n",
       "<tr>\n",
       "  <th>weight</th>    <td>   -0.0077</td> <td>    0.000</td> <td>  -29.814</td> <td> 0.000</td> <td>   -0.008</td> <td>   -0.007</td>\n",
       "</tr>\n",
       "</table>\n",
       "<table class=\"simpletable\">\n",
       "<tr>\n",
       "  <th>Omnibus:</th>       <td>40.423</td> <th>  Durbin-Watson:     </th> <td>   0.797</td>\n",
       "</tr>\n",
       "<tr>\n",
       "  <th>Prob(Omnibus):</th> <td> 0.000</td> <th>  Jarque-Bera (JB):  </th> <td>  56.695</td>\n",
       "</tr>\n",
       "<tr>\n",
       "  <th>Skew:</th>          <td> 0.713</td> <th>  Prob(JB):          </th> <td>4.89e-13</td>\n",
       "</tr>\n",
       "<tr>\n",
       "  <th>Kurtosis:</th>      <td> 4.176</td> <th>  Cond. No.          </th> <td>1.13e+04</td>\n",
       "</tr>\n",
       "</table><br/><br/>Notes:<br/>[1] Standard Errors assume that the covariance matrix of the errors is correctly specified.<br/>[2] The condition number is large, 1.13e+04. This might indicate that there are<br/>strong multicollinearity or other numerical problems."
      ],
      "text/plain": [
       "<class 'statsmodels.iolib.summary.Summary'>\n",
       "\"\"\"\n",
       "                            OLS Regression Results                            \n",
       "==============================================================================\n",
       "Dep. Variable:                    mpg   R-squared:                       0.692\n",
       "Model:                            OLS   Adj. R-squared:                  0.691\n",
       "Method:                 Least Squares   F-statistic:                     888.9\n",
       "Date:                Wed, 18 Aug 2021   Prob (F-statistic):          2.97e-103\n",
       "Time:                        18:49:07   Log-Likelihood:                -1148.4\n",
       "No. Observations:                 398   AIC:                             2301.\n",
       "Df Residuals:                     396   BIC:                             2309.\n",
       "Df Model:                           1                                         \n",
       "Covariance Type:            nonrobust                                         \n",
       "==============================================================================\n",
       "                 coef    std err          t      P>|t|      [0.025      0.975]\n",
       "------------------------------------------------------------------------------\n",
       "Intercept     46.3174      0.795     58.243      0.000      44.754      47.881\n",
       "weight        -0.0077      0.000    -29.814      0.000      -0.008      -0.007\n",
       "==============================================================================\n",
       "Omnibus:                       40.423   Durbin-Watson:                   0.797\n",
       "Prob(Omnibus):                  0.000   Jarque-Bera (JB):               56.695\n",
       "Skew:                           0.713   Prob(JB):                     4.89e-13\n",
       "Kurtosis:                       4.176   Cond. No.                     1.13e+04\n",
       "==============================================================================\n",
       "\n",
       "Notes:\n",
       "[1] Standard Errors assume that the covariance matrix of the errors is correctly specified.\n",
       "[2] The condition number is large, 1.13e+04. This might indicate that there are\n",
       "strong multicollinearity or other numerical problems.\n",
       "\"\"\""
      ]
     },
     "execution_count": 139,
     "metadata": {},
     "output_type": "execute_result"
    }
   ],
   "source": [
    "# 선형모델을 생성(smf.ols)\n",
    "df_lm_model = smf.ols(formula=\"mpg ~ weight\",\n",
    "                  data = df).fit()\n",
    "# summary 를 출력\n",
    "df_lm_model.summary()"
   ]
  },
  {
   "cell_type": "markdown",
   "id": "b0a7281b",
   "metadata": {},
   "source": [
    "[모델해석]\n",
    "       \n",
    "Dep. Variable: mpg - **종속변수 : mpg**      \n",
    "Model:OLS\t- 최소자승법(OLS: Ordinary Least Squares), 잔차(Residual) 제곱의 합을 최소로 하는 방법이 최소자승법이며, 최소자승법을 활용하여 데이터를 가장 잘 표현하는 선형 회귀선을 그릴 수 있다. (근사적으로 구하려는 해와 실제 해의 오차의 제곱의 합이 최소가 되는 해를 구하는 방법)         \n",
    "        \n",
    "Method:\tLeast Squares - 최소자승근사법(method of least squares)        \n",
    "No. Observations:398\t- Number of observations, 관찰표본 수, 즉 총 표본 수 Df Residuals:396\t - DF는 Degree of Freedom으로 자유도를 뜻하는데, DF Residuals는 전체 표본 수에서 측정되는 변수들(종속변수 및 독립변수)의 개수를 빼서 구한다.        \n",
    "        \n",
    "Df Model:1 - **독립변수의 개수가 한개**        \n",
    "Covariance Type:nonrobust -  공분산 타입. 특별히 지정하지 않으면 onrobust가 됨        \n",
    "        \n",
    "R-squared:0.692 - 결정계수, 모델 설명력, **mpg의 분산이 weight를 약 69%를 설명한다.** 1이면 모델이 완벽하게 데이터를 100% 설명해주는 상태이다.     \n",
    "Adj. R-squared:\t0.691 - 독립변수의 개수와 표본의 크기를 고려하여 R-squared를 보정한 값.     \n",
    "- 종속 변인과 독립변인 사이에 상관관계가 높을수록 1에 가까워진다.     \n",
    "- 결정계수는 전체 변동폭의 크기에 대한 모델로 설명 가능한 변동폭의 비율이라고 할 수 있음\n",
    "      \n",
    "      \n",
    "      \n",
    "F-statistic:888.9 - F통계량, 검정 통계량이 귀무 가설 하에서 F- 분포를 갖는 통계 검정      \n",
    "Prob (F-statistic):\t2.97e-103 - 회귀모형에 대한 (통계적) 유의미성 검증 결과, 유의미함 (p < 0.05)     \n",
    "**p값이 0.05보다 작으므로 귀무가설 기각됨, mpg가 weight와 유의미하다고 판단할 수 있음.**\n",
    "\n",
    "      \n",
    "Log-Likelihood:\t-1148.4 - 최대로그우도, 특정 사건이 일어날 가능성을 비교할 수는 없을까?: 가능도(Likelihood)           \n",
    "- 연속 사건: 가능도 ≠ 확률, 가능도 = PDF값\n",
    "- 셀 수 있는 사건(이산사건): 가능도 = 확률  \n",
    "- 확률변수의 표집값과 일관되는 정도를 나타내는 값.(주어진 표집값에 대한 모수의 가능도는 이 모수를 따르는 분포가 주어진 관측값에 대하여 부여하는 확률이다.)          \n",
    "\n",
    "AIC:2301, BIC:2309 - AIC, BIC: 로그우도를 독립변수의 수로 보정한 값 (작을 수록 좋다)        \n",
    "     \n",
    "Intercept.coef : 46.3174  - 절편값     \n",
    "weight.coef : \t-0.0077\t -\"weight\"의 회귀계수. 즉, 기울기     \n",
    "     \n",
    "**y = -0.0077\\*x + 46.3174**     \n",
    "     \n",
    "P>|t|  0 : **0.05보다 작기 때문에 유의하다고 판단할 수 있다.**    \n",
    "     \n",
    "Skew(왜도): 0.713 - 데이터가 치우친것을 의미함.      \n",
    "- 오른쪽으로 치우침 = 왜도 < 0\n",
    "- 왼쪽으로 치우침 = 왜도 > 0\n",
    "\n",
    "**왜도가 0보다 크기 때문에 왼쪽으로 데이터가 치우친 것을 알 수 있다.**  \n",
    "\n",
    "Kurtosis(첨도): 4.176 -  자료 분포가 뾰족한 정도를 나타내는 척도      \n",
    "- 정규분포 = 첨도 0 (Pearson 첨도 = 3)\n",
    "- 위로 뾰족함 = 첨도 > 0 (Pearson 첨도 >3)\n",
    "- 아래로 뾰족함 = 첨도 < 0 (Pearson 첨도 < 3)\n",
    "     \n",
    "**첨도가 3보다 크기 때문에 위로 뾰족한 분포인것을 알 수 있다.**     \n",
    "\n",
    "Durbin-Watson:\t0.797 - 시계열데이터일때 체크 필수!\n",
    "- 잔차의 자기상관을 체크하는 지표.\n",
    "- 보통 1.5 ~ 2.5사이이면 독립으로 판단하고 회귀모형이 적합하다는 것을 의미\n",
    "- 시계열데이터를 분석하는 경우 반드시 이 지표를 체크. 잔차에 자기상관이 있으면 계수의 t검정 결과 신뢰 못함\n",
    "- Durbin-Watson 통계량이 2보다 크거나 차이가 난다면 일반화 제곱법 등의 사용 검토 필요"
   ]
  },
  {
   "cell_type": "markdown",
   "id": "38f9712c",
   "metadata": {},
   "source": [
    "**[도전 과제]**       \n",
    "FIFA 데이터는 가상의 온라인 축구게임에 등장하는 축구 선수의 주요 특징과 신체 정보에 대한 데이터이다.     \n",
    "변수는 'ID', 'Name', 'Age', 'Nationality', 'Overall', 'Club', 'Preferred_Foot', 'Work_Rate', 'Position', 'Jersey_Number', 'Contract_Valid_Until','Height', 'Weight_lb', 'Release_Clause', 'Value', 'Wage'와 같다."
   ]
  },
  {
   "cell_type": "code",
   "execution_count": 142,
   "id": "17d9f1b7",
   "metadata": {},
   "outputs": [
    {
     "data": {
      "text/plain": [
       "Index(['ID', 'Name', 'Age', 'Nationality', 'Overall', 'Club', 'Preferred_Foot',\n",
       "       'Work_Rate', 'Position', 'Jersey_Number', 'Contract_Valid_Until',\n",
       "       'Height', 'Weight_lb', 'Release_Clause', 'Value', 'Wage'],\n",
       "      dtype='object')"
      ]
     },
     "execution_count": 142,
     "metadata": {},
     "output_type": "execute_result"
    }
   ],
   "source": [
    "fifa = pd.read_csv('C:\\workspace\\cakd3\\programming\\dataset/FIFA.csv')\n",
    "fifa.columns"
   ]
  },
  {
   "cell_type": "markdown",
   "id": "aa311e70",
   "metadata": {},
   "source": [
    "Q1. FIFA데이터에서 각 선수의 키는 Heghit변수에 피트와 인치로 입력되어 있습니다. 이를 cm로 변환하여 새로운 변수 Height_cm을 생성하시오. ( “ ' ” 앞의 숫자는 피트이며, “ ' ” 뒤의 숫자는 인치, 1피트 = 30cm, 1인치 = 2.5cm)"
   ]
  },
  {
   "cell_type": "code",
   "execution_count": 143,
   "id": "774266bb",
   "metadata": {},
   "outputs": [],
   "source": [
    "cm = fifa['Height'].str.split('\\'', expand=True)\n",
    "cm[[0, 1]] = cm[[0, 1]].astype(int)\n",
    "cm['cm'] = cm[0] * 30+ cm[1]* 2.5\n",
    "fifa['Height_cm'] = cm['cm']"
   ]
  },
  {
   "cell_type": "code",
   "execution_count": 144,
   "id": "78e2b5b4",
   "metadata": {},
   "outputs": [
    {
     "data": {
      "text/plain": [
       "0    167.5\n",
       "1    185.0\n",
       "2    172.5\n",
       "3    190.0\n",
       "4    177.5\n",
       "Name: Height_cm, dtype: float64"
      ]
     },
     "execution_count": 144,
     "metadata": {},
     "output_type": "execute_result"
    }
   ],
   "source": [
    "fifa.Height_cm.head()"
   ]
  },
  {
   "cell_type": "markdown",
   "id": "a6b6b7de",
   "metadata": {},
   "source": [
    " Q2. 포지션을 의미하는 Position변수를 아래 표를 참고하여 “Forward”, “Midfielder”,“Defender”, “GoalKeeper”로 재범주화하고, 변환하여 Position_Class 라는 변수를 생성하고 저장하시오.\n",
    "\n",
    "Forward : ['LS','ST','RS','LW','LF','CF','RF','RW']       \n",
    "Midfielder : ['LAM','CAM','RAM','LM','LCM','CM','RCM','RM']      \n",
    "Defender : ['LBW','LDM','CDM','RDM','RWB','LB','LCB','CB','RCB','RB']      \n",
    "GoalKeeper "
   ]
  },
  {
   "cell_type": "code",
   "execution_count": 145,
   "id": "b35f2aef",
   "metadata": {},
   "outputs": [],
   "source": [
    "def position(x):\n",
    "    if x in ['LS','ST','RS','LW','LF','CF','RF','RW']:\n",
    "        return 'Forward'\n",
    "    elif x in ['LAM','CAM','RAM','LM','LCM','CM','RCM','RM']:\n",
    "        return 'Midfielder'\n",
    "    elif x in ['LBW','LDM','CDM','RDM','RWB','LB','LCB','CB','RCB','RB']:\n",
    "        return 'Defender'\n",
    "    else : return 'GoalKeeper'\n",
    "        \n",
    "fifa[['Position_Class']] = fifa.Position.map(position)"
   ]
  },
  {
   "cell_type": "code",
   "execution_count": 146,
   "id": "f06c05eb",
   "metadata": {},
   "outputs": [
    {
     "data": {
      "text/plain": [
       "0     RF\n",
       "1     ST\n",
       "2     LW\n",
       "3     GK\n",
       "4    RCM\n",
       "Name: Position, dtype: object"
      ]
     },
     "execution_count": 146,
     "metadata": {},
     "output_type": "execute_result"
    }
   ],
   "source": [
    "fifa.Position.head()"
   ]
  },
  {
   "cell_type": "code",
   "execution_count": 147,
   "id": "7215af02",
   "metadata": {},
   "outputs": [
    {
     "data": {
      "text/plain": [
       "0       Forward\n",
       "1       Forward\n",
       "2       Forward\n",
       "3    GoalKeeper\n",
       "4    Midfielder\n",
       "Name: Position_Class, dtype: object"
      ]
     },
     "execution_count": 147,
     "metadata": {},
     "output_type": "execute_result"
    }
   ],
   "source": [
    "fifa.Position_Class.head()"
   ]
  },
  {
   "cell_type": "markdown",
   "id": "9176bc58",
   "metadata": {},
   "source": [
    "Q3. 새로 생성한 Position_Class 변수의 각 범주에 따른 Value(선수의 시장가치)의 평균값의 차이를 비교하는 일원배치 분산분석을 수행하고 결과를 해석하시오."
   ]
  },
  {
   "cell_type": "code",
   "execution_count": 149,
   "id": "2affa9bd",
   "metadata": {},
   "outputs": [
    {
     "data": {
      "text/html": [
       "<div>\n",
       "<style scoped>\n",
       "    .dataframe tbody tr th:only-of-type {\n",
       "        vertical-align: middle;\n",
       "    }\n",
       "\n",
       "    .dataframe tbody tr th {\n",
       "        vertical-align: top;\n",
       "    }\n",
       "\n",
       "    .dataframe thead th {\n",
       "        text-align: right;\n",
       "    }\n",
       "</style>\n",
       "<table border=\"1\" class=\"dataframe\">\n",
       "  <thead>\n",
       "    <tr style=\"text-align: right;\">\n",
       "      <th></th>\n",
       "      <th>df</th>\n",
       "      <th>sum_sq</th>\n",
       "      <th>mean_sq</th>\n",
       "      <th>F</th>\n",
       "      <th>PR(&gt;F)</th>\n",
       "    </tr>\n",
       "  </thead>\n",
       "  <tbody>\n",
       "    <tr>\n",
       "      <th>Position_Class</th>\n",
       "      <td>3.0</td>\n",
       "      <td>4.062654e+09</td>\n",
       "      <td>1.354218e+09</td>\n",
       "      <td>41.682393</td>\n",
       "      <td>7.946657e-27</td>\n",
       "    </tr>\n",
       "    <tr>\n",
       "      <th>Residual</th>\n",
       "      <td>16638.0</td>\n",
       "      <td>5.405515e+11</td>\n",
       "      <td>3.248897e+07</td>\n",
       "      <td>NaN</td>\n",
       "      <td>NaN</td>\n",
       "    </tr>\n",
       "  </tbody>\n",
       "</table>\n",
       "</div>"
      ],
      "text/plain": [
       "                     df        sum_sq       mean_sq          F        PR(>F)\n",
       "Position_Class      3.0  4.062654e+09  1.354218e+09  41.682393  7.946657e-27\n",
       "Residual        16638.0  5.405515e+11  3.248897e+07        NaN           NaN"
      ]
     },
     "execution_count": 149,
     "metadata": {},
     "output_type": "execute_result"
    }
   ],
   "source": [
    "# 귀무가설 : 각 범주에 따른 Value(선수의 시장가치)의 평균값의 차이가 없다.\n",
    "from statsmodels.stats.anova import anova_lm\n",
    "# 일원배치 분산분석(anova_lm)\n",
    "model = smf.ols('Value~Position_Class', data = fifa).fit()\n",
    "anova_lm(model)"
   ]
  },
  {
   "cell_type": "markdown",
   "id": "69459971",
   "metadata": {},
   "source": [
    "- F값 41.682396\n",
    "- P값 0.05보다 작기 때문에 귀무가설 기각\n",
    "- 따라서 Position_Class(4가지 포지션)와 Value(선수의 시장가치)는 통계적으로 유의미한 차이가 있다고 판단할 수 있다."
   ]
  },
  {
   "cell_type": "code",
   "execution_count": 151,
   "id": "0c279e60",
   "metadata": {},
   "outputs": [
    {
     "name": "stdout",
     "output_type": "stream",
     "text": [
      "        Multiple Comparison of Means - Tukey HSD, FWER=0.05        \n",
      "===================================================================\n",
      "  group1     group2    meandiff  p-adj    lower      upper   reject\n",
      "-------------------------------------------------------------------\n",
      "  Defender    Forward   930.3291  0.001   610.1302  1250.528   True\n",
      "  Defender GoalKeeper  -488.0626 0.0046  -863.0391  -113.086   True\n",
      "  Defender Midfielder   760.8347  0.001   486.0072 1035.6623   True\n",
      "   Forward GoalKeeper -1418.3917  0.001 -1841.4645 -995.3189   True\n",
      "   Forward Midfielder  -169.4944 0.5609  -507.0049  168.0162  False\n",
      "GoalKeeper Midfielder  1248.8973  0.001   859.0339 1638.7607   True\n",
      "-------------------------------------------------------------------\n"
     ]
    }
   ],
   "source": [
    "# 특히 네 가지 포지션들 중 특히나 어떠한 포지션들 간에 선수의 시장가치에 \n",
    "# 차이가 있는지 파악하기 위해 사후검정을 수행한다. \n",
    "from statsmodels.stats.multicomp import pairwise_tukeyhsd\n",
    "posthoc = pairwise_tukeyhsd(fifa.Value, fifa.Position_Class, alpha=0.05)\n",
    "print(posthoc)"
   ]
  },
  {
   "cell_type": "markdown",
   "id": "a910cf56",
   "metadata": {},
   "source": [
    "post-hoc을 사용하는 이유 :  t-test를 시행한후에 **집단간 차이가 있는지**를 통계수치를 통해 확인이 가능하기 때문."
   ]
  },
  {
   "cell_type": "markdown",
   "id": "c1e65b91",
   "metadata": {},
   "source": [
    "- 포지션 Forward-Midfielder는 유의수준이 0.05보다 크므로 통계적으로 시장가치에 대해서 차이가 없다고 볼 수 없다.\n",
    "- 반면 다른 모든 포지션에 대해서는 유의수준이 0.05보다 작으므로 통계적으로 시장가치에 대해 차이가 있다고 판단할 수 있다."
   ]
  },
  {
   "cell_type": "markdown",
   "id": "f8116ed4",
   "metadata": {},
   "source": [
    "Q4. Preferred Foot(주로 사용하는 발)과 Position_Class(재범주화 된 포지션)변수에 따라 Value(이적료)의 차이가 있는지를 알아보기 위해 이원배치분산분석을 수행하고 결과를 해석하시오."
   ]
  },
  {
   "cell_type": "code",
   "execution_count": 153,
   "id": "790884db",
   "metadata": {},
   "outputs": [
    {
     "data": {
      "text/html": [
       "<div>\n",
       "<style scoped>\n",
       "    .dataframe tbody tr th:only-of-type {\n",
       "        vertical-align: middle;\n",
       "    }\n",
       "\n",
       "    .dataframe tbody tr th {\n",
       "        vertical-align: top;\n",
       "    }\n",
       "\n",
       "    .dataframe thead th {\n",
       "        text-align: right;\n",
       "    }\n",
       "</style>\n",
       "<table border=\"1\" class=\"dataframe\">\n",
       "  <thead>\n",
       "    <tr style=\"text-align: right;\">\n",
       "      <th></th>\n",
       "      <th>sum_sq</th>\n",
       "      <th>df</th>\n",
       "      <th>F</th>\n",
       "      <th>PR(&gt;F)</th>\n",
       "    </tr>\n",
       "  </thead>\n",
       "  <tbody>\n",
       "    <tr>\n",
       "      <th>Position_Class</th>\n",
       "      <td>4.081002e+09</td>\n",
       "      <td>3.0</td>\n",
       "      <td>41.910</td>\n",
       "      <td>0.000</td>\n",
       "    </tr>\n",
       "    <tr>\n",
       "      <th>Preferred_Foot</th>\n",
       "      <td>1.644328e+08</td>\n",
       "      <td>1.0</td>\n",
       "      <td>5.066</td>\n",
       "      <td>0.024</td>\n",
       "    </tr>\n",
       "    <tr>\n",
       "      <th>Position_Class:Preferred_Foot</th>\n",
       "      <td>4.727252e+08</td>\n",
       "      <td>3.0</td>\n",
       "      <td>4.855</td>\n",
       "      <td>0.002</td>\n",
       "    </tr>\n",
       "    <tr>\n",
       "      <th>Residual</th>\n",
       "      <td>5.399144e+11</td>\n",
       "      <td>16634.0</td>\n",
       "      <td>NaN</td>\n",
       "      <td>NaN</td>\n",
       "    </tr>\n",
       "  </tbody>\n",
       "</table>\n",
       "</div>"
      ],
      "text/plain": [
       "                                     sum_sq       df       F  PR(>F)\n",
       "Position_Class                 4.081002e+09      3.0  41.910   0.000\n",
       "Preferred_Foot                 1.644328e+08      1.0   5.066   0.024\n",
       "Position_Class:Preferred_Foot  4.727252e+08      3.0   4.855   0.002\n",
       "Residual                       5.399144e+11  16634.0     NaN     NaN"
      ]
     },
     "execution_count": 153,
     "metadata": {},
     "output_type": "execute_result"
    }
   ],
   "source": [
    "# 귀무가설: 선수의 발에 따른 선수의 가치에는 차이가 없다. \n",
    "# 선수의 포지션에 따른 선수의 가치에는 차이가 없다. 발과 포지션간의 상호작용 효과가 없다.\n",
    "# 대립가설: 선수의 발에 따른 선수의 가치에는 차이가 있다. \n",
    "# 선수의 포지션에 따른 선수의 가치에는 차이가 있다. 발과 포지션간의 상호작용 효과가 있다.\n",
    "\n",
    "#이원배치분산분석\n",
    "model = smf.ols('Value ~ Position_Class * Preferred_Foot', fifa).fit()\n",
    "anova_lm(model, typ=2).round(3) #독립변수 여러개이리 때, 아노바 typ=2 "
   ]
  },
  {
   "cell_type": "markdown",
   "id": "1fc6f8d7",
   "metadata": {},
   "source": [
    "- 포지션과 발에 대해 p-value값이 유의주순 0.05보다 작다 -> 귀무가설 기각\n",
    "- 즉, 선수의 포지션에 따른 선수의 가치에 차이가 있고 선수의 발에 따른 선수 가치의 차이가 있다.\n",
    "- 또한, 발과 포지션 변수의 p값도 0.05보다 작으므로 귀무가설이 기각되며 선수의 발과 포지션의 상호작용에 의한 효과가 있다고 판단할 수 있다."
   ]
  },
  {
   "cell_type": "markdown",
   "id": "72d859c8",
   "metadata": {},
   "source": [
    "Q5.Age, Overall, Wage, Height_cm, Weight_lb 가 Value에 영향을 미치는지 알아보는 회귀분석을 단계적 선택법을 사용하여 수행하고 결과를 해석하시오."
   ]
  },
  {
   "cell_type": "markdown",
   "id": "7c7484a0",
   "metadata": {},
   "source": [
    "**변수 선택법(Variable Selection)**은     \n",
    "\n",
    "1.전진선택법(Forward Selection) / 2.후진소거법(Backward Elimination) / 3.단계적선택법(Stepwise Selection) 이 있다."
   ]
  },
  {
   "cell_type": "code",
   "execution_count": 154,
   "id": "e4587363",
   "metadata": {},
   "outputs": [
    {
     "data": {
      "text/plain": [
       "['Wage', 'Overall', 'Age', 'Height_cm']"
      ]
     },
     "execution_count": 154,
     "metadata": {},
     "output_type": "execute_result"
    }
   ],
   "source": [
    "import warnings\n",
    "warnings.filterwarnings('ignore')\n",
    "\n",
    "import statsmodels.api as sm\n",
    "\n",
    "def stepwise_selection(data, target,SL_in=0.05,SL_out = 0.05):\n",
    "    initial_features = data.columns.tolist()\n",
    "    best_features = []\n",
    "    while (len(initial_features)>0):\n",
    "        remaining_features = list(set(initial_features)-set(best_features))\n",
    "        new_pval = pd.Series(index=remaining_features)\n",
    "        for new_column in remaining_features:\n",
    "            model = sm.OLS(target, sm.add_constant(data[best_features+[new_column]])).fit()\n",
    "            new_pval[new_column] = model.pvalues[new_column]\n",
    "        min_p_value = new_pval.min()\n",
    "        if(min_p_value<SL_in):\n",
    "            best_features.append(new_pval.idxmin())\n",
    "            while(len(best_features)>0):\n",
    "                best_features_with_constant = sm.add_constant(data[best_features])\n",
    "                p_values = sm.OLS(target, best_features_with_constant).fit().pvalues[1:]\n",
    "                max_p_value = p_values.max()\n",
    "                if(max_p_value >= SL_out):\n",
    "                    excluded_feature = p_values.idxmax()\n",
    "                    best_features.remove(excluded_feature)\n",
    "                else:\n",
    "                    break \n",
    "        else:\n",
    "            break\n",
    "    return best_features\n",
    "    \n",
    "    \n",
    "X = fifa[['Wage','Overall','Age','Height_cm','Weight_lb']]\n",
    "y = fifa['Value'].values \n",
    "\n",
    "stepwise_selection(X,y)"
   ]
  },
  {
   "cell_type": "markdown",
   "id": "d20d6523",
   "metadata": {},
   "source": [
    "앞에서 변수선택의 중요성에 대해 언급했었다.      \n",
    "**선택된 변수는 ['Wage', 'Overall', 'Age', 'Height_cm']** 이다."
   ]
  },
  {
   "cell_type": "code",
   "execution_count": 157,
   "id": "da322183",
   "metadata": {},
   "outputs": [
    {
     "data": {
      "text/html": [
       "<div>\n",
       "<style scoped>\n",
       "    .dataframe tbody tr th:only-of-type {\n",
       "        vertical-align: middle;\n",
       "    }\n",
       "\n",
       "    .dataframe tbody tr th {\n",
       "        vertical-align: top;\n",
       "    }\n",
       "\n",
       "    .dataframe thead th {\n",
       "        text-align: right;\n",
       "    }\n",
       "</style>\n",
       "<table border=\"1\" class=\"dataframe\">\n",
       "  <thead>\n",
       "    <tr style=\"text-align: right;\">\n",
       "      <th></th>\n",
       "      <th>sum_sq</th>\n",
       "      <th>df</th>\n",
       "      <th>F</th>\n",
       "      <th>PR(&gt;F)</th>\n",
       "    </tr>\n",
       "  </thead>\n",
       "  <tbody>\n",
       "    <tr>\n",
       "      <th>Wage</th>\n",
       "      <td>1.826353e+11</td>\n",
       "      <td>1.0</td>\n",
       "      <td>26672.280256</td>\n",
       "      <td>0.000000</td>\n",
       "    </tr>\n",
       "    <tr>\n",
       "      <th>Overall</th>\n",
       "      <td>2.490562e+10</td>\n",
       "      <td>1.0</td>\n",
       "      <td>3637.246280</td>\n",
       "      <td>0.000000</td>\n",
       "    </tr>\n",
       "    <tr>\n",
       "      <th>Age</th>\n",
       "      <td>1.147466e+10</td>\n",
       "      <td>1.0</td>\n",
       "      <td>1675.772760</td>\n",
       "      <td>0.000000</td>\n",
       "    </tr>\n",
       "    <tr>\n",
       "      <th>Height_cm</th>\n",
       "      <td>5.140396e+07</td>\n",
       "      <td>1.0</td>\n",
       "      <td>7.507096</td>\n",
       "      <td>0.006152</td>\n",
       "    </tr>\n",
       "    <tr>\n",
       "      <th>Residual</th>\n",
       "      <td>1.139199e+11</td>\n",
       "      <td>16637.0</td>\n",
       "      <td>NaN</td>\n",
       "      <td>NaN</td>\n",
       "    </tr>\n",
       "  </tbody>\n",
       "</table>\n",
       "</div>"
      ],
      "text/plain": [
       "                 sum_sq       df             F    PR(>F)\n",
       "Wage       1.826353e+11      1.0  26672.280256  0.000000\n",
       "Overall    2.490562e+10      1.0   3637.246280  0.000000\n",
       "Age        1.147466e+10      1.0   1675.772760  0.000000\n",
       "Height_cm  5.140396e+07      1.0      7.507096  0.006152\n",
       "Residual   1.139199e+11  16637.0           NaN       NaN"
      ]
     },
     "execution_count": 157,
     "metadata": {},
     "output_type": "execute_result"
    }
   ],
   "source": [
    "# 선택된 변수들을 이용하여 분산분석\n",
    "model = smf.ols('Value~Wage+Overall+Age+Height_cm', fifa).fit()\n",
    "anova_lm(model, typ=2)"
   ]
  },
  {
   "cell_type": "code",
   "execution_count": 156,
   "id": "2b292a8c",
   "metadata": {},
   "outputs": [
    {
     "data": {
      "text/html": [
       "<table class=\"simpletable\">\n",
       "<tr>\n",
       "        <td>Model:</td>               <td>OLS</td>         <td>Adj. R-squared:</td>      <td>0.791</td>   \n",
       "</tr>\n",
       "<tr>\n",
       "  <td>Dependent Variable:</td>       <td>Value</td>             <td>AIC:</td>         <td>309167.6615</td>\n",
       "</tr>\n",
       "<tr>\n",
       "         <td>Date:</td>        <td>2021-08-18 19:03</td>        <td>BIC:</td>         <td>309206.2600</td>\n",
       "</tr>\n",
       "<tr>\n",
       "   <td>No. Observations:</td>        <td>16642</td>        <td>Log-Likelihood:</td>   <td>-1.5458e+05</td>\n",
       "</tr>\n",
       "<tr>\n",
       "       <td>Df Model:</td>              <td>4</td>           <td>F-statistic:</td>      <td>1.572e+04</td> \n",
       "</tr>\n",
       "<tr>\n",
       "     <td>Df Residuals:</td>          <td>16637</td>      <td>Prob (F-statistic):</td>    <td>0.00</td>    \n",
       "</tr>\n",
       "<tr>\n",
       "      <td>R-squared:</td>            <td>0.791</td>            <td>Scale:</td>        <td>6.8474e+06</td> \n",
       "</tr>\n",
       "</table>\n",
       "<table class=\"simpletable\">\n",
       "<tr>\n",
       "      <td></td>         <th>Coef.</th>   <th>Std.Err.</th>     <th>t</th>     <th>P>|t|</th>   <th>[0.025</th>     <th>0.975]</th>  \n",
       "</tr>\n",
       "<tr>\n",
       "  <th>Intercept</th> <td>-8690.8178</td> <td>588.2795</td> <td>-14.7733</td> <td>0.0000</td> <td>-9843.9084</td> <td>-7537.7273</td>\n",
       "</tr>\n",
       "<tr>\n",
       "  <th>Wage</th>       <td>184.1837</td>   <td>1.1278</td>  <td>163.3165</td> <td>0.0000</td>  <td>181.9731</td>   <td>186.3942</td> \n",
       "</tr>\n",
       "<tr>\n",
       "  <th>Overall</th>    <td>241.3450</td>   <td>4.0018</td>   <td>60.3096</td> <td>0.0000</td>  <td>233.5011</td>   <td>249.1889</td> \n",
       "</tr>\n",
       "<tr>\n",
       "  <th>Age</th>        <td>-202.1603</td>  <td>4.9384</td>  <td>-40.9362</td> <td>0.0000</td>  <td>-211.8401</td>  <td>-192.4805</td>\n",
       "</tr>\n",
       "<tr>\n",
       "  <th>Height_cm</th>   <td>-8.4446</td>   <td>3.0821</td>   <td>-2.7399</td> <td>0.0062</td>  <td>-14.4858</td>    <td>-2.4034</td> \n",
       "</tr>\n",
       "</table>\n",
       "<table class=\"simpletable\">\n",
       "<tr>\n",
       "     <td>Omnibus:</td>    <td>17089.038</td>  <td>Durbin-Watson:</td>      <td>1.407</td>   \n",
       "</tr>\n",
       "<tr>\n",
       "  <td>Prob(Omnibus):</td>   <td>0.000</td>   <td>Jarque-Bera (JB):</td> <td>3525378.426</td>\n",
       "</tr>\n",
       "<tr>\n",
       "       <td>Skew:</td>       <td>4.665</td>       <td>Prob(JB):</td>        <td>0.000</td>   \n",
       "</tr>\n",
       "<tr>\n",
       "     <td>Kurtosis:</td>    <td>73.690</td>    <td>Condition No.:</td>      <td>5577</td>    \n",
       "</tr>\n",
       "</table>"
      ],
      "text/plain": [
       "<class 'statsmodels.iolib.summary2.Summary'>\n",
       "\"\"\"\n",
       "                  Results: Ordinary least squares\n",
       "====================================================================\n",
       "Model:              OLS              Adj. R-squared:     0.791      \n",
       "Dependent Variable: Value            AIC:                309167.6615\n",
       "Date:               2021-08-18 19:03 BIC:                309206.2600\n",
       "No. Observations:   16642            Log-Likelihood:     -1.5458e+05\n",
       "Df Model:           4                F-statistic:        1.572e+04  \n",
       "Df Residuals:       16637            Prob (F-statistic): 0.00       \n",
       "R-squared:          0.791            Scale:              6.8474e+06 \n",
       "--------------------------------------------------------------------\n",
       "             Coef.    Std.Err.    t     P>|t|    [0.025     0.975]  \n",
       "--------------------------------------------------------------------\n",
       "Intercept  -8690.8178 588.2795 -14.7733 0.0000 -9843.9084 -7537.7273\n",
       "Wage         184.1837   1.1278 163.3165 0.0000   181.9731   186.3942\n",
       "Overall      241.3450   4.0018  60.3096 0.0000   233.5011   249.1889\n",
       "Age         -202.1603   4.9384 -40.9362 0.0000  -211.8401  -192.4805\n",
       "Height_cm     -8.4446   3.0821  -2.7399 0.0062   -14.4858    -2.4034\n",
       "--------------------------------------------------------------------\n",
       "Omnibus:             17089.038     Durbin-Watson:        1.407      \n",
       "Prob(Omnibus):       0.000         Jarque-Bera (JB):     3525378.426\n",
       "Skew:                4.665         Prob(JB):             0.000      \n",
       "Kurtosis:            73.690        Condition No.:        5577       \n",
       "====================================================================\n",
       "* The condition number is large (6e+03). This might indicate\n",
       "strong multicollinearity or other numerical problems.\n",
       "\"\"\""
      ]
     },
     "execution_count": 156,
     "metadata": {},
     "output_type": "execute_result"
    }
   ],
   "source": [
    "model.summary2()"
   ]
  },
  {
   "cell_type": "markdown",
   "id": "1a5c02ba",
   "metadata": {},
   "source": [
    "모형 방정식은     \n",
    "y = -8690.818 + 184.184\\*Wage + 241.345\\*Overall -202.160\\*Age -8.446\\*Height_cm\n",
    "\n",
    "\n",
    "모형의 결정계수(R-squared)는 0.79 이다.     \n",
    "즉, 다변량 회귀식은 전체 데이터의 80%를 설명하고있다고 판단할 수 있다.    \n",
    "    \n",
    "F통계량의 p값이 0.05보다 작음으로 귀무가설이 기각되며     \n",
    "모형이 통계적으로 유의하다고 판단할 수 있다.  "
   ]
  }
 ],
 "metadata": {
  "kernelspec": {
   "display_name": "Python 3",
   "language": "python",
   "name": "python3"
  },
  "language_info": {
   "codemirror_mode": {
    "name": "ipython",
    "version": 3
   },
   "file_extension": ".py",
   "mimetype": "text/x-python",
   "name": "python",
   "nbconvert_exporter": "python",
   "pygments_lexer": "ipython3",
   "version": "3.8.10"
  }
 },
 "nbformat": 4,
 "nbformat_minor": 5
}
