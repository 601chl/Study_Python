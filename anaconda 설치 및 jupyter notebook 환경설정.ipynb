{
 "cells": [
  {
   "cell_type": "markdown",
   "id": "2619cf17",
   "metadata": {},
   "source": [
    "#20210621_아나콘다 설치작업환경 설정 정리"
   ]
  },
  {
   "cell_type": "markdown",
   "id": "d01cef4f",
   "metadata": {},
   "source": [
    "아나콘다 설치(https://www.anaconda.com/products/individual)\n",
    "- 다운로드 후 파일: Anaconda3-2021.05-Windows-x86_64\n"
   ]
  },
  {
   "cell_type": "markdown",
   "id": "aa54f405",
   "metadata": {},
   "source": [
    "1. anaconda prompt 실행 \n",
    "> 버전 설치 : conda create -n cakd3(가상환경명) python=3.8\n",
    "> 가상환경 시작 : conda activate cakd3(가상환경명)\n",
    "\n",
    "- 앞부분 (base) -> (cakd3) 가상환경명으로 전환"
   ]
  },
  {
   "cell_type": "markdown",
   "id": "c3408cd0",
   "metadata": {},
   "source": [
    "2. jupyter notebook 설치     \n",
    "앞에 가상환경명 확인 후 >conda install jupyter notebook\n",
    "- 시작키에 Jupyter Notebook (cakd3) 설치된지 확인."
   ]
  },
  {
   "cell_type": "markdown",
   "id": "80284a8a",
   "metadata": {},
   "source": [
    "3. Jupyter Notebook (cakd3) 자세히, 폴더 위치로가서 오른쪽마우스 속성   \n",
    "-> 폴더위치 변경"
   ]
  },
  {
   "cell_type": "markdown",
   "id": "abad2b5f",
   "metadata": {},
   "source": [
    "4. Jupyter Notebook (cakd3) 연결프로그램 크롬으로 설정.     \n",
    "- Jupyter Notebook (cakd3) 클릭해서 설정된 폴더로 크롬에서 실행되는지 확인.    "
   ]
  },
  {
   "cell_type": "markdown",
   "id": "311740ba",
   "metadata": {},
   "source": [
    "5. anaconda prompt으로 다시 들어가서 패키지 설치     \n",
    "> conda install numpy pandas matplotlib seaborn scipy scikit-learn tensorflow keras    \n",
    "##### 기본채널에 패키지 부재시 : conda install –c conda-forge \n",
    "\n",
    "-  conda list 로 패키지 설치 확인하기.\n",
    "\n"
   ]
  },
  {
   "cell_type": "markdown",
   "id": "5a6cff6e",
   "metadata": {},
   "source": [
    "6. 가상환경 종료 : conda deactivate "
   ]
  },
  {
   "cell_type": "markdown",
   "id": "b29eb35c",
   "metadata": {},
   "source": [
    "7. 시스템환경변수편집에서 고급->환경변수->시스템변수\\변수\\Path 에 4가지 경로 추가.   \n",
    "C:\\ca_da\\anaconda3   \n",
    "C:\\ca_da\\Anaconda3\\Library\\mingw-w64\\bin    \n",
    "C:\\ca_da\\Anaconda3\\Library\\bin    \n",
    "C:\\ca_da\\Anaconda3\\Scripts    "
   ]
  },
  {
   "cell_type": "markdown",
   "id": "a38a28c2",
   "metadata": {},
   "source": [
    "8. cmd 에서 >conda list 그리고 >conda env list로 가상환경 확인.   "
   ]
  }
 ],
 "metadata": {
  "kernelspec": {
   "display_name": "Python 3",
   "language": "python",
   "name": "python3"
  },
  "language_info": {
   "codemirror_mode": {
    "name": "ipython",
    "version": 3
   },
   "file_extension": ".py",
   "mimetype": "text/x-python",
   "name": "python",
   "nbconvert_exporter": "python",
   "pygments_lexer": "ipython3",
   "version": "3.8.10"
  }
 },
 "nbformat": 4,
 "nbformat_minor": 5
}
