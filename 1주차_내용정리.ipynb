{
 "cells": [
  {
   "cell_type": "markdown",
   "id": "813ec1c3",
   "metadata": {},
   "source": [
    "## 파이썬 기초\n",
    "참조\n",
    "- 표현식 : 어떠한 값을 만들어 내는 간단한 코드. 273, 10 + 20 + 30, \"Python Programming\"\n",
    "- 문장 : 표현식이 하나 이상 모이면 문장. print(\"Hello\")\n",
    "- 프로그램 : 문장이 모여서 프로그램\n",
    "- 식별자 : 프로그램밍 언어에서 이름을 붙일 때 사용하는 단어. 주로 변수 또는 함수 이름 등으로 사용\n",
    "- 주석 : 프로그램을 설명하기 위해 사용. # 기호로 주석 처리\n",
    "- 연산자 : 스스로 값이 되는 것이 아니고 값과 값 사이에 무언가 기능을 적용할 때 사용\n",
    "- 자료 : 리터럴이라고 하는데 숫자이든 문자이든 어떠한 값 자체를 의미. 1, 10, \"Hello\"\n",
    "- 키워드 : 파이썬이 만들어질 때 이미 사용하겠다고 예약해 놓는 것. False, None, True, ...\n",
    "- 프로그램밍 언어에서 사용자가 이름을 정할 때 키워드는 사용할 수 없음\n"
   ]
  },
  {
   "cell_type": "code",
   "execution_count": null,
   "id": "540c2bee",
   "metadata": {},
   "outputs": [],
   "source": [
    "!python -V #명령할때 느낌표(!) 사용, 파이썬버전확인"
   ]
  },
  {
   "cell_type": "code",
   "execution_count": null,
   "id": "b8669027",
   "metadata": {},
   "outputs": [],
   "source": [
    "# 표현식\n",
    "print(273)\n",
    "print(10+20+30)  #숫자\n",
    "\"python programming\"  #문자"
   ]
  },
  {
   "cell_type": "code",
   "execution_count": null,
   "id": "404e1838",
   "metadata": {},
   "outputs": [],
   "source": [
    "# 표현식이 하나 이상씩 모이면 문장\n",
    "print(52, 'Hello Python', 5+3)"
   ]
  },
  {
   "cell_type": "code",
   "execution_count": null,
   "id": "756b4950",
   "metadata": {},
   "outputs": [],
   "source": [
    "# 문장이 모여서 프로그램\n",
    "a=1;b=2;c=a+b\n",
    "print(c)"
   ]
  },
  {
   "cell_type": "code",
   "execution_count": null,
   "id": "2ae71220",
   "metadata": {},
   "outputs": [],
   "source": [
    "#Keyword 알고싶으면\n",
    "import keyword\n",
    "print(keyword.kwlist)"
   ]
  },
  {
   "cell_type": "markdown",
   "id": "c8928134",
   "metadata": {},
   "source": [
    "#### 식별자 기본 규칙\n",
    "- 키워드를 사용하면 안됨.\n",
    "- 특수문자는 언더 바(_) 만 사용함.\n",
    "- 숫자로 시작하면 안됨.\n",
    "- 공백을 포함할 수 없음."
   ]
  },
  {
   "cell_type": "code",
   "execution_count": null,
   "id": "3af8c576",
   "metadata": {},
   "outputs": [],
   "source": [
    "#식별자 예시\n",
    "break #키워드\n",
    "273alpha #숫자\n",
    "alpha\n",
    "_alpah #특수문자는 언더바(_)만 사용\n",
    "Alpha\n",
    "ALPHA\n",
    "has space #공백"
   ]
  },
  {
   "cell_type": "markdown",
   "id": "f89b05c5",
   "metadata": {},
   "source": [
    "#### 파이썬은 snake_case와 CamelCase를 모두 사용\n",
    "- itemlist     item_list(snake_case)  ItemList(camelcase)\n",
    "- loginstatus  login_status           LoginStatus\n",
    "- 캐멀 케이스(대문자로 시작) 주로 클래스 이름쓸때 이용.\n",
    "- 스네이크케이스(소문자로 시작) 뒤에 또 괄호()가 있으면 그거는 함수.\n",
    "- 스네이크케이스(소문자로 시작) 뒤에 또 괄호()가 없으면 그거는 변수."
   ]
  },
  {
   "cell_type": "code",
   "execution_count": null,
   "id": "25fe3318",
   "metadata": {},
   "outputs": [],
   "source": [
    "# 파이썬은 사람이 생각하는 방식을 그대로 표현할 수 있는 언어\n",
    "if 3 in [1,2,3,4]: print('3이 있습니다')"
   ]
  },
  {
   "cell_type": "code",
   "execution_count": null,
   "id": "0c9a6627",
   "metadata": {},
   "outputs": [],
   "source": [
    "# 파이썬 자료형 - 숫자형(정수,실수,8진수.16진수)\n",
    "a=123\n",
    "b=-123\n",
    "c=0\n",
    "d=1.23\n",
    "e=0o177  # 8진수 0O 또는 0o 으로 시작\n",
    "f=0xABC  # 16진수 0x로 시작"
   ]
  },
  {
   "cell_type": "code",
   "execution_count": null,
   "id": "16a02d03",
   "metadata": {},
   "outputs": [],
   "source": [
    "# 사칙연산\n",
    "a=10\n",
    "b=2\n",
    "c=a+b\n",
    "d=a*b\n",
    "e=a/b \n",
    "f=a%b #나눠서 나머지\n",
    "g=a//b #몫\n",
    "h=2**3 #제곱"
   ]
  },
  {
   "cell_type": "code",
   "execution_count": null,
   "id": "47ce663d",
   "metadata": {},
   "outputs": [],
   "source": [
    "# 다른 타입간 연산은 안됨.\n",
    "string = \"문자열\"\n",
    "number=273\n",
    "string + number\n",
    "#TypeError"
   ]
  },
  {
   "cell_type": "code",
   "execution_count": null,
   "id": "07a3c416",
   "metadata": {},
   "outputs": [],
   "source": [
    "# (문자, 문자) 같은타입간 연산은 됨.\n",
    "string = \"문자열 \"\n",
    "number='273'\n",
    "string + number"
   ]
  },
  {
   "cell_type": "code",
   "execution_count": null,
   "id": "9cff0dc5",
   "metadata": {},
   "outputs": [],
   "source": [
    "# 복합 대입 연산자\n",
    "num=10\n",
    "num+=10 # 더한다음에 이퀄(=) , num에 10을 더한것을 num으로 변경. num=20\n",
    "num*=10 # num에 곱하기 10을 num으로 num=200"
   ]
  },
  {
   "cell_type": "code",
   "execution_count": null,
   "id": "605f39df",
   "metadata": {},
   "outputs": [],
   "source": [
    "# 사용자 입력 \n",
    "input('인사말을 입력하세요: ')"
   ]
  },
  {
   "cell_type": "code",
   "execution_count": null,
   "id": "fc010c9c",
   "metadata": {},
   "outputs": [],
   "source": [
    "num1 = input('숫자를 입력하세요 ')\n",
    "num2 = input('숫자를 입력하세요 ')\n",
    "print(num1+num2)\n",
    "# input() 함수를 사용하면 숫자도 문자형으로 출력되어 숫자연산을 위해서는 변환 필요.\n",
    "\n",
    "num1 = input('숫자를 입력하세요 ') \n",
    "num1_n=int(num1)\n",
    "num2 = input('숫자를 입력하세요 ')\n",
    "num2_n=int(num2)\n",
    "print(num1_n+num2_n)"
   ]
  },
  {
   "cell_type": "code",
   "execution_count": null,
   "id": "5542471f",
   "metadata": {},
   "outputs": [],
   "source": [
    "# 문자열 \"\",'',\"\"\" \"\"\",''' '''\n",
    "# 문자열 연산\n",
    "a1 = 'Python'\n",
    "a2 = ' is easy to learn'\n",
    "print(a1+a2)\n",
    "print(a1*3+a2)\n",
    "print(\"=\"*20)\n",
    "#'' 안에 '써야할 때,\\' 로 이용 -ex) 'python\\'s is valuable he says'"
   ]
  },
  {
   "cell_type": "markdown",
   "id": "096ec5b2",
   "metadata": {},
   "source": [
    "--------------------------------------------------------------------------------------------------------"
   ]
  },
  {
   "cell_type": "markdown",
   "id": "e579aa90",
   "metadata": {},
   "source": [
    "#### 리스트, 튜플, 딕셔너리, 집합\n",
    "1) 리스트    \n",
    "수, 문자, 수문자 다들어가고 인덱싱가능 대괄호[], 콤마\n",
    "   \n",
    "2) 튜플    \n",
    "리스트와 대부분 비슷한데, 변경이 안됨. 형태 소괄호(). 원소가 하나일떄 콤마가 뒤에 붙는다\n",
    "    \n",
    "3) 딕셔너리    \n",
    "키-값 쌍으로가진다. 인덱싱 안됨, 순서없음. 키로 값찾는다. 형태 중괄호{}\n",
    "    \n",
    "4) 집합    \n",
    "중복을 허용하지 않고 순서가 없다. 형태 대괄호 결과값 중괄호형태.\n",
    "\n",
    "- 파이썬으로 표현 방벅 익히기.\n",
    "- 기본적인 데이터 형태 이해\n",
    "- 데이터로 프로그램을 하려면 조건, 반복, 제어문 + 여러 함수를 알아야함\n",
    "- 다양한 연산방법 추가로 알아야함\n",
    "- 위의 것들을 믹스하여 프로그램 할 수 있음."
   ]
  },
  {
   "cell_type": "code",
   "execution_count": null,
   "id": "a749de70",
   "metadata": {},
   "outputs": [],
   "source": [
    "# 자료형 - list\n",
    "# 리스트는 [] 로 표시하며 []안의 요소를(,)콤마로 구분하여 순서있게 나열\n",
    "list1=[1,2,3,4,5]\n",
    "list2=['a','b','c']\n",
    "list3=[1,'a','abc',[1,2,3,4,5],['a','b','c']]"
   ]
  },
  {
   "cell_type": "code",
   "execution_count": null,
   "id": "a9139d7b",
   "metadata": {},
   "outputs": [],
   "source": [
    "#빈리스트 2가지 방법,-보통 빈 리스트에 새 값 추가하는 방식 사용\n",
    "a=[]\n",
    "b=list()"
   ]
  },
  {
   "cell_type": "code",
   "execution_count": null,
   "id": "94482460",
   "metadata": {},
   "outputs": [],
   "source": [
    "#range 사용하여 리스트 만들기 \n",
    "# - range : 연속된 숫자 생성\n",
    "range(10) \n",
    "#0~9까지 들어있는 리스트 생성됨.\n",
    "#리스트=list(range(시작,끝)) \n",
    "# * 끝은 포함되지 않음(끝-1에서 끝남.)\n",
    "# range에서 증가폭, 리스트 \n",
    "# li = list(range(시작, 끝, 증가폭)) * 끝은 포함되지 않음\n",
    "c = list(range(-4, 10, 2))  # -4 에서 9 까지 2씩증가하는 숫자들의 리스트"
   ]
  },
  {
   "cell_type": "code",
   "execution_count": null,
   "id": "92643f18",
   "metadata": {},
   "outputs": [],
   "source": [
    "# 인덱싱\n",
    "list1=[1,2,3,4,5]\n",
    "list1[4]  #출력 : 5 , 인덱스 0 부터 시작. \n",
    "# 리스트 인덱스 4번째 자리는 5가 들어가 있다.\n",
    "list1[-1]  #출력 : 5 ,뒤에서 첫번째\n",
    "list1[:] #콜론, 전체리스트출력\n",
    "list1[0:5]  # 슬라이싱 인덱스 0~4 까지, 여기서도 끝-1."
   ]
  },
  {
   "cell_type": "code",
   "execution_count": null,
   "id": "26054bbe",
   "metadata": {},
   "outputs": [],
   "source": [
    "# 리스트 수정, 삭제\n",
    "a=[0,1,2,3,4,5,6,7,8,9]\n",
    "b=['a','b','c']\n",
    "a[0]=1 # a의 요소 0번째자리(위의 리스트에서는 '0')를 1로 수정.\n",
    "del b[0] #b의 요소 0번째자리 삭제.\n",
    "\n",
    "#리스트끼리 합치는것도 가능.\n",
    "c=a+b"
   ]
  },
  {
   "cell_type": "code",
   "execution_count": null,
   "id": "1e349a4d",
   "metadata": {},
   "outputs": [],
   "source": [
    "#리스트 정렬 sort\n",
    "s=[1, 1, 2, 3, 4, 5, 6, 7, 8, 9, 2, 2, 1]\n",
    "s.sort() #오름차순으로 정렬.\n",
    "\n",
    "#내림차순으로 정렬. reverse=False(기본값)면 오름차순.\n",
    "s1 =sorted(s, reverse=True) "
   ]
  },
  {
   "cell_type": "code",
   "execution_count": 3,
   "id": "8300d4a2",
   "metadata": {},
   "outputs": [
    {
     "name": "stdout",
     "output_type": "stream",
     "text": [
      "[81, 46, 75, 48, 10, 75, 11, 48, 46, 59, 88, 28, 97, 1, 3, 75, 57, 64, 69, 18, 90, 85, 98, 65, 21, 75, 91, 18, 92, 92, 42, 38, 70, 23, 62, 21, 10, 59, 2, 75, 57, 65, 81, 54, 78, 77, 7, 18, 40, 31, 75, 73, 58, 56, 96, 78, 58, 73, 69, 56, 51, 74, 66, 44, 72, 67, 53, 89, 60, 99, 27, 99, 65, 9, 8, 69, 73, 42, 87, 9, 28, 48, 7, 15, 15, 55, 72, 65, 81, 78, 98, 74, 4, 48, 19, 89, 60, 55, 75, 13]\n"
     ]
    }
   ],
   "source": [
    "# 인덱스 위치 반환\n",
    "import numpy as np \n",
    "c= np.random.randint(100, size=100).tolist()\n",
    "print(c)"
   ]
  },
  {
   "cell_type": "code",
   "execution_count": 4,
   "id": "d0031dca",
   "metadata": {},
   "outputs": [
    {
     "data": {
      "text/plain": [
       "3"
      ]
     },
     "execution_count": 4,
     "metadata": {},
     "output_type": "execute_result"
    }
   ],
   "source": [
    "# 개수 반환 리스트.count(개수알고싶은요소)\n",
    "c=[1,1,3,3,3,5,5]\n",
    "c.count(3)"
   ]
  },
  {
   "cell_type": "code",
   "execution_count": null,
   "id": "9aaa66bd",
   "metadata": {},
   "outputs": [],
   "source": [
    "#리스트에 추가, 하나씩\n",
    "h.append(6)\n",
    "#리스트 확장, 리스트가능\n",
    "h.extend([4,5])"
   ]
  },
  {
   "cell_type": "code",
   "execution_count": null,
   "id": "c160af15",
   "metadata": {},
   "outputs": [],
   "source": [
    "#튜플 - 리스트랑 다 똑같은데 \n",
    "#요소값 변경 못하는 것과 괄호만 다름.\n",
    "tuple1=(1,2,3,4,5)\n",
    "tuple2=('a','b','c')\n",
    "tuple3=(1,'a','abc',[1,2,3,4,5],['a','b','c'])\n",
    "tuple1[:]\n",
    "tuple2[2]\n",
    "\n",
    "#튜플3리스트의 0,1,2,3,4 요소자리 3에있는리스트의 요소자리 4번째거 반환.\n",
    "tuple3[3][4] "
   ]
  },
  {
   "cell_type": "code",
   "execution_count": null,
   "id": "e4119d39",
   "metadata": {},
   "outputs": [],
   "source": [
    "#튜플의 요소 값은 변경할 수 없음 \n",
    "#-프로그램에서 그 값이 항상 변하지 않아야되는 경우 사용"
   ]
  },
  {
   "cell_type": "code",
   "execution_count": null,
   "id": "663129a0",
   "metadata": {},
   "outputs": [],
   "source": [
    "tuple1[0]=6\n",
    "print(tuple1)   #요소 값 변경불가 -> 에러"
   ]
  },
  {
   "cell_type": "code",
   "execution_count": null,
   "id": "5c97bb35",
   "metadata": {},
   "outputs": [],
   "source": [
    "#튜플에서 한개의 요소만 가질 경우 뒤에 콤마(,)를 붙여야 함.\n",
    "#-콤마없으면 그냥 값(튜플값이 되지 못함)\n",
    "t1=(1,) \n",
    "t2=1,2,3 #튜플 괄호없이도 사용가능.\n",
    "t2*3   #튜플 곱셉\n",
    "t1+t2  #튜플 덧셈\n",
    "len(t3)  #튜플 자료형 개수(길이) 구하기,리스트랑 같음.\n"
   ]
  },
  {
   "cell_type": "code",
   "execution_count": null,
   "id": "5ad0d2af",
   "metadata": {},
   "outputs": [],
   "source": [
    "#딕셔너리 : 키와 값을 하나의 요소로 하는 순서가 없는 집합) / \n",
    "# 인덱싱이 없어서 키로 딕셔너리의 값을 찾는다.\n",
    "#(키와 값을 하나로 하는 순서없는집합)\n",
    "d1 ={'a':1,'b':2,'c':3}\n",
    "d1['a']\n"
   ]
  },
  {
   "cell_type": "code",
   "execution_count": null,
   "id": "8648913f",
   "metadata": {},
   "outputs": [],
   "source": [
    "print(d1.keys())   #딕셔너리 키 출력\n",
    "print(d1.values()) #딕셔너리 값 출력\n",
    "print(d1.items())  #딕셔너리 키-값(쌍) 출력"
   ]
  },
  {
   "cell_type": "code",
   "execution_count": null,
   "id": "5b7f1998",
   "metadata": {},
   "outputs": [],
   "source": [
    "# 집합, set(중복을 허용하지 않으며 순서가 없다.) / 인덱싱 불가,\n",
    "#리스트랑 튜플로 변환 후 인덱싱 가능. \n",
    "#* 인덱싱 가능한거 : 리스트, 튜플\n",
    "s1=set([1,2,5,4,3])\n",
    "s2=set('Hello') #출력 : {'l', 'o', 'H', 'e'} , 중복안되고, 순서없음."
   ]
  },
  {
   "cell_type": "code",
   "execution_count": null,
   "id": "d245167f",
   "metadata": {},
   "outputs": [],
   "source": [
    "#집합은 인덱싱으로 값을 얻을 수 없으며 필요시 \n",
    "#리스트나 튜플로 변환 후 인덱싱\n",
    "l1=list(s1)  #리스트로 변환"
   ]
  },
  {
   "cell_type": "code",
   "execution_count": null,
   "id": "f6322871",
   "metadata": {},
   "outputs": [],
   "source": [
    "#집합에서 문법\n",
    "#합집합 | , 교집합 &, 차집합 - \n",
    "#값 추가 add, 갑 여러개 추가 update, 값 제거 remove"
   ]
  },
  {
   "cell_type": "markdown",
   "id": "bdb04d40",
   "metadata": {},
   "source": [
    "----------------------------------------------------"
   ]
  },
  {
   "cell_type": "code",
   "execution_count": null,
   "id": "955e3018",
   "metadata": {},
   "outputs": [],
   "source": [
    "# '들여쓰기' 자바랑 구별되는 점. \n",
    "# 자바는 {} 많이 쓰는데 \n",
    "# 파이써는 들여쓰기로 구분함.들여쓰기 반드시 잘 해줘야함.\n",
    "\n",
    "li=['a','b','c']\n",
    "if 'a' in li:                    #(:)콜론\n",
    "    print('a가 li에 있습니다.')  #들여쓰기, 스페이스바 4칸\n",
    "else:\n",
    "    print('a가 li에 없습니다.')"
   ]
  },
  {
   "cell_type": "code",
   "execution_count": null,
   "id": "4490fee1",
   "metadata": {},
   "outputs": [],
   "source": [
    "#***포멧함수, 포멧에 맞춰서 출력됨.\n",
    "f1=\"{} 선수가 {}등입니다.\".format('홍길동',1)\n",
    "#원하는 위치에 가능 f1=\"{1} 선수가 {0}등입니다.\".format(1,'홍길동')\n",
    "print(\"%s 선수가 %d등입니다.\" %(\"홍길동\",1))  \n",
    "#문자일떄 %s, 숫자는 %d"
   ]
  },
  {
   "cell_type": "code",
   "execution_count": null,
   "id": "632d8bd2",
   "metadata": {},
   "outputs": [],
   "source": [
    "#***포맷함수 - 자리수 넣기 {:d} / 소숫점자리{:f}\n",
    "ex2=12345\n",
    "f2='{:d}'.format(ex2)  #{:d} \n",
    "f3='{:10d}'.format(ex2)  #{:10d} 10자리 자리수\n",
    "f5='{:15.2f}'.format(ex3) #{:자리수.소수점뒷자리수f}"
   ]
  },
  {
   "cell_type": "markdown",
   "id": "ce7be74e",
   "metadata": {},
   "source": [
    "______________________________"
   ]
  },
  {
   "cell_type": "markdown",
   "id": "821bcc1e",
   "metadata": {},
   "source": [
    "### 프로그램 구조 쌓기\n",
    "#### 제어문\n",
    "> if, while, for 등   \n",
    "\n",
    "if 가정    \n",
    "for 범위지정하에 반복     \n",
    "while - 조건이 지정될떄까지 무한반복     "
   ]
  },
  {
   "cell_type": "markdown",
   "id": "483e36ac",
   "metadata": {},
   "source": [
    "### if\\~elif\\~else"
   ]
  },
  {
   "cell_type": "code",
   "execution_count": null,
   "id": "8886fb53",
   "metadata": {},
   "outputs": [],
   "source": [
    "#제어문 - if~elif~else\n",
    "# \"수입과 지출금액을 비교해서 수입이 많으면 저축 증가, \n",
    "# 반대이면 빚이 증가, 같으면 현상 유지\" \n",
    "# - 필요한 변수: 수입, 지출\n",
    "\n",
    "#수입\n",
    "i=5,000,000  \n",
    "#지출\n",
    "e=3,000,000  #키워드 쓰면 안된다.\n",
    "\n",
    "if i>e :                   #(:)콜론, 들여쓰기 주의\n",
    "    print('저축 증가')\n",
    "elif i<e :\n",
    "    print('빚이 증가')\n",
    "else:\n",
    "    print('현상 유지')"
   ]
  },
  {
   "cell_type": "markdown",
   "id": "ef9b3634",
   "metadata": {},
   "source": [
    "**시간 모듈**   \n",
    "import datetime     \n",
    "t = datetime.datetime.now() 을 가지고 포맷을 이용하여 출력."
   ]
  },
  {
   "cell_type": "code",
   "execution_count": 5,
   "id": "f822a41b",
   "metadata": {},
   "outputs": [
    {
     "data": {
      "text/plain": [
       "datetime.datetime(2021, 7, 7, 21, 45, 42, 858272)"
      ]
     },
     "execution_count": 5,
     "metadata": {},
     "output_type": "execute_result"
    }
   ],
   "source": [
    "import datetime\n",
    "now= datetime.datetime.now()\n",
    "now"
   ]
  },
  {
   "cell_type": "code",
   "execution_count": 6,
   "id": "2e44f995",
   "metadata": {},
   "outputs": [
    {
     "data": {
      "text/plain": [
       "'2021년'"
      ]
     },
     "execution_count": 6,
     "metadata": {},
     "output_type": "execute_result"
    }
   ],
   "source": [
    "a=str(now.year)\n",
    "f1=\"%s년\"%a\n",
    "f1"
   ]
  },
  {
   "cell_type": "code",
   "execution_count": null,
   "id": "671c284c",
   "metadata": {},
   "outputs": [],
   "source": [
    "print(now.year,\"년\")   #포멧되어 출력됨.\n",
    "print(now.month,\"월\")   \n",
    "print(now.day,\"일\")\n",
    "print(now.hour,\"시\")\n",
    "print(now.minute,\"분\")\n",
    "print(now.second,\"초\")"
   ]
  },
  {
   "cell_type": "markdown",
   "id": "fb30a575",
   "metadata": {},
   "source": [
    "### for\\~continue\\~break    "
   ]
  },
  {
   "cell_type": "code",
   "execution_count": null,
   "id": "838d904e",
   "metadata": {},
   "outputs": [],
   "source": [
    "#for 빈복문;범위지정- 컴퓨터 이점, 데이터 분석시 많이 사용됨\n",
    "# - 가중, 복합 등 다양하게 이용됨\n",
    "#**for 중요 데이터 전처리 과정에서 똑같은 처리를 해줘야 할 때,  \n",
    "# ex)문자 -> 숫자로 인코딩 \n",
    "\n",
    "numbers=[5,15,6,20,7,25]   #리스트 각각 하나의 넘버\n",
    "\n",
    "for number in numbers:  #넘버들에있는 넘버가 하나씩 들여씨기로 가서 실행됨.\n",
    "    print(number)       #때문에 하나씩 넘버를 순서대로 끄집어내서 출력."
   ]
  },
  {
   "cell_type": "code",
   "execution_count": null,
   "id": "fbf5dc9e",
   "metadata": {},
   "outputs": [],
   "source": [
    "# 제어문 - for~continue~break\n",
    "#1~10 범위의 정수에서 1부터 5까지만 출력하세요\n",
    "for i in range(1,11):  \n",
    "    print(i,)\n",
    "    if i == 5:\n",
    "        break"
   ]
  },
  {
   "cell_type": "code",
   "execution_count": 15,
   "id": "111f34f8",
   "metadata": {},
   "outputs": [
    {
     "name": "stdout",
     "output_type": "stream",
     "text": [
      "1 2 3 4 5 "
     ]
    }
   ],
   "source": [
    "# 해설\n",
    "for i in range(1,11):  #in range(1:11) 시작 1, 끝 11-1\n",
    "    print(i,end=' ')   #end=' ' 끝을 공백으로 (줄바꿈 -> 공백)\n",
    "    if i < 5:    #5를 넣었을때까지라고 이해.\n",
    "        continue    #pass\n",
    "    else:\n",
    "        break       #끝냄"
   ]
  },
  {
   "cell_type": "code",
   "execution_count": null,
   "id": "599155fa",
   "metadata": {},
   "outputs": [],
   "source": [
    "#Q. numbers 리스트에서 15,20,25를 출력하세요.(for문과 if조건 사용 필수)\n",
    "numbers = [5,15,6,20,7,25]\n",
    "for i in numbers:\n",
    "    if i >= 15:\n",
    "        print(i,end=' ')\n",
    "#해설 \n",
    "for number in numbers:\n",
    "    if number < 15:\n",
    "        continue\n",
    "    else:\n",
    "        print(number,end=' ') "
   ]
  },
  {
   "cell_type": "markdown",
   "id": "a3792f3a",
   "metadata": {},
   "source": [
    "### while"
   ]
  },
  {
   "cell_type": "code",
   "execution_count": null,
   "id": "03cc3454",
   "metadata": {},
   "outputs": [],
   "source": [
    "# while(조건을 만족하는 한_참;true인 한 - 무한반복)\n",
    "\n",
    "#Q.정수 1부터 n까지 더할 때 그 합이 \n",
    "# 1000보다 커지게 되는 n과 합을 구하세요. \n",
    "\n",
    "x=1\n",
    "sum = 0    #변수설정\n",
    "while 1:   #0만 아니면됨, 조건 만족한다는 true 의미 입력\n",
    "           #참(True, 0이아닌숫자, \"abc\", [1,2,3],(1,2,3){\"a\":\"b\"}) \n",
    "           #거짓(False,0,\"\",[],(),{})\n",
    "    sum += x     #x=x+1  여기다 두면,x 45번째가 더해지고 +1 = 46이후에 조건이 (반복 중 false 포함)break가 온다.\n",
    "                 #+ 경우에 따라 필요할 때 사용.\n",
    "    if sum > 1000:\n",
    "        print(x)\n",
    "        print(sum)\n",
    "        break\n",
    "    x= x+1\n",
    "   #x = x+1 뒤에둬야 딱 45번째 n에 해당되는 것(넘는것이 true인 경우)을 더해주고 바로 break"
   ]
  },
  {
   "cell_type": "code",
   "execution_count": null,
   "id": "a0feb0dd",
   "metadata": {},
   "outputs": [],
   "source": [
    "#연습문제\n",
    "#Q. while 문을 사용해 1부터 1000까지의 정수 중 3의 배수의 합을 구해 보세요.\n",
    "\n",
    "y1=1\n",
    "sum1=0  #변수 sum1\n",
    "while y1 < 1001:\n",
    "    if y1 % 3 == 0:   #3의배수표현 \n",
    "        sum1 += y1\n",
    "    y1 = y1+ 1   #while 쓸 때만 추가해주거나 빼주거나. \n",
    "                 #y1=y1+1 이랑 y1 += 1 이랑 같음.\n",
    "print(sum1)"
   ]
  },
  {
   "cell_type": "markdown",
   "id": "735c67fe",
   "metadata": {},
   "source": [
    "----------------------------------------------------"
   ]
  },
  {
   "cell_type": "markdown",
   "id": "544820b8",
   "metadata": {},
   "source": [
    "### 람다함수\n",
    "> x=lambda a,b : a ** b"
   ]
  },
  {
   "cell_type": "code",
   "execution_count": null,
   "id": "5a635b94",
   "metadata": {},
   "outputs": [],
   "source": [
    "# 간단한 경우 람다함수가 유용하게 쓰임\n",
    "# a의 b제곱을 구하는 식\n",
    "x=lambda a,b : a ** b\n",
    "x(2,5)"
   ]
  },
  {
   "cell_type": "code",
   "execution_count": null,
   "id": "8de2a953",
   "metadata": {},
   "outputs": [],
   "source": [
    "#나눈 몫과 나머지를 튜플형식으로 반환하는 내장함수\n",
    "divmod(a,b)"
   ]
  },
  {
   "cell_type": "code",
   "execution_count": null,
   "id": "eeebb8f0",
   "metadata": {},
   "outputs": [],
   "source": [
    "# 사용자함수 만들기\n",
    "# a라는 인자생성_ 인자에 값넣어서 사용.\n",
    "def add_10(a):      \n",
    "    return a + 10\n",
    "add_10(10) #<< a자리에 10들어감."
   ]
  },
  {
   "cell_type": "markdown",
   "id": "11179c5e",
   "metadata": {},
   "source": [
    "###  함수란_구조의 틀, 기능을 하는 것.  \n",
    "- 일을 하기위한 속성(변수)를 이용해 기능을 할 수 있음.\n",
    "- 많이 알고, 응용 할 수 있어야 한다."
   ]
  },
  {
   "cell_type": "markdown",
   "id": "c0288e09",
   "metadata": {},
   "source": [
    "탁이로그,내장함수 69개 정리되어음_ https://tagilog.tistory.com/540\n"
   ]
  },
  {
   "cell_type": "code",
   "execution_count": null,
   "id": "fba58985",
   "metadata": {},
   "outputs": [],
   "source": [
    "#기본적인 기능, input/output 항상 있는것은 아니다.\n",
    "#입력값이 없고 결과값만 있는 함수\n",
    "def say():          #괄호 안에 아무 값도 없어야 한다.\n",
    "    return 'Hi'\n",
    "\n",
    "a = say()\n",
    "#결과값 Hi만 있음."
   ]
  },
  {
   "cell_type": "code",
   "execution_count": null,
   "id": "c85479c5",
   "metadata": {},
   "outputs": [],
   "source": [
    "#결과값(return)이 없는 함수\n",
    "def add(a,b):\n",
    "    return a + b\n",
    "add(2,3)\n",
    "#입력값 2,3 만 있고 결과값이 없다."
   ]
  },
  {
   "cell_type": "code",
   "execution_count": null,
   "id": "38860286",
   "metadata": {},
   "outputs": [],
   "source": [
    "# 둘다 있는 함수\n",
    "def add(a,b):\n",
    "    print (a + b)\n",
    "add(2,3)"
   ]
  },
  {
   "cell_type": "code",
   "execution_count": null,
   "id": "a359dbc1",
   "metadata": {},
   "outputs": [],
   "source": [
    "#입력값도 결과값도 없는 함수.\n",
    "def say():          \n",
    "    print('Hi')\n",
    "say()"
   ]
  },
  {
   "cell_type": "code",
   "execution_count": null,
   "id": "43e100b7",
   "metadata": {},
   "outputs": [],
   "source": [
    "#여러개의 입력랎을 받는 함수\n",
    "# *args\n",
    "def sum_many(*args):\n",
    "    sum=0\n",
    "    for i in args:\n",
    "        sum += i\n",
    "    return sum\n",
    "#sum_many(1,2,3,4,5,6,7,8,9,10) 가능."
   ]
  },
  {
   "cell_type": "code",
   "execution_count": 17,
   "id": "1540254e",
   "metadata": {},
   "outputs": [
    {
     "data": {
      "text/plain": [
       "(7, 12)"
      ]
     },
     "execution_count": 17,
     "metadata": {},
     "output_type": "execute_result"
    }
   ],
   "source": [
    "# 함수의 반환(결과값)은 언제나 하나임.\n",
    "# 두 개 이상이면 결과값으로 튜플 값 하나로 처리\n",
    "def add_and_mul(a,b):\n",
    "    return a+b,a*b\n",
    "result = add_and_mul(3,4)\n",
    "result"
   ]
  },
  {
   "cell_type": "code",
   "execution_count": null,
   "id": "49bfc553",
   "metadata": {},
   "outputs": [],
   "source": [
    "# 결과값은 하나만 출력되고 함수에서 빠져나감.\n",
    "def add_and_mul(a,b):\n",
    "    return a+b\n",
    "    return a*b\n",
    "\n",
    "print(add_and_mul(2,3)) #출력 : 5 , 먼저있는 return으로 함수 빠져나감.\n",
    "\n",
    "# 하나의 튜플 값을 2개의 결과값처럼출력 가능.\n",
    "def add_and_mul(a,b):\n",
    "    return a+b, a*b\n",
    "result1, result2 = add_and_mul(3,4) \n",
    "# result1 은 a+b의 결과값, result2는 a*b의 결과값\n"
   ]
  },
  {
   "cell_type": "markdown",
   "id": "7b4a3327",
   "metadata": {},
   "source": [
    "####  print 와 return  차이"
   ]
  },
  {
   "cell_type": "code",
   "execution_count": null,
   "id": "fe724f89",
   "metadata": {},
   "outputs": [],
   "source": [
    "#문자열을 출력한다는 것과 리턴값이 있다는 것은 전혀 다르 것임.  \n",
    "#바보 - 아니야(함수 결과값), 야호-함수 X, 단순출력값.\n",
    "def say_nick(nick):\n",
    "    if nick == '바보':\n",
    "        return '아니야!'                  \n",
    "    #반환값 하나. 여러개하는 방법_튜플로변환 후 가능, 위에있음.\n",
    "    print('\\'나의 별명은 %s입니다.\\'' %nick)\n",
    "    \n",
    "say_nick('야호')  #print로 출력됨 > '나의 별명은 야호입니다.'\n",
    "say_nick('바보')  #if 조건에 해당되므로 '아니야'를 반환함.\n",
    "#return 후 함수 빠져나가므로 print('나의 별명은~') 출력안됨."
   ]
  },
  {
   "cell_type": "markdown",
   "id": "002f2407",
   "metadata": {},
   "source": [
    "#### 초기값 설정\n",
    "\n",
    "- 초기값설정은 항상 맨 뒤에!!!         \n",
    "- 2개 이상 설정가능       "
   ]
  },
  {
   "cell_type": "code",
   "execution_count": 20,
   "id": "66398f62",
   "metadata": {},
   "outputs": [
    {
     "name": "stdout",
     "output_type": "stream",
     "text": [
      "나의 이름은 홍길동입니다. \n",
      "나이는 20살 입니다. \n",
      "남자입니다. \n"
     ]
    }
   ],
   "source": [
    "#입력 인수에 초기값 미리 설정하기.\n",
    "#def say_myself(name='nick', old, man=True): = 초기값 설정 가능.\n",
    "#초기값설정은 항상 맨 뒤에!\n",
    "\n",
    "def say_myself(name, old, man=True):\n",
    "    print('나의 이름은 %s입니다. '%name)\n",
    "    print('나이는 %d살 입니다. '%old)\n",
    "    if man:\n",
    "        print('남자입니다. ')\n",
    "    else:\n",
    "        print('여자입니다. ')\n",
    "\n",
    "say_myself('홍길동',20,True)  #True 면 True 입력해도되고 안해도됨, \n",
    "                              #False넣으면 else의 '여자입니다. '출력됨."
   ]
  },
  {
   "cell_type": "code",
   "execution_count": null,
   "id": "89c3c354",
   "metadata": {},
   "outputs": [],
   "source": [
    "#초기값을 설정하는 인수 뒤에 \n",
    "#초기값 설정하지 않은 입력 인수는 사용할 수 없다.\n",
    "\n",
    "def say_myself(name, man=True, old) - 불가능!!"
   ]
  },
  {
   "cell_type": "markdown",
   "id": "f26f6976",
   "metadata": {},
   "source": [
    "#### 변수의 효력 범위\n",
    "- 글로벌(전역변수)/로컬(지역변수)"
   ]
  },
  {
   "cell_type": "code",
   "execution_count": null,
   "id": "accf7935",
   "metadata": {},
   "outputs": [],
   "source": [
    "# 함수 안에서 선언된 변수의 효력 범위\n",
    "\n",
    "a=1  #전역(글로벌)변수\n",
    "def vartest(a): \n",
    "    a = a+1\n",
    "    #1을 더해 주고 결과값은 돌려주지 않는 vartest 함수를 선언\n",
    "\n",
    "print(a) #a=1이므로 1출력\n",
    "print(vartest(a))  #전역 변수 사용 불가., None 출력."
   ]
  },
  {
   "cell_type": "code",
   "execution_count": null,
   "id": "8af4a639",
   "metadata": {},
   "outputs": [],
   "source": [
    "#함수 안에서 함수 밖의 변수를 변경하는 방법 2가지\n",
    "#리턴,글로벌 명령 사용\n",
    "\n",
    "#1) return 이용\n",
    "a=1\n",
    "def vartest(a):\n",
    "    a = a+1\n",
    "    return\n",
    "a = vartest(a) # 함수밖에서 변수로 받아 사용 가능\n",
    "a"
   ]
  },
  {
   "cell_type": "code",
   "execution_count": null,
   "id": "6fd8d57a",
   "metadata": {},
   "outputs": [],
   "source": [
    "#2)global 명령을 이용하는 방법\n",
    "a = 1 \n",
    "def vartest(): \n",
    "    global a  #전역변수 불러와서 쓴다.\n",
    "    a = a+1\n",
    "    \n",
    "vartest()\n",
    "a"
   ]
  },
  {
   "cell_type": "markdown",
   "id": "9adac068",
   "metadata": {},
   "source": [
    "#### 파일을 읽고 쓰는 방법\n",
    "- open 함수 이용함\n",
    "- 'w','r','a'/쓰기,읽기,추가\n",
    "- 'x' : 파일이 없으면 파일을 생성하고 쓰기모드로 열림.\n",
    "- 'b' : 바이너리 모드, 't' : 텍스트 모드(기본값)\n",
    "    + 't'나 'b'를 따로 쓰지 않으면 기본적으로 텍스트 모드인 't'로 열리게 됨.\n",
    "- 파일을 열면 위와 같이 항상 close해 주는 것, with문과 같이 사용  (wiht ~ as ~)"
   ]
  },
  {
   "cell_type": "markdown",
   "id": "c63ce54b",
   "metadata": {},
   "source": [
    "#read() 함수 이용해서 하나씩 읽어오기         \n",
    "#readline() 함수 이용해서 한 라인씩 읽어오기      \n",
    "#readlines() 함수 이용해서 모두 읽어오기     \n",
    "        \n",
    "#맨 처음 위치로 가서 한줄 읽기   \n",
    "print('\\n4. seek(0), readline()')    \n",
    "f.seek(0)      \n",
    "print(f'위치 : {f.tell()}')    \n",
    "#f.close() 파일 닫기       \n",
    "출처 _ https://blockdmask.tistory.com/454"
   ]
  },
  {
   "cell_type": "code",
   "execution_count": null,
   "id": "d9af6db6",
   "metadata": {},
   "outputs": [],
   "source": [
    "#파일생성(열고,닫기)\n",
    "f = open('test1.txt','w')\n",
    "f.close()"
   ]
  },
  {
   "cell_type": "code",
   "execution_count": null,
   "id": "4f3777a5",
   "metadata": {},
   "outputs": [],
   "source": [
    "f = open('test1.txt','w')\n",
    "for i in range(1,11):\n",
    "    data = '%d번째 줄입니다.\\n'%i      #\\n 줄바꿈\n",
    "    f.write(data)     #파일에 data 쓰기.\n",
    "f.close()"
   ]
  },
  {
   "cell_type": "code",
   "execution_count": null,
   "id": "11883b68",
   "metadata": {},
   "outputs": [],
   "source": [
    "f=open('test1.txt','r')\n",
    "line = f.readline()    #라인별로 읽는것\n",
    "print(line)\n",
    "f.close()"
   ]
  },
  {
   "cell_type": "code",
   "execution_count": null,
   "id": "e5075453",
   "metadata": {},
   "outputs": [],
   "source": [
    "f=open('test1.txt','r')\n",
    "while 1:      #숫자 1이상 다 True의미\n",
    "    line = f.readline()   \n",
    "    if not line:break  #라인없으면 break\n",
    "    print(line)\n",
    "f.close()"
   ]
  },
  {
   "cell_type": "markdown",
   "id": "aa5f8196",
   "metadata": {},
   "source": [
    "***with 문과 함께 사용하기***     \n",
    "with문을 벗어나면 자동적으로 f.close 됨."
   ]
  },
  {
   "cell_type": "code",
   "execution_count": null,
   "id": "dd881337",
   "metadata": {},
   "outputs": [],
   "source": [
    "with open('foo.txt','w') as f:\n",
    "    f.write('파이썬을 배웁시다.')"
   ]
  },
  {
   "cell_type": "code",
   "execution_count": null,
   "id": "b34981f6",
   "metadata": {},
   "outputs": [],
   "source": [
    "with open('foo.txt','r') as f:\n",
    "    data = f.read()\n",
    "    print(data)"
   ]
  },
  {
   "attachments": {
    "image.png": {
     "image/png": "[encoded data removed]"
    }
   },
   "cell_type": "markdown",
   "id": "6799015a",
   "metadata": {},
   "source": [
    "#### 내장함수에는 어떤것들이 있는지 :https://docs.python.org/ko/3/library/functions.html\n",
    "![image.png](attachment:image.png)"
   ]
  },
  {
   "cell_type": "code",
   "execution_count": null,
   "id": "e6dc719f",
   "metadata": {},
   "outputs": [],
   "source": [
    "#내장함수 _ 가장많이쓴 함수\n",
    "#print,뒤에 괄호가 있으면 함수!!\n",
    "int(abs(-3))               #절대값\n",
    "print(all([1,2,3,0]))      #True,False 출력\n",
    "print(all([1,2,3]))        #x가 모두 참이면 True, 거짓이 하나라도 있으면 False(0:거짓).\n",
    "print(any([1,2,3,0]))      #x중 하나라도 참이면 True. 모두 거짓일 경우 False.\n",
    "print(chr(97))             #문자(chr)출력"
   ]
  },
  {
   "cell_type": "code",
   "execution_count": null,
   "id": "78de9a4e",
   "metadata": {},
   "outputs": [],
   "source": [
    "#람다함수 복습\n",
    "sum = lambda a,b : a+b\n",
    "sum(3,4)"
   ]
  },
  {
   "cell_type": "code",
   "execution_count": null,
   "id": "d2c157d4",
   "metadata": {},
   "outputs": [],
   "source": [
    "#람다함수 활용\n",
    "myList = [lambda a,b:a+b, lambda a,b:a*b]\n",
    "print(myList[0](3,4))\n",
    "print(myList[1](3,4)"
   ]
  },
  {
   "cell_type": "code",
   "execution_count": 22,
   "id": "97c127a8",
   "metadata": {},
   "outputs": [
    {
     "data": {
      "text/plain": [
       "6"
      ]
     },
     "execution_count": 22,
     "metadata": {},
     "output_type": "execute_result"
    }
   ],
   "source": [
    "#파이선의 길이 = 인수 개수\n",
    "len('python')"
   ]
  },
  {
   "cell_type": "code",
   "execution_count": null,
   "id": "fac6ffbb",
   "metadata": {},
   "outputs": [],
   "source": [
    "#리스트 변환 함수.\n",
    "print(list('python'))    #알파벳 하나하나 리스트로 출력됨.\n",
    "list((1,2,3))            #튜플을 리스트로 바꿈"
   ]
  },
  {
   "cell_type": "code",
   "execution_count": 28,
   "id": "29a55ae1",
   "metadata": {},
   "outputs": [
    {
     "name": "stdout",
     "output_type": "stream",
     "text": [
      "[1, 3, 5, 7, 9]\n"
     ]
    }
   ],
   "source": [
    "#기타 range 사용법 range -> 튜플로 출력, list 로 변환가능\n",
    "print(list(range(1,10,2))) #간격지정가능"
   ]
  },
  {
   "cell_type": "markdown",
   "id": "f5800e30",
   "metadata": {},
   "source": [
    "#### 외장함수    \n",
    "- import 해서 사용해야함.\n",
    "- 외장함수 : 어떤 일을 할 때 어떤 라이브러리를 사용하는지를 알면 됨\n",
    "- 전 세계의 파이썬 사용자들이 만든 유용한 프로그램을 모아 놓은 것이 바로 파이썬 라이브러리\n",
    "- 파이썬 라이브러리는 파이썬을 서리할 때 자동으로 컴퓨터에 설치 됨.   \n",
    "      \n",
    "참고 : https://yganalyst.github.io/data_handling/Py_study17/"
   ]
  },
  {
   "cell_type": "markdown",
   "id": "8566fd1a",
   "metadata": {},
   "source": [
    "> pickel    \n",
    "> os    \n",
    "> glob    \n",
    "> time    \n",
    "> calendar    \n",
    "> random   \n",
    "> webbrowser    "
   ]
  },
  {
   "cell_type": "code",
   "execution_count": 30,
   "id": "4d3e0e5f",
   "metadata": {},
   "outputs": [
    {
     "name": "stdout",
     "output_type": "stream",
     "text": [
      "{1: 'python', 2: 'you need'}\n"
     ]
    }
   ],
   "source": [
    "### pickel , 바이너리형태로 저장하고 불러옴.\n",
    "# pickel은 객채의 형태를 유지하면서 파일에 저장하고 \n",
    "# 불러올 수 있게 하는 모듈.\n",
    "\n",
    "import pickle\n",
    "f = open('test.txt','wb')           #wb: 바이너리로 쓰는것.\n",
    "data = {1:'python',2:'you need'}    #딕셔너리\n",
    "pickle.dump(data,f)          #저장할때 dump, 불러올때 load\n",
    "f.close()\n",
    "\n",
    "f=open('test.txt','rb')     #rb: 바이너리로 읽는것\n",
    "data=pickle.load(f) \n",
    "print(data)\n",
    "f.close()   #열려있으면 자원낭비"
   ]
  },
  {
   "cell_type": "code",
   "execution_count": null,
   "id": "f2db4f6f",
   "metadata": {},
   "outputs": [],
   "source": [
    "### os\n",
    "import os\n",
    "os.environ['PATH']    #환경변수 path에 걸어둔거 나옴.\n",
    "\n",
    "# os.environ : 현재 시스템의 환경 변수 값들을 보여준다.\n",
    "# os.unlink(파일명): 파일 삭제\n",
    "# os.mkdir(디렉터리) : 디렉터리 생성\n",
    "# os.rmdir(디렉터리) : 디렉터리 삭제;단, 비어있어야 가능.\n",
    "# os.rename(src,dst) : src라는 이름의 파일을 dst로 이름변경.\n",
    "# os.getcwd() : 현재폴더반환"
   ]
  },
  {
   "cell_type": "code",
   "execution_count": null,
   "id": "8c0a70ad",
   "metadata": {},
   "outputs": [],
   "source": [
    "%pwd     #현재폴더반환"
   ]
  },
  {
   "cell_type": "code",
   "execution_count": null,
   "id": "c0cadb85",
   "metadata": {},
   "outputs": [],
   "source": [
    "#폴더 변경\n",
    "import os\n",
    "os.chdir('C:/workspace/cakd3/programming')     \n",
    "#체인지 디렉토리 : chdir"
   ]
  },
  {
   "cell_type": "code",
   "execution_count": null,
   "id": "b0630277",
   "metadata": {},
   "outputs": [],
   "source": [
    "### glob\n",
    "import glob   #웹페이지 열어줌.\n",
    "glob.glob('C:/workspace/cakd3/programming/*.ipynb')     \n",
    "#티렉터리 내의 파일들을 읽어서 리스트로 리턴한다.\n",
    "#( * , ? 이용하여 원하는 파일만 읽어 올수도 있다. )\n",
    "\n",
    "#cell -> alloutput ->clear 출력취소"
   ]
  },
  {
   "cell_type": "code",
   "execution_count": 32,
   "id": "1297ec4e",
   "metadata": {},
   "outputs": [
    {
     "data": {
      "text/plain": [
       "1625665963.7253711"
      ]
     },
     "execution_count": 32,
     "metadata": {},
     "output_type": "execute_result"
    }
   ],
   "source": [
    "### time\n",
    "import time      #시간\n",
    "time.time()       #기존시점부터 초단위로 현재시간계산"
   ]
  },
  {
   "cell_type": "code",
   "execution_count": 33,
   "id": "1ae380fb",
   "metadata": {},
   "outputs": [
    {
     "data": {
      "text/plain": [
       "time.struct_time(tm_year=2021, tm_mon=7, tm_mday=7, tm_hour=22, tm_min=52, tm_sec=45, tm_wday=2, tm_yday=188, tm_isdst=0)"
      ]
     },
     "execution_count": 33,
     "metadata": {},
     "output_type": "execute_result"
    }
   ],
   "source": [
    "time.localtime(time.time()) #로컬시간 정보"
   ]
  },
  {
   "cell_type": "code",
   "execution_count": 34,
   "id": "035a44eb",
   "metadata": {},
   "outputs": [
    {
     "data": {
      "text/plain": [
       "'Wed Jul  7 22:52:47 2021'"
      ]
     },
     "execution_count": 34,
     "metadata": {},
     "output_type": "execute_result"
    }
   ],
   "source": [
    "time.asctime(time.localtime(time.time()))"
   ]
  },
  {
   "cell_type": "code",
   "execution_count": null,
   "id": "0a0bca63",
   "metadata": {},
   "outputs": [],
   "source": [
    "#time.sleep() : 일정한 시간 간격을 두고 루프를 실행할 수 있다.\n",
    "#게임이나 타임스케쥴을 다르게주게 만들때 자주 이용.\n",
    "\n",
    "import time\n",
    "for i in range(10):\n",
    "    print(i)\n",
    "    time.sleep(2)   #2초 간격으로 i 출력됨."
   ]
  },
  {
   "cell_type": "markdown",
   "id": "62997636",
   "metadata": {},
   "source": [
    "#### calendar\n",
    "- calendar.calendar(연도), calendar.prcal(연도): 주어진 연도의 달력을 출력\n",
    "- calendar.prmonth(연도, 월): 주어진 연도의 월에 대한 달력을 출력\n",
    "- calendar.weekday(연도, 월, 일): 주어진 날짜가 어떤 요일인지를 리턴한다.(월:0 ~ 일:6)\n",
    "- calendar.monthrange(연도, 월): 주어진 연도, 월이 어느 요일에 시작하며, 며칠까지 있는지를 튜플 형태로 리턴한다.\n"
   ]
  },
  {
   "cell_type": "code",
   "execution_count": 35,
   "id": "cd2fe88e",
   "metadata": {},
   "outputs": [
    {
     "name": "stdout",
     "output_type": "stream",
     "text": [
      "     July 2021\n",
      "Mo Tu We Th Fr Sa Su\n",
      "          1  2  3  4\n",
      " 5  6  7  8  9 10 11\n",
      "12 13 14 15 16 17 18\n",
      "19 20 21 22 23 24 25\n",
      "26 27 28 29 30 31\n",
      "None\n"
     ]
    }
   ],
   "source": [
    "### calendar\n",
    "import calendar\n",
    "print(calendar.prmonth(2021,7))"
   ]
  },
  {
   "cell_type": "code",
   "execution_count": null,
   "id": "1b62b4d0",
   "metadata": {},
   "outputs": [],
   "source": [
    "#요일찾기\n",
    "calendar.weekday(2021,12,31)\n",
    "#숫자 반환됨. -> 0,1,2,3,4,5,6 : 월,화,수,목,금,토,일"
   ]
  },
  {
   "cell_type": "code",
   "execution_count": null,
   "id": "94597944",
   "metadata": {},
   "outputs": [],
   "source": [
    "#(1일의 요일, 날수) _튜플형태로\n",
    "calendar.monthrange(2021,6)"
   ]
  },
  {
   "cell_type": "code",
   "execution_count": null,
   "id": "9184f50d",
   "metadata": {},
   "outputs": [],
   "source": [
    "### webbrowser\n",
    "webbrowser.open('http://google.com') #>>셀 실행하면 오픈됨.\n",
    "#출력 : True"
   ]
  },
  {
   "cell_type": "markdown",
   "id": "197123c0",
   "metadata": {},
   "source": [
    "#### random (Generate pseudo-random numbers)\n",
    "\n",
    "- 중복될 수 있음.(임의의 수)\n",
    "- random.choice() 선택\n",
    "- random.range() 범위\n",
    "- random.random(): 0 ~ 1.0 사이 임의의 난수를 리턴한다.\n",
    "- random.randint(start, stop): start ~ stop 사이의 정수 중에서 임의의 난수를 리턴한다.\n",
    "- random.randrange(start, stop, step): start ~ stop 사이의 step 만큼 건너뛴 정수 중에서 임의의 난수를 리턴한다. \n",
    "- random.shuffle(리스트): 주어진 리스트의 요소들을 섞는다.\n",
    "- random.choice(리스트): 주어진 리스트의 요소를 무작위로 선택한다."
   ]
  },
  {
   "cell_type": "code",
   "execution_count": null,
   "id": "c67a2b14",
   "metadata": {},
   "outputs": [],
   "source": [
    "### random\n",
    "#Q. 랜덤하게 1000명의 이름, 키와 몸무게 만들기\n",
    "import random\n",
    "hanguls = list('가나다라마바사아자차카타파하')\n",
    "hanguls\n",
    "\n",
    "with open('info.txt','w') as file:\n",
    "    for i in range(1000):                              #(1,1001) = (1000)\n",
    "        name = random.choice(hanguls) + random.choice(hanguls)  #한글 두글자 이름\n",
    "        height = random.randrange(140,200)                      #140~200사이 랜덤\n",
    "        weight = random.randrange(40,100)\n",
    "        file.write(\"{},{},{}.\\n\".format(name,height,weight))\n",
    "        \n",
    "with open('info.txt','r') as file:\n",
    "    data = file.read()\n",
    "    print(data)"
   ]
  },
  {
   "cell_type": "code",
   "execution_count": null,
   "id": "29f49182",
   "metadata": {},
   "outputs": [],
   "source": [
    "#데이터 랜덤으로 섞기\n",
    "data = [1,2,3,4,5]\n",
    "random.shuffle(data)\n",
    "\n",
    "#무작위로 선택\n",
    "random.choice(data)\n",
    "\n",
    "#시작숫자부터 끝숫자 사이의 정수중 랜덤수 리턴.\n",
    "random.randint(1,100)\n",
    "\n",
    "#0.0부터 1.0사이의 실수 중 랜덤수 리턴.\n",
    "random.random()\n",
    "\n",
    "# 0~10 사이의 실수\n",
    "random.random()*10\n",
    "\n",
    "#2개의 숫자 사이의 랜덤 실수를 리턴\n",
    "random.uniform(1, 10)  # Random float x, 1.0 <= x < 10.0\n",
    "\n",
    "#만들어지는 정수 중에 하나를 랜덤하게 리턴\n",
    "random.randrange(0, 101, 2)  # Even integer from 0 to 100\n",
    "\n",
    "#랜덤하게 여러 개의 원소를 선택\n",
    "random.sample([1, 2, 3, 4, 5],  3)  # Choose 3 elements"
   ]
  },
  {
   "cell_type": "markdown",
   "id": "43d132cd",
   "metadata": {},
   "source": [
    "-------------------------------------------------------------"
   ]
  },
  {
   "cell_type": "code",
   "execution_count": null,
   "id": "fed94395",
   "metadata": {},
   "outputs": [],
   "source": [
    "#Q. 람다함수와 적합한 내장함수를 사용하여 아래와 같이 출력하세요.\n",
    "\n",
    "#[1,2,3,4,5] -> [1,4,9,16,25]\n",
    "#[1,2,3,4,5] -> [1,2]\n",
    "\n",
    "#map\n",
    "list1 = [1,2,3,4,5]\n",
    "a=map(lambda x : x*x, list1)#map _ mapping 한다.\n",
    "print(a)    #<----실행이 아직 안된것,제너레이터 : 실행하려면 리스트나 어디에 담기.\n",
    "list(a)\n",
    "\n",
    "#filter\n",
    "#[1,2,3,4,5] -> [1,2]\n",
    "b = filter(lambda x:x<3,list1)\n",
    "list(b)"
   ]
  },
  {
   "cell_type": "code",
   "execution_count": null,
   "id": "b3abf029",
   "metadata": {},
   "outputs": [],
   "source": [
    "#filter 사용\n",
    "#Q. [1,-3,2,0,15,6] 양수만 출력\n",
    "lista=[1,-3,2,0,15,6]\n",
    "op1=filter(lambda x : x> 0,lista)"
   ]
  },
  {
   "cell_type": "code",
   "execution_count": null,
   "id": "e66a6957",
   "metadata": {},
   "outputs": [],
   "source": [
    "#zip 함수!!\n",
    "\n",
    "#[1,2,3],[4,5,6] -> [(1,4),(2,5)(,3,6)]\n",
    "a= [1,2,3]\n",
    "b= [4,5,6]\n",
    "list(zip(a,b))\n",
    "\n",
    "#('abc','def') -> [('a','d'),('b','e'),('c', 'f')]\n",
    "list(zip(\"abc\",\"def\"))"
   ]
  },
  {
   "cell_type": "code",
   "execution_count": null,
   "id": "6fcec68c",
   "metadata": {},
   "outputs": [],
   "source": [
    "#*args\n",
    "#Q. *입력으로 들어오는 모든 수의 평균 값을 계한해 주는 함수를 작성한 후\n",
    "# 1,2,3 을 입력한 결과를 출력하세요.\n",
    "\n",
    "def average(*args):\n",
    "        result = 0\n",
    "        for i in args:\n",
    "            result += i\n",
    "        avg=result/len(args)\n",
    "        return avg\n",
    "    \n",
    "average(1,2,3)"
   ]
  },
  {
   "cell_type": "code",
   "execution_count": null,
   "id": "b8b5dae8",
   "metadata": {},
   "outputs": [],
   "source": [
    "#정렬 sort\n",
    "#Q strings를 문자의크기 순서로 내림차순 정렬하세요.\n",
    "\n",
    "strings = ['a','ca','bar','aaaa','ababa']\n",
    "strings.sort(key=len,reverse=True) #디폴트값 reverse = False -> 오름차순\n",
    "strings\n",
    "\n",
    "\n",
    "#Q. 다양한 문자가 포함된 순서대로  \n",
    "#* set 중복불가 - 셋화시켜서 len(x) _ 중복안되는 문자의 개수\n",
    "strings = ['foo', 'card', 'bar', 'aaaa', 'abab']\n",
    "strings.sort(key = lambda x: len(set(list(x))))\n",
    "#'key ='특정기준으로 정렬한다는 의미.   \n",
    "#그냥출력['aaaa', 'foo', 'abab', 'bar', 'card']\n",
    "strings[::-1] #뒤에서부터 출력."
   ]
  },
  {
   "cell_type": "markdown",
   "id": "4b5b6e16",
   "metadata": {},
   "source": [
    "#### 모듈이란? inport 해야함.     \n",
    "- 특정 기능들(함수, 변수, 클래스 등)이 구현되어 있는 파이썬 파일(.py)      \n",
    "          \n",
    "#### 패키지           \n",
    "- 여러 모듈들을 하나의 상위 폴더에 넣어놓는 것      \n",
    "- 패키지를 표현해 주기 위하여 __init__.py 가 존재   \n",
    "\n",
    "#### 라이브러리     \n",
    "- 여러 모듈과 패키지를 묶어 표현함   \n",
    "- 파이썬 설치시 기본적으로 설치되는 라이브러리를 표준 라이브러리라고 함.\n",
    "- 외부(3rd party)에서 개발한 모듈과 패키지를 묶어서 외부 라이브러리라고 함."
   ]
  },
  {
   "cell_type": "code",
   "execution_count": null,
   "id": "612eaba6",
   "metadata": {},
   "outputs": [],
   "source": [
    "import numpy as np            #외부라이브러리 numpy\n",
    "np.random.randint(5, size = 5) #0~(5-1)의 랜덤 배열"
   ]
  },
  {
   "cell_type": "code",
   "execution_count": null,
   "id": "07f23f44",
   "metadata": {},
   "outputs": [],
   "source": [
    "import numpy as np\n",
    "np.random.randint(10, size = (5, 2)) #0~(10-1)의 랜덤 배열(행5*열2)"
   ]
  },
  {
   "cell_type": "code",
   "execution_count": null,
   "id": "dce28e66",
   "metadata": {},
   "outputs": [],
   "source": [
    "import warnings  #경고없앨 수 있음.\n",
    "warnings.filterwarnings('ignore')"
   ]
  },
  {
   "cell_type": "code",
   "execution_count": null,
   "id": "497e1587",
   "metadata": {},
   "outputs": [],
   "source": [
    "# 모듈 mod1 만들기\n",
    "with open('mod1.py','w') as f:\n",
    "    f.write('''\n",
    "def add(x,y):\n",
    "    return x + y\n",
    "print(add(3,4))\n",
    "''')                               #py 모듈파일. 안에 함수작성.\n",
    "with open('mod1.py','r') as f:\n",
    "    data = f.read()\n",
    "    print(data)                    #읽으면 작성한 내용 나옴."
   ]
  },
  {
   "cell_type": "code",
   "execution_count": null,
   "id": "b156d409",
   "metadata": {},
   "outputs": [],
   "source": [
    "!python mod1.py    #모듈 실행됨."
   ]
  },
  {
   "cell_type": "code",
   "execution_count": null,
   "id": "aa001dd3",
   "metadata": {},
   "outputs": [],
   "source": [
    "import mod1      #모듈 임포트 가능."
   ]
  },
  {
   "cell_type": "code",
   "execution_count": null,
   "id": "08093c7f",
   "metadata": {},
   "outputs": [],
   "source": [
    "# 파일 복사하기.\n",
    "import shutil\n",
    "shutil.copy(파일명1,파일명2)             \n",
    "#copy 파일명1이 복사되어 파일명2가 생성됨."
   ]
  },
  {
   "cell_type": "code",
   "execution_count": null,
   "id": "1cb072ba",
   "metadata": {},
   "outputs": [],
   "source": [
    "import shutil\n",
    "shutil.copy('mod1.py','mod3.py')  #복사됨."
   ]
  },
  {
   "cell_type": "code",
   "execution_count": null,
   "id": "a75d971d",
   "metadata": {},
   "outputs": [],
   "source": [
    "!python mod3.py  #!python mod1.py 와 같은결과"
   ]
  },
  {
   "cell_type": "code",
   "execution_count": null,
   "id": "a8b065b6",
   "metadata": {},
   "outputs": [],
   "source": [
    "#객체가 대체적으로 가지고 있는 변수나 함수 리스트로 반환\n",
    "print(dir([1,2,3]))    "
   ]
  },
  {
   "cell_type": "code",
   "execution_count": null,
   "id": "2928950d",
   "metadata": {},
   "outputs": [],
   "source": [
    "print(max([1,2,3]))   #최대값 출력\n",
    "print(min([1,2,3]))   #최소값 출력\n",
    "print(max('python'))   #글자도 최대값(글자도 컴퓨터에서는 숫자)\n",
    "print(min('python'))   #글자도 최소값"
   ]
  },
  {
   "cell_type": "code",
   "execution_count": null,
   "id": "96cb95f9",
   "metadata": {},
   "outputs": [],
   "source": [
    "# long_task 함수는 수행하는 데 5초의 시간이 걸리는 함수이다. \n",
    "#위 프로그램은 이 함수를 수행하는 프로그램이다.\n",
    "#이 프로그램은 5초가 5번 반복되니 총 225초의 시간이 걸린다.\n",
    "\n",
    "import time\n",
    "def long_task(): # 5초의 시간이 걸리는 함수\n",
    "    for i in range(5):\n",
    "        time.sleep(1) # 1초 대기\n",
    "        print(\"working:%s\\n\"%i)\n",
    "print('start')\n",
    "for i in range(5): #long_task를 5회 수행-> 5초 5번 25초걸림.\n",
    "    long_task()\n",
    "print('End')\n",
    "    \n",
    "#일꾼 1개_스래드 thread"
   ]
  },
  {
   "cell_type": "code",
   "execution_count": null,
   "id": "b14855c7",
   "metadata": {},
   "outputs": [],
   "source": [
    "#멀티스래드\n",
    "\n",
    "import time\n",
    "import threading\n",
    "def long_task():   # 5초의 시간이 걸리는 함수\n",
    "    for i in range(5): \n",
    "        time.sleep(1)   # 1초 대기\n",
    "        print(\"working:%s\\n\"%i)\n",
    "print('start')\n",
    "\n",
    "threads = []\n",
    "for i in range(5):   #i 가 0~4순서로 반복되는것을\n",
    "    t= threading.Thread(target=long_task) #long_task 함수를 타겟으로\n",
    "    threads.append(t) #threads 리스트에 추가한다.\n",
    "    \n",
    "for t in threads:    #스레드마나 하나씩 돌때(t)\n",
    "    t.start()\n",
    "for t in threads:   #스레드 돌때까지 기다리는데\n",
    "    t.join()        #join으로 thread가 종료할 때까지 기다린다.\n",
    "#(조인으로 붙인 뒤, 뒤에 마치는 일.(여기서는 end) 조인을 안넣으면 end가 뒤죽박죽으로 들어간다.)\n",
    "print('end')\n",
    "\n",
    "#start 하고나서 순서=시간를 컨드롤할 수 없다.\n",
    "#여러가지 일을 별도로 arrange려고 할때.\n",
    "# long_task를 실행하는데 start도 실행. join은 thread가 종료할 때까지 기다리는 것."
   ]
  },
  {
   "cell_type": "markdown",
   "id": "52c07691",
   "metadata": {},
   "source": [
    "### 1주차  완료\n",
    ": 함수와 모듈, 라이브러리, 패키지 정의까지."
   ]
  }
 ],
 "metadata": {
  "kernelspec": {
   "display_name": "Python 3",
   "language": "python",
   "name": "python3"
  },
  "language_info": {
   "codemirror_mode": {
    "name": "ipython",
    "version": 3
   },
   "file_extension": ".py",
   "mimetype": "text/x-python",
   "name": "python",
   "nbconvert_exporter": "python",
   "pygments_lexer": "ipython3",
   "version": "3.8.10"
  }
 },
 "nbformat": 4,
 "nbformat_minor": 5
}
