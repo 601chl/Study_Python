{
 "cells": [
  {
   "cell_type": "markdown",
   "id": "d084184a",
   "metadata": {},
   "source": [
    "#### 판다스 옵션중에 out[ ]에 보여지는 행과 열 수 조절하는 방법"
   ]
  },
  {
   "cell_type": "code",
   "execution_count": null,
   "id": "44c67e6e",
   "metadata": {},
   "outputs": [],
   "source": [
    "import pandas as pd\n",
    "pd.options.display.max_rows = 7\n",
    "pd.options.display.max_columns = 9\n",
    "pd.set_option('max_rows', 10)\n",
    "pd.set_option('max_columns', 10)\n",
    "\n",
    "#df_auto 데이터세트 읽어와서 확인함\n",
    "df_auto = pd.read_csv('dataset/auto-mpg.csv')\n",
    "df_auto"
   ]
  },
  {
   "cell_type": "markdown",
   "id": "4e4a8466",
   "metadata": {},
   "source": [
    "----------------------------------\n",
    "\n",
    "#Q. df_auto 데이터세트에 대한 파악 내용을 기술하세요.\n",
    "\n",
    "- df_auto 데이터세트는 ['mpg', 'cylinders', 'displacement', 'horsepower', 'weight', 'acceleration', 'model year', 'origin', 'car name'] 9개 속성의 컬럼을 가지고 있다.\n",
    "- 인덱스는 0에서 397으로 도출되는 것으로 보아 398개의 행이 있는 것을 알 수 있다.\n"
   ]
  },
  {
   "cell_type": "code",
   "execution_count": null,
   "id": "e37b9979",
   "metadata": {},
   "outputs": [],
   "source": [
    "#컬럼확인\n",
    "df_auto.columns"
   ]
  },
  {
   "cell_type": "code",
   "execution_count": null,
   "id": "6506f7b9",
   "metadata": {},
   "outputs": [],
   "source": [
    "#인덱스확인\n",
    "df_auto.index"
   ]
  },
  {
   "cell_type": "code",
   "execution_count": null,
   "id": "24a91a65",
   "metadata": {},
   "outputs": [],
   "source": [
    "#컬럼을 행으로 설정하기\n",
    "#컬럼 순서 바꾸기\n",
    "columns = [ 'car name','mpg', 'cylinders', 'displacement', 'horsepower', 'weight','acceleration', 'model year', 'origin']\n",
    "#새로운 객체에 컬럼명 변경해서 저장\n",
    "mtcars = df_auto[columns] \n",
    "\n",
    "mtcars.to_csv('dataset/mtcar.csv',index=None) #인덱스 없애고 저장\n",
    "mtcars = pd.read_csv('dataset/mtcar.csv',index_col='car name') #인덱스 컬럼이 0이라는 의미가 '인덱스 컬럼 = 0'\n",
    "mtcars"
   ]
  },
  {
   "cell_type": "code",
   "execution_count": null,
   "id": "cd2c5d56",
   "metadata": {},
   "outputs": [],
   "source": [
    "#필요한 열만 도출 가능\n",
    "mtcars_2 = mtcars[['car name','mpg', 'model year']]\n",
    "mtcars_2 \n",
    "#필요한 열과 행만 도축가능\n",
    "mtcars_3 = mtcars[['car name','mpg', 'model year']][5:8]  #행범위추가\n",
    "mtcars_3 "
   ]
  },
  {
   "cell_type": "code",
   "execution_count": null,
   "id": "395a326f",
   "metadata": {},
   "outputs": [],
   "source": [
    "#필요한 행과 열\n",
    "mtcars_3 = mtcars.iloc[5:8,0:3]\n",
    "mtcars_3"
   ]
  },
  {
   "cell_type": "markdown",
   "id": "0a18c295",
   "metadata": {},
   "source": [
    "------------------\n",
    "과제"
   ]
  },
  {
   "cell_type": "code",
   "execution_count": null,
   "id": "6bb7bfa9",
   "metadata": {},
   "outputs": [],
   "source": [
    "#Q. iloc 혹은 loc 사용하여 다른 방법으로 필요한 행과 열만 도출해내기\n",
    "#mtcars_3 = mtcars[['car name','mpg', 'model year']][5:8] \n",
    "#위와 동일하게 도출해보기"
   ]
  },
  {
   "cell_type": "code",
   "execution_count": null,
   "id": "a62ce9d4",
   "metadata": {},
   "outputs": [],
   "source": [
    "#공부하려고 데이터 복사\n",
    "mcar = df_auto.copy()\n",
    "mcar"
   ]
  },
  {
   "cell_type": "code",
   "execution_count": null,
   "id": "5ce7a709",
   "metadata": {},
   "outputs": [],
   "source": [
    "#car name을 인덱스로 세팅하기\n",
    "mcar1 = mcar.set_index('car name')\n",
    "mcar1"
   ]
  },
  {
   "cell_type": "code",
   "execution_count": null,
   "id": "8e869649",
   "metadata": {},
   "outputs": [],
   "source": [
    "#인덱스 설정한 것을 다시 컬럼으로 돌리고\n",
    "#기본인덱스로 다시 변환\n",
    "mcar1.reset_index()"
   ]
  },
  {
   "cell_type": "code",
   "execution_count": null,
   "id": "946b07df",
   "metadata": {},
   "outputs": [],
   "source": [
    "#저장하고 불러오기 반복연습\n",
    "mcar.to_csv('dataset/mcar.csv', index =None)\n",
    "mcar = pd.read_csv('dataset/mcar.csv')"
   ]
  },
  {
   "cell_type": "markdown",
   "id": "0dae2b9a",
   "metadata": {},
   "source": [
    "참고사이트 : https://kongdols-room.tistory.com/123"
   ]
  },
  {
   "cell_type": "code",
   "execution_count": null,
   "id": "75cb61d6",
   "metadata": {},
   "outputs": [],
   "source": [
    "#데이터프레임 정보\n",
    "mcar.info()"
   ]
  },
  {
   "cell_type": "code",
   "execution_count": null,
   "id": "b1a57d26",
   "metadata": {},
   "outputs": [],
   "source": [
    "#데이터프레임 통계값 출력\n",
    "mcar.describe()"
   ]
  },
  {
   "cell_type": "code",
   "execution_count": null,
   "id": "92b96f0c",
   "metadata": {},
   "outputs": [],
   "source": [
    "- 일정하게 범위를 맞춰주기 위해서 \n",
    "- 상대적으로 비교할수 있는 숫자로 바꿔주기\n",
    "- 각각의 데이터들이 차지하는 것들의 상대적 값으로 -> 객관적으로 값을 비교하기 위해서\n",
    "- 전체 범위를 '0~1사이로 환산'을 해서 숫자료 표현하는 것 : 정규분포표같은\n",
    "- 그러면는 각 열의 값들을 상대적으로 비교할 수 있다.\n",
    "- 결측치가 있으면 결측치도 생각해 줘야한다.\n",
    "- 이상치(평균과 특별히 차이가나는 값) 골라내야함\n",
    "- 통계적인 방법으로 IQR(1사분위 3사분위 차이) 우선적으로 거른다 25%에서 - 1.5*IQR 이나 75% +1.5*IQR \n",
    "- 통계적 범위를 벗어나면 빼줌\n",
    "- 뺀값중에 확인필요 -> 통계적 범위를 벗어나지만 맞으면 빼지않음\n",
    "\n",
    "- 나라마다 다른 범위 환산 필요\n",
    "- 범주화 필요하면(ex.나이 : 10대, 20대, 30대) 등급으로 범주화 필요\n",
    "\n",
    "-> 다 종합해서 의미있는 변수로(컬럼추가해서) 쓸 수 있음 => 파생변수"
   ]
  },
  {
   "cell_type": "code",
   "execution_count": null,
   "id": "63b34bad",
   "metadata": {},
   "outputs": [],
   "source": [
    "#value_counts : 값을 카운트해줌. \n",
    "# 값을 다 보고싶을떄는 unique()\n",
    "\n",
    "#pd.set_option('max_rows', 100)\n",
    "mcar.horsepower.value_counts()\n",
    "mcar.horsepower.unique() #전체 값 다나옴\n",
    "#'?'가 있어서 object -> 처리해줘야됨***"
   ]
  },
  {
   "cell_type": "code",
   "execution_count": null,
   "id": "2d044bf5",
   "metadata": {},
   "outputs": [],
   "source": [
    "#데이터를 가지고 무엇을 할 건가\n",
    "#연비에 영향을 주는 요인이 뭐가 있는지 알고싶을때, \n",
    "#어떤 요인들 가지고 연비를 예측할 수 있는지\n",
    "\n",
    "# 데이터 분석\n",
    "#자동차 *연비에 영향을 주는 변수를 선택하여 연비 예측 모델을 생성\n",
    "#연비와 관련없는 컬럼 제거\n",
    "#horsepower 안에 ?있어서 처리하기 전이라 뺌 \n",
    "mcar1 = mcar.drop(['car name','horsepower'],axis=1)\n",
    "mcar.head() #앞부분 자료 보기"
   ]
  },
  {
   "cell_type": "code",
   "execution_count": null,
   "id": "e4bb74b2",
   "metadata": {},
   "outputs": [],
   "source": [
    "import seaborn as sns\n",
    "sns.pairplot(mcar1) \n",
    "#선점도(x,y축에 값을가지고 점을찍은것) 한번에 그려짐, 히스토그램은 자기자신(컬럼)의 값\n",
    "#선점도 우상향 : 상관관계 높음, 양의 상관관계, 한쪽이 늘면 다른쪽도 늘어남\n",
    "#선점도 우하향 : 역의 상관관계 , 한쪽이 늘면 한쪽이 줄어듬\n",
    "#시각화 -> 상관관계가 보여짐"
   ]
  },
  {
   "cell_type": "code",
   "execution_count": null,
   "id": "596d10e7",
   "metadata": {},
   "outputs": [],
   "source": [
    "#***상관관계\n",
    "mcar1.corr() \n",
    "#1 양의 상관관계에서 가장 높은 값, -1 음의 상관관계에서 가장 높음// 0은 관계없음 \n",
    "#일반적으로 0.7 이상이면 높은 상관관계로 보지만 상황에 따라 다르다. 실제로는 0.4 만 되도 높다고 생각됨. 변수가 너무 많아서\n",
    "#머신러닝에서는 변수처리가 중요(의미있는 변수를 뽑아내는게 핵심적인 일)\n",
    "#딥러닝은 그것또한 기계가 하겠다는 것 -> 많은 데이터가 필요//GPU를 쓰는 이유\n",
    "# : 단순한 데이터가 많은것을 잘 처리함, 복합적인 것은 좀 어려움\n",
    "#딥러닝 할 때는 GPU나 TPU(구글에서 개발)를 이용"
   ]
  },
  {
   "cell_type": "code",
   "execution_count": null,
   "id": "49fe937f",
   "metadata": {},
   "outputs": [],
   "source": [
    "#최적의 컬럼 선택 - Feature engineering -> 알고리즘에 적용해줌\n",
    "\n",
    "mcar2 = mcar1[['mpg','weight']]\n",
    "mcar2.head() #앞부분만 보기"
   ]
  },
  {
   "cell_type": "markdown",
   "id": "d509a204",
   "metadata": {},
   "source": [
    "#위의 결과로 방정식을 세움 <<기계에게 데이터를 주면     \n",
    "#기계가 학습해서 방정식(상관관계)찾아줌.     \n",
    "#데이터가 많을수록 학습하여 찾아냄     \n",
    "#y = ax+b << 방정식을 만든 y는 기울기(a,=가중치)와 y절편(b)에 따라 정해짐,     \n",
    "#x는 정해져있기때문     \n",
    "     \n",
    "#예측값이 연속된 숫자로 만들어짐 - 회귀모델     \n",
    "     \n",
    "#분류 모델은 레이블이 달린 학습 데이터로 학습한 후에 새로 입력된 데이터가     \n",
    "#학습했던 어느 그룹에 속하는 지를 찾아내는 방법     \n",
    "#범주형(0이냐 1이냐) -> 분류보델     \n",
    "     \n",
    "#각각의 모델에 적합한 일고리즘이 있음     \n",
    "#예) 출처 :https://kolikim.tistory.com/9 참고     "
   ]
  },
  {
   "cell_type": "markdown",
   "id": "30ba9fe9",
   "metadata": {},
   "source": [
    "#데이터 전처리, 탐색이 중요함@@    \n",
    "#판다스 넘파이 컬렉션 씨본 등    \n",
    "#데이터 가져오는 크롤링    \n",
    "#종합해서 데이터 잘 확보하고 분석에 적합한 셋 만드는 것이   \n",
    "#데이터 분석 문제해결을 위한 비중이 70~80%됨    \n"
   ]
  },
  {
   "cell_type": "markdown",
   "id": "da84ffb4",
   "metadata": {},
   "source": [
    "-------------------------------\n",
    "## 본격적인 판다스 전처리"
   ]
  },
  {
   "cell_type": "markdown",
   "id": "9c4004dc",
   "metadata": {},
   "source": [
    "### counter"
   ]
  },
  {
   "cell_type": "code",
   "execution_count": null,
   "id": "7262b8f7",
   "metadata": {},
   "outputs": [],
   "source": [
    "from collections import Counter\n",
    "my_list = ['a','b','c','a','b','c','a']\n",
    "count = Counter(my_list)\n",
    "print(count)\n",
    "#키-값(키의 개수), 딕셔너리형태로 반환됨"
   ]
  },
  {
   "cell_type": "code",
   "execution_count": null,
   "id": "6f68e9ca",
   "metadata": {},
   "outputs": [],
   "source": [
    "#가장많이 나타나는 2개 출력\n",
    "words = dict(count.most_common(n=2))\n",
    "print(words)"
   ]
  },
  {
   "cell_type": "markdown",
   "id": "59bb0790",
   "metadata": {},
   "source": [
    "### 반올림\n",
    "df.round({'a열':2,'b열':1}) 소수점 각각 설정 가능"
   ]
  },
  {
   "cell_type": "code",
   "execution_count": null,
   "id": "7a189910",
   "metadata": {},
   "outputs": [],
   "source": [
    "#반올림\n",
    "import pandas as pd\n",
    "import numpy as np\n",
    "\n",
    "#10에서 20사이 '실수'(uniform) 10개 뽑아줌./ 정수-> randint\n",
    "col1 = np.random.uniform(10,20,size=10) \n",
    "col1"
   ]
  },
  {
   "cell_type": "code",
   "execution_count": null,
   "id": "dd0ac118",
   "metadata": {},
   "outputs": [],
   "source": [
    "col2 = np.random.uniform(10,20,size=10)\n",
    "\n",
    "#배열을 시리즈로\n",
    "sr1 = pd.Series(col1,name='col1')\n",
    "sr2 = pd.Series(col2,name='col2')\n",
    "\n",
    "#concat으로 합치기\n",
    "df = pd.concat([sr1,sr2],axis=1)\n",
    "df"
   ]
  },
  {
   "cell_type": "code",
   "execution_count": null,
   "id": "5b85a20a",
   "metadata": {},
   "outputs": [],
   "source": [
    "#소수점 2자리로 _ round\n",
    "df = df.round({'col1':2,'col2':1}) #딕셔너리로 각각 설정 가능\n",
    "df.head(3)"
   ]
  },
  {
   "cell_type": "markdown",
   "id": "0cb04b38",
   "metadata": {},
   "source": [
    "### Null 값"
   ]
  },
  {
   "cell_type": "code",
   "execution_count": null,
   "id": "09661b3b",
   "metadata": {},
   "outputs": [],
   "source": [
    "#Null 값 입력\n",
    "#df.iloc[1:3,:]=None\n",
    "df.iloc[1:3,:]=np.nan\n",
    "df.head(5)\n",
    "df.astype()"
   ]
  },
  {
   "cell_type": "code",
   "execution_count": null,
   "id": "a335cae4",
   "metadata": {},
   "outputs": [],
   "source": [
    "#NaN을 다른값으로 채우려면 df.fillna()\n",
    "df.fillna(0,inplace=True)\n",
    "df.head()"
   ]
  },
  {
   "cell_type": "markdown",
   "id": "8bd78b51",
   "metadata": {},
   "source": [
    "-----------------"
   ]
  },
  {
   "cell_type": "code",
   "execution_count": null,
   "id": "33aba114",
   "metadata": {},
   "outputs": [],
   "source": [
    "#float64 -> int로 df.astype(바꿀타입)\n",
    "df = df.astype(int)\n",
    "df.info()"
   ]
  },
  {
   "cell_type": "code",
   "execution_count": null,
   "id": "1af63128",
   "metadata": {},
   "outputs": [],
   "source": [
    "#서로 다르게 바꾸려면 딕셔너리 형태로 넣어줌\n",
    "df = df.astype({'col1':'int','col2':'float'})\n",
    "df.head(3) #앞부분 보며 확인"
   ]
  },
  {
   "cell_type": "code",
   "execution_count": null,
   "id": "500ac6dd",
   "metadata": {},
   "outputs": [],
   "source": [
    "#컬럼 새로 만들어 넣기\n",
    "df['col0'] = list('abcdefghij')\n",
    "df.head(3)"
   ]
  },
  {
   "cell_type": "code",
   "execution_count": null,
   "id": "f24425ad",
   "metadata": {},
   "outputs": [],
   "source": [
    "#인덱스(행)에 열 넣어주기\n",
    "df.set_index('col0', inplace=True)\n",
    "df.head(3)"
   ]
  },
  {
   "cell_type": "code",
   "execution_count": null,
   "id": "17b53df2",
   "metadata": {},
   "outputs": [],
   "source": [
    "df1= df.copy()\n",
    "#복사함\n",
    "\n",
    "#null값 집어넣기\n",
    "df1.loc['c','col2']=np.nan\n",
    "df1.head(3)"
   ]
  },
  {
   "cell_type": "code",
   "execution_count": null,
   "id": "ebd4a8fb",
   "metadata": {},
   "outputs": [],
   "source": [
    "#Q. col2 의 평균값으로 null값을 대체하세요.\n",
    "df1.loc['c','col2']=df1['col2'].mean()\n",
    "df1.head(3)"
   ]
  },
  {
   "cell_type": "code",
   "execution_count": null,
   "id": "21f55af4",
   "metadata": {},
   "outputs": [],
   "source": [
    "#replace 이용\n",
    "df3 = df1.replace(np.nan,df1['col2'].mean())\n",
    "df3.head(3)"
   ]
  },
  {
   "cell_type": "code",
   "execution_count": null,
   "id": "e8d9f7d8",
   "metadata": {},
   "outputs": [],
   "source": [
    "df3 = df3.round({'col2':2}) #반올림 소수점 자리 설정\n",
    "df3.head(3)"
   ]
  },
  {
   "cell_type": "code",
   "execution_count": null,
   "id": "8deaa37b",
   "metadata": {},
   "outputs": [],
   "source": [
    "# Q. col2를 정수로 반환하여 출력\n",
    "df3 = df3.astype(int)\n",
    "df3.head(3)"
   ]
  },
  {
   "cell_type": "code",
   "execution_count": null,
   "id": "904d372e",
   "metadata": {},
   "outputs": [],
   "source": [
    "df3['col2'] = df3.col2.astype(int)\n",
    "df3.head(3)"
   ]
  },
  {
   "cell_type": "markdown",
   "id": "bb5f7bb6",
   "metadata": {},
   "source": [
    "-----------------------------"
   ]
  },
  {
   "cell_type": "markdown",
   "id": "d262e2e0",
   "metadata": {},
   "source": [
    "### null 값"
   ]
  },
  {
   "cell_type": "code",
   "execution_count": null,
   "id": "0af526bb",
   "metadata": {},
   "outputs": [],
   "source": [
    "df3.iloc[1:3,1:2] = np.nan\n",
    "df3.head()"
   ]
  },
  {
   "cell_type": "code",
   "execution_count": null,
   "id": "62ff3e6c",
   "metadata": {},
   "outputs": [],
   "source": [
    "#null 값이 있는 행 삭제 dropna()\n",
    "df3.dropna(subset=['col2'],inplace=True)\n",
    "df3.head(3)\n",
    "#NaN행 삭제"
   ]
  },
  {
   "cell_type": "code",
   "execution_count": null,
   "id": "2bd2bee3",
   "metadata": {},
   "outputs": [],
   "source": [
    "#df1 정수로 타입변환\n",
    "df1.astype(int)"
   ]
  },
  {
   "cell_type": "code",
   "execution_count": null,
   "id": "6cc2f7f1",
   "metadata": {},
   "outputs": [],
   "source": [
    "#행으로 넣었던 열을 다시 복귀\n",
    "df2 = df1.reset_index()\n",
    "df2.head(3)"
   ]
  },
  {
   "cell_type": "code",
   "execution_count": null,
   "id": "c42485c2",
   "metadata": {},
   "outputs": [],
   "source": [
    "#reindex - 원하는 값만 도출\n",
    "df3 = df2.reindex(index=[1,2],columns=['col1','col2'])\n",
    "df3"
   ]
  },
  {
   "cell_type": "code",
   "execution_count": null,
   "id": "cacfc7bc",
   "metadata": {},
   "outputs": [],
   "source": [
    "#원하는 값 도출에 타입설정도 가능\n",
    "df4 = df2.reindex(index=[3,4],columns=['col1','col2']).astype(int)\n",
    "df4"
   ]
  },
  {
   "cell_type": "code",
   "execution_count": null,
   "id": "fad09b1f",
   "metadata": {},
   "outputs": [],
   "source": [
    "#reindex 컬럼만 설정가능, axis=1\n",
    "df5 = df2.reindex(['col1','col2'],axis=1)\n",
    "df5.head(3)"
   ]
  },
  {
   "cell_type": "code",
   "execution_count": null,
   "id": "18968aee",
   "metadata": {},
   "outputs": [],
   "source": [
    "#행만 설정가능\n",
    "df6 = df2.reindex([1,3],axis='index')  #axis='index' => axis=0 같은의미\n",
    "df6"
   ]
  },
  {
   "cell_type": "code",
   "execution_count": null,
   "id": "718ffc26",
   "metadata": {},
   "outputs": [],
   "source": [
    "#잊어버릴까봐 한번 더 짚고가기\n",
    "#인덱스 설정한 것을 다시 컬럼으로 돌리고\n",
    "#기본인덱스로 다시 변환\n",
    "mcar1.reset_index()"
   ]
  },
  {
   "cell_type": "markdown",
   "id": "7edce34a",
   "metadata": {},
   "source": [
    "------------------------------------"
   ]
  },
  {
   "cell_type": "code",
   "execution_count": null,
   "id": "2889b1ca",
   "metadata": {},
   "outputs": [],
   "source": [
    "import numpy as np\n",
    "import pandas as pd\n",
    "\n",
    "#넘파이로 숫자 만들기\n",
    "#ar = np.random.randint(1,21,size=(4,5))\n",
    "data1 = np.arange(1,21).reshape(4,5) #reshape(행,열) 형태\n",
    "data2 = np.arange(11,31).reshape(5,4)"
   ]
  },
  {
   "cell_type": "code",
   "execution_count": null,
   "id": "49c3a53f",
   "metadata": {},
   "outputs": [],
   "source": [
    "#데이터프레임만들기\n",
    "df1 = pd.DataFrame(data1, columns=list('abcde')) #위의 행열에 컬럼 a,b,c,d,e로 데이터프레임 형성\n",
    "df2 = pd.DataFrame(data2, columns=list('dehi'))\n",
    "print(df1)\n",
    "print(df2)"
   ]
  },
  {
   "cell_type": "markdown",
   "id": "6765deb1",
   "metadata": {},
   "source": [
    "### pd.concat( )\n",
    "- 단순결합"
   ]
  },
  {
   "cell_type": "code",
   "execution_count": null,
   "id": "221602e7",
   "metadata": {},
   "outputs": [],
   "source": [
    "#df1+df2 행방향으로\n",
    "#합치는거 concat"
   ]
  },
  {
   "cell_type": "code",
   "execution_count": null,
   "id": "3712f01c",
   "metadata": {},
   "outputs": [],
   "source": [
    "con1 = pd.concat([df1,df2],axis=0, ignore_index=True) \n",
    "#ignore_index=True_ 기존 index 무시\n",
    "con1"
   ]
  },
  {
   "cell_type": "code",
   "execution_count": null,
   "id": "8ca5d206",
   "metadata": {},
   "outputs": [],
   "source": [
    "pd.concat(objs,  # Series, DataFrame, Panel object\n",
    "\n",
    "             axis=0,  # 0: 위+아래로 합치기, 1: 왼쪽+오른쪽으로 합치기\n",
    "\n",
    "             join='outer', # 'outer': 합집합(union), 'inner': 교집합(intersection)\n",
    "\n",
    "             join_axes=None, # axis=1 일 경우 특정 DataFrame의 index를 그대로 이용하려면 입력 (deprecated, 더이상 지원하지 않음)\n",
    "\n",
    "             ignore_index=False,  # False: 기존 index 유지, True: 기존 index 무시\n",
    "             keys=None, # 계층적 index 사용하려면 keys 튜플 입력\n",
    "\n",
    "             levels=None,\n",
    "\n",
    "             names=None, # index의 이름 부여하려면 names 튜플 입력\n",
    "\n",
    "             verify_integrity=False, # True: index 중복 확인\n",
    "             copy=True) # 복사"
   ]
  },
  {
   "cell_type": "code",
   "execution_count": null,
   "id": "7e679e74",
   "metadata": {},
   "outputs": [],
   "source": [
    "#열방향으로 합치기, axis=1\n",
    "con2 = pd.concat([df1,df2],axis=1)\n",
    "con2"
   ]
  },
  {
   "cell_type": "markdown",
   "id": "d7c33512",
   "metadata": {},
   "source": [
    "### pd.merge( )\n",
    "- 컬럼기준\n",
    "- 컬럼의 특정 조건을 가지고 병합"
   ]
  },
  {
   "cell_type": "code",
   "execution_count": null,
   "id": "c9d175d0",
   "metadata": {},
   "outputs": [],
   "source": [
    "#ind열 추가(공통된 열을 기준으로 합집합으로 병합해보기)\n",
    "df1['ind']=[1,2,3,4]\n",
    "df2['ind']=[1,2,3,4,5]"
   ]
  },
  {
   "cell_type": "code",
   "execution_count": null,
   "id": "40475b34",
   "metadata": {},
   "outputs": [],
   "source": [
    "#merge()를 이용한 결합 공동된 ind\n",
    "pd.merge(df1,df2, on='ind', how='outer')   \n",
    "#합집합 outer 교집합 inner(공통된 부분 출력,nan값 생기지 않음)\n",
    "\n",
    "# on='ind',ind는 하나로 들어갔고(합집합)\n",
    "#df1과 df2에 각각 있던 d와 e는 뒤에 _x랑_y가 자동으로 붙어서 구분되었다."
   ]
  },
  {
   "cell_type": "code",
   "execution_count": null,
   "id": "def82779",
   "metadata": {},
   "outputs": [],
   "source": [
    "#넣었던 열 빼기\n",
    "df1=df1.drop('ind',axis=1)\n",
    "df2=df2.drop('ind',axis=1)"
   ]
  },
  {
   "cell_type": "markdown",
   "id": "61462647",
   "metadata": {},
   "source": [
    "### df.join(df2, isuffix='',rsuffix='')\n",
    "- 인덱스 기준으로 결합\n",
    "- 컬럼도 가능"
   ]
  },
  {
   "cell_type": "code",
   "execution_count": null,
   "id": "e8cd89d2",
   "metadata": {},
   "outputs": [],
   "source": [
    "#join\n",
    "#join은 인덱스 기준으로 결합(default는 교집합)\n",
    "df1.join(df2,lsuffix='_a', rsuffix='_b') \n",
    "#앞쪽은 _a가 붙고 뒤에(df2)는 _b 붙음//공통된 속성 이름에"
   ]
  },
  {
   "cell_type": "code",
   "execution_count": null,
   "id": "56185d9d",
   "metadata": {},
   "outputs": [],
   "source": [
    "df1.join(df2,lsuffix='_a', rsuffix='_b',how='inner')  #디폴트값 how='inner'"
   ]
  },
  {
   "cell_type": "code",
   "execution_count": null,
   "id": "d7eb96c2",
   "metadata": {},
   "outputs": [],
   "source": [
    "df1.join(df2,lsuffix='_1', rsuffix='_2',how='outer') \n",
    "#outer 공통되지않은부분 NaN도 출력"
   ]
  },
  {
   "cell_type": "code",
   "execution_count": null,
   "id": "ab5188a0",
   "metadata": {},
   "outputs": [],
   "source": [
    "df1['ind']=[1,2,3,4]\n",
    "df2['ind']=[1,2,3,4,5]\n",
    "df1.set_index('ind').join(df2.set_index('ind'), lsuffix='_1', rsuffix='_2')\n",
    "#join 인덱스(set 'ind') 기준으로 합병된다\n",
    "#index 'ind'의 공통부분 1,2,3,4 인덱스 출력됨(디폴트값 how = 'inner')"
   ]
  },
  {
   "cell_type": "code",
   "execution_count": null,
   "id": "dd184798",
   "metadata": {},
   "outputs": [],
   "source": [
    "#on='ind' 조건을 주면 컬럼으로 바뀜, on에 'ind'를 주니 컬럼으로 처리함\n",
    "#행이 아닌 열이 되어 추가됨. 합집합 되어 빈공간 NaN\n",
    "df1.set_index('ind').join(df2.set_index('ind'), lsuffix='_1', rsuffix='_2',on='ind', how='outer') "
   ]
  },
  {
   "cell_type": "markdown",
   "id": "6b3fe906",
   "metadata": {},
   "source": [
    "-------------------------"
   ]
  },
  {
   "cell_type": "code",
   "execution_count": null,
   "id": "be894507",
   "metadata": {},
   "outputs": [],
   "source": [
    "#df1 데이터프레임 다시정리\n",
    "data1 = np.arange(1,21).reshape(4,5)\n",
    "df1 = pd.DataFrame(data1, columns=list('abcde')\n",
    "df1['ind']=[1,2,3,4] #열 추가"
   ]
  },
  {
   "cell_type": "code",
   "execution_count": null,
   "id": "6946a07d",
   "metadata": {},
   "outputs": [],
   "source": [
    "# a와 b의 평균을 구하세요\n",
    "df1[['a','b']].mean()"
   ]
  },
  {
   "cell_type": "code",
   "execution_count": null,
   "id": "215b27bd",
   "metadata": {},
   "outputs": [],
   "source": [
    "#컬럼별 개수구하기\n",
    "df1.count()"
   ]
  },
  {
   "cell_type": "code",
   "execution_count": null,
   "id": "29486820",
   "metadata": {},
   "outputs": [],
   "source": [
    "#컬럼별 개수 합\n",
    "df1.count().sum()"
   ]
  },
  {
   "cell_type": "markdown",
   "id": "c839db4f",
   "metadata": {},
   "source": [
    "----------------------------"
   ]
  },
  {
   "cell_type": "code",
   "execution_count": null,
   "id": "d783b01b",
   "metadata": {},
   "outputs": [],
   "source": [
    "#df 새로만들기\n",
    "data=np.arange(1,22).reshape(7,3)\n",
    "df = pd.DataFrame(data,columns=list('abc'),index=list('1122333'))\n",
    "df"
   ]
  },
  {
   "cell_type": "code",
   "execution_count": null,
   "id": "db6c8021",
   "metadata": {},
   "outputs": [],
   "source": [
    "#index=list('1122333'),인덱스를 컬럼으로 넣고, 기본값으로 변경됨\n",
    "df.reset_index(inplace=True)\n",
    "df"
   ]
  },
  {
   "cell_type": "markdown",
   "id": "4c73cf43",
   "metadata": {},
   "source": [
    "---------------------------\n",
    "#### 과제"
   ]
  },
  {
   "cell_type": "code",
   "execution_count": null,
   "id": "9646496b",
   "metadata": {},
   "outputs": [],
   "source": [
    "data=np.arange(1,22).reshape(7,3)\n",
    "df = pd.DataFrame(data,columns=list('abc'),index=list('1122333'))\n",
    "#df 에서\n",
    "#3개의 그룹을 만들어 그룹별로 계산 11,22,333\n",
    "# a 는 평균, b는 최대값, c는 합계 각각 계산하여 출력하세요."
   ]
  },
  {
   "cell_type": "code",
   "execution_count": null,
   "id": "e53a63ea",
   "metadata": {},
   "outputs": [],
   "source": [
    "a = list(df.groupby('index'))\n",
    "print('그룹 1: a의 평균' , a[0][1]['a'].mean(),'/ b의 최대값',a[0][1]['b'].max(),'/ c의 합계',a[0][1]['c'].sum())\n",
    "print('그룹 2: a의 평균' , a[1][1]['a'].mean(),'/ b의 최대값',a[1][1]['b'].max(),'/ c의 합계',a[1][1]['c'].sum())\n",
    "print('그룹 3: a의 평균' , a[2][1]['a'].mean(),'/ b의 최대값',a[2][1]['b'].max(),'/ c의 합계',a[2][1]['c'].sum())"
   ]
  },
  {
   "cell_type": "code",
   "execution_count": null,
   "id": "95ee71af",
   "metadata": {},
   "outputs": [],
   "source": [
    "a = list(df.groupby('index'))\n",
    "for i,j in a:\n",
    "    print('그룹 ',i,': a의 평균' , a[(int(i)-1)][1]['a'].mean(),'/ b의 최대값',a[(int(i)-1)][1]['b'].max(),'/ c의 합계',a[(int(i)-1)][1]['c'].sum())\n",
    "   "
   ]
  },
  {
   "cell_type": "code",
   "execution_count": null,
   "id": "4dff43a2",
   "metadata": {},
   "outputs": [],
   "source": [
    "d_g = df.groupby('index').mean()\n",
    "d_g1 = df.groupby('index').max()\n",
    "d_g3 = df.groupby('index').sum()\n",
    "print(d_g['a'],d_g1['b'],d_g3['c'])\n",
    "df = pd.concat([d_g['a'],d_g1['b'],d_g3['c']],axis=1)\n",
    "df.columns=['mean_a','max_b','sum_c']\n",
    "df"
   ]
  },
  {
   "cell_type": "markdown",
   "id": "7dc4257e",
   "metadata": {},
   "source": [
    "### agg"
   ]
  },
  {
   "cell_type": "code",
   "execution_count": null,
   "id": "36b34538",
   "metadata": {},
   "outputs": [],
   "source": [
    "##모범답안\n",
    "grouped = df.groupby('index')\n",
    "cal = grouped.agg({'a':'mean','b':'max','c':'sum'})\n",
    "print(cal)"
   ]
  },
  {
   "cell_type": "code",
   "execution_count": null,
   "id": "b75a4be6",
   "metadata": {},
   "outputs": [],
   "source": [
    "#Q.2 deck 열의 'NaN 갯수를 계산'하세요.\n",
    "import seaborn as sns\n",
    "titanic_df = sns.load_dataset('titanic')\n",
    "titanic_df.head()"
   ]
  },
  {
   "cell_type": "code",
   "execution_count": null,
   "id": "be318ea6",
   "metadata": {},
   "outputs": [],
   "source": [
    "titanic_df['deck'].isnull().sum()"
   ]
  },
  {
   "cell_type": "code",
   "execution_count": null,
   "id": "033079d4",
   "metadata": {},
   "outputs": [],
   "source": [
    "# Q3. titanic_df의 처음 5개 행에서'null 값을 찾아 출력'하세요.(True,False로)\n",
    "titanic_df.head().isnull()"
   ]
  },
  {
   "cell_type": "code",
   "execution_count": null,
   "id": "f094c85d",
   "metadata": {},
   "outputs": [],
   "source": [
    "# Q4. titanic_df의 각 칼럼별 null의 갯수를 for 반복문을 사용해서 구한 후 \n",
    "# 출력하세요.\n",
    "# (missing_count는 예외 처리하고 처리 방식은 0을 출력함)\n",
    "c = titanic_df.columns\n",
    "for i in list(c):\n",
    "    print(i,':',titanic_df[i].isnull().sum())"
   ]
  },
  {
   "cell_type": "code",
   "execution_count": null,
   "id": "482ceb49",
   "metadata": {},
   "outputs": [],
   "source": [
    "# Q5. 'mpg'를 'kpl' 로 환산하여 새로운 열을 생성하고 /처음 3개 행을 소수점 아래 \n",
    "# 둘째 자리에서 반올림하여 출력하세요.\n",
    "# mpg - 갤런당 마일(mile per gallon)을 kpl - 리터당 킬로미터(km/L)단위로 변환 \n",
    "import pandas as pd\n",
    "auto_df = pd.read_csv('./dataset/auto-mpg.csv')\n",
    "auto_df.head()"
   ]
  },
  {
   "cell_type": "code",
   "execution_count": null,
   "id": "bbf0a679",
   "metadata": {},
   "outputs": [],
   "source": [
    "kpl = auto_df[['mpg']].mul(0.425)\n",
    "auto_df['kpl']=kpl\n",
    "pd.options.display.float_format = '{:.2f}'.format\n",
    "auto_df.head(3)"
   ]
  },
  {
   "cell_type": "code",
   "execution_count": null,
   "id": "bc0cbe9b",
   "metadata": {},
   "outputs": [],
   "source": [
    "# 과제\n",
    "# Q6. titanic_df 데이터 셋을 전처리하고 탐색하여 데이터 셋에 대한 설명 및\n",
    "# 분석 과제를 기술하세요 (전처리 최소 5개 이상)\n",
    "\n",
    "import seaborn as sns\n",
    "pd.set_option('display.max_columns', None)\n",
    "titanic_df = sns.load_dataset('titanic')\n",
    "titanic_df.head()"
   ]
  },
  {
   "cell_type": "code",
   "execution_count": null,
   "id": "8bacb6fb",
   "metadata": {},
   "outputs": [],
   "source": [
    "titanic_df.info()"
   ]
  },
  {
   "cell_type": "code",
   "execution_count": null,
   "id": "007217c2",
   "metadata": {},
   "outputs": [],
   "source": [
    "#1) 객실 클래스별로 생존자수 %\n",
    "\n",
    "titanic_df1=titanic_df[['survived','class']]\n",
    "df = titanic_df1.groupby('class').count()\n",
    "df.columns=['num']\n",
    "df['survived'] = titanic_df1.groupby('class').sum()\n",
    "df1 = df.transpose()\n",
    "df1"
   ]
  },
  {
   "cell_type": "code",
   "execution_count": null,
   "id": "09aa9edc",
   "metadata": {},
   "outputs": [],
   "source": [
    "survived_people = df1.loc['survived'].sum()"
   ]
  },
  {
   "cell_type": "code",
   "execution_count": null,
   "id": "020e1ab2",
   "metadata": {},
   "outputs": [],
   "source": [
    "df1.loc['survived'] = df1.loc['survived']/survived_people*100\n",
    "s1 = df1.loc['survived']\n",
    "print(s1)\n",
    "df1.loc['survived'].sum()"
   ]
  },
  {
   "cell_type": "code",
   "execution_count": null,
   "id": "b585f92f",
   "metadata": {},
   "outputs": [],
   "source": [
    "import matplotlib.pylab as plt\n",
    "\n",
    "s1.plot.pie()\n",
    "plt.title(\" Survivor Ratio %\")\n",
    "#총 탑승객들의 클래스별 생존자 비율"
   ]
  },
  {
   "cell_type": "code",
   "execution_count": null,
   "id": "5c3785de",
   "metadata": {},
   "outputs": [],
   "source": [
    "#2) 각 클래스별로 생존자 %\n",
    "df2 = df1.iloc[1] = df1.iloc[1]/df1.iloc[0]*100\n",
    "df2"
   ]
  },
  {
   "cell_type": "code",
   "execution_count": null,
   "id": "b23f0728",
   "metadata": {},
   "outputs": [],
   "source": [
    "df2.plot.bar()\n",
    "plt.title(\"By Class\")"
   ]
  },
  {
   "cell_type": "code",
   "execution_count": null,
   "id": "ed85913b",
   "metadata": {},
   "outputs": [],
   "source": [
    "#3)나이대별 생존자수\n",
    "#승객 나이 평균\n",
    "a = titanic_df['age'].mean()\n",
    "a"
   ]
  },
  {
   "cell_type": "code",
   "execution_count": null,
   "id": "abb72972",
   "metadata": {},
   "outputs": [],
   "source": [
    "#survived와 나이를 추려서 비교해보려고 함\n",
    "titanic_df1=titanic_df[['survived','age']]\n",
    "titanic_df1"
   ]
  },
  {
   "cell_type": "code",
   "execution_count": null,
   "id": "0614dc19",
   "metadata": {},
   "outputs": [],
   "source": [
    "#데이터 범주화 시도\n",
    "#데이터 60대 까지로 설정\n",
    "cond = titanic_df1.age <=69\n",
    "cond"
   ]
  },
  {
   "cell_type": "code",
   "execution_count": null,
   "id": "3deb964d",
   "metadata": {},
   "outputs": [],
   "source": [
    "#데이터 70대 이하로 간추림, 적용\n",
    "titanic_df1 = titanic_df1[cond]\n",
    "titanic_df1"
   ]
  },
  {
   "cell_type": "code",
   "execution_count": null,
   "id": "7981232e",
   "metadata": {},
   "outputs": [],
   "source": [
    "#나이대 계산식 함수설정\n",
    "def age_categorize(age):\n",
    "    #나눈 몫*10\n",
    "    age = (age//10)*10\n",
    "    return age"
   ]
  },
  {
   "cell_type": "code",
   "execution_count": null,
   "id": "7a9aac60",
   "metadata": {},
   "outputs": [],
   "source": [
    "#간추린 데이터에 age에 적용시킴, apply(함수)\n",
    "age_ca = titanic_df1.age.apply(age_categorize)\n",
    "print(age_ca,type(age_ca))"
   ]
  },
  {
   "cell_type": "code",
   "execution_count": null,
   "id": "d9939c24",
   "metadata": {},
   "outputs": [],
   "source": [
    "#카테고리화\n",
    "age_ca = age_ca.astype('category')"
   ]
  },
  {
   "cell_type": "code",
   "execution_count": null,
   "id": "abb0d4ef",
   "metadata": {},
   "outputs": [],
   "source": [
    "#데이터프레임에 열 2번째 자리에 카테고리 추가. 열이름:age_category\n",
    "titanic_df1.insert(2,'age_category', age_ca)"
   ]
  },
  {
   "cell_type": "code",
   "execution_count": null,
   "id": "971765ad",
   "metadata": {},
   "outputs": [],
   "source": [
    "titanic_df1.head() #앞부분 보고 확인"
   ]
  },
  {
   "cell_type": "code",
   "execution_count": null,
   "id": "f3b17828",
   "metadata": {},
   "outputs": [],
   "source": [
    "#나이대별로 생존자수\n",
    "titanic_df2=titanic_df1.copy()"
   ]
  },
  {
   "cell_type": "code",
   "execution_count": null,
   "id": "943e4903",
   "metadata": {},
   "outputs": [],
   "source": [
    "df_a = titanic_df2.groupby('age_category').count()\n",
    "df_a"
   ]
  },
  {
   "cell_type": "code",
   "execution_count": null,
   "id": "92a9e14c",
   "metadata": {},
   "outputs": [],
   "source": [
    "df_a['age'].sum() #합계 확인"
   ]
  },
  {
   "cell_type": "code",
   "execution_count": null,
   "id": "b8c3b7e1",
   "metadata": {},
   "outputs": [],
   "source": [
    "#df_a['age']는 그대로 두고 df_a['survived']에만 적용을 시킴\n",
    "df_a['survived'] = titanic_df2.groupby('age_category').sum()\n",
    "df_a['survived']"
   ]
  },
  {
   "cell_type": "code",
   "execution_count": null,
   "id": "a8e703ef",
   "metadata": {},
   "outputs": [],
   "source": [
    "#번외\n",
    "#그룹 지정은 여러 개할 수 있어서 한번 적용해 보았습니다.\n",
    "df_a2 = titanic_df2.groupby(['age_category','survived']).count()\n",
    "df_a2"
   ]
  },
  {
   "cell_type": "code",
   "execution_count": null,
   "id": "b23de6b4",
   "metadata": {},
   "outputs": [],
   "source": [
    "#df_a의 컬럼명 변경\n",
    "df_a.columns=['survived','num']\n",
    "df_a"
   ]
  },
  {
   "cell_type": "code",
   "execution_count": null,
   "id": "4c7c9ea3",
   "metadata": {},
   "outputs": [],
   "source": [
    "all_s = titanic_df1['survived'].sum()\n",
    "all_s#슬라이싱전"
   ]
  },
  {
   "cell_type": "code",
   "execution_count": null,
   "id": "b42838cc",
   "metadata": {},
   "outputs": [],
   "source": [
    " titanic_df1['survived'].sum() #70대 이하"
   ]
  },
  {
   "cell_type": "code",
   "execution_count": null,
   "id": "1460da95",
   "metadata": {},
   "outputs": [],
   "source": [
    "#survived 맞는지 확인\n",
    "df_a['survived'].sum()"
   ]
  },
  {
   "cell_type": "code",
   "execution_count": null,
   "id": "3f2edfe7",
   "metadata": {},
   "outputs": [],
   "source": [
    "#결론 : 나이대 탑승객별 생존자수 확인\n",
    "df_a.plot.bar()\n",
    "plt.title(\"age_category\")"
   ]
  },
  {
   "cell_type": "code",
   "execution_count": null,
   "id": "285d013f",
   "metadata": {},
   "outputs": [],
   "source": [
    "#4) 전체 생존자중에 나이대별 생존자수 퍼센트 비교.\n",
    "df_a2 = df_a.copy()\n",
    "df_a2['survived'] = df_a2['survived']/all_s*100   #all_s는 전체탑승객\n",
    "df_a2"
   ]
  },
  {
   "cell_type": "code",
   "execution_count": null,
   "id": "bd961fa5",
   "metadata": {},
   "outputs": [],
   "source": [
    "df_a2['survived'].sum() \n",
    "#100 - df_a2['survived'].sum() 는 범주에서 제외시킨 것들의 값."
   ]
  },
  {
   "cell_type": "code",
   "execution_count": null,
   "id": "7cc92306",
   "metadata": {},
   "outputs": [],
   "source": [
    "df_a2['survived'].plot.pie()\n",
    "plt.title(\"survived %\")\n",
    "#전체 생존자들[84%]중 나이대별 비율을 볼 수 있습니다."
   ]
  },
  {
   "cell_type": "code",
   "execution_count": null,
   "id": "1417ba45",
   "metadata": {},
   "outputs": [],
   "source": [
    "#탑승객 성별 정보 확인\n",
    "titanic_df3 = titanic_df[['sex','survived']]\n",
    "titanic_df3.head() #확인"
   ]
  },
  {
   "cell_type": "code",
   "execution_count": null,
   "id": "ae7f5035",
   "metadata": {},
   "outputs": [],
   "source": [
    "#성별에 따라 그룹만듬\n",
    "df3['num']=titanic_df3.groupby('sex').count() \n",
    "df3 #확인"
   ]
  },
  {
   "cell_type": "code",
   "execution_count": null,
   "id": "424c23f4",
   "metadata": {},
   "outputs": [],
   "source": [
    "# survived(0,1)값 더한거 넣음\n",
    "df3['survived'] = titanic_df3.groupby('sex').sum()\n",
    "df3"
   ]
  },
  {
   "cell_type": "code",
   "execution_count": null,
   "id": "4cbb7487",
   "metadata": {},
   "outputs": [],
   "source": [
    "#전체생존과\n",
    "all_s"
   ]
  },
  {
   "cell_type": "code",
   "execution_count": null,
   "id": "20cd0ad9",
   "metadata": {},
   "outputs": [],
   "source": [
    "#데이터생존값 비교\n",
    "df3['survived'].sum()"
   ]
  },
  {
   "cell_type": "code",
   "execution_count": null,
   "id": "1317ebc9",
   "metadata": {},
   "outputs": [],
   "source": [
    "df3.plot.bar()\n",
    "plt.title(\"survived\")\n",
    "#탑승객의 남성에 비해 여성 생존자가 많은 것을 비교할 수 있었습니다."
   ]
  },
  {
   "cell_type": "markdown",
   "id": "d919625e",
   "metadata": {},
   "source": [
    "-------------------------------------\n",
    "#### 0715 판다스 강의\n",
    "타이타닉데이터 이용"
   ]
  },
  {
   "cell_type": "code",
   "execution_count": null,
   "id": "ee65a129",
   "metadata": {},
   "outputs": [],
   "source": [
    "import pandas as pd\n",
    "import seaborn as sns\n",
    "pd.set_option('display.max_columns', None) #컬럼 전체 보이도록\n",
    "titanic_df = sns.load_dataset('titanic')\n",
    "titanic_df.head() #앞의 다섯행 보이게끔"
   ]
  },
  {
   "cell_type": "markdown",
   "id": "d7980289",
   "metadata": {},
   "source": [
    "### df.groupby( )"
   ]
  },
  {
   "cell_type": "code",
   "execution_count": null,
   "id": "05bd9b26",
   "metadata": {},
   "outputs": [],
   "source": [
    "tdf = titanic_df.copy()\n",
    "tdf.sex.value_counts() #성별 값 확인"
   ]
  },
  {
   "cell_type": "code",
   "execution_count": null,
   "id": "0b130052",
   "metadata": {},
   "outputs": [],
   "source": [
    "#성별을 기준으로 생존자숫자\n",
    "tdf.groupby('sex').count()[['survived']]"
   ]
  },
  {
   "cell_type": "markdown",
   "id": "80c8e979",
   "metadata": {},
   "source": [
    "### .apply( )"
   ]
  },
  {
   "cell_type": "code",
   "execution_count": null,
   "id": "04190e5b",
   "metadata": {},
   "outputs": [],
   "source": [
    "#apply 적용\n",
    "# 함수맵핑\n",
    "tdf.groupby('sex').apply(lambda x:x.count())[['survived']]"
   ]
  },
  {
   "cell_type": "code",
   "execution_count": null,
   "id": "00704c40",
   "metadata": {},
   "outputs": [],
   "source": [
    "# Q.sibsp, parch 컬럼의 각 원소에 1을 추가해 주세요.\n",
    "tdf_e1=tdf[['sibsp','parch']].apply(lambda x: x + 1)\n",
    "tdf_e1.head()"
   ]
  },
  {
   "cell_type": "code",
   "execution_count": null,
   "id": "1e31fd57",
   "metadata": {},
   "outputs": [],
   "source": [
    "#사용자 함수 이용 해보기\n",
    "def uppercase(x):\n",
    "    return x.upper() #대문자로 변경\n",
    "\n",
    "tdf.sex.apply(uppercase)[0:2]  #male -> MALE // female->FEMALE"
   ]
  },
  {
   "cell_type": "code",
   "execution_count": null,
   "id": "84d95b6d",
   "metadata": {},
   "outputs": [],
   "source": [
    "#시리즈에 적용 한 것(열 속성 1개)\n",
    "tdf.sex.apply(uppercase)"
   ]
  },
  {
   "cell_type": "markdown",
   "id": "a4c984ef",
   "metadata": {},
   "source": [
    "### 범주화"
   ]
  },
  {
   "cell_type": "code",
   "execution_count": null,
   "id": "f842d323",
   "metadata": {},
   "outputs": [],
   "source": [
    "#범주화\n",
    "# Q. 'age' 컬럼을 범주화하여 새로운 'age_class'컬럼을 생성하세요.\n",
    "len(tdf.age.unique()) #age열의 모든 값들(중복된거는 하나만보임) 개수세어보기"
   ]
  },
  {
   "cell_type": "code",
   "execution_count": null,
   "id": "16a66cf4",
   "metadata": {},
   "outputs": [],
   "source": [
    "def age_category(age):\n",
    "    if age >= 0:\n",
    "        age= (age//10)*10  #10으로 나눈 몫에 *10\n",
    "        return age\n",
    "        \n",
    "age_class = tdf.age.apply(age_category)\n",
    "agage_class = age_class.astype('category')\n",
    "tdf.insert(4,'age_class', agage_class) #agage_class 카테고리 추가"
   ]
  },
  {
   "cell_type": "code",
   "execution_count": null,
   "id": "2cdf9d92",
   "metadata": {},
   "outputs": [],
   "source": [
    "#** null값 처리 어떻게 할지"
   ]
  },
  {
   "cell_type": "code",
   "execution_count": null,
   "id": "47aaa15c",
   "metadata": {},
   "outputs": [],
   "source": [
    "tdf_a = tdf.groupby('age_class').count()  #나이대로 그룹\n",
    "tdf_a"
   ]
  },
  {
   "cell_type": "code",
   "execution_count": null,
   "id": "7d6fa1a0",
   "metadata": {},
   "outputs": [],
   "source": [
    "#Q. 'survived' 'pclass' 'sex' 컬럼으로 데이터프레임 df1 생성하세요.\n",
    "df1 = tdf[['survived','pclass','sex']]\n",
    "df1.head() #확인"
   ]
  },
  {
   "cell_type": "code",
   "execution_count": null,
   "id": "94c360ab",
   "metadata": {},
   "outputs": [],
   "source": [
    "# Q. df1에서 pclass가 3인 승객의 개수를 구하세요.\n",
    "df1.pclass.value_counts()[3]\n",
    "\n",
    "a = (df1.pclass == 3)\n",
    "df1[a].count()"
   ]
  },
  {
   "cell_type": "code",
   "execution_count": null,
   "id": "86f4635c",
   "metadata": {},
   "outputs": [],
   "source": [
    "#value_counts 이용\n",
    "df1.pclass.value_counts()"
   ]
  },
  {
   "cell_type": "code",
   "execution_count": null,
   "id": "b6759bb0",
   "metadata": {},
   "outputs": [],
   "source": [
    "#filter 함수 이용\n",
    "len(list(filter(lambda x:x ==3, df1.pclass)))"
   ]
  },
  {
   "cell_type": "code",
   "execution_count": null,
   "id": "cb3e0d9a",
   "metadata": {},
   "outputs": [],
   "source": [
    "tdf.columns #컬럼확인"
   ]
  },
  {
   "cell_type": "markdown",
   "id": "e2190a1b",
   "metadata": {},
   "source": [
    "### 결측치 처리"
   ]
  },
  {
   "cell_type": "code",
   "execution_count": null,
   "id": "5e692c64",
   "metadata": {},
   "outputs": [],
   "source": [
    "#embark_town의 널값을 처리\n",
    "tdf.embark_town.isnull().sum() #널값 확인 Null True 1 False 0"
   ]
  },
  {
   "cell_type": "code",
   "execution_count": null,
   "id": "8af40686",
   "metadata": {},
   "outputs": [],
   "source": [
    "#널처리 하는 방법\n",
    "#embark_town 열의 NaN값을 바로 앞에 있는 값(ffill;front fill)으로 변경하세요.\n",
    "tdf.embark_town.fillna(method='ffill', inplace = True) #829번째 null값이\n",
    "tdf.embark_town[827:831] #확인"
   ]
  },
  {
   "cell_type": "markdown",
   "id": "3a637f06",
   "metadata": {},
   "source": [
    "(1) 결측값을 특정 값으로 채우기 (replace missing values with scalar value) : df.fillna(0)\n",
    "                         \n",
    "(2) 결측값을 앞 방향 혹은 뒷 방향으로 채우기 (fill gaps forward or backward)\n",
    "          \n",
    "      :fillna(method='ffill' or 'pad'), fillna(method='bfill' or 'backfill')\n",
    "\n",
    "\n",
    "           \n",
    "(3) 앞/뒤 방향으로 결측값 채우는 회수를 제한하기 (limit the amount of filling)\n",
    "            \n",
    "     :fillna(method='ffill', limit=number), fillna(method='bfill', limit=number\n",
    "     \n",
    "                          \n",
    "(4) 결측값을 변수별 평균으로 대체하기(filling missing values with mean per columns)\n",
    "\n",
    "      :df.fillna(df.mean()), df.where(pd.notnull(df), df.mean(), axis='columns')\n",
    "\n",
    "                                \n",
    "(5) 결측값을 다른 변수의 값으로 대체하기\n",
    "\n",
    "      (filling missing values with another columns' values)\n",
    "\n",
    "\n",
    "\n",
    "\n",
    "출처: https://rfriend.tistory.com/262 [R, Python 분석과 프로그래밍의 친구 (by R Friend)]"
   ]
  },
  {
   "cell_type": "markdown",
   "id": "c8e82e7c",
   "metadata": {},
   "source": [
    "---------------------"
   ]
  },
  {
   "cell_type": "code",
   "execution_count": null,
   "id": "4d23ff63",
   "metadata": {},
   "outputs": [],
   "source": [
    "import pandas as pd\n",
    "fifa = pd.read_csv('dataset/FIFA.csv') #kaggle에서 가져오신 자료\n",
    "fifa.head()"
   ]
  },
  {
   "cell_type": "code",
   "execution_count": null,
   "id": "cf0f7926",
   "metadata": {},
   "outputs": [],
   "source": [
    "fifa1 = fifa.copy() #자료 복사해서 사용\n",
    "fifa.shape #행,열 형태확인"
   ]
  },
  {
   "cell_type": "markdown",
   "id": "c8a1f184",
   "metadata": {},
   "source": [
    "#height(feet) -> cm 로 변환"
   ]
  },
  {
   "cell_type": "code",
   "execution_count": null,
   "id": "d9276bd4",
   "metadata": {},
   "outputs": [],
   "source": [
    "#height 값을 cm로 변환하여 새로운 컬럼(height_cm)을 생성하세요\n",
    "cm = 30.48\n",
    "\n",
    "def ftinch_to_cm(ftinch):\n",
    "    ftinchlist = ftinch.split(\"'\")\n",
    "    ft = int(ftinchlist[0])\n",
    "    inch = int(ftinchlist[1])\n",
    "    ftcm = ft*30.48\n",
    "    incm = inch*2.54\n",
    "    total = ftcm + incm\n",
    "    return total\n",
    "fifa['Height_cm'] = fifa['Height'].apply(ftinch_to_cm)\n",
    "fifa.head()"
   ]
  },
  {
   "cell_type": "code",
   "execution_count": null,
   "id": "63d803bb",
   "metadata": {},
   "outputs": [],
   "source": [
    "def ht_ex(x):\n",
    "    f,i = map(int, x.split(\"'\"))\n",
    "    return f*30.48 + i*2.54\n",
    "              \n",
    "fifa['Height_cm'] = fifa['Height'].apply(ht_ex)\n",
    "fifa.head()"
   ]
  },
  {
   "cell_type": "code",
   "execution_count": null,
   "id": "af66a591",
   "metadata": {},
   "outputs": [],
   "source": [
    "fifa.info() #정보확인"
   ]
  },
  {
   "cell_type": "markdown",
   "id": "de8539b7",
   "metadata": {},
   "source": [
    "#### 과제"
   ]
  },
  {
   "cell_type": "code",
   "execution_count": null,
   "id": "3393e838",
   "metadata": {},
   "outputs": [],
   "source": [
    "#fifa player 들의 연봉을 예측하는 모델을 구축하려고 한다.\n",
    "#주어진 fifa date Frame에서 전처리 및 탐색하여 모델에 적합한 분석용 데이터셋을 작성하고\n",
    "#그 근거를 기술하세요\n",
    "\n",
    "#1. 변수축소 -> 전처리\n",
    "#2. 거른 변수들을 전처리 및 탐색\n",
    "#3. 분석용 데이터셋을 작성"
   ]
  },
  {
   "cell_type": "markdown",
   "id": "5870ebc8",
   "metadata": {},
   "source": [
    "- null값 처리\n",
    "- 중복 및 불필요한 컬럼 제거\n",
    "- 파생변수 생성(의미있는)\n",
    "- 그룹화 시켜서 특징 알 수 있도록\n",
    "- 범주화\n",
    "- 데이터 타입 변경\n",
    "- 상광관계 어떤지\n",
    "- 이상치 \n",
    "\n",
    "= 배운거 다 이용해서 위의 과제 수행하기"
   ]
  },
  {
   "cell_type": "code",
   "execution_count": null,
   "id": "7812e3d8",
   "metadata": {},
   "outputs": [],
   "source": [
    "import matplotlib.pyplot as plt \n",
    "import seaborn as sns \n",
    "import pandas as pd\n",
    "fifa = pd.read_csv('dataset/FIFA.csv') #kaggle에서 가져오신 자료\n",
    "fifa.head()"
   ]
  },
  {
   "cell_type": "code",
   "execution_count": null,
   "id": "f5fa4697",
   "metadata": {},
   "outputs": [],
   "source": [
    "fifa.drop('ID',axis=1).head()"
   ]
  },
  {
   "cell_type": "code",
   "execution_count": null,
   "id": "15ab14e6",
   "metadata": {},
   "outputs": [],
   "source": [
    "len(fifa.columns)"
   ]
  },
  {
   "cell_type": "code",
   "execution_count": null,
   "id": "12f02e66",
   "metadata": {},
   "outputs": [],
   "source": [
    "# 상관관계 분석 (Correlogram)\n",
    "import numpy as np\n",
    "def draw_top_corrmat(df,y,k):\n",
    "    y_corrmat = df.corr()\n",
    "    y_cols = y_corrmat.nlargest(k,y)[y].index\n",
    "    cm = np.corrcoef(df[y_cols].values.T)\n",
    "    f, ax = plt.subplots(figsize=(8,6))\n",
    "    hm = sns.heatmap(cm, cbar=True, annot=True, square=True, fmt='.3f', annot_kws={'size': 10}, yticklabels=y_cols.values, xticklabels=y_cols.values)\n",
    "    plt.show()\n",
    "    \n",
    "draw_top_corrmat(fifa2,'Release_Clause',5)"
   ]
  },
  {
   "cell_type": "code",
   "execution_count": null,
   "id": "1bfe2cb3",
   "metadata": {},
   "outputs": [],
   "source": [
    "def draw_corrmat(df):\n",
    "  y_corrmat = df.corr()\n",
    "  f, ax = plt.subplots(figsize=(8,5))\n",
    "  sns.heatmap(y_corrmat, vmax=.8, annot=True, fmt='.2f', square=True);\n",
    "  \n",
    "draw_corrmat(fifa)"
   ]
  },
  {
   "cell_type": "code",
   "execution_count": null,
   "id": "48969708",
   "metadata": {},
   "outputs": [],
   "source": [
    "#1) 등번호에 따른 포지션과 Release_Clause\tValue\tWage\n",
    "fifa1 = fifa.copy()\n",
    "fifa2 = fifa1.groupby('Jersey_Number').mean()\n",
    "fifa2=fifa2.drop(['ID','Weight_lb','Contract_Valid_Until'], axis=1).astype(int)"
   ]
  },
  {
   "cell_type": "code",
   "execution_count": null,
   "id": "f59237c2",
   "metadata": {},
   "outputs": [],
   "source": [
    "fifa2.isnull().sum().to_frame('nan_count') #NaN값 없음"
   ]
  },
  {
   "cell_type": "code",
   "execution_count": null,
   "id": "7f8fbc16",
   "metadata": {},
   "outputs": [],
   "source": [
    "fifa2.plot(y=['Release_Clause','Value'])\n",
    "# 등번호가 Release_Clause,Value를 비례하지는 않지만\n",
    "# Release_Clause,Value 가 서로 비례하는것을 알 수 있다."
   ]
  },
  {
   "cell_type": "markdown",
   "id": "bf083073",
   "metadata": {},
   "source": [
    "참고공부자료 출처:https://towardsdatascience.com/exploratory-data-analysis-of-the-fifa-19-dataset-in-python-24eb27de9e59"
   ]
  },
  {
   "cell_type": "code",
   "execution_count": null,
   "id": "88247028",
   "metadata": {},
   "outputs": [],
   "source": [
    "import pandas as pd\n",
    "fifa = pd.read_csv('dataset/FIFA.csv')\n",
    "fifa.head()"
   ]
  },
  {
   "cell_type": "code",
   "execution_count": null,
   "id": "68f96584",
   "metadata": {},
   "outputs": [],
   "source": [
    "fifa = fifa[['Name', 'Age', 'Nationality', 'Value', 'Wage', 'Preferred_Foot', 'Height', 'Weight_lb', 'Position', 'Overall']]\n",
    "fifa.head() #필요한 열만 추출"
   ]
  },
  {
   "cell_type": "code",
   "execution_count": null,
   "id": "5370e400",
   "metadata": {},
   "outputs": [],
   "source": [
    "#height 단위 변환 \n",
    "Height_cm = []\n",
    "for i in list(fifa['Height'].values):\n",
    "    try : \n",
    "        Height_cm.append((float(str(i)[0])*12.0 + float(str(i)[2:]))*2.54)\n",
    "    except ValueError:\n",
    "        Height_cm.append(np.nan)   #np.nan (numpy ‘not a number’)\n",
    "        \n",
    "fifa['Height_cm'] = Height_cm"
   ]
  },
  {
   "cell_type": "code",
   "execution_count": null,
   "id": "834797b2",
   "metadata": {},
   "outputs": [],
   "source": [
    "#결측치 제거\n",
    "fifa.dropna(inplace = True)\n",
    "fifa['Height_cm'].head() #확인"
   ]
  },
  {
   "cell_type": "code",
   "execution_count": null,
   "id": "952d125e",
   "metadata": {},
   "outputs": [],
   "source": [
    "#키 평균, 표준편차\n",
    "print(\"Mean: \", fifa['Height_cm'].mean())\n",
    "print(\"Standard Deviation: \", fifa['Height_cm'].std())"
   ]
  },
  {
   "cell_type": "code",
   "execution_count": null,
   "id": "c5945fa2",
   "metadata": {},
   "outputs": [],
   "source": [
    "#We can also generate a histogram of the heights:\n",
    "\n",
    "import seaborn as sns\n",
    "sns.set()\n",
    "fifa['Height_cm'].hist(bins = 10)\n",
    "#lt.hist( bins=100, density=True, alpha=0.7, histtype='step')\n",
    "#bins는 몇 개의 영역으로 쪼갤지, \n",
    "#density=True로 설정해주면, 밀도함수가 되어서 막대의 아래 면적이 1\n",
    "#alpha는 투명도\n",
    "#histtype ‘step’은막대 내부가 비어있고, ‘stepfilled’로 설정하면 막대 내부가 채워짐.\n",
    "\n",
    "#hist 히스토그램 도출\n",
    "# 키 170~200사이, 175~190사이가 많은것을 알 수 있슴."
   ]
  },
  {
   "cell_type": "code",
   "execution_count": null,
   "id": "9238217b",
   "metadata": {},
   "outputs": [],
   "source": [
    "#We can also convert the weight column to kilograms #킬로그램으로 변환\n",
    "fifa['Weight_kg'] = fifa['Weight_lb'].astype(float)/2.20462\n",
    "print(fifa.head())"
   ]
  },
  {
   "cell_type": "code",
   "execution_count": null,
   "id": "8effc027",
   "metadata": {},
   "outputs": [],
   "source": [
    "#사용자 함수 설정\n",
    "\n",
    "def get_statistics(numeric_column_name):\n",
    "    print(\"Mean {}: \".format(numeric_column_name), fifa[numeric_column_name].mean())\n",
    "    print(\"Standard Deviation in {}: \".format(numeric_column_name), fifa[numeric_column_name].std())\n",
    "    sns.set()\n",
    "    plt.title(\"{} Histogram\".format(numeric_column_name))\n",
    "    fifa[numeric_column_name].hist(bins = 10) #히스토그램 도출 함수\n",
    "    \n",
    "get_statistics('Weight_kg') #평균값과 표준편차구하고 히스토그램도출"
   ]
  },
  {
   "cell_type": "code",
   "execution_count": null,
   "id": "9cb54ce3",
   "metadata": {},
   "outputs": [],
   "source": [
    "# We can also look at a the frequency in Nationality of each player \n",
    "\n",
    "from collections import Counter\n",
    "print(Counter(fifa['Nationality'].values)) #국가별 축구선수 합계, 어느국가가 가장 많은지"
   ]
  },
  {
   "cell_type": "code",
   "execution_count": null,
   "id": "1adad6e1",
   "metadata": {},
   "outputs": [],
   "source": [
    "#We can limit the counter to output only the five most common nationalities:\n",
    "Counter(fifa['Nationality'].values).most_common(5) #가장 많은 5개, 튜플로"
   ]
  },
  {
   "cell_type": "markdown",
   "id": "6fb0d17c",
   "metadata": {},
   "source": [
    "As you can see England is the most frequent nationality with 1,475 records"
   ]
  },
  {
   "cell_type": "code",
   "execution_count": null,
   "id": "19ce1ae5",
   "metadata": {},
   "outputs": [],
   "source": [
    "bar_plot = dict(Counter(fifa['Nationality'].values).most_common(5))\n",
    "plt.bar(*zip(*bar_plot.items()))\n",
    "plt.show()"
   ]
  },
  {
   "cell_type": "code",
   "execution_count": null,
   "id": "13128e37",
   "metadata": {},
   "outputs": [],
   "source": [
    "#사용자함수 , 카테고리에서 가장 많은 5개 찾는 함수\n",
    "def plot_most_common(category):\n",
    "    bar_plot = dict(Counter(fifa[category].values).most_common(5))\n",
    "    plt.bar(*zip(*bar_plot.items()))\n",
    "    plt.show()"
   ]
  },
  {
   "cell_type": "code",
   "execution_count": null,
   "id": "ed4b6ada",
   "metadata": {},
   "outputs": [],
   "source": [
    "#'Position'에서 가장많은 5개 찾기\n",
    "plot_most_common('Position')"
   ]
  },
  {
   "cell_type": "markdown",
   "id": "8fb378e0",
   "metadata": {},
   "source": [
    "----------\n",
    "#### Value Wage단위변경"
   ]
  },
  {
   "cell_type": "code",
   "execution_count": null,
   "id": "455eeef8",
   "metadata": {},
   "outputs": [],
   "source": [
    "# The we can then convert each string into a floating point and multiply by 1e6\n",
    "value_list = []\n",
    "for i in list(fifa['Value'].values):\n",
    "    try:\n",
    "        value_list.append(float(i)*1e6)\n",
    "    except(ValueError):\n",
    "        wage_list.append(np.nan)\n",
    "fifa['Value_numeric'] = value_list"
   ]
  },
  {
   "cell_type": "code",
   "execution_count": null,
   "id": "d8af53ee",
   "metadata": {},
   "outputs": [],
   "source": [
    "#We can do the same for ‘Wage’, by 1e3\n",
    "wage_list = []\n",
    "for i in list(fifa['Wage'].values):\n",
    "    try:\n",
    "        wage_list.append(float(i)*1e3)\n",
    "    except(ValueError):\n",
    "        wage_list.append(np.nan)\n",
    "fifa['Wage_numeric'] = wage_list\n",
    "fifa['Wage_numeric']"
   ]
  },
  {
   "cell_type": "code",
   "execution_count": null,
   "id": "5eb7d6e6",
   "metadata": {},
   "outputs": [],
   "source": [
    " # Let’s filter the dataframe \n",
    "    \n",
    "numerical_columns = fifa[['Height_cm', 'Weight_kg', 'Value_numeric', 'Age', 'Wage_numeric']]\n",
    "\n",
    "sns.heatmap(numerical_columns.corr(),cmap='YlGnBu', annot=True)\n",
    "#annot=True : 각 셀에 숫자를 입력\n",
    "# fmt='d' 는 정수 형태(integer format)로 숫자\n",
    "#히트맵의 색깔을 cmap='___' 로 설정\n",
    "plt.show()"
   ]
  },
  {
   "cell_type": "code",
   "execution_count": null,
   "id": "83bcc758",
   "metadata": {},
   "outputs": [],
   "source": [
    "#We can also use box plots to visualize the distribution\n",
    "#For example the distribution in market value for England, Germany and Spain:\n",
    "\n",
    "fifa = fifa[fifa['Nationality'].isin(['England', 'Germany', 'Spain'])]\n",
    "sns.boxplot(x= fifa['Nationality'], y = fifa['Age'])\n",
    "plt.show()\n",
    "\n",
    "#그래프를 보면 세 국가의 플레이어 선수들의 나이가 20~30대 사이에 있는것을 볼 수 있다."
   ]
  },
  {
   "cell_type": "markdown",
   "id": "dcdb731c",
   "metadata": {},
   "source": [
    "-------------------------------------\n",
    "#### 0716 판다스 강의"
   ]
  },
  {
   "cell_type": "code",
   "execution_count": null,
   "id": "ce342ecb",
   "metadata": {},
   "outputs": [],
   "source": [
    "#중복\n",
    "import pandas as pd\n",
    "import numpy as np\n",
    "arr = np.array([1,2,1,2,2,3,3,3])\n",
    "data = arr.reshape(4,2)\n",
    "df = pd.DataFrame(data,columns=['a','b'])\n",
    "df"
   ]
  },
  {
   "cell_type": "markdown",
   "id": "93f8473c",
   "metadata": {},
   "source": [
    "#### drop_duplicates - 중복제거"
   ]
  },
  {
   "cell_type": "code",
   "execution_count": null,
   "id": "4fbd2525",
   "metadata": {},
   "outputs": [],
   "source": [
    "df1= df.copy()\n",
    "df1.drop_duplicates()  #중복제거(전체 행의 중복된 행 삭제)"
   ]
  },
  {
   "cell_type": "code",
   "execution_count": null,
   "id": "7618d305",
   "metadata": {},
   "outputs": [],
   "source": [
    "#열 기준으로 \n",
    "df2=df.copy()\n",
    "df2.drop_duplicates(subset=['b']) \n",
    "#기준이 되는 컬럼 전체 행의 특정 열을 기준으로 중복 제거 "
   ]
  },
  {
   "cell_type": "code",
   "execution_count": null,
   "id": "b1dedd49",
   "metadata": {},
   "outputs": [],
   "source": [
    "df3 = df.copy()\n",
    "df3.drop_duplicates(subset = 'b', keep = 'last')  \n",
    "#중복된 것 중에 마지막거를 남기기."
   ]
  },
  {
   "cell_type": "markdown",
   "id": "e7b0ea05",
   "metadata": {},
   "source": [
    "----------------\n",
    " titanic.sex.**replace**({'male':0,'female':1}) \\\n",
    " titanic=titanic.**rename**(columns={'sex':'gender','age':'age_cat'})\\\n",
    " titanic.**rename**(str._upper_, axis = 'columns') #소문자는 _lower_"
   ]
  },
  {
   "cell_type": "code",
   "execution_count": null,
   "id": "64c6d7ee",
   "metadata": {},
   "outputs": [],
   "source": [
    "#컬럼 값 이름 변경\n",
    "import seaborn as sns\n",
    "titanic = sns.load_dataset('titanic')\n",
    "titanic.head()"
   ]
  },
  {
   "cell_type": "code",
   "execution_count": null,
   "id": "f745f9b0",
   "metadata": {},
   "outputs": [],
   "source": [
    "titanic.sex.value_counts()"
   ]
  },
  {
   "cell_type": "code",
   "execution_count": null,
   "id": "ab7bdc3e",
   "metadata": {},
   "outputs": [],
   "source": [
    "#특정 컬럼 값 변경\n",
    "titanic['sex']= titanic.sex.replace({'male':0,'female':1})\n",
    "titanic.head()"
   ]
  },
  {
   "cell_type": "code",
   "execution_count": null,
   "id": "a7ec7645",
   "metadata": {},
   "outputs": [],
   "source": [
    "#열 이름 변경\n",
    "titanic=titanic.rename(columns={'sex':'gender','age':'age_cat','class':'c_level'})\n",
    "titanic.head()"
   ]
  },
  {
   "cell_type": "code",
   "execution_count": null,
   "id": "5b3d0c70",
   "metadata": {},
   "outputs": [],
   "source": [
    "#열이름 대문자로 변경\n",
    "titanic.columns = map(lambda x : x.upper(),titanic.columns)\n",
    "titanic.head()"
   ]
  },
  {
   "cell_type": "code",
   "execution_count": null,
   "id": "20c5781c",
   "metadata": {},
   "outputs": [],
   "source": [
    "titanic.rename(columns=str.lower,inplace=True) #소문자는 lower\n",
    "titanic.head()"
   ]
  },
  {
   "cell_type": "code",
   "execution_count": null,
   "id": "c666f752",
   "metadata": {},
   "outputs": [],
   "source": [
    "titanic.rename(str.upper, axis = 'columns').head(3)  #소문자는 lower"
   ]
  },
  {
   "cell_type": "code",
   "execution_count": null,
   "id": "f07c981e",
   "metadata": {},
   "outputs": [],
   "source": [
    "#컬럼선택\n",
    "titanic = titanic[['survived','pclass','gender','c_level']]\n",
    "titanic.head(3)"
   ]
  },
  {
   "cell_type": "code",
   "execution_count": null,
   "id": "29c80554",
   "metadata": {},
   "outputs": [],
   "source": [
    "#컬럼 순서 변경 \n",
    "titanic = titanic[['pclass','gender','c_level','survived']]\n",
    "titanic.head(3)"
   ]
  },
  {
   "cell_type": "code",
   "execution_count": null,
   "id": "35895583",
   "metadata": {},
   "outputs": [],
   "source": [
    "#지금의 경고는 무시\n",
    "import warnings\n",
    "warnings.filterwarnings('ignore')\n",
    "\n",
    "#성별 값 다시 변경\n",
    "titanic['gender'].replace([1,0],['female','male'], inplace=True)\n",
    "titanic.head()"
   ]
  },
  {
   "cell_type": "markdown",
   "id": "28d54f0a",
   "metadata": {},
   "source": [
    "### 인코딩  **fit_transform\n",
    "LableEncoder           \n",
    "**from sklearn.preprocessing import LabelEncoder**\n",
    "\n",
    "le = LabelEncoder() # 객체생성                \n",
    "df[feature] = le.fit_transform(df[feature]) #객체 메소드 이용해서 변환        \n"
   ]
  },
  {
   "cell_type": "code",
   "execution_count": null,
   "id": "0365ab2c",
   "metadata": {},
   "outputs": [],
   "source": [
    "#인코딩\n",
    "#레이블, 원핫인코딩\n",
    "#인코딩 - LableEncoder \n",
    "#개수가 두개면 0,1 세개면 0,1,2 로바꿔줌 \n",
    "# 숫자크기가 아니라, 카테고리 개념(1번그룹, 2번그룹...)\n",
    "df = titanic.copy()\n",
    "from sklearn.preprocessing import LabelEncoder\n",
    "le = LabelEncoder()\n",
    "features = ['gender','c_level']\n",
    "for feature in features:\n",
    "    df[feature] = le.fit_transform(df[feature])  #le인코딩 준비 + transform 나눠서 하기도 한다.-> df[feature] 에 적용\n",
    "\n",
    "df.head(5) #인코딩으로 숫자로 바뀜"
   ]
  },
  {
   "cell_type": "code",
   "execution_count": null,
   "id": "085dc213",
   "metadata": {},
   "outputs": [],
   "source": [
    "df.gender.value_counts()"
   ]
  },
  {
   "cell_type": "code",
   "execution_count": null,
   "id": "921d73f8",
   "metadata": {},
   "outputs": [],
   "source": [
    "df['c_level'].value_counts()"
   ]
  },
  {
   "cell_type": "markdown",
   "id": "3e6f6844",
   "metadata": {},
   "source": [
    "---------------"
   ]
  },
  {
   "cell_type": "code",
   "execution_count": null,
   "id": "2d014af9",
   "metadata": {},
   "outputs": [],
   "source": [
    "#과제\n",
    "#Q. 'embarked','who','adult_male' 에 데하여 LableEncoding 하세요\n",
    "df2 = titanic[['embarked','who','adult_male']]\n",
    "df2.head(3)"
   ]
  },
  {
   "cell_type": "code",
   "execution_count": null,
   "id": "aff0303e",
   "metadata": {},
   "outputs": [],
   "source": [
    "from sklearn.preprocessing import LabelEncoder\n",
    "le = LabelEncoder()\n",
    "features = ['embarked','who','adult_male']\n",
    "for feature in features:\n",
    "    df2[feature] = le.fit_transform(df2[feature])\n",
    "\n",
    "\n",
    "df2.head()"
   ]
  },
  {
   "cell_type": "code",
   "execution_count": null,
   "id": "b29f91f9",
   "metadata": {},
   "outputs": [],
   "source": [
    "df2.embarked.value_counts()"
   ]
  },
  {
   "cell_type": "code",
   "execution_count": null,
   "id": "779805b5",
   "metadata": {},
   "outputs": [],
   "source": [
    "df1.who.value_counts()"
   ]
  },
  {
   "cell_type": "markdown",
   "id": "6721c1cc",
   "metadata": {},
   "source": [
    "#### pd.get_dummies(df)"
   ]
  },
  {
   "cell_type": "code",
   "execution_count": null,
   "id": "d828af88",
   "metadata": {},
   "outputs": [],
   "source": [
    "#인코딩 - OneHotEncoder\n",
    "#하나의 칼람에 나타내는게 아니라 그룹 개수에 맞춰 열을 늘림 \n",
    "#열에서 맞으면 1 아니면 0 으로 생김.\n",
    "#불필요하게 컬럼을 늘리면안됨 \n",
    "#-과대적합//반대개념으로 과소적합 **의미읽어보기 시험 꼭 나옴"
   ]
  },
  {
   "cell_type": "code",
   "execution_count": null,
   "id": "a92c5083",
   "metadata": {},
   "outputs": [],
   "source": [
    "df = titanic[['sex','class']]\n",
    "df1 = df.copy()\n",
    "df1.rename(columns = {'class':'c_level'},inplace=True)\n",
    "df1.head()"
   ]
  },
  {
   "cell_type": "code",
   "execution_count": null,
   "id": "2eeb66cf",
   "metadata": {},
   "outputs": [],
   "source": [
    "pd.get_dummies(df1).head(3) #해당되는게 맞으면 1 아니면 0"
   ]
  },
  {
   "cell_type": "markdown",
   "id": "6480f8ff",
   "metadata": {},
   "source": [
    "#### 스케일링 - 정규화/표준화"
   ]
  },
  {
   "cell_type": "code",
   "execution_count": null,
   "id": "eedc3b84",
   "metadata": {},
   "outputs": [],
   "source": [
    "from sklearn.datasets import load_boston\n",
    "boston = load_boston()\n",
    "print(boston.keys())  #키 확인\n",
    "boston.target #종속변수 레이블값\n",
    "#print(boston.DESCR) #관측치개수 506, 속성(열) 13개 등 정보 나옴\n",
    "boston.feature_names #컬럼이름\n",
    "df_boston = pd.DataFrame(boston.data,columns=boston.feature_names)\n",
    "df_boston.head(3) #타겟이 빠짐 , 타겟넣어줘야함"
   ]
  },
  {
   "cell_type": "code",
   "execution_count": null,
   "id": "9f5c877f",
   "metadata": {},
   "outputs": [],
   "source": [
    "df_boston['target'] = boston.target  #타겟 - 결과, 종속변수!! 넣어줘야 완성됨.\n",
    "df_boston.head(3)"
   ]
  },
  {
   "cell_type": "code",
   "execution_count": null,
   "id": "2ec8a7ad",
   "metadata": {},
   "outputs": [],
   "source": [
    "df_boston.info() #데이터프레임 정보"
   ]
  },
  {
   "cell_type": "code",
   "execution_count": null,
   "id": "9abfc02a",
   "metadata": {},
   "outputs": [],
   "source": [
    "#스케일링 -정규화\n",
    "from sklearn.preprocessing import MinMaxScaler\n",
    "\n",
    "scaler = MinMaxScaler()  #객체생성\n",
    "\n",
    "df_boston['RM'] = scaler.fit_transform(df_boston[['RM']])  #클레스메소드적용\n",
    "df_boston.head()"
   ]
  },
  {
   "cell_type": "code",
   "execution_count": null,
   "id": "1b62b995",
   "metadata": {},
   "outputs": [],
   "source": [
    "df_boston.RM.mean() #평균 "
   ]
  },
  {
   "cell_type": "markdown",
   "id": "70c57785",
   "metadata": {},
   "source": [
    "-------------"
   ]
  },
  {
   "cell_type": "code",
   "execution_count": null,
   "id": "9da487a0",
   "metadata": {},
   "outputs": [],
   "source": [
    "#과제\n",
    "#Q. df_boston 전체 컬러메 대하여 정규화를 수행하세요."
   ]
  },
  {
   "cell_type": "code",
   "execution_count": null,
   "id": "64734711",
   "metadata": {},
   "outputs": [],
   "source": [
    "import pandas as pd\n",
    "from sklearn.datasets import load_boston\n",
    "boston = load_boston()\n",
    "df_boston = pd.DataFrame(boston.data,columns=boston.feature_names)\n",
    "df_b = df_boston.copy()"
   ]
  },
  {
   "cell_type": "code",
   "execution_count": null,
   "id": "86e6aa66",
   "metadata": {},
   "outputs": [],
   "source": [
    "boston.keys() #키확인"
   ]
  },
  {
   "cell_type": "code",
   "execution_count": null,
   "id": "ce0e60c0",
   "metadata": {},
   "outputs": [],
   "source": [
    "#** 타켓 넣어줘야 완성됨\n",
    "df_b['target'] = boston.target\n",
    "df_b.head(3) #확인"
   ]
  },
  {
   "cell_type": "code",
   "execution_count": null,
   "id": "1ee87ac0",
   "metadata": {},
   "outputs": [],
   "source": [
    "df_b.columns"
   ]
  },
  {
   "cell_type": "code",
   "execution_count": null,
   "id": "e42b99b8",
   "metadata": {},
   "outputs": [],
   "source": [
    "from sklearn.preprocessing import MinMaxScaler\n",
    "scaler = MinMaxScaler()\n",
    "features = ['CRIM', 'ZN', 'INDUS', 'CHAS', 'NOX', 'RM', 'AGE', 'DIS', 'RAD', 'TAX', 'PTRATIO', 'B',\n",
    "for f in features: #전체컬럼\n",
    "            df_b[f] = scaler.fit_transform(df_b[[f]])\n",
    "df_b.head(3) #확인"
   ]
  },
  {
   "cell_type": "code",
   "execution_count": null,
   "id": "250e69e1",
   "metadata": {},
   "outputs": [],
   "source": [
    "df_b.RM.mean() #평균"
   ]
  },
  {
   "cell_type": "markdown",
   "id": "2bec983f",
   "metadata": {},
   "source": [
    "----------------"
   ]
  },
  {
   "cell_type": "code",
   "execution_count": null,
   "id": "93833f90",
   "metadata": {},
   "outputs": [],
   "source": [
    "#스케일링 - 표준화\n",
    "from sklearn.preprocessing import StandardScaler\n",
    "\n",
    "scaler = StandardScaler()\n",
    "df_boston['INDUS'] = scaler.fit_transform(df_boston[['INDUS']])\n",
    "df_boston.head()"
   ]
  },
  {
   "cell_type": "code",
   "execution_count": null,
   "id": "f690a566",
   "metadata": {},
   "outputs": [],
   "source": [
    "df_boston.INDUS.mean()  #평균 0 , 0에 가장 가까운 수"
   ]
  },
  {
   "cell_type": "code",
   "execution_count": null,
   "id": "e3379fb6",
   "metadata": {},
   "outputs": [],
   "source": [
    "df_boston.INDUS.std()  #표준편차 1"
   ]
  },
  {
   "cell_type": "markdown",
   "id": "02500f29",
   "metadata": {},
   "source": [
    "==> 평균 0 , 표준편차 1 인 표준정규분포"
   ]
  },
  {
   "cell_type": "markdown",
   "id": "0eca2828",
   "metadata": {},
   "source": [
    "---------------"
   ]
  },
  {
   "cell_type": "code",
   "execution_count": null,
   "id": "464e643f",
   "metadata": {},
   "outputs": [],
   "source": [
    "#과제\n",
    "#Q. df_boston 전체 컬럼에 대하여 표준화를 수행하세요"
   ]
  },
  {
   "cell_type": "code",
   "execution_count": null,
   "id": "216ede11",
   "metadata": {},
   "outputs": [],
   "source": [
    "from sklearn.preprocessing import StandardScaler\n",
    "scaler = StandardScaler()\n",
    "features = ['CRIM', 'ZN', 'INDUS', 'CHAS', 'NOX', 'RM', 'AGE', 'DIS', 'RAD', 'TAX', 'PTRATIO', 'B',\n",
    "for f in features:  #전체컬럼에대해\n",
    "            df_b[f] = scaler.fit_transform(df_b[[f]])\n",
    "df_b.head() #확인"
   ]
  },
  {
   "cell_type": "markdown",
   "id": "0bf1cb78",
   "metadata": {},
   "source": [
    "--------"
   ]
  },
  {
   "cell_type": "code",
   "execution_count": null,
   "id": "02b979a9",
   "metadata": {},
   "outputs": [],
   "source": [
    "#그래프\n",
    "import matplotlib.pyplot as plt\n",
    "import seaborn as sns\n",
    "\n",
    "plt.figure(figsize=(10,8))\n",
    "sns.distplot(df_boston[['target']])"
   ]
  },
  {
   "cell_type": "code",
   "execution_count": null,
   "id": "9416194e",
   "metadata": {},
   "outputs": [],
   "source": [
    "#정규분포에 가깝게 하기 위해서 - 분석 효과가 좋아진다\n",
    "#로그변환 - 로그함수이용\n",
    "import numpy as np\n",
    "df_boston['target'] = np.log1p(df_boston[['target']])\n",
    "sns.distplot(df_boston[['target']])"
   ]
  },
  {
   "cell_type": "code",
   "execution_count": null,
   "id": "da982ab2",
   "metadata": {},
   "outputs": [],
   "source": [
    "#예측할 때는 다시 환원해서 해야함\n",
    "#로그 변환 환원 방법\n",
    "df_boston['target']=np.expm1(df_boston[['target']])\n",
    "df_boston.head()"
   ]
  },
  {
   "cell_type": "markdown",
   "id": "036e796f",
   "metadata": {},
   "source": [
    "정규화, 표준화보다 로그변환이 효과가 좋다."
   ]
  }
 ],
 "metadata": {
  "kernelspec": {
   "display_name": "Python 3",
   "language": "python",
   "name": "python3"
  },
  "language_info": {
   "codemirror_mode": {
    "name": "ipython",
    "version": 3
   },
   "file_extension": ".py",
   "mimetype": "text/x-python",
   "name": "python",
   "nbconvert_exporter": "python",
   "pygments_lexer": "ipython3",
   "version": "3.8.10"
  }
 },
 "nbformat": 4,
 "nbformat_minor": 5
}
