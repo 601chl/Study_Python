{
 "cells": [
  {
   "cell_type": "markdown",
   "id": "021e2f31",
   "metadata": {},
   "source": [
    "DOM(Document Object Model)의 정의\n",
    "- HTML,XML 문서의 프로그래밍 인터페이서 : 구조화된 표현 및 프로그래밍 언어가 dom구조에 접근할 수 있는 방법을 제공\n",
    "- 트리 구조로 형성되어 있음 : 부모 노드(위쪽), 자식노드(아래쪽)\n",
    "- HTML 에서 노드는 \\<head>, \\<body>, \\<h1>,\\<script> 등의 태그뿐만 아니라 태그 내 텍스트나 속성 모두 노드에 속함.\n",
    "- BeautifulSoul 모듈의 함수를 활용하여 노드를 기준으로 원하는 데이터 추출"
   ]
  },
  {
   "cell_type": "code",
   "execution_count": null,
   "id": "32c63b2d",
   "metadata": {},
   "outputs": [],
   "source": [
    "html = \"\"\"\n",
    "<html>\n",
    "<head>\n",
    "    <title>clawler</title>\n",
    "</head>\n",
    "<body>\n",
    "    <p class=\"a\" align=\"center\"> text1</p>\n",
    "    <p class=\"b\" align=\"center\"> text2</p>\n",
    "    <p class=\"c\" align=\"center\"> text3</p>\n",
    "    <div>\n",
    "        <img src=\"/source\" width=\"300\" height=\"200\">\n",
    "    </div>\n",
    "</body>\n",
    "</html>\n",
    "\"\"\"\n",
    "\n",
    "from bs4 import BeautifulSoup\n",
    "\n",
    "bs = BeautifulSoup(html,'html.parser')\n",
    "contents = bs.find('body')\n",
    "\n",
    "for child in contents.children:\n",
    "    print(child)  #html 자식들 출력됨. 위에서 설정한 body의 자식들"
   ]
  },
  {
   "cell_type": "code",
   "execution_count": null,
   "id": "8793332c",
   "metadata": {},
   "outputs": [],
   "source": [
    "#자손까지\n",
    "#body 의 자손은  p , div, img\n",
    "for d in contents.descendants:\n",
    "    print(d)"
   ]
  },
  {
   "cell_type": "code",
   "execution_count": null,
   "id": "a4129773",
   "metadata": {},
   "outputs": [],
   "source": [
    "img_tag = contents.find('img')\n",
    "print(img_tag)\n",
    "print('-'*20)\n",
    "#부모 구하기\n",
    "print(img_tag.parent)"
   ]
  },
  {
   "cell_type": "code",
   "execution_count": null,
   "id": "ec35d975",
   "metadata": {},
   "outputs": [],
   "source": [
    "contents = bs.find('body')\n",
    "print(img_tag.find_parent('body'),'\\n')\n",
    "print(img_tag.find_parent('div'))"
   ]
  },
  {
   "cell_type": "code",
   "execution_count": null,
   "id": "e47cba43",
   "metadata": {},
   "outputs": [],
   "source": [
    "#클래스가 a,b,c가 있는데 b만 출력\n",
    "p_tag = bs.find('p',class_='b')\n",
    "print(p_tag)"
   ]
  },
  {
   "cell_type": "markdown",
   "id": "95b45715",
   "metadata": {},
   "source": [
    "------------------------"
   ]
  },
  {
   "cell_type": "code",
   "execution_count": null,
   "id": "3fbcbce7",
   "metadata": {},
   "outputs": [],
   "source": [
    "from urllib import request as req\n",
    "from bs4 import BeautifulSoup\n",
    "res = req.urlopen('https://naver.com')\n",
    "bs = BeautifulSoup(res,'html.parser')\n",
    "\n",
    "print(bs.find('a'),'\\n')  #a태그 첫번째꺼(find)\n",
    "print(bs.find(class_='link_newsstand'),'\\n') #클래스가 link_newsstand\n",
    "print(bs.find('a',{'class':'link_newsstand'})) #클래스가 link_newsstand\n",
    "#print(bs.find('a',{'class':['link_newsstand','']})) \n",
    "#클래스가 여러개면은 리스트로 묶어주면 된다\n",
    "print()\n",
    "print(bs.find_all('a',{'class':['link_newsstand','btn_sort']})) "
   ]
  },
  {
   "cell_type": "code",
   "execution_count": null,
   "id": "a169ca94",
   "metadata": {},
   "outputs": [],
   "source": [
    "#h 태그 - 글자크기\n",
    "hlists = bs.findAll({'h1','h2','h3','h4','h5','h6'},limit =5) #limit 개수제한\n",
    "for h in hlists:\n",
    "    print(h, '\\n')"
   ]
  },
  {
   "cell_type": "code",
   "execution_count": null,
   "id": "9eec3850",
   "metadata": {},
   "outputs": [],
   "source": [
    "#홈페이지 가져오기\n",
    "url = 'https://www.dataq.or.kr/www/sub/a_07.do'\n",
    "from urllib import request as req\n",
    "from bs4 import BeautifulSoup\n",
    "\n",
    "res = req.urlopen(url)\n",
    "bs = BeautifulSoup(res,'html.parser')\n",
    "a = bs.find(class_='tab-content border-right border-bottom border-left')\n",
    "print(a.text)"
   ]
  },
  {
   "cell_type": "code",
   "execution_count": null,
   "id": "f2edde94",
   "metadata": {},
   "outputs": [],
   "source": [
    "#과제 : urllib + bs4 조합으로 다음을 수행하세요\n",
    "# Q.\"https://www.dataq.or.kr/www/sub/a_07.do\"에서 필요한 정보를 가져와 출력"
   ]
  },
  {
   "cell_type": "code",
   "execution_count": null,
   "id": "4ab4dc91",
   "metadata": {},
   "outputs": [],
   "source": [
    "import urllib \n",
    "from bs4 import BeautifulSoup\n",
    "import re\n",
    "url = 'https://www.dataq.or.kr/www/sub/a_07.do'\n",
    "res = urllib.request.urlopen(url)\n",
    "byte_data=res.read()\n",
    "text_data=byte_data.decode('utf-8')\n",
    "\n",
    "soup=BeautifulSoup(text_data,'html.parser')\n",
    "info = soup.select('#tab1 > div > div:nth-child(4)')\n",
    "for i in info:\n",
    "    print(i.text)\n",
    "    \n",
    "info2 = soup.select('#tab3 > div > div:nth-child(1) > div > table > tbody > tr:nth-child(2) > td > ul > li')\n",
    "for i in info2:\n",
    "    a = i.text.split()\n",
    "print(\" \".join(a[0:2]))\n",
    "print(' '.join(a[2:]))"
   ]
  },
  {
   "cell_type": "code",
   "execution_count": null,
   "id": "a3741298",
   "metadata": {},
   "outputs": [],
   "source": [
    "#정규표현식과 bs4\n",
    "from urllib.request import urlopen\n",
    "from bs4 import BeautifulSoup\n",
    "import re\n",
    "\n",
    "html = urlopen('http://www.pythonscraping.com/pages/page3.html')\n",
    "bs = BeautifulSoup(html, 'html.parser')\n",
    "images = bs.find_all('img',{'src':re.compile('\\.\\.\\/img\\/gifts\\/img.*\\.jpg')})\n",
    "#정규표현식 짬뽕\n",
    "for image in images:\n",
    "    print(image['src'])"
   ]
  },
  {
   "cell_type": "code",
   "execution_count": null,
   "id": "18656475",
   "metadata": {},
   "outputs": [],
   "source": [
    "#한빛 네트워크 사이트 로그인 후 점수 가져오기\n",
    "import time \n",
    "import selenium\n",
    "from selenium import webdriver\n",
    "\n",
    "driver = webdriver.Chrome('C:/tool/chromedriver.exe')\n",
    "driver.get('http://www.hanbit.co.kr/')\n",
    "\n",
    "element = driver.find_element_by_class_name('login')\n",
    "element.click()\n",
    "time.sleep(1)\n",
    "\n",
    "m_id = '*'\n",
    "m_passwd = '*'\n",
    "\n",
    "element = driver.find_element_by_id('m_id')\n",
    "element.send_keys(m_id)\n",
    "time.sleep(1)\n",
    "element = driver.find_element_by_id('m_passwd')\n",
    "element.send_keys(m_passwd)\n",
    "time.sleep(1)\n",
    "\n",
    "element = driver.find_element_by_class_name('btn_login')\n",
    "element.click()"
   ]
  },
  {
   "cell_type": "code",
   "execution_count": null,
   "id": "e2acacd7",
   "metadata": {},
   "outputs": [],
   "source": [
    "#2000점 가져오기\n",
    "element=driver.find_element_by_xpath('//*[@id=\"wrap_nav\"]/ul[2]/li[3]') #막힘\n",
    "element.click()"
   ]
  },
  {
   "cell_type": "markdown",
   "id": "cb1d6f56",
   "metadata": {},
   "source": [
    "### page_source"
   ]
  },
  {
   "cell_type": "code",
   "execution_count": null,
   "id": "9828777d",
   "metadata": {},
   "outputs": [],
   "source": [
    "##### 페이지 소스 가져와서 BeautifulSoup이용!!! 중요\n",
    "driver.get('https://www.hanbit.co.kr/myhanbit/myhanbit.html')\n",
    "source = driver.page_source\n",
    "bs = BeautifulSoup(source, 'html.parser')\n",
    "a = bs.select_one('#container > div > div.sm_mymileage > dl.mileage_section1 > dd > span')\n",
    "print(a.text+'점')\n",
    "\n",
    "time.sleep(3)\n",
    "driver.close()"
   ]
  },
  {
   "cell_type": "code",
   "execution_count": null,
   "id": "3b979f33",
   "metadata": {},
   "outputs": [],
   "source": [
    "#자바스크립트 사용 -> 아이디, 비밀번호 부분\n",
    "#로그인하고 한빛출판네트워크 support 공지사항 가져오기\n",
    "import time \n",
    "import selenium\n",
    "from selenium import webdriver\n",
    "import requests\n",
    "\n",
    "driver = webdriver.Chrome('C:/tool/chromedriver.exe')\n",
    "driver.get('http://www.hanbit.co.kr/')\n",
    "\n",
    "driver.find_element_by_class_name('login').click()\n",
    "time.sleep(0.5)\n",
    "\n",
    "#url = https://www.hanbit.co.kr/member/login.html\n",
    "#driver.find_element_by_class_name('m_id')\n",
    "#아이디 비번입력하는 자바스크립트 기능 찾아서 사용해보기 -> 간단 한줄 코드\n",
    "\n",
    "m_id = '*'\n",
    "m_passwd = '*'\n",
    "\n",
    "driver.execute_script(\"document.getElementsByName('m_id')[0].value=\\'\"+m_id+\"\\'\")\n",
    "driver.execute_script(\"document.getElementsByName('m_passwd')[0].value=\\'\"+m_passwd+\"\\'\")\n",
    "#출처:https://cceeddcc.tistory.com/98\n",
    "\n",
    "driver.find_element_by_class_name('btn_login').click()\n",
    "driver.find_element_by_css_selector('#gnb > ul > li:nth-child(4) > a').click()\n",
    "\n",
    "notice = driver.find_element_by_css_selector('#container > div.support_wrap > div.notice')\n",
    "print(notice.text)\n",
    "\n",
    "driver.quit()"
   ]
  },
  {
   "cell_type": "code",
   "execution_count": null,
   "id": "7a57f1fa",
   "metadata": {},
   "outputs": [],
   "source": [
    "#과제\n",
    "#네이버 로그인 후 메일 제목 가져오기 *execute_script 사용 /10개\n",
    "\n",
    "driver = webdriver.Chrome('C:/tool/chromedriver.exe')\n",
    "driver.get('https://www.naver.com/')\n",
    "\n",
    "driver.find_element_by_class_name('link_login').click()\n",
    "time.sleep(0.5)\n",
    "\n",
    "id = \"*\"\n",
    "pw = \"*\"\n",
    " \n",
    "# execute_script 함수 사용 (자바스크립트로 아이디, 패스워드를 넘겨주는 형태)\n",
    "driver.execute_script(\"document.getElementsByName('id')[0].value=\\'\"+id+\"\\'\")\n",
    "driver.execute_script(\"document.getElementsByName('pw')[0].value=\\'\"+pw+\"\\'\")\n",
    " \n",
    "driver.find_element_by_css_selector('#log\\.login').click()\n",
    "driver.find_element_by_css_selector('#new\\.dontsave').click()\n",
    "driver.find_element_by_xpath('//*[@id=\"NM_FAVORITE\"]/div[1]/ul[1]/li[1]/a').click()\n",
    "\n",
    "from bs4 import BeautifulSoup\n",
    "html = driver.page_source\n",
    "soup = BeautifulSoup(html, 'html.parser')\n",
    "\n",
    "maillist = soup.select('ol.mailList > li > div.mTitle > div.subject > a > span.text > strong.mail_title')\n",
    "maillist = driver.find_elements_by_css_selector('strong.mail_title')\n",
    "for i,m in enumerate(maillist):\n",
    "    if i < 10 : print(m.text)"
   ]
  },
  {
   "cell_type": "code",
   "execution_count": null,
   "id": "ccab1764",
   "metadata": {},
   "outputs": [],
   "source": [
    "# + 나도코딩/ 아이디 비밀번호 입력\n",
    "script = 'document.getElementById(\"id\").value=\"{id}\"; document.getElementById(\"pw\").value=\"{pw}\"'.format(id='ID',pw='PW')\n",
    "driver.execute_script(script)"
   ]
  },
  {
   "cell_type": "markdown",
   "id": "c41a97a3",
   "metadata": {},
   "source": [
    "---------------------"
   ]
  },
  {
   "cell_type": "code",
   "execution_count": null,
   "id": "bdde1421",
   "metadata": {},
   "outputs": [],
   "source": [
    "#구글플레이에서 인기 영화제목 크롤링 30개\n",
    "import requests\n",
    "from bs4 import BeautifulSoup\n",
    "\n",
    "url = 'https://play.google.com/store/movies/top'\n",
    "res=requests.get(url)\n",
    "data=res.text\n",
    "\n",
    "soup = BeautifulSoup(data,'html.parser')\n",
    "a = soup.find_all(class_='WsMG1c nnK0zc')\n",
    "\n",
    "for i,v in enumerate(a):\n",
    "    if i < 30: \n",
    "        print(f'[{(i+1)}th]',v.string)\n",
    "    else:pass"
   ]
  },
  {
   "cell_type": "code",
   "execution_count": null,
   "id": "9d24cc89",
   "metadata": {},
   "outputs": [],
   "source": [
    "#Q. 구글 플레이에서 인기 영화 제목 200개 출력 (selenium + bs4)\n",
    "from selenium import webdriver\n",
    "\n",
    "\n",
    "driver = webdriver.Chrome('C:/tool/chromedriver.exe')\n",
    "driver.maximize_window()\n",
    "\n",
    "url = 'https://play.google.com/store/movies/top'\n",
    "driver.get(url)\n",
    "\n",
    "#화면 가장 아래로 스크롤 내리기\n",
    "#driver.execute_script('window.scrollTo(0,document.body.scrollHeight)')\n",
    "#driver.execute_script('window.scrollTo(0,1180)') #스크롤 한번 정도 (scrollHeight)\n",
    "\n",
    "import time\n",
    "interval = 2 #2초에 한번씩 스크롤 내리기\n",
    "#현재문서높이를 가져와서 저장\n",
    "prev_height = driver.execute_script('return document.body.scrolHeight')\n",
    "\n",
    "#반복수행\n",
    "while True:\n",
    "    driver.execute_script('window.scrollTo(0,document.body.scrollHeight)')\n",
    "    #페이지 로딩 대기\n",
    "    time.sleep(interval)\n",
    "    curr_height = driver.execute_script('return document.body.scrolHeight')\n",
    "    if  curr_height == prev_height: \n",
    "        break\n",
    "    prev_height = curr_height\n",
    "print('스크롤 완료\\n')\n",
    "\n",
    "\n",
    "soup = BeautifulSoup(driver.page_source,'html.parser')\n",
    "movies = soup.find_all('div',attrs ={'class': 'WsMG1c nnK0zc'})\n",
    "\n",
    "print(len(movies))\n",
    "\n",
    "for i,m in enumerate(movies):\n",
    "    print(f'{(i+1)}.', m.text)"
   ]
  },
  {
   "cell_type": "markdown",
   "id": "561a0d93",
   "metadata": {},
   "source": [
    "## headless chrome"
   ]
  },
  {
   "cell_type": "code",
   "execution_count": null,
   "id": "f342f7d5",
   "metadata": {},
   "outputs": [],
   "source": [
    "#headless chrome\n",
    "# 창띄우지않고크롤링\n",
    "from selenium import webdriver\n",
    "\n",
    "#옵션주기\n",
    "options = webdriver.ChromeOptions()\n",
    "options.headless = True\n",
    "options.add_argument('window-size=1920x1080') \n",
    "#윈도우사이즈지정, 창을띄우지않지만 이걸로 사이즈 한다라는 의미.\n",
    "\n",
    "\n",
    "#드라이버 객체만들때 옵션 적용\n",
    "driver = webdriver.Chrome('C:/tool/chromedriver.exe',options=options)\n",
    "driver.maximize_window()\n",
    "\n",
    "url = 'https://play.google.com/store/movies/top'\n",
    "driver.get(url)\n",
    "\n",
    "\n",
    "import time\n",
    "interval = 2 #2초에 한번씩 스크롤 내리기\n",
    "prev_height = driver.execute_script('return document.body.scrolHeight')\n",
    "\n",
    "#반복수행\n",
    "while True:\n",
    "    driver.execute_script('window.scrollTo(0,document.body.scrollHeight)')\n",
    "    #페이지 로딩 대기\n",
    "    time.sleep(interval)\n",
    "    curr_height = driver.execute_script('return document.body.scrolHeight')\n",
    "    if  curr_height == prev_height: \n",
    "        break\n",
    "    prev_height = curr_height\n",
    "print('스크롤 완료\\n')\n",
    "\n",
    "\n",
    "soup = BeautifulSoup(driver.page_source,'html.parser')\n",
    "movies = soup.find_all('div',attrs ={'class': 'WsMG1c nnK0zc'})\n",
    "\n",
    "print(len(movies))\n",
    "\n",
    "for i,m in enumerate(movies):\n",
    "    print(f'{(i+1)}.', m.text)"
   ]
  },
  {
   "cell_type": "code",
   "execution_count": null,
   "id": "60be9a66",
   "metadata": {},
   "outputs": [],
   "source": [
    "#과제 headless 적용하기\n",
    "#Q.할인된 가격이 적용되는 영화만 출력(할인전 가격, 할인 후 가격, 링크)"
   ]
  },
  {
   "cell_type": "code",
   "execution_count": null,
   "id": "2e9b9e20",
   "metadata": {},
   "outputs": [],
   "source": [
    "from selenium import webdriver\n",
    "import time\n",
    "\n",
    "options = webdriver.ChromeOptions()\n",
    "options.headless=True\n",
    "options.add_argument('window-size=1980x1080')\n",
    "\n",
    "driver = webdriver.Chrome('C:/tool/chromedriver.exe',options=options)\n",
    "\n",
    "url = 'https://play.google.com/store/movies/top'\n",
    "driver.get(url)\n",
    "interval = 2\n",
    "prev_height = driver.execute_script('return document.body.scrollHeight')\n",
    "\n",
    "while True:\n",
    "    driver.execute_script('window.scrollTo(0,document.body.scrollHeight)')\n",
    "    time.sleep(interval)\n",
    "    cur_height = driver.execute_script('return document.body.scrollHeight')\n",
    "    if cur_height == prev_height:\n",
    "        break\n",
    "    time.sleep(2)\n",
    "    prev_height = cur_height\n",
    "print('스크롤 완료\\n')\n",
    "time.sleep(2)\n",
    "soup = BeautifulSoup(driver.page_source,'html.parser')\n",
    "from bs4 import BeautifulSoup\n",
    "\n",
    "movies = soup.find_all(class_='Vpfmgd')\n",
    "print(len(movies))\n",
    "for movie in movies:\n",
    "    title = movie.find('div',class_='WsMG1c nnK0zc')\n",
    "    title = title.text\n",
    "    original_price = movie.find('span',class_='SUZt4c djCuy')\n",
    "    \n",
    "    if original_price :\n",
    "        original_price= original_price.text\n",
    "    else:\n",
    "        #print(title, '--할인되지 않은 영화 제외')\n",
    "        continue\n",
    "    \n",
    "    price = movie.find('span',attrs={'class' :'VfPpfd ZdBevf i5DZme'})\n",
    "    link = movie.find('a', attrs = {'class': 'JC71ub'})['href']\n",
    "    \n",
    "    print(f'''제목 : {title}\n",
    "    할인 전 금액: {original_price}\n",
    "    할인 후 금액: {price.text}\n",
    "    링크 : https://paly.google.com'''+link)\n",
    "    print('-'*50)\n",
    "\n",
    "    \n",
    "print(len(movie))\n",
    "driver.quit()"
   ]
  },
  {
   "cell_type": "markdown",
   "id": "4f8eb31f",
   "metadata": {},
   "source": [
    "### headless 없애는 방법 찾아보기"
   ]
  },
  {
   "cell_type": "code",
   "execution_count": null,
   "id": "043d0235",
   "metadata": {},
   "outputs": [],
   "source": [
    "#방법1\n",
    "#option.add_argument(user-agent = 올바른값 넣어주기)\n",
    "# UserAgent값을 바꿔줍시다!\n",
    "options.add_argument(\"user-agent=Mozilla/5.0 (Macintosh; Intel Mac OS X 10_12_6) AppleWebKit/537.36 (KHTML, like Gecko) Chrome/61.0.3163.100 Safari/537.36\")"
   ]
  },
  {
   "cell_type": "code",
   "execution_count": null,
   "id": "0c86c85f",
   "metadata": {},
   "outputs": [],
   "source": [
    "#방법2\n",
    "# -  가짜 플러그인’ 리스트를 넣어주는 것\n",
    "options.add_argument(\"lang=ko_KR\") # 한국어!\n",
    "\n",
    "driver.get('about:blank')\n",
    "driver.execute_script(\"Object.defineProperty(navigator, 'plugins', {get: function() {return[1, 2, 3, 4, 5];},});\")\n",
    "driver.get(TEST_URL)\n",
    "\n",
    "#user_agent = driver.find_element_by_css_selector('#user-agent').text\n",
    "plugins_length = driver.find_element_by_css_selector('#plugins-length').text\n",
    "\n",
    "#print('User-Agent: ', user_agent)\n",
    "print('Plugin length: ', plugins_length)"
   ]
  },
  {
   "cell_type": "markdown",
   "id": "c1621d2b",
   "metadata": {},
   "source": [
    "### use-agent 값 가져오기\n",
    "(https://www.whatismybrowser.com/detect/what-is-my-user-agent 사이트가면 알수있음)"
   ]
  },
  {
   "cell_type": "code",
   "execution_count": null,
   "id": "77c523d8",
   "metadata": {},
   "outputs": [],
   "source": [
    "#headless chrome\n",
    "#use-agent 보기\n",
    "#HeadlessChrome\n",
    "from selenium import webdriver\n",
    "\n",
    "options = webdriver.ChromeOptions()\n",
    "options.headless = True\n",
    "options.add_argument('window-size=1920x1080') \n",
    "options.add_argument('Mozilla/5.0 (Windows NT 10.0; Win64; x64) AppleWebKit/537.36 (KHTML, like Gecko) Chrome/91.0.4472.124 Safari/537.36')\n",
    "\n",
    "driver = webdriver.Chrome('C:/tool/chromedriver.exe',options=options)\n",
    "driver.maximize_window()\n",
    "\n",
    "#https://www.whatismybrowser.com/detect/what-is-my-user-agent\n",
    "#use-agent\n",
    "url = 'https://www.whatismybrowser.com/detect/what-is-my-user-agent'\n",
    "driver.get(url)\n",
    "\n",
    "detected_value = driver.find_element_by_id('detected_value')\n",
    "#user_agent = driver.find_element_by_css_selector('#user-agent').text\n",
    "print(detected_value.text)\n",
    "#print('User-Agent: ', user_agent)\n",
    "\n",
    "driver.quit()"
   ]
  }
 ],
 "metadata": {
  "kernelspec": {
   "display_name": "Python 3",
   "language": "python",
   "name": "python3"
  },
  "language_info": {
   "codemirror_mode": {
    "name": "ipython",
    "version": 3
   },
   "file_extension": ".py",
   "mimetype": "text/x-python",
   "name": "python",
   "nbconvert_exporter": "python",
   "pygments_lexer": "ipython3",
   "version": "3.8.10"
  }
 },
 "nbformat": 4,
 "nbformat_minor": 5
}
