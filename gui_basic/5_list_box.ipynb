{
 "metadata": {
  "language_info": {
   "codemirror_mode": {
    "name": "ipython",
    "version": 3
   },
   "file_extension": ".py",
   "mimetype": "text/x-python",
   "name": "python",
   "nbconvert_exporter": "python",
   "pygments_lexer": "ipython3",
   "version": "3.8.10"
  },
  "orig_nbformat": 4,
  "kernelspec": {
   "name": "python3",
   "display_name": "Python 3.8.10 64-bit ('cakd3': conda)"
  },
  "interpreter": {
   "hash": "dae8c0b66f887a0539d4d1718cfe9e0aae11804d6ca7f9db9b26acbb85b04f58"
  }
 },
 "nbformat": 4,
 "nbformat_minor": 2,
 "cells": [
  {
   "cell_type": "code",
   "execution_count": 4,
   "metadata": {},
   "outputs": [
    {
     "output_type": "stream",
     "name": "stdout",
     "text": [
      "1번째부터 3번째까지의 항목 : ('apple', 'strawberry', 'banana')\n",
      "1번째부터 3번째까지의 항목 : ('apple', 'strawberry', 'banana')\n",
      "1번째부터 3번째까지의 항목 : ('apple', 'strawberry', 'banana')\n"
     ]
    }
   ],
   "source": [
    "from tkinter import *\n",
    "root = Tk()\n",
    "root.title(\"사진 이어붙이기\")\n",
    "root.geometry(\"640x480\") \n",
    "#여러가지 값들을 리스트로 관리하는 목록위젯.\n",
    "box1 = Listbox(root, selectmode=\"extended\", height=0) #selectmode=\"single\"일 경우엔 하나씩만 선택, extend는 여러개 선택 가능\n",
    "#height에 0이 아닌 숫자가 지정되면 그 개수만큼만 보여짐. 키보드로 내려야 밑에것이 보임 ->스크롤바 설정 가능\n",
    "box1.insert(0,\"apple\")\n",
    "box1.insert(1,'strawberry')\n",
    "box1.insert(2,'banana')\n",
    "box1.insert(END,'grape')   #END 순서대로 뜨게된다\n",
    "box1.insert(END,'orange')\n",
    "box1.pack()\n",
    "\n",
    "\n",
    "#버튼\"클릭\" 시\n",
    "def btncmd(): \n",
    "#    box1.delete(END)  #클릭했을 때, 맨 뒤에것이 삭제됨.\n",
    "#    box1.delete(0) #맨 앞항목부터 삭제됨.\n",
    "#    print(\"리스트에는\", box1.size(),\"개가 있어요.\") #size는 리스트 개수, 실행창에 출력됨\n",
    "#    print(\"1번째부터 3번째까지의 항목 :\", box1.get(0,2)) #get: 리스트 0,1,2 항목 불러옴.\n",
    "# 선택된 항복 확인해보기. curselection 현재 선택된 항목 리스트 위치로 반환.\n",
    "    print(\"선택된 항목 : \", box1.curselection())\n",
    "\n",
    "\n",
    "btn = Button(root, text=\"클릭\", command=btncmd)\n",
    "btn.pack()\n",
    "\n",
    "\n",
    "root.mainloop()"
   ]
  }
 ]
}