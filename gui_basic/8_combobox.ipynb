{
 "metadata": {
  "language_info": {
   "codemirror_mode": {
    "name": "ipython",
    "version": 3
   },
   "file_extension": ".py",
   "mimetype": "text/x-python",
   "name": "python",
   "nbconvert_exporter": "python",
   "pygments_lexer": "ipython3",
   "version": "3.8.10"
  },
  "orig_nbformat": 4,
  "kernelspec": {
   "name": "python3",
   "display_name": "Python 3.8.10 64-bit ('cakd3': conda)"
  },
  "interpreter": {
   "hash": "dae8c0b66f887a0539d4d1718cfe9e0aae11804d6ca7f9db9b26acbb85b04f58"
  }
 },
 "nbformat": 4,
 "nbformat_minor": 2,
 "cells": [
  {
   "cell_type": "code",
   "execution_count": 3,
   "metadata": {},
   "outputs": [],
   "source": [
    "# 콤보박스\n",
    "import tkinter.ttk as ttk\n",
    "from tkinter import *\n",
    "root = Tk()\n",
    "root.title(\"사진 이어붙이기\")\n",
    "root.geometry(\"640x480\") \n",
    "\n",
    "# 항복 수정됨\n",
    "Values = [str(i)+\"일\" for i in range(1,32)]\n",
    "combo = ttk.Combobox(root, height=5, values=Values) #콤보박스에 어떤것들이 들어가있는지 values 설정해줘야함\n",
    "combo.pack()\n",
    "combo.set(\"결제일\") #최초 목록 제목 설정\n",
    "\n",
    "#콤보박스 선택으로 고정하려면 readonly - 읽기전용\n",
    "#항목 수정 불가\n",
    "read = ttk.Combobox(root, height=10, values=Values, state=\"readonly\") #콤보박스에 어떤것들이 들어가있는지 values 설정해줘야함\n",
    "read.current(0) #0번째 인덱스값 선택\n",
    "read.pack()\n",
    "\n",
    "\n",
    "\n",
    "#버튼\"선택\" 클릭시\n",
    "def btncmd(): \n",
    "    print(combo.get())\n",
    "\n",
    "btn = Button(root, text=\"선택\", command=btncmd)\n",
    "btn.pack()\n",
    "\n",
    "\n",
    "root.mainloop()"
   ]
  }
 ]
}