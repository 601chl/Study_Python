{
 "cells": [
  {
   "cell_type": "code",
   "execution_count": 6,
   "metadata": {},
   "outputs": [],
   "source": [
    "from tkinter import *\n",
    "root = Tk()\n",
    "root.title(\"사진 이어붙이기\")\n",
    "root.geometry(\"640x480\") #가로 x 세로 <<<엑스 소문자\n",
    "#root.geometry(\"640x480+300+100\") #가로 X 세로 + x좌표 + y좌표 #실행했을때 뜨는 위치\n",
    "root.resizable(False,False) #너비, 높이 창 크기 변경 불가\n",
    "\n",
    "root.mainloop()"
   ]
  }
 ],
 "metadata": {
  "interpreter": {
   "hash": "dae8c0b66f887a0539d4d1718cfe9e0aae11804d6ca7f9db9b26acbb85b04f58"
  },
  "kernelspec": {
   "display_name": "Python 3",
   "language": "python",
   "name": "python3"
  },
  "language_info": {
   "codemirror_mode": {
    "name": "ipython",
    "version": 3
   },
   "file_extension": ".py",
   "mimetype": "text/x-python",
   "name": "python",
   "nbconvert_exporter": "python",
   "pygments_lexer": "ipython3",
   "version": "3.8.10"
  }
 },
 "nbformat": 4,
 "nbformat_minor": 2
}
