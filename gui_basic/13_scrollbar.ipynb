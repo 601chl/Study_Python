{
 "metadata": {
  "language_info": {
   "codemirror_mode": {
    "name": "ipython",
    "version": 3
   },
   "file_extension": ".py",
   "mimetype": "text/x-python",
   "name": "python",
   "nbconvert_exporter": "python",
   "pygments_lexer": "ipython3",
   "version": "3.8.10"
  },
  "orig_nbformat": 4,
  "kernelspec": {
   "name": "python3",
   "display_name": "Python 3.8.10 64-bit ('cakd3': conda)"
  },
  "interpreter": {
   "hash": "dae8c0b66f887a0539d4d1718cfe9e0aae11804d6ca7f9db9b26acbb85b04f58"
  }
 },
 "nbformat": 4,
 "nbformat_minor": 2,
 "cells": [
  {
   "cell_type": "code",
   "execution_count": 1,
   "metadata": {},
   "outputs": [],
   "source": [
    "# 스크롤바\n",
    "from tkinter import *\n",
    "\n",
    "root = Tk()\n",
    "root.title(\"사진 이어붙이기\")\n",
    "root.geometry(\"640x480\") \n",
    "\n",
    "fr = Frame(root)\n",
    "fr.pack()\n",
    "\n",
    "scr = Scrollbar(fr)\n",
    "scr.pack(side=\"right\", fill=\"y\")   #하나의 프레임에서 오른쪽 스크롤바, fill y방향으로 꽉채움\n",
    "\n",
    "# yscrollcommand의 set이 없으면 스크롤바가 고정이 안되고 다시 올라옴\n",
    "li_b = Listbox(fr, selectmode=\"extended\", height=10, yscrollcommand=scr.set)\n",
    "for i in range(1,32): #1 ~ 31일\n",
    "    li_b.insert(END, str(i)+\"일\")  #1일 , 2일....\n",
    "li_b.pack(side=\"left\") #하나의 프레임에서 왼쪽은 리스트\n",
    "\n",
    "#리스트박스와 스크롤바가 상호작용하도록\n",
    "scr.config(command=li_b.yview)\n",
    "\n",
    "root.mainloop()"
   ]
  }
 ]
}