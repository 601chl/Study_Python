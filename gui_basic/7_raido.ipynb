{
 "metadata": {
  "language_info": {
   "codemirror_mode": {
    "name": "ipython",
    "version": 3
   },
   "file_extension": ".py",
   "mimetype": "text/x-python",
   "name": "python",
   "nbconvert_exporter": "python",
   "pygments_lexer": "ipython3",
   "version": "3.8.10"
  },
  "orig_nbformat": 4,
  "kernelspec": {
   "name": "python3",
   "display_name": "Python 3.8.10 64-bit ('cakd3': conda)"
  },
  "interpreter": {
   "hash": "dae8c0b66f887a0539d4d1718cfe9e0aae11804d6ca7f9db9b26acbb85b04f58"
  }
 },
 "nbformat": 4,
 "nbformat_minor": 2,
 "cells": [
  {
   "cell_type": "code",
   "execution_count": 2,
   "metadata": {},
   "outputs": [
    {
     "output_type": "stream",
     "name": "stdout",
     "text": [
      "2\n사이다\n"
     ]
    }
   ],
   "source": [
    "#라디오 버튼 : 여러개 중에 택 1, 한개만 선택 가능 ex)사지선다\n",
    "\n",
    "from tkinter import *\n",
    "root = Tk()\n",
    "root.title(\"사진 이어붙이기\")\n",
    "root.geometry(\"640x480\") \n",
    "\n",
    "Label(root, text=\"메뉴를 선택하세요\").pack()  #레이블 고정 설정\n",
    "\n",
    "burger_var = IntVar() #여기에 int 형으로 값을 저장한다\n",
    "btn_burger1 = Radiobutton(root, text=\"햄버거\", value=1, variable=burger_var) #variable 체크박스와는 다르게 여러 항목이 하나에 묶여있어야 한다.\n",
    "btn_burger1.select() #기본적으로 선택되어져 있는 항목\n",
    "btn_burger2 = Radiobutton(root, text=\"치즈버거\", value=2, variable=burger_var)\n",
    "btn_burger3 = Radiobutton(root, text=\"치킨버거\", value=3, variable=burger_var)\n",
    "\n",
    "btn_burger1.pack()\n",
    "btn_burger2.pack()\n",
    "btn_burger3.pack()\n",
    "\n",
    "Label(root, text=\"음료를 선택하세요\").pack()\n",
    "\n",
    "drink_var = StringVar()\n",
    "btn_drink1 = Radiobutton(root, text=\"콜라\", value=\"콜라\",variable=drink_var)\n",
    "btn_drink1.select()\n",
    "btn_drink2 = Radiobutton(root, text=\"사이다\", value=\"사이다\",variable=drink_var)\n",
    "btn_drink3 = Radiobutton(root, text=\"환타\", value=\"환타\",variable=drink_var)\n",
    "\n",
    "btn_drink1.pack()\n",
    "btn_drink2.pack()\n",
    "btn_drink3.pack()\n",
    "\n",
    "\n",
    "#버튼\"주문\" 클릭시\n",
    "def btncmd():\n",
    "    print(burger_var.get()) #햄버거 중 선택된 라디오 항목의 지정되어진 값(value=1|2|3)을 출력\n",
    "    print(drink_var.get()) #음료 중 선택된 값(value)을 출력\n",
    "     \n",
    "btn = Button(root, text=\"주문\", command=btncmd)\n",
    "btn.pack()\n",
    "\n",
    "\n",
    "root.mainloop()"
   ]
  }
 ]
}