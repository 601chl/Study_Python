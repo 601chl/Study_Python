{
 "metadata": {
  "language_info": {
   "codemirror_mode": {
    "name": "ipython",
    "version": 3
   },
   "file_extension": ".py",
   "mimetype": "text/x-python",
   "name": "python",
   "nbconvert_exporter": "python",
   "pygments_lexer": "ipython3",
   "version": "3.8.10"
  },
  "orig_nbformat": 4,
  "kernelspec": {
   "name": "python3",
   "display_name": "Python 3.8.10 64-bit ('cakd3': conda)"
  },
  "interpreter": {
   "hash": "dae8c0b66f887a0539d4d1718cfe9e0aae11804d6ca7f9db9b26acbb85b04f58"
  }
 },
 "nbformat": 4,
 "nbformat_minor": 2,
 "cells": [
  {
   "cell_type": "code",
   "execution_count": 1,
   "metadata": {},
   "outputs": [
    {
     "output_type": "stream",
     "name": "stdout",
     "text": [
      "새 파일을 만듭니다\n"
     ]
    }
   ],
   "source": [
    "# 메뉴바\n",
    "from tkinter import *\n",
    "\n",
    "root = Tk()\n",
    "root.title(\"사진 이어붙이기\")\n",
    "root.geometry(\"640x480\") \n",
    "\n",
    "def create_new():\n",
    "    print(\"새 파일을 만듭니다\")\n",
    "\n",
    "me = Menu(root)\n",
    "\n",
    "#File  메뉴\n",
    "menu_file = Menu(me, tearoff=0)\n",
    "menu_file.add_command(label=\"New File\", command=create_new)  #누르면 함수 호출됨.\n",
    "menu_file.add_command(label=\"New Window\")\n",
    "menu_file.add_separator()\n",
    "menu_file.add_command(label=\"Open File...\")\n",
    "menu_file.add_separator()\n",
    "menu_file.add_command(label=\"Save All\", state=\"disable\") #비활성화\n",
    "menu_file.add_separator()\n",
    "menu_file.add_command(label=\"Exit\", command=root.quit)\n",
    "me.add_cascade(label = \"File\", menu = menu_file)\n",
    "\n",
    "# Edit 메뉴(빈값)\n",
    "me.add_cascade(label = \"Edit\")\n",
    "\n",
    "# Language 메뉴 추가 (radio 버튼을 통해서 택1)\n",
    "me_lang = Menu(me, tearoff=0)\n",
    "me_lang.add_radiobutton(label=\"Python\")\n",
    "me_lang.add_radiobutton(label=\"Java\")\n",
    "me_lang.add_radiobutton(label=\"C++\")\n",
    "me.add_cascade(label = \"Language\", menu = me_lang)\n",
    "\n",
    "# 체크박스\n",
    "# View 메뉴\n",
    "me_view = Menu(me, tearoff=0)\n",
    "me_view.add_checkbutton(label=\"Show Minimap\")\n",
    "me.add_cascade(label = \"View\", menu = me_view)\n",
    "\n",
    "root.config(menu=me)\n",
    "root.mainloop()"
   ]
  }
 ]
}