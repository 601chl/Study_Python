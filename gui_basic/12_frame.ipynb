{
 "metadata": {
  "language_info": {
   "codemirror_mode": {
    "name": "ipython",
    "version": 3
   },
   "file_extension": ".py",
   "mimetype": "text/x-python",
   "name": "python",
   "nbconvert_exporter": "python",
   "pygments_lexer": "ipython3",
   "version": 3
  },
  "orig_nbformat": 4
 },
 "nbformat": 4,
 "nbformat_minor": 2,
 "cells": [
  {
   "cell_type": "code",
   "execution_count": null,
   "metadata": {},
   "outputs": [],
   "source": [
    "# 프레임\n",
    "from tkinter import *\n",
    "\n",
    "root = Tk()\n",
    "root.title(\"사진 이어붙이기\")\n",
    "root.geometry(\"640x480\") \n",
    "\n",
    "Label(root, text=\"메뉴를 선택해 주세요\").pack(side=\"top\")\n",
    "Button(root, text=\"주문하기\").pack(side=\"bottom\")\n",
    "\n",
    "#메뉴 프레임\n",
    "fr_bu = Frame(root, relief=\"solid\", bd=1) #bd 외곽선 표시\n",
    "fr_bu.pack(side=\"left\", fill=\"both\", expand=True) #왼쪽사이드에 fill - 꽉 체워서, expand- 펼쳐짐\n",
    "\n",
    "Button(fr_bu, test=\"햄버거\").pack()\n",
    "Button(fr_bu, test=\"치즈버거\").pack()\n",
    "Button(fr_bu, test=\"치킨버거\").pack()\n",
    "#위젯들을 하나의 틀에 집어넣어 관리를 용이하게 할 수 있다.\n",
    "\n",
    "#음료 프레임\n",
    "fr_dr = LabelFrame(root, text=\"음료\")\n",
    "fr_dr.pack(side=\"right\", fill=\"both\"expand=True) #오른쪽 사이드에 fill - 꽉 체워서\n",
    "Button(fr_dr, test=\"콜라\").pack()\n",
    "Button(fr_dr, test=\"사이다\").pack()\n",
    "\n",
    "root.mainloop()"
   ]
  }
 ]
}