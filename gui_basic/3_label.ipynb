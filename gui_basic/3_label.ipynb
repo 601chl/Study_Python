{
 "metadata": {
  "language_info": {
   "codemirror_mode": {
    "name": "ipython",
    "version": 3
   },
   "file_extension": ".py",
   "mimetype": "text/x-python",
   "name": "python",
   "nbconvert_exporter": "python",
   "pygments_lexer": "ipython3",
   "version": "3.8.10"
  },
  "orig_nbformat": 4,
  "kernelspec": {
   "name": "python3",
   "display_name": "Python 3.8.10 64-bit ('cakd3': conda)"
  },
  "interpreter": {
   "hash": "dae8c0b66f887a0539d4d1718cfe9e0aae11804d6ca7f9db9b26acbb85b04f58"
  }
 },
 "nbformat": 4,
 "nbformat_minor": 2,
 "cells": [
  {
   "cell_type": "code",
   "execution_count": 5,
   "metadata": {},
   "outputs": [],
   "source": [
    "#label 글자나 이미지를 보여주기만 한다.\n",
    "\n",
    "from tkinter import *\n",
    "root = Tk()\n",
    "root.title(\"사진 이어붙이기\")\n",
    "\n",
    "label1 = Label(root, text=\"안녕하세요\")\n",
    "label1.pack()\n",
    "\n",
    "img = PhotoImage(file=r\"C:\\workspace\\cakd3\\programming\\hj_individual\\Nado\\gui_basic\\img.png\") #유니코드 에러 발생시 따옴표앞에 r 넣어줌.->파일이름에 대문자 있어서 그럼\n",
    "label2 = Label(root, image=img)\n",
    "label2.pack()\n",
    "\n",
    "def change():\n",
    "    label1.config(text=\"또만나요\")  #label1의 속성변경\n",
    "    #전역변수로 만들어주지 않으면 파일 지워버려서 실행안될 수 있음.\n",
    "    #img2를 글로벌로 선언해줘야됨.\n",
    "    global img2\n",
    "    img2 = PhotoImage(file=r\"C:\\workspace\\cakd3\\programming\\hj_individual\\Nado\\gui_basic\\img2.png\")\n",
    "    label2.config(image=img2)\n",
    "\n",
    "\n",
    "btn = Button(root, text=\"클릭\", command=change)\n",
    "btn.pack()\n",
    "\n",
    "root.mainloop()"
   ]
  }
 ]
}