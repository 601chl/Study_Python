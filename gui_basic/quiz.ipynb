{
 "metadata": {
  "language_info": {
   "codemirror_mode": {
    "name": "ipython",
    "version": 3
   },
   "file_extension": ".py",
   "mimetype": "text/x-python",
   "name": "python",
   "nbconvert_exporter": "python",
   "pygments_lexer": "ipython3",
   "version": "3.8.10"
  },
  "orig_nbformat": 4,
  "kernelspec": {
   "name": "python3",
   "display_name": "Python 3.8.10 64-bit ('cakd3': conda)"
  },
  "interpreter": {
   "hash": "dae8c0b66f887a0539d4d1718cfe9e0aae11804d6ca7f9db9b26acbb85b04f58"
  }
 },
 "nbformat": 4,
 "nbformat_minor": 2,
 "cells": [
  {
   "cell_type": "code",
   "execution_count": 1,
   "metadata": {},
   "outputs": [],
   "source": [
    "#Quiz. tkinter을 이용한 메모장프로그램을 만드시오.\n",
    "import os\n",
    "from tkinter import *\n",
    "\n",
    "root = Tk()\n",
    "root.title(\"나도코딩! 메모장\")\n",
    "root.geometry(\"500x480\") # 가로 * 세로\n",
    "\n",
    "# 열기, 저장 파일 이름\n",
    "filename = \"mynote.txt\"\n",
    "\n",
    "def open_f():\n",
    "    if os.path.isfile(filename): #파일 있으면 True 없으면 False\n",
    "        with open(filename, \"r\") as f:\n",
    "            t.delete(\"1.0\", END) #텍스트 위젯 본문 삭제\n",
    "            t.insert(END, f.read()) #파일 내용 본문에 입력\n",
    "\n",
    "def save_f():\n",
    "    with open(filename, \"w\") as f:\n",
    "        f.write(t.get(\"1.0\", END)) #모든 내용을 가져와 저장\n",
    "\n",
    "m = Menu(root)\n",
    "m_f = Menu(m, tearoff=0)\n",
    "m_f.add_command(label=\"열기\", command=open_f)\n",
    "m_f.add_command(label=\"저장\", command=save_f)\n",
    "m_f.add_separator()\n",
    "m_f.add_command(label=\"끝내기\", command=root.quit)\n",
    "\n",
    "m.add_cascade(label=\"파일\", menu=m_f)\n",
    "\n",
    "#편집, 서식, 보기, 도움말\n",
    "#동작없음\n",
    "m.add_cascade(label=\"편집\")\n",
    "m.add_cascade(label=\"서식\")\n",
    "m.add_cascade(label=\"보기\")\n",
    "m.add_cascade(label=\"도움말\")\n",
    "\n",
    "#스크롤바 처리, 같은 프레임안에 넣으면 스크롤처리 가능, 지금 메모장은 텍스트 하나뿐이라서 root를 하나의 프레임으로 여기고 넣음\n",
    "scr = Scrollbar(root)\n",
    "scr.pack(side=\"right\", fill=\"y\")\n",
    "\n",
    "\n",
    "# 본문 영역\n",
    "t = Text(root, yscrollcommand=scr.set)\n",
    "t.pack(side=\"left\",fill=\"both\",expand=True)\n",
    "\n",
    "#스크롤바 상호작용하도록, 크기에 맞춰 위 아래로 이동할 수 있도록\n",
    "scr.config(command=t.yview)\n",
    "#***메뉴에다가 우리가 만든 메뉴 집어넣어주기\n",
    "root.config(menu=m)\n",
    "root.mainloop()"
   ]
  }
 ]
}