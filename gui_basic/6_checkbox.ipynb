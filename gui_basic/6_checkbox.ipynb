{
 "metadata": {
  "language_info": {
   "codemirror_mode": {
    "name": "ipython",
    "version": 3
   },
   "file_extension": ".py",
   "mimetype": "text/x-python",
   "name": "python",
   "nbconvert_exporter": "python",
   "pygments_lexer": "ipython3",
   "version": 3
  },
  "orig_nbformat": 4
 },
 "nbformat": 4,
 "nbformat_minor": 2,
 "cells": [
  {
   "cell_type": "code",
   "execution_count": null,
   "metadata": {},
   "outputs": [],
   "source": [
    "from tkinter import *\n",
    "root = Tk()\n",
    "root.title(\"사진 이어붙이기\")\n",
    "root.geometry(\"640x480\") \n",
    "\n",
    "chkvar = IntVar() #chkvar 에 int 형으로 값을 저장한다\n",
    "chkbox = Checkbutton(root, text=\"오늘 하루 보지 않기\", variable=chkvar) #variable 체크박스의 설정, 해제 값을 변수로 가져올 수 있다.\n",
    "# chkbox.select() #자동 체크 처리\n",
    "# chkbox.deselect() #자동 체크 해제 처리\n",
    "chkbox.pack()\n",
    "\n",
    "\n",
    "chkvar2 = IntVar()\n",
    "chkbox2 = Checkbutton(root, text=\"일주일동안 보지 않기\", variable=chkvar2)\n",
    "chkbox2.pack()\n",
    "\n",
    "#버튼\"클릭\" 시\n",
    "def btncmd():\n",
    "    print(chkvar.get()) #0:체크해제, 1:체크상태\n",
    "    print(chkvar2.get()) \n",
    "\n",
    "btn = Button(root, text=\"클릭\", command=btncmd)\n",
    "btn.pack()\n",
    "\n",
    "\n",
    "root.mainloop()"
   ]
  }
 ]
}