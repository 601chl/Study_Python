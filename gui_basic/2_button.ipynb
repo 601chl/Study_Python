{
 "metadata": {
  "language_info": {
   "codemirror_mode": {
    "name": "ipython",
    "version": 3
   },
   "file_extension": ".py",
   "mimetype": "text/x-python",
   "name": "python",
   "nbconvert_exporter": "python",
   "pygments_lexer": "ipython3",
   "version": "3.8.10"
  },
  "orig_nbformat": 4,
  "kernelspec": {
   "name": "python3",
   "display_name": "Python 3.8.10 64-bit ('cakd3': conda)"
  },
  "interpreter": {
   "hash": "dae8c0b66f887a0539d4d1718cfe9e0aae11804d6ca7f9db9b26acbb85b04f58"
  }
 },
 "nbformat": 4,
 "nbformat_minor": 2,
 "cells": [
  {
   "cell_type": "code",
   "execution_count": 1,
   "metadata": {},
   "outputs": [
    {
     "output_type": "stream",
     "name": "stdout",
     "text": [
      "버튼이 클릭되었어요\n"
     ]
    }
   ],
   "source": [
    "from tkinter import *\n",
    "root = Tk()\n",
    "root.title(\"사진 이어붙이기\")\n",
    "\n",
    "# 버튼 위젯\n",
    "btn1 = Button(root, text=\"버튼1\")\n",
    "btn1.pack()\n",
    "# padx=5, pady=10 - 좌우로 공간 확보, 크기 고정 X\n",
    "btn2 = Button(root, padx=5, pady=10, text=\"버튼2\")  \n",
    "btn2.pack()\n",
    "btn3 = Button(root, padx=10, pady=5, text=\"버튼3\")\n",
    "btn3.pack()\n",
    "# width=10, height=3 버튼 크기 설정, 고정크기!!!!\n",
    "btn4 = Button(root, width=10, height=3, text=\"버튼4\") \n",
    "btn4.pack()\n",
    "#fg(fontground) 글자색 bg(back ground) 배경색\n",
    "btn5 = Button(root,fg=\"red\", bg=\"yellow\", text=\"버튼5\") \n",
    "btn5.pack()\n",
    "\n",
    "img = PhotoImage(file='C:\\workspace\\cakd3\\programming\\hj_individual\\나도코딩\\gui_basic\\img.png')\n",
    "btn6 = Button(root, image=img)\n",
    "btn6.pack()\n",
    "def btncmd():\n",
    "    print(\"버튼이 클릭되었어요\")\n",
    "btn7 = Button(root, text=\"동작 버튼\", command=btncmd) #<<< 버튼누르면 btncmd 함수 실행됨\n",
    "btn7.pack()\n",
    "\n",
    "root.mainloop()"
   ]
  }
 ]
}