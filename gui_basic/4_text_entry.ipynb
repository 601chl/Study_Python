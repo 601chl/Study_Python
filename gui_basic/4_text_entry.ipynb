{
 "metadata": {
  "language_info": {
   "codemirror_mode": {
    "name": "ipython",
    "version": 3
   },
   "file_extension": ".py",
   "mimetype": "text/x-python",
   "name": "python",
   "nbconvert_exporter": "python",
   "pygments_lexer": "ipython3",
   "version": "3.8.10"
  },
  "orig_nbformat": 4,
  "kernelspec": {
   "name": "python3",
   "display_name": "Python 3.8.10 64-bit ('cakd3': conda)"
  },
  "interpreter": {
   "hash": "dae8c0b66f887a0539d4d1718cfe9e0aae11804d6ca7f9db9b26acbb85b04f58"
  }
 },
 "nbformat": 4,
 "nbformat_minor": 2,
 "cells": [
  {
   "cell_type": "code",
   "execution_count": 5,
   "metadata": {},
   "outputs": [
    {
     "output_type": "stream",
     "name": "stdout",
     "text": [
      "글자를 입력하세요.\n\n한 줄만 입력됩니다.\n"
     ]
    }
   ],
   "source": [
    "from tkinter import *\n",
    "root = Tk()\n",
    "root.title(\"사진 이어붙이기\")\n",
    "root.geometry(\"640x480\") \n",
    "\n",
    "txt = Text(root, width=30, height=5)   #텍스트 위젯 설정 #여러줄 입력가능, 줄바꿈도가능\n",
    "txt.pack()\n",
    "txt.insert(END, \"글자를 입력하세요.\") #텍스트에 들어가있는 기본값. 창에서 지워짐\n",
    "\n",
    "e = Entry(root,width=30)    #한줄입력, 닉네임이나 아이디 같은\n",
    "e.pack()\n",
    "e.insert(0, \"한 줄만 입력됩니다.\")\n",
    "\n",
    "def btncmd():\n",
    "    #내용출력\n",
    "    print(txt.get(\"1.0\",END)) #라인1부터, 컬럼(열)기준으로 0의위치에 있는 곳부터 끝까지 가져오라는 의미.\n",
    "    print(e.get())\n",
    "    #가져왔고, 지우기\n",
    "    #내용삭제\n",
    "    txt.delete(\"1.0\",END)\n",
    "    e.delete(0,END)\n",
    "\n",
    "\n",
    "#버튼을 클릭했을때 텍스트와 엔트리에 있는 값을 파이썬 실행창에 가져오는 오고 지우는 역할.\n",
    "btn = Button(root, text=\"클릭\", command=btncmd)\n",
    "btn.pack()\n",
    "\n",
    "\n",
    "root.mainloop()"
   ]
  }
 ]
}