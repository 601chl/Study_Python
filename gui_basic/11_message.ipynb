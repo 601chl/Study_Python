{
 "metadata": {
  "language_info": {
   "codemirror_mode": {
    "name": "ipython",
    "version": 3
   },
   "file_extension": ".py",
   "mimetype": "text/x-python",
   "name": "python",
   "nbconvert_exporter": "python",
   "pygments_lexer": "ipython3",
   "version": 3
  },
  "orig_nbformat": 4
 },
 "nbformat": 4,
 "nbformat_minor": 2,
 "cells": [
  {
   "cell_type": "code",
   "execution_count": null,
   "metadata": {},
   "outputs": [],
   "source": [
    "# 메시지 박스, 알림뜨는것.\n",
    "import tkinter.messagebox as msgbox\n",
    "from tkinter import *\n",
    "\n",
    "root = Tk()\n",
    "root.title(\"사진 이어붙이기\")\n",
    "root.geometry(\"640x480\") \n",
    "\n",
    "#기차예매로 가정\n",
    "def info():\n",
    "    msgbox.showinfo(\"알림\", \"정상적으로 예매 완료되었습니다.\") #앞이 창 틀 위에 적히고 뒤에것이 창 중간에 띄움.\n",
    "def info2():\n",
    "    msgbox.showwarning(\"경고\", \"해당 좌석은 매진되었습니다.\") #노란색 느낌표 글이랑 같이 표시됨\n",
    "def error():\n",
    "    msgbox.showerror(\"에러\", \"결제 에러가 발생하였습니다.\") #빨간색 경곤표시랑 글이랑 같이 표시됨\n",
    "def okcancel():\n",
    "    msgbox.askokcancel(\"확인 취소\", \"해당 좌석은 유아동반석입니다. 예매하시겠습니까?\")  #알림창에 확인, 취소 버튼이 생김\n",
    "def retrycancel():\n",
    "    response = msgbox.askretrycancel(\"재시도 취소\", \"일시적인 오류입니다. 다시 시도하시겠습니까?\") \n",
    "    if response == 1: #재시도, True = 1\n",
    "        print('재시도')\n",
    "    elif response == 0:  #취소, False = 0\n",
    "        print('취소')\n",
    "    else Exception as e : print(e)\n",
    "\n",
    "def yesno():\n",
    "    msgbox.askyesno(\"예/아니오\", \"해당 좌석은 역방향입니다. 예매하시겠습니까?\") \n",
    "def yesnocancel():\n",
    "    response = msgbox.askyesnocancel(title=None, message=\"예매 내역이 저장되지 않았습니다. \\n 저장 후 프로그램을 종료하시겠습니까?\") \n",
    "    #네 : 저장 후 종료\n",
    "    #아니오 : 저장 하지 않고 종료\n",
    "    #취소 : 프로그램 종료 취소(현재 화면에서 계속 작업)\n",
    "    print(\"응답 :\", response) # 예 True, 아니오 False, 취소 None -> 예 1, 아니오 0, 그 외에는 취소\n",
    "    if response == 1: #네, True = 1\n",
    "        print('예')\n",
    "    elif response == 0: print('아니오')\n",
    "    else : print('취소')\n",
    "\n",
    "Button(root, command=info, text=\"알림\").pack()\n",
    "Button(root, command=info2, text=\"경고\").pack()\n",
    "Button(root, command=error, text=\"에러\").pack()\n",
    "Button(root, command=okcancel, text=\"확인취소\").pack()\n",
    "Button(root, command=retrycancel, text=\"재시도 취소\").pack()\n",
    "Button(root, command=yesno, text=\"예 아니오\").pack()\n",
    "Button(root, command=yesnocancel, text=\"예 아니오 취소\").pack() #버튼 3개\n",
    "\n",
    "\n",
    "root.config(menu=me)\n",
    "root.mainloop()"
   ]
  }
 ]
}