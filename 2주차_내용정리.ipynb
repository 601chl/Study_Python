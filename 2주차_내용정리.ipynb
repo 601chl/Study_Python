{
 "cells": [
  {
   "cell_type": "markdown",
   "id": "7643845d",
   "metadata": {},
   "source": [
    "### 0628 예외처리"
   ]
  },
  {
   "cell_type": "code",
   "execution_count": null,
   "id": "7c792b84",
   "metadata": {},
   "outputs": [],
   "source": [
    "#구문 오류 : 프로그램 실행전에 발생하는 오류   < 구문 자체가 오류\n",
    "#예외 또는 런타임 오류 :프로그램 실행 중에 발생하는 오류\n",
    "\n",
    "print('예외를 강제로 발생!)   #<<- SyntaxError  구문에러\n",
    "      \n",
    "      \n",
    "#정수를 입락혀지 않은 경우 예외 발생\n",
    "#런타임오류\n",
    "num_input = int(input('정수 입력> '))   \n",
    "#int 정수로바꿀수없는것이들어오면,ValueError 값 오류\n",
    "print('원의반지름: ',num_input)\n",
    "      "
   ]
  },
  {
   "cell_type": "code",
   "execution_count": null,
   "id": "d6ee18ac",
   "metadata": {},
   "outputs": [],
   "source": [
    "#조건문으로 예외 처리\n",
    "user_input = input('정수입력> ')\n",
    "if user_input.isdigit():   #isdigit 디짓이냐, =숫자이냐\n",
    "    num_input = int(user_input)\n",
    "    print('원의 반지름: ',num_input)\n",
    "else:\n",
    "    print('정수를 입력하지 않았습니다')"
   ]
  },
  {
   "cell_type": "code",
   "execution_count": null,
   "id": "24e888b3",
   "metadata": {},
   "outputs": [],
   "source": [
    "# param = 1   <- 매개변수 넣어주기\n",
    "print('안녕하세요')\n",
    "print(param)     #<- 위에서  param 매개변수 넣어주지 않으면 에러발생.\n",
    "\n",
    "#매개변수, 문자열과 다르다. 매개변수는 따옴표가 필요없음.\n",
    "#NameError - 매개변수가 없음. 매개변수를 앞에 넣어주거나 문자열처리하면 괜찮음."
   ]
  },
  {
   "cell_type": "markdown",
   "id": "a0ab5f5b",
   "metadata": {},
   "source": [
    "- 프로그램이 실행하는 동안 오류가 발생하면 프로그램이 더 이상 진행될 수 없는 상태가 되는데 이를 예외라고 함.\n",
    "- 예외가 발생해도 프로그램을 주단하지 않고 예외에 대한 적절한 처리를 하여 프로그램을 계속 진행하도록 하는 구문이 try ~ except\n",
    "- (except 발생 오류 as 오류 메시지 변수:)로 except문에 미리 정해 놓은 오류 이름과 일치할 때만 except 블록을 수행하게 만들 수 있다. \n",
    "- except 여러개를 넣어서 여러개의 오류처리를 만들 수 있다. \n",
    "- 동일한 처리는 except(,) - 묶어처리할 수 있다."
   ]
  },
  {
   "cell_type": "code",
   "execution_count": null,
   "id": "bed86eb1",
   "metadata": {},
   "outputs": [],
   "source": [
    "try:\n",
    "    print('안녕하세요')  \n",
    "    print(param)    #에러가 발생하면 except로 넘어감. \n",
    "except:\n",
    "    print('예외가 발생했습니다.')\n",
    "    \n",
    "    \n",
    "#else추가\n",
    "try:\n",
    "    print('안녕하세요')  \n",
    "except:\n",
    "    print('예외가 발생했습니다.')\n",
    "#그밖에 추가할수 있다. \n",
    "#try에서 예외가 발생하지 않으면 else로 넘어옴. 예외가발생하면 except로 끝남.\n",
    "else:       \n",
    "    print('예외가 발생하지 않았습니다.')"
   ]
  },
  {
   "cell_type": "code",
   "execution_count": null,
   "id": "c279807e",
   "metadata": {},
   "outputs": [],
   "source": [
    "#예외가 있든 없는 무조건 실행해야 하는 코드(finally)가 있다면\n",
    "try:\n",
    "    print('안녕하세요')      \n",
    "    print(param)\n",
    "except:\n",
    "    print('예외가 발생했습니다.')\n",
    "finally:\n",
    "    print('무조건 실행하는 코드')   #else가 있어도 마지막에 무조건 실행됨."
   ]
  },
  {
   "cell_type": "code",
   "execution_count": null,
   "id": "90c0d562",
   "metadata": {},
   "outputs": [],
   "source": [
    "#코드에서 예외 발생 내용을 확인하고자 하는 경우 처리 방법\n",
    "\n",
    "try:\n",
    "    print(param)\n",
    "except Exception as e:   #파이썬 예외 모듈 - Exception\n",
    "    print(e)    #무슨 Exception 이 발생했는지 출력됨."
   ]
  },
  {
   "cell_type": "code",
   "execution_count": null,
   "id": "b0279042",
   "metadata": {},
   "outputs": [],
   "source": [
    "#무한루프 예외처리\n",
    "import time\n",
    "count = 1\n",
    "try:\n",
    "    while True:       \n",
    "        print(count)\n",
    "        count += 1\n",
    "        time.sleep(0.5)   \n",
    "#무한루프에서 ctrl + c로 강제멈춤, 주피터노트북에서는 interrupt the kernel\n",
    "except  KeyboardInterrupt:\n",
    "    print('사용자에 의해 프로그램이 중단되었습니다.')"
   ]
  },
  {
   "cell_type": "code",
   "execution_count": null,
   "id": "97964bcf",
   "metadata": {},
   "outputs": [],
   "source": [
    "# Q. 리스트['52','273','32','문자','103']에서 숫자 부분만 출력하세요(예외처리수행)\n",
    "list1 = ['52','273','32','문자','103']  #반복하는 리스트에 쓰이는 for문 이용\n",
    "a=[]\n",
    "try:\n",
    "    for number in list1:\n",
    "        if number.isdigit():   #숫자이면\n",
    "            a.append(number)\n",
    "    print(a)\n",
    "except:\n",
    "    pass"
   ]
  },
  {
   "cell_type": "code",
   "execution_count": null,
   "id": "f6df296e",
   "metadata": {},
   "outputs": [],
   "source": [
    "# Q. 정수를 입력했으면 '정수', 정수가 아니면 '정수아님'을 출력하세요.\n",
    "a=input('정수를 입력하세요> ')\n",
    "try:\n",
    "    int(a)               # 정수일때 문제없음\n",
    "    print('정수')        #<<- 문제없을때 실행됨\n",
    "except:                 # 문제 생기면 예외처리\n",
    "    print('정수 아님')    \n",
    "else:                   #try실행 후 문제없으면 실행되는 코드\n",
    "    print('정수')"
   ]
  },
  {
   "cell_type": "code",
   "execution_count": null,
   "id": "aed5c89f",
   "metadata": {},
   "outputs": [],
   "source": [
    "#Q.정수를 입력하면 '입력 정수' > '예외 발생하지 않음'>'프로그램 종료'\n",
    "# 정수가 아니면'입력 값' > '정수 아님'>'프로그램 종료' \n",
    "# 순서대로 출력하세요.\n",
    "try:\n",
    "    ip =input('정수를 입력하세요> ')   #정수입력\n",
    "    num_input = int(ip)\n",
    "except:\n",
    "    print('입력 값: {}'.format(ip))    #정수를 입력하지 않아 try에서 문제가 발생한 경우.\n",
    "    print('정수 아님')                 #> 정수아님 출력.\n",
    "else:\n",
    "    print('입력정수: {}'.format(ip))  #try 실행 후 문제없으면(정수입력하면) '입력정수'\n",
    "    print('> 예외 발생하지 않음')     #> 예외 발생하지 않음  :문제 있으면 실행안됨.\n",
    "finally:                             #마지막에 무조건 실행됨 > 프로그램종료\n",
    "    print('> 프로그램 종료')"
   ]
  },
  {
   "cell_type": "code",
   "execution_count": null,
   "id": "1542d142",
   "metadata": {},
   "outputs": [],
   "source": [
    "#Q. 아래 코드에서 try ~ except ~ finally를 넣어서 \n",
    "# 코드를 완료하여 'finally 구문이 실행되었습니다'를 출력세요.\n",
    "\n",
    "print('프로그램이 시작되었습니다. ')\n",
    "while True:\n",
    "    #try:\n",
    "        print('try 구문이 시작되었습니다. ')   # 앞에 try\n",
    "        break\n",
    "        print('try 구문의 break 키워드 뒤입니다. ')\n",
    "    #except:\n",
    "        print('except 구문이 실행되었습니다. ') # 앞에 except\n",
    "    #finally:\n",
    "        print('finally 구문이 실행되었습니다')  #앞에 finally\n",
    "    print('while 반복문의 마지막 줄입니다. ')\n",
    "print('프로그램이 종료되었습니다')"
   ]
  },
  {
   "cell_type": "code",
   "execution_count": null,
   "id": "b79d1eb3",
   "metadata": {},
   "outputs": [],
   "source": [
    "#Q. 숫자 대신 문자를 입력 시 예외가 발생되는데 아래 코드를 수정해서\n",
    "#예외 객체의 자료형과 예외 객체 자체를 출력하세요.\n",
    "\n",
    "try:\n",
    "    num_input = int(input('정수 입력> '))\n",
    "    print('원의 반지름: ', num_input)\n",
    "    print('원의 둘레: ', 2*3.14*num_input)\n",
    "    print('원의 넓이: ', 3.14*num_input*num_input)\n",
    "except Exception as e:     #Exception 파이썬 내장 모듈!\n",
    "    print('예외발생: ',e)\n",
    "    print(type(e))"
   ]
  },
  {
   "cell_type": "code",
   "execution_count": null,
   "id": "529ad9b7",
   "metadata": {},
   "outputs": [],
   "source": [
    "#클래스를 만들어 놓고, 그안에 우리가 사용한 변수, 함수 로 한 기능을 하게끔 넣음.\n",
    "#-> 클래스로 객체(인스턴스)를 만듦.\n",
    "#붕어빵 하나 만들어놓고 계속 찍어서 다양한 붕어빵을 \n",
    "#만드는 것같이 클래스의 함수를 매소드라고 칭하고 변수 및 매소드를 가지고 \n",
    "#-> 객체를 만들때 이용할 수 있다.\n",
    "#클래스도 하나의 type 이다."
   ]
  },
  {
   "cell_type": "markdown",
   "id": "7ba66ddc",
   "metadata": {},
   "source": [
    "-------------------------------------------------------------------"
   ]
  },
  {
   "cell_type": "markdown",
   "id": "e5118d00",
   "metadata": {},
   "source": [
    "#### 객체지향언어      \n",
    "효율적으로 재활용하여 사용하기 위해 _ 클래스 만들어둠    \n",
    "클래스 안에 변수, 함수 등 들어감    \n",
    "목적상 할 수 있는 것들을 만들어놓고 저장    \n",
    "이 클래스(부모클래스)를 상속받아 새로운 클래스(자식클래스)를 만들 수 있음. \n",
    "\n",
    "\n",
    "#### 프로그램방식     \n",
    "중복된 것을 사용자 함수같은 함수를 써서 묶어버릴 수 있다.   \n",
    "함수를 많이 쓰는 구조적 프로그램 단계    - 중    \n",
    "클래스를 이용해 객체지향적인 프로그램 단계  - 중,고급    "
   ]
  },
  {
   "cell_type": "markdown",
   "id": "dd6c227d",
   "metadata": {},
   "source": [
    "#### 클래스   \n",
    "클래스안의 함수 == 매소드   \n",
    "특정 클래스에서 만들어진 객체 == 인스턴스   \n",
    "\n",
    "- 클래스 멤버, 클래스 메소드\n",
    "- 클래스를 구성하는 주요 요소는 멤버(클래스 멤버==변수)와 메소드(함수)로 클래스 공간내에서 정의\n",
    "- 클래스 메소드는 첫번째 인자가 반드시 self(객체자체)로 시작.\n",
    "- self는 이 클래스의 인스턴스 객체를 가리키는 참조자.*\n",
    "- 인스턴스 객체에서 클래스 메소드를 호출 시 첫번째 인자인 self 생략\n",
    "- 클래스이름은 대문자로시작, 클래스는 카멜식으로 쓴다. 꼭!\n",
    "- 클래스를 쓰려면 객체를 만들어서 쓰는 방법과 상속해서 클래스를 만들때 사용한다."
   ]
  },
  {
   "cell_type": "code",
   "execution_count": null,
   "id": "c5656651",
   "metadata": {},
   "outputs": [],
   "source": [
    "class MyClass:\n",
    "    var = '안녕하세요'   #변수약자 var  #클래스 멤버\n",
    "    def sayHello(self):                 #클래스 메소드\n",
    "        return self.var\n",
    "    \n",
    "        \n",
    "obj = MyClass()    #붕어빵 찍어냄.\n",
    "print(obj)\n",
    "print(obj.var)\n",
    "print(obj.sayHello())\n",
    "print(type(obj))   ##__main__ 현재실행되는 파일"
   ]
  },
  {
   "cell_type": "code",
   "execution_count": null,
   "id": "ca6c4737",
   "metadata": {},
   "outputs": [],
   "source": [
    "# 클래스 멤버와 인스턴스 멤버\n",
    "# 클래스 멤버는 클래스 메소드 바깥에서 선언되고, \n",
    "# 인스턴스 멤버는 클래스 메소드 안에서 self와 함께 선언\n",
    "\n",
    "class MyClass:\n",
    "    var = '안녕하세요' #클래스 멤버\n",
    "    def sayHello(self): #클래스 메소드\n",
    "        param1 = '안녕'   #지역변수\n",
    "        self.param2 = '하이'  #인스턴스 멤버\n",
    "        print(param1)\n",
    "        print(self.param2)\n",
    "        print(self.var)\n",
    "        \n",
    "obj = MyClass()\n",
    "print(obj.var)\n",
    "obj.sayHello()"
   ]
  },
  {
   "cell_type": "code",
   "execution_count": null,
   "id": "c43e53ff",
   "metadata": {},
   "outputs": [],
   "source": [
    "#클래스 메소드\n",
    "#클래스 내에서 정의되는 클래스 메소드는 첫 번째 인자가 반드시 self 여야 한다.\n",
    "\n",
    "class MyClass:\n",
    "    def sayHello(self):\n",
    "        print('안녕하세요')\n",
    "    def sayBye(self,name):       #첫번째 인자 self (,)콤마 이용해서 2번째 인자 넣을 수 있다.\n",
    "        print('%s! 다음에 또보자'%name)\n",
    "        \n",
    "obj = MyClass()\n",
    "\n",
    "obj.sayHello()\n",
    "obj.sayBye('kevin')"
   ]
  },
  {
   "cell_type": "code",
   "execution_count": null,
   "id": "4655c235",
   "metadata": {},
   "outputs": [],
   "source": [
    "# 클래스 생성자(인자가 없는 경우)\n",
    "# 클래스의 인스턴스 \n",
    "#*객체가 생성될 때 자동적으로 호출되는 메소드 == 클래스 생성자. __init__\n",
    "\n",
    "class MyClass:\n",
    "    def __init__(self):\n",
    "        self.var = '안녕하세요'    #인스턴스 멤버\n",
    "        print('MyClass 인스턴스 객체가 생성되었습니다. ')\n",
    "\n",
    "obj = MyClass() \n",
    "#print(obj.var)\n",
    "#__init__ 함수 자동호출"
   ]
  },
  {
   "cell_type": "code",
   "execution_count": null,
   "id": "cf784a7d",
   "metadata": {},
   "outputs": [],
   "source": [
    "# 클래스 생성자 (인자가 있는 경우)\n",
    "\n",
    "class MyClass:\n",
    "    def __init__(self, txt):\n",
    "        self.var = txt  #인스턴스 멤버\n",
    "        print('생성자 인자로 전달 받은 값은 < '+self.var+' >입니다. ')\n",
    "obj = MyClass('kevin')\n",
    "print(obj.var)      "
   ]
  },
  {
   "cell_type": "code",
   "execution_count": null,
   "id": "3c0f6061",
   "metadata": {},
   "outputs": [],
   "source": [
    "# 클래스 소멸자, 크게 중요하지 않다. 쓸일이 별로 없다. 알아만 두자!\n",
    "# 클래스 인스턴스 객체가 메모리에서 제거될 때 자동으로 호출되는 클래스 메소드\n",
    "\n",
    "class MyClass:\n",
    "    def __del__(self):\n",
    "        print('MyClass 인스턴스 객체가 매모리에서 제거됩니다. ')\n",
    "obj = MyClass()\n",
    "del obj  #제거될 때 위의 __del__함수 print 실행됨."
   ]
  },
  {
   "cell_type": "markdown",
   "id": "3f196218",
   "metadata": {},
   "source": [
    "메모리 자바에서 중요    \n",
    "파이썬에서는 파이썬이 메모리 처리한다. 안쓰는거 없애버리고 쓸 때도 최적으로    \n",
    "자료형마다 메모리의 크기가 달라서    \n",
    "4개의 메모리 용량    \n",
    "필요에 따라 자료형으로 메모리관리가 필요한데, 자바는 int(a)=1 이렇게 다 필요하다. \n",
    "\n",
    "- 자바 공부 필수  Html Css bootstrap JavaScript Java\n",
    "- w3school(추천사이트) -> Html Css bootstrap JavaScript Java\n",
    "- http://www.tcpschool.com/\n",
    "\n",
    "파이썬은 스스로 인식함.   "
   ]
  },
  {
   "cell_type": "markdown",
   "id": "4bd2b3f1",
   "metadata": {},
   "source": [
    "- 클래스 상속 : class 자식클래스(부모클래스)\n",
    "- 어떤 클래스(부모)가 가지고 있는 모든 멤버나 메소드를 상속받는 클래스(자식)가 \n",
    "- 모두 사용할 수 있도록 해주는 것.\n",
    "- 자식 클래스는 여러 부모 클래스로 부터 상속받을 수 있으며 다중상속이라 함.\n",
    "- 다중상속 - class 자식클래스(부모클래스1, 부모클래스2....)"
   ]
  },
  {
   "cell_type": "code",
   "execution_count": null,
   "id": "609f5071",
   "metadata": {},
   "outputs": [],
   "source": [
    "# 더하기(sum), 곱하기(mul), 클래스를 작성하고 \n",
    "#상속을 받은 자식 클래스 Cal을 자성하여\n",
    "# 덧셈과 곱셈 을 수행하세요.\n",
    "\n",
    "class Cal_p():\n",
    "    def sum(self, a, b):\n",
    "        self.a=a\n",
    "        self.b=b\n",
    "        print(self.a+self.b)\n",
    "        \n",
    "    def mul(self, a, b):\n",
    "        self.a = a\n",
    "        self.b = b\n",
    "        print(self.a*self.b)\n",
    "        \n",
    "class Cal(Cal_p):\n",
    "    pass\n",
    "\n",
    "cal1=Cal()  #클래스 이용하려면 인스턴스 생성 필수.\n",
    "cal1.sum(3,4)\n",
    "cal1.mul(3,4)"
   ]
  },
  {
   "cell_type": "code",
   "execution_count": null,
   "id": "3ae27f7e",
   "metadata": {},
   "outputs": [],
   "source": [
    "# 더하기(sum), 곱하기(mul), 클래스를 작성하고 \n",
    "#상속을 받은 자식 클래스 Cal을 자성하여\n",
    "# 덧셈, 곱셈과 #뺄셈을 수행하세요.\n",
    "#문제 해설\n",
    "lass Sum:\n",
    "    def sum(self,n1,n2):\n",
    "        return n1 + n2\n",
    "class Mul:\n",
    "    def mul(self,n1,n2):\n",
    "        return n1*n2\n",
    "class Cal(Sum,Mul):            #상속클래스 구현\n",
    "    pass\n",
    "#    def sub(self,n1,n2):\n",
    "#        return n1-n2\n",
    "    \n",
    "obj = Cal()\n",
    "print(obj.sum(1,2))\n",
    "print(obj.mul(1,2))\n",
    "# print(obj.sub(5,3))"
   ]
  },
  {
   "cell_type": "code",
   "execution_count": null,
   "id": "eddd92c8",
   "metadata": {},
   "outputs": [],
   "source": [
    "#Q. 클래스 MyClass를 작성하고 객체를 생성하여 아래와 같이 출력하세요(생성자사용)\n",
    "#kevin, 안녕하세요\n",
    "#kevin! 다음에보자\n",
    "class MyClass:\n",
    "    def __init__(self, name):\n",
    "        print('%s, 안녕하세요' %name)\n",
    "    def bye(self, name):\n",
    "        print('%s! 다음에 보자 ' %name)\n",
    "hi = MyClass('kevin')  \n",
    "#클래스 인스턴스 생성될 때 __init__실행되서 위의 안녕하세요 print됨\n",
    "hi.bye('kevin') \n",
    "#hi인스턴스에서 함수 bye 이용 -> 다음에보자 print됨"
   ]
  },
  {
   "cell_type": "code",
   "execution_count": null,
   "id": "32f7ed84",
   "metadata": {},
   "outputs": [],
   "source": [
    "#해설\n",
    "class SayHello:\n",
    "    def __init__(self, name):\n",
    "        self.name = name          \n",
    "        #출력되는것은 없고 self.name에 name이 지역멤버로 들어감.\n",
    "    def hello(self):\n",
    "        print('%s, 안녕하세요' %self.name)\n",
    "    def bye(self):\n",
    "        print('%s! 다음에 보자 ' %self.name)\n",
    "\n",
    "hi = SayHello('kevin')  #__init__ 실행\n",
    "hi.hello()\n",
    "hi.bye()"
   ]
  },
  {
   "cell_type": "code",
   "execution_count": null,
   "id": "b6e358c4",
   "metadata": {},
   "outputs": [],
   "source": [
    "#Q. 사용자 함수를 작성하여 기본가격 1000원 입력 받은 값을 추가한 가격을 산출하세요.\n",
    "#(지역변수, 전역변수 2가지 방법 이용해보기)\n",
    "\n",
    "#1)\n",
    "i=int(input('기본 가격은 1000원 입니다. 추가할 가격은 얼마입니까? > '))\n",
    "def sum(i):\n",
    "    b = 1000       #지역변수\n",
    "    b += i\n",
    "    return b\n",
    "print('총 %s원 입니다.' % sum(i))  #함수값받아서 출력하던지\n",
    "\n",
    "i=int(input('기본 가격은 1000원 입니다. 추가할 가격은 얼마입니까? > '))\n",
    "def sum(i):\n",
    "    b = 1000       #지역변수\n",
    "    b += i\n",
    "    print('총 %s원 입니다.' % b)\n",
    "sum(i)    #함수를 실행해서  (print)출력값을 받던지\n",
    "\n",
    "#2)\n",
    "i=int(input('추가할 가격은 얼마입니까? : '))\n",
    "b = 1000      #글로벌변수\n",
    "def sum2():\n",
    "    global b\n",
    "    b += i\n",
    "    print('총 %d원 입니다.' % (i+1000))\n",
    "sum2()"
   ]
  },
  {
   "cell_type": "markdown",
   "id": "2fca5105",
   "metadata": {},
   "source": [
    "----------------------------------------------------------------\n",
    "### 0629 program"
   ]
  },
  {
   "cell_type": "code",
   "execution_count": null,
   "id": "6721111c",
   "metadata": {},
   "outputs": [],
   "source": [
    "#Q.사용자가 입력한 게임 회수 만큼 로또 번호를 출력하는 프로그램을 작성하세요. 로또번호 1~45, 숫자6개 픽)\n",
    "#임이의 숫자\n",
    "#사고싶을 로또개수 - > 로또번호 중복되면 안됨 -> 10줄 필요\n",
    "\n",
    "import random\n",
    "a=[]\n",
    "i=1\n",
    "for i in range(0,45):\n",
    "    i = i\n",
    "    a.append(i)\n",
    "buy=int(input(\"몇개를 출력하시겠습니까?> \"))\n",
    "for i in range(buy):\n",
    "    sampleList = random.sample(a, 6)    \n",
    "    #리스트 a에서 랜덤으로 1개실 도출됨. sample : 중불가능\n",
    "    print(sampleList)"
   ]
  },
  {
   "cell_type": "code",
   "execution_count": null,
   "id": "b4b7392d",
   "metadata": {},
   "outputs": [],
   "source": [
    "#교수님해설_best\n",
    "import random\n",
    "r = list(range(1,46))\n",
    "for i in range(6):\n",
    "    print(random.sample(r, 6))   #unique한 원소 6개"
   ]
  },
  {
   "cell_type": "code",
   "execution_count": null,
   "id": "a838e4d9",
   "metadata": {},
   "outputs": [],
   "source": [
    "#공부를 위한 해설\n",
    "from random import shuffle\n",
    "from time import sleep\n",
    "\n",
    "gnum = int(input('로또 회수를 입력하세요> '))\n",
    "for i in range(gnum):\n",
    "    it = [x+1 for x in range(45)]   #리스트 안에 for문\n",
    "    ret = []\n",
    "    for j in range(6):       #for문 3개 가중 for문\n",
    "        shuffle(it)\n",
    "        num = it.pop()\n",
    "        ret.append(num)\n",
    "        ret.sort()\n",
    "    print('로또번호%d: '%(i+1), end='')\n",
    "    print(ret)\n",
    "    sleep(0.5)    #나온는 초 간격   "
   ]
  },
  {
   "cell_type": "code",
   "execution_count": null,
   "id": "5bd189d3",
   "metadata": {},
   "outputs": [],
   "source": [
    "#또다른 중요 풀이 \n",
    "gnum = int(input('로또 회수를 입력하세요> '))\n",
    "for i in range(gnum):\n",
    "    li=[]\n",
    "    for j in range(6):\n",
    "        it = random.randint(1,26)\n",
    "        while it in li:              \n",
    "        #중복안되면 벗어난다, 중복되면 벗어나지 않도록 돌림.\n",
    "            it = random.randint(1,46) \n",
    "        li.append(it)\n",
    "    print(li)"
   ]
  },
  {
   "cell_type": "markdown",
   "id": "780159d6",
   "metadata": {},
   "source": [
    "추가말씀:    \n",
    "프로그램 만들때 정교하게 만드는 것이 중요하다."
   ]
  },
  {
   "cell_type": "code",
   "execution_count": null,
   "id": "572767ce",
   "metadata": {},
   "outputs": [],
   "source": [
    "# Q2. 남녀 파트너 정해주기 프로그램을 작성하세요.(5개 커플)\n",
    "# zip함수!!!!\n",
    "# 파트너 정해주기 -> man, woman 랜덤으로 돌려서 zip\n",
    "\n",
    "man = ['남1','남2','남3','남4','남5']\n",
    "woman = ['여1','여2','여3','여4','여5']\n",
    "def partner():\n",
    "    import random\n",
    "    manlist = list(random.sample(man, int(len(man))))\n",
    "    womanlist = list(random.sample(woman, int(len(woman))))\n",
    "    print(list(zip(manlist,womanlist)))\n",
    "partner()\n",
    "\n",
    "#shuffle, zip 이용해서 간단하게 가능\n",
    "random.shuffle(man)\n",
    "random.shuffle(woman)\n",
    "print(list(zip(man,woman)))"
   ]
  },
  {
   "cell_type": "code",
   "execution_count": null,
   "id": "6088eb33",
   "metadata": {},
   "outputs": [],
   "source": [
    "# Q3. 입력받은 문자열의 각 문자를 그 다음 문자로 변경하여 출력하세요.\n",
    "data1 = input('입력하세요> ')\n",
    "data1[1:len(data1)]+data1[0]"
   ]
  },
  {
   "cell_type": "code",
   "execution_count": null,
   "id": "a841d1ac",
   "metadata": {},
   "outputs": [],
   "source": [
    "# Q4. url에서 호스트 도메인을 추출하여 출력하세요.\n",
    "#슬라이싱\n",
    "url1 = 'http://news.naver.com/main/read.nhn?mode=LSD&mid=shm&sid1=105&oid=028&aid=0002334601'\n",
    "host = url1[7:21]\n",
    "print(host)\n",
    "\n",
    "#라이브러리 중 하나, urllib 이용\n",
    "#urlparse -> parts = urlparse('https://velog.io/tags/?sort=name') \n",
    "#print(parts) \n",
    "#->ParseResult(scheme='http', netloc='news.naver.com', path='/main/read.nhn', \n",
    "#params='', query='mode=LSD&mid=shm&sid1=105&oid=028&aid=0002334601', fragment='')\n",
    "from urllib.parse import urlparse\n",
    "part= urlparse(url1)\n",
    "print(part.netloc)\n",
    "\n",
    "#해설자 답안\n",
    "#url.split('')이용\n",
    "a = url1.split(\"/\") #'/'로분리시켜서\n",
    "a   # a 진행시키면 도메인 인수자리 빨리 알 수 있음.\n",
    "domain=a[2]\n",
    "domain"
   ]
  },
  {
   "cell_type": "code",
   "execution_count": null,
   "id": "893957ba",
   "metadata": {},
   "outputs": [],
   "source": [
    "# Q5. url에서 쿼리문을 추출하여 출력하세요.\n",
    "# url에서 '?'뒤에 표시되는 문자열을 쿼리 문자열이라고 하며 변수=값 사이 &로 \n",
    "# 구분되어 나열된다.\n",
    "url1 = 'http://news.naver.com/main/read.nhn?mode=LSD&mid=shm&sid1=105&oid=028&aid=0002334601'\n",
    "#1)\n",
    "from urllib.parse import urlparse\n",
    "part= urlparse(url1)\n",
    "print(part.query)\n",
    "#2)\n",
    "a=url1.split('?')\n",
    "query=a[1].split('&')\n",
    "print(query)   \n",
    "#리스트로 출력.['mode=LSD', 'mid=shm', 'sid1=105', 'oid=028', 'aid=0002334601']\n",
    "\n",
    "#3\n",
    "# for문쓰는 해설\n",
    "a=url1.split('?')\n",
    "queries=a[1].split('&')\n",
    "for query in queries:\n",
    "    print(query,end=' ' )\n",
    "#위의 쿼리 리스트가 for문을 통해 합쳐짐\n",
    "#'mode=LSD mid=shm sid1=105 oid=028 aid=0002334601'"
   ]
  },
  {
   "cell_type": "code",
   "execution_count": null,
   "id": "251ee4f9",
   "metadata": {},
   "outputs": [],
   "source": [
    "# Q6. 텍스트 파일(mydata.txt)을 읽고  파일의 내용에서 나타나는 문자들에 대해 자주 \n",
    "# 나타나는 문자들을 아래와 같이 순서대로 출력하세요.\n",
    "# [ ] -> [177]회 나타남\n",
    "# [e] -> [97]회 나타남\n",
    "# [t] -> [85]회 나타남\n",
    "\n",
    "#파일 열고 읽고 닫기 - with문\n",
    "with open('C:\\workspace\\cakd3\\programming\\data\\mydata.txt','r') as f:\n",
    "    data = f.read()\n",
    "    def count_num(a):\n",
    "        a1 = a\n",
    "        count1 = data.count(a1)\n",
    "        print('[{}] -> [{}]회 나타남'.format(a1,count1))\n",
    "    count_num(' ')\n",
    "    count_num('e')\n",
    "    count_num('t')"
   ]
  },
  {
   "cell_type": "code",
   "execution_count": null,
   "id": "d2923adc",
   "metadata": {},
   "outputs": [],
   "source": [
    "# Q7. mydata.txt 파일에 들어있는 단어수를 계산하여 출력하세요.\n",
    "# 단어 쪼개서 정렬->중복제거 후 개수세기.\n",
    "with open('C:\\workspace\\cakd3\\programming\\data\\mydata.txt','r') as f:\n",
    "    data = f.read()\n",
    "    data1 = data.split(' ')\n",
    "    set1 = set(data1)\n",
    "    print('들어있는 단어수 : {}개'.format(len(set1)))"
   ]
  },
  {
   "cell_type": "code",
   "execution_count": null,
   "id": "ce285d3b",
   "metadata": {},
   "outputs": [],
   "source": [
    "#Q9. mydata.txt 파일에서 특정 단어 t1을  다른 단어 t2로 변경하여 출력하세요.\n",
    "#자료.replace(바꿀거,뭘로바꿀건지) 이용\n",
    "with open('C:\\workspace\\cakd3\\programming\\data\\mydata.txt','r') as f:\n",
    "    data = f.read()\n",
    "    t1 = input('변경 전 단어를 입력해주세요> ')\n",
    "    t2 = input('변경 할 단어를 입력해 주세요> ')\n",
    "    data1 = data.replace(t1,t2)\n",
    "    print(data1)\n",
    "    print()\n",
    "    print('>>>단어가 변경되었습니다.')"
   ]
  },
  {
   "cell_type": "code",
   "execution_count": null,
   "id": "f3a607fd",
   "metadata": {},
   "outputs": [],
   "source": [
    "# Q10. 주어진 데이터에서 1880년에서 2015년까지 연도별 출생아 수를 출력하세요.\n",
    "\n",
    "#filename = 'data/names/yob%d.txt' %y\n",
    "for year in range(1880, 2016) :\n",
    "    fileName = \"data/names/yob{0}.txt\".format(year)\n",
    "    with open(fileName, 'r') as yobFile:\n",
    "        print(\"{0}년도 신생아 : {1}명\".format(year, len(list(yobFile.readlines()))))\n"
   ]
  },
  {
   "cell_type": "code",
   "execution_count": null,
   "id": "0de5ae95",
   "metadata": {},
   "outputs": [],
   "source": [
    "# Q11. 주어진 데이터에서 연도별 성별 출생아 수를 계산하여 출력하세요.\n",
    "\n",
    "for year in range(1880, 2015) :\n",
    "    fileName = \"data/names/yob{0}.txt\".format(year)\n",
    "    yobFile = open(fileName, 'r')\n",
    " \n",
    "    babys = yobFile.readlines()\n",
    "    boys = [baby for baby in babys if baby.split(',')[1]=='M']\n",
    "    girls = [baby for baby in babys if baby.split(',')[1]=='F']\n",
    " \n",
    "    print(\"{0}년도 신생아 : 남 {1}명, 여 {2}명, 총 {3}명\".format(year, len(boys), len(girls), len(boys)+len(girls)))\n",
    "    yobFile.close()\n",
    "    #range(1880, 2015) 전체출력"
   ]
  },
  {
   "cell_type": "code",
   "execution_count": null,
   "id": "6768e94c",
   "metadata": {},
   "outputs": [],
   "source": [
    "#입력 연도만 출력\n",
    "for year in range(1880, 2015) :\n",
    "    y = input('연도를 입력하세요(예:2001):')\n",
    "    fileName = \"data/names/yob{0}.txt\".format(y)\n",
    "    yobFile = open(fileName, 'r')\n",
    "    \n",
    "    babys = yobFile.readlines()\n",
    "    boys = [baby for baby in babys if baby.split(',')[1]=='M']\n",
    "    girls = [baby for baby in babys if baby.split(',')[1]=='F']\n",
    "\n",
    "    print(\"{0}년도 신생아 : 남 {1}명, 여 {2}명, 총 {3}명\".format(year, len(boys), len(girls), len(boys)+len(girls)))\n",
    "    yobFile.close()"
   ]
  },
  {
   "cell_type": "markdown",
   "id": "b3b7daca",
   "metadata": {},
   "source": [
    "## 절대경로, 상대경로\n",
    "\n",
    "절대경로 : 전체경로 , 최초의 시작점으로 경유한 경로를 전부 기입하는 방식        \n",
    "상대경로 : 상위폴더에 비교되는 하위폴더가 있을경우, 현재폴더의 하위폴더 부터 기입하는 방식.\n",
    "-   상대경로는 비교할 대상이 있어야 합니다. "
   ]
  },
  {
   "cell_type": "code",
   "execution_count": null,
   "id": "c8c2f055",
   "metadata": {},
   "outputs": [],
   "source": [
    "# Q12. 출생년도를 입력하면 그해 인기순 상위10개 이름을 출력하세요.\n",
    "from os.path import exists\n",
    "def getTop10BabyName(year):  #사용자 함수 만들기\n",
    "    nameF = {}    #딕셔너리\n",
    "    nameM = {}\n",
    "\n",
    "    filename = 'data/names/yob%s.txt'%year  #입력한 년도를 받아서 파일 읽어옴\n",
    "    if not exists(filename):    #파일이 존재하지 않을때*에러처리*  <제대로 입력하지 않으면 다시 입려가게끔 미리 처리.\n",
    "        print('[%s] 파일이 존재하지 않습니다.'%filename)\n",
    "        return None\n",
    "\n",
    "    with open(filename, 'r') as f:\n",
    "        data = f.readlines()   #라인들_realines 읽어서 데이터 담기\n",
    "        for d in data:         \n",
    "            if d[-1] == '\\n':   #맨 끝에 \\n(줄바꿈)이면 => 줄단위 파악\n",
    "                d = d[:-1]       #d = 그 줄 처음부터 \\n앞까지 뽑아온다.\n",
    "            tmp = d.split(',')    #,로 나누기\n",
    "            name = tmp[0]     #이름\n",
    "            sex = tmp[1]    #성별\n",
    "            birth = tmp[2]    #출생아수\n",
    "\n",
    "            if sex == 'F':      #위의 셋(name, sex, birth)가 있는데 sex의 값을 정하고,다음으로\n",
    "                ret = nameF    #딕셔너리형태로 nameF 키,값으로 들어감{키-name : 값 - 출생아수}\n",
    "            else:\n",
    "                ret = nameM\n",
    "                \n",
    "            if name in ret:   #ret 안에 name 이 들어가있으면\n",
    "                ret[name] += int(birth) \n",
    "#이름(변수)에 요소 출생하수 더하기._ret에 있는 같은이름을 가진 키가 있으면 그 키의 쌍인 값을 더해주게 만들었음.\n",
    "            else:\n",
    "                ret[name] = int(birth)   \n",
    "            \n",
    "    retF = sorted(nameF.items(), key=lambda x:x[1], reverse=True)    \n",
    "    retM = sorted(nameM.items(), key=lambda x:x[1], reverse=True)\n",
    "#key x는 튜플의 인덱스 1자리(출생아수) 기준으로 정렬하라, reverse=True 내림차순\n",
    "#print(d1.keys()) - 딕셔너리 키 출력,print(d1.values()) 딕셔너리 값 출력, \n",
    "#print(d1.items()) 딕셔너리 키-값(쌍) 출력\n",
    "\n",
    "    for i, name in enumerate(retF):    #enumerate retF(key,value)를 튜플단위로 묶음! \n",
    "        if i > 9:   #0부터 시작해서 9보다 크면 break\n",
    "            break\n",
    "        print('TOP_%d 여자아기 이름:%s'%(i+1,name))\n",
    "    for i, name in enumerate(retM):\n",
    "        if i > 9:\n",
    "            break\n",
    "        print('TOP_%d 남자아기 이름:%s'%(i+1,name))\n",
    "\n",
    "y = input('인기순 상위 10개 이름을 알고싶은 출생년도를 입력하세요(예:2001):')\n",
    "getTop10BabyName(y)     #사용자함수 실행"
   ]
  },
  {
   "cell_type": "code",
   "execution_count": null,
   "id": "cb7f9284",
   "metadata": {},
   "outputs": [],
   "source": [
    "# Q13. 음식점의 음식 주문가격 산출 프로그램을 자유롭게 작성하세요."
   ]
  },
  {
   "cell_type": "code",
   "execution_count": null,
   "id": "451b5ca3",
   "metadata": {},
   "outputs": [],
   "source": [
    "# Q14. Player가 3승할 때까지 계속 진행되는 가위바위보 게임 프로그램을 작성하세요.\n",
    "# 게임은 Player와 컴퓨터간 진행import random\n",
    "win = 0;game = 0;player = 0;computer = 0\n",
    "play = ['가위','바위','보']\n",
    "print(\"가위바위보 게임, 3승하시면 끝납니다.\")\n",
    "while win < 3:\n",
    "    com = random.choice(play)\n",
    "    me = input(\"무엇을 내시겠습니까(가위,바위,보)?\")\n",
    "    if com == me:\n",
    "        print(\"같은것을 내셨습니다. 다시 시작합니다.\")\n",
    "    elif (com == '가위' and me == '바위') or (com == '바위' and me =='보') or (com == '보' and me == '가위'):\n",
    "        print(\"이겼습니다.\")\n",
    "        player += 1\n",
    "        win += 1\n",
    "    elif (me == '가위' and com == '바위') or (me == '바위' and com =='보') or (me == '보' and com == '가위'):\n",
    "        print(\"컴퓨터가 이겼습니다.\")\n",
    "        computer += 1\n",
    "    else : \n",
    "        print('정확하게 입력해주세요.')\n",
    "    game += 1\n",
    "    print('{} 게임, {} player, {} computer'.format(game, player,computer))"
   ]
  },
  {
   "cell_type": "markdown",
   "id": "efaf0681",
   "metadata": {},
   "source": [
    "***시나리오를 더 추가해서 프로그램을 풍부하게 만들 수 있다.***"
   ]
  },
  {
   "cell_type": "code",
   "execution_count": null,
   "id": "d7091edb",
   "metadata": {},
   "outputs": [],
   "source": [
    "# Q15. 컴퓨터가 랜덤하게 생성하는 숫자 맞추기 게임 프로그램을 작성하세요."
   ]
  },
  {
   "cell_type": "code",
   "execution_count": null,
   "id": "b7642de5",
   "metadata": {},
   "outputs": [],
   "source": [
    "import random\n",
    "number = random.randint(1, 30)  #(a,b)_b안에서 a개 난수값.\n",
    "while True:\n",
    "    guess = int(input(\"숫자를 입력하세요 :\"))\n",
    "    if guess == number:\n",
    "        print(\"정답입니다\")\n",
    "        break\n",
    "    elif guess < number:\n",
    "        print('보다 큰수를 입력해주세요.')\n",
    "    elif guess > number:\n",
    "        print('보다 작은수를 입력해주세요.')\n",
    "    else:\n",
    "        print(\"틀렸습니다\")"
   ]
  },
  {
   "cell_type": "markdown",
   "id": "860e7fdc",
   "metadata": {},
   "source": [
    "- 해설 후 추가 설명    \n",
    "- sorted : 정렬된 결과를 반환, 원형을 변형시키지 않는다.    \n",
    "- 괄호()안에 반복 가능한 literable 자료형을 입력하여 사용한다.    \n",
    "- 정렬 기준은 문자열은 알파벳, 가나다 순이고 숫자는 오름차순이다.     \n",
    "\n",
    "--------------------------\n",
    "\n",
    "- sorted(list)      \n",
    "- sorted(list,key = len) 설정 시 'len(요소)' 순서대로 정렬,오름차순      \n",
    "- sorted(list,key = lambda x:x[0]) 리스트 안의 자료형'ex)가나다'의 인덱스[0]_ 가 순서로 , 리스트 안의 최소 글자수가 넘으면 오류  (리스트안에 가장 작은 글자가 '가나' 이면,[]에 3이 들어가면 오류. "
   ]
  },
  {
   "cell_type": "code",
   "execution_count": null,
   "id": "fac72a53",
   "metadata": {},
   "outputs": [],
   "source": [
    "# ex)  list1 = ['가나다','마나사아','everybody', '좋은하루']\n",
    "list1 = ['가나다','마나사아','everybody', '좋은하루']\n",
    "print(sorted(list1,key = len)) #len(요소)순서\n",
    "print(sorted(list1,key = lambda x:x[0])) #인덱스의 가장 첫번째자리 순서\n",
    "print(sorted(list1,key = lambda x:x[3])) #리스트 안의 최소 글자수가 넘어서 오류"
   ]
  },
  {
   "cell_type": "markdown",
   "id": "7e9cd265",
   "metadata": {},
   "source": [
    "추가말씀:    \n",
    "실제로는 데이터 샘플/프레임을 만들어야되서, 데이터 정리가 중료하다."
   ]
  }
 ],
 "metadata": {
  "kernelspec": {
   "display_name": "Python 3",
   "language": "python",
   "name": "python3"
  },
  "language_info": {
   "codemirror_mode": {
    "name": "ipython",
    "version": 3
   },
   "file_extension": ".py",
   "mimetype": "text/x-python",
   "name": "python",
   "nbconvert_exporter": "python",
   "pygments_lexer": "ipython3",
   "version": "3.8.10"
  }
 },
 "nbformat": 4,
 "nbformat_minor": 5
}
