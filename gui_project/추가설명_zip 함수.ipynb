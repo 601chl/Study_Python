{
 "cells": [
  {
   "cell_type": "code",
   "execution_count": 3,
   "metadata": {},
   "outputs": [
    {
     "name": "stdout",
     "output_type": "stream",
     "text": [
      "[('사과', 'apple'), ('바나나', 'banana'), ('오렌지', 'orange')]\n",
      "[('사과', '바나나', '오렌지'), ('apple', 'banana', 'orange')]\n",
      "('사과', '바나나', '오렌지')\n",
      "('apple', 'banana', 'orange')\n"
     ]
    }
   ],
   "source": [
    "k = [\"사과\", \"바나나\", \"오렌지\"]\n",
    "e = [\"apple\", \"banana\", \"orange\"]\n",
    "\n",
    "print(list(zip(k,e)))\n",
    "\n",
    "mixed = [('사과', 'apple'), ('바나나', 'banana'), ('오렌지', 'orange')]\n",
    "print(list(zip(*mixed))) \n",
    "\n",
    "k2,e2 = zip(*mixed)\n",
    "print(k2)\n",
    "print(e2)"
   ]
  }
 ],
 "metadata": {
  "interpreter": {
   "hash": "dae8c0b66f887a0539d4d1718cfe9e0aae11804d6ca7f9db9b26acbb85b04f58"
  },
  "kernelspec": {
   "display_name": "Python 3",
   "language": "python",
   "name": "python3"
  },
  "language_info": {
   "codemirror_mode": {
    "name": "ipython",
    "version": 3
   },
   "file_extension": ".py",
   "mimetype": "text/x-python",
   "name": "python",
   "nbconvert_exporter": "python",
   "pygments_lexer": "ipython3",
   "version": "3.8.10"
  }
 },
 "nbformat": 4,
 "nbformat_minor": 2
}
