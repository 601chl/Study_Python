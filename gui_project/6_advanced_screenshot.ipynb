{
 "cells": [
  {
   "cell_type": "code",
   "execution_count": 2,
   "metadata": {},
   "outputs": [
    {
     "name": "stdout",
     "output_type": "stream",
     "text": [
      "Collecting keyboard\n",
      "  Downloading keyboard-0.13.5-py3-none-any.whl (58 kB)\n",
      "Installing collected packages: keyboard\n",
      "Successfully installed keyboard-0.13.5\n"
     ]
    }
   ],
   "source": [
    "!pip install keyboard"
   ]
  },
  {
   "cell_type": "code",
   "execution_count": null,
   "metadata": {},
   "outputs": [],
   "source": [
    "import keyboard\n",
    "import time\n",
    "from PIL import ImageGrab\n",
    "\n",
    "def screenshot():\n",
    "    #현재시간 파일이름에 넣기\n",
    "    cur_time = time.strftime(\"_%Y%m%d_%H%M%S\")\n",
    "    img = ImageGrab.grag()\n",
    "    img.save(f\"image{cur_time}.png\")\n",
    "\n",
    "keyboard.add_hotkey(\"F9\", screenshot)  #F9키를 눌렀을때 screenshot 함수 사용\n",
    "keyboard.wait(\"esc\") #사용자가 esc를 누를 때까지 프로그램 수행"
   ]
  }
 ],
 "metadata": {
  "interpreter": {
   "hash": "dae8c0b66f887a0539d4d1718cfe9e0aae11804d6ca7f9db9b26acbb85b04f58"
  },
  "kernelspec": {
   "display_name": "Python 3",
   "language": "python",
   "name": "python3"
  },
  "language_info": {
   "codemirror_mode": {
    "name": "ipython",
    "version": 3
   },
   "file_extension": ".py",
   "mimetype": "text/x-python",
   "name": "python",
   "nbconvert_exporter": "python",
   "pygments_lexer": "ipython3",
   "version": "3.8.10"
  }
 },
 "nbformat": 4,
 "nbformat_minor": 2
}
