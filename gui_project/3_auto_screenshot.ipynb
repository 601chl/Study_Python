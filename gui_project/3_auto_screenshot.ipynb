{
 "cells": [
  {
   "cell_type": "code",
   "execution_count": null,
   "metadata": {},
   "outputs": [],
   "source": [
    "#자동으로 스크린샷 하는 프로그램\n",
    "import time\n",
    "from PIL import ImageGrab #Pillow 파이썬 이미지 라이브러리\n",
    "\n",
    "time.sleep(5)  #5초 대기 :사용자가 준비하는 동안\n",
    "\n",
    "for i in range(1,11): #2초 간격으로 10개의 이미지 저장\n",
    "    img = ImageGrab.grab() #현재 스크린샷 이미지를 가져옴\n",
    "    img.save(f\"image{i}.png\") #파일로 저장 (image1.png ~ image10.png)\n",
    "    time.sleep(2) #2초간격\n"
   ]
  }
 ],
 "metadata": {
  "kernelspec": {
   "display_name": "Python 3",
   "language": "python",
   "name": "python3"
  },
  "language_info": {
   "codemirror_mode": {
    "name": "ipython",
    "version": 3
   },
   "file_extension": ".py",
   "mimetype": "text/x-python",
   "name": "python",
   "nbconvert_exporter": "python",
   "pygments_lexer": "ipython3",
   "version": "3.8.10"
  }
 },
 "nbformat": 4,
 "nbformat_minor": 2
}
